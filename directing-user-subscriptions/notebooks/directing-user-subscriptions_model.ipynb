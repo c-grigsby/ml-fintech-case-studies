{
 "cells": [
  {
   "cell_type": "markdown",
   "id": "fd11b80e",
   "metadata": {},
   "source": [
    "<h1 style=\"font-size:3rem;color:orange;\">Directing User Subscriptions📱</h1>\n",
    "\n",
    "<h2 style=\"font-size:2rem;color:orange;\">Data Pre-processing and Model Building</h2>"
   ]
  },
  {
   "cell_type": "markdown",
   "id": "fcd539d0",
   "metadata": {},
   "source": [
    "### Import Libraries"
   ]
  },
  {
   "cell_type": "code",
   "execution_count": 1,
   "id": "cc208728",
   "metadata": {},
   "outputs": [],
   "source": [
    "import matplotlib.pyplot as plt\n",
    "import numpy as np\n",
    "import pandas as pd\n",
    "import os"
   ]
  },
  {
   "cell_type": "markdown",
   "id": "296316db",
   "metadata": {},
   "source": [
    "### Import Data"
   ]
  },
  {
   "cell_type": "code",
   "execution_count": 2,
   "id": "64962cb7",
   "metadata": {},
   "outputs": [],
   "source": [
    "df_users = pd.read_csv(\"../data/processed/new_app-user-data.csv\")"
   ]
  },
  {
   "cell_type": "markdown",
   "id": "b00e2a90",
   "metadata": {},
   "source": [
    "### Data Peek 👀"
   ]
  },
  {
   "cell_type": "code",
   "execution_count": 3,
   "id": "8d86408f",
   "metadata": {},
   "outputs": [
    {
     "data": {
      "text/html": [
       "<div>\n",
       "<style scoped>\n",
       "    .dataframe tbody tr th:only-of-type {\n",
       "        vertical-align: middle;\n",
       "    }\n",
       "\n",
       "    .dataframe tbody tr th {\n",
       "        vertical-align: top;\n",
       "    }\n",
       "\n",
       "    .dataframe thead th {\n",
       "        text-align: right;\n",
       "    }\n",
       "</style>\n",
       "<table border=\"1\" class=\"dataframe\">\n",
       "  <thead>\n",
       "    <tr style=\"text-align: right;\">\n",
       "      <th></th>\n",
       "      <th>user</th>\n",
       "      <th>dayofweek</th>\n",
       "      <th>hour</th>\n",
       "      <th>age</th>\n",
       "      <th>numscreens</th>\n",
       "      <th>minigame</th>\n",
       "      <th>used_premium_feature</th>\n",
       "      <th>enrolled</th>\n",
       "      <th>liked</th>\n",
       "      <th>location</th>\n",
       "      <th>...</th>\n",
       "      <th>SecurityModal</th>\n",
       "      <th>ResendToken</th>\n",
       "      <th>TransactionList</th>\n",
       "      <th>NetworkFailure</th>\n",
       "      <th>ListPicker</th>\n",
       "      <th>OtherScreens</th>\n",
       "      <th>SavingsScreens</th>\n",
       "      <th>CreditMonitoringScreens</th>\n",
       "      <th>CreditCardScreens</th>\n",
       "      <th>LoanScreens</th>\n",
       "    </tr>\n",
       "  </thead>\n",
       "  <tbody>\n",
       "    <tr>\n",
       "      <th>0</th>\n",
       "      <td>235136</td>\n",
       "      <td>3</td>\n",
       "      <td>2</td>\n",
       "      <td>23</td>\n",
       "      <td>15</td>\n",
       "      <td>0</td>\n",
       "      <td>0</td>\n",
       "      <td>0</td>\n",
       "      <td>0</td>\n",
       "      <td>0</td>\n",
       "      <td>...</td>\n",
       "      <td>0</td>\n",
       "      <td>0</td>\n",
       "      <td>0</td>\n",
       "      <td>0</td>\n",
       "      <td>0</td>\n",
       "      <td>7</td>\n",
       "      <td>0</td>\n",
       "      <td>0</td>\n",
       "      <td>0</td>\n",
       "      <td>1</td>\n",
       "    </tr>\n",
       "    <tr>\n",
       "      <th>1</th>\n",
       "      <td>333588</td>\n",
       "      <td>6</td>\n",
       "      <td>1</td>\n",
       "      <td>24</td>\n",
       "      <td>13</td>\n",
       "      <td>0</td>\n",
       "      <td>0</td>\n",
       "      <td>0</td>\n",
       "      <td>0</td>\n",
       "      <td>1</td>\n",
       "      <td>...</td>\n",
       "      <td>0</td>\n",
       "      <td>0</td>\n",
       "      <td>0</td>\n",
       "      <td>0</td>\n",
       "      <td>0</td>\n",
       "      <td>5</td>\n",
       "      <td>0</td>\n",
       "      <td>0</td>\n",
       "      <td>0</td>\n",
       "      <td>1</td>\n",
       "    </tr>\n",
       "    <tr>\n",
       "      <th>2</th>\n",
       "      <td>254414</td>\n",
       "      <td>1</td>\n",
       "      <td>19</td>\n",
       "      <td>23</td>\n",
       "      <td>3</td>\n",
       "      <td>0</td>\n",
       "      <td>1</td>\n",
       "      <td>0</td>\n",
       "      <td>1</td>\n",
       "      <td>0</td>\n",
       "      <td>...</td>\n",
       "      <td>0</td>\n",
       "      <td>0</td>\n",
       "      <td>0</td>\n",
       "      <td>0</td>\n",
       "      <td>0</td>\n",
       "      <td>0</td>\n",
       "      <td>0</td>\n",
       "      <td>0</td>\n",
       "      <td>0</td>\n",
       "      <td>1</td>\n",
       "    </tr>\n",
       "    <tr>\n",
       "      <th>3</th>\n",
       "      <td>234192</td>\n",
       "      <td>4</td>\n",
       "      <td>16</td>\n",
       "      <td>28</td>\n",
       "      <td>40</td>\n",
       "      <td>0</td>\n",
       "      <td>0</td>\n",
       "      <td>1</td>\n",
       "      <td>0</td>\n",
       "      <td>1</td>\n",
       "      <td>...</td>\n",
       "      <td>0</td>\n",
       "      <td>0</td>\n",
       "      <td>0</td>\n",
       "      <td>0</td>\n",
       "      <td>0</td>\n",
       "      <td>6</td>\n",
       "      <td>0</td>\n",
       "      <td>3</td>\n",
       "      <td>0</td>\n",
       "      <td>1</td>\n",
       "    </tr>\n",
       "    <tr>\n",
       "      <th>4</th>\n",
       "      <td>51549</td>\n",
       "      <td>1</td>\n",
       "      <td>18</td>\n",
       "      <td>31</td>\n",
       "      <td>32</td>\n",
       "      <td>0</td>\n",
       "      <td>0</td>\n",
       "      <td>1</td>\n",
       "      <td>1</td>\n",
       "      <td>0</td>\n",
       "      <td>...</td>\n",
       "      <td>0</td>\n",
       "      <td>0</td>\n",
       "      <td>0</td>\n",
       "      <td>0</td>\n",
       "      <td>0</td>\n",
       "      <td>10</td>\n",
       "      <td>0</td>\n",
       "      <td>2</td>\n",
       "      <td>0</td>\n",
       "      <td>1</td>\n",
       "    </tr>\n",
       "  </tbody>\n",
       "</table>\n",
       "<p>5 rows × 49 columns</p>\n",
       "</div>"
      ],
      "text/plain": [
       "     user  dayofweek  hour  age  numscreens  minigame  used_premium_feature  \\\n",
       "0  235136          3     2   23          15         0                     0   \n",
       "1  333588          6     1   24          13         0                     0   \n",
       "2  254414          1    19   23           3         0                     1   \n",
       "3  234192          4    16   28          40         0                     0   \n",
       "4   51549          1    18   31          32         0                     0   \n",
       "\n",
       "   enrolled  liked  location  ...  SecurityModal  ResendToken  \\\n",
       "0         0      0         0  ...              0            0   \n",
       "1         0      0         1  ...              0            0   \n",
       "2         0      1         0  ...              0            0   \n",
       "3         1      0         1  ...              0            0   \n",
       "4         1      1         0  ...              0            0   \n",
       "\n",
       "   TransactionList  NetworkFailure  ListPicker  OtherScreens  SavingsScreens  \\\n",
       "0                0               0           0             7               0   \n",
       "1                0               0           0             5               0   \n",
       "2                0               0           0             0               0   \n",
       "3                0               0           0             6               0   \n",
       "4                0               0           0            10               0   \n",
       "\n",
       "   CreditMonitoringScreens  CreditCardScreens  LoanScreens  \n",
       "0                        0                  0            1  \n",
       "1                        0                  0            1  \n",
       "2                        0                  0            1  \n",
       "3                        3                  0            1  \n",
       "4                        2                  0            1  \n",
       "\n",
       "[5 rows x 49 columns]"
      ]
     },
     "execution_count": 3,
     "metadata": {},
     "output_type": "execute_result"
    }
   ],
   "source": [
    "df_users.head()"
   ]
  },
  {
   "cell_type": "code",
   "execution_count": 4,
   "id": "a3e1f6ba",
   "metadata": {},
   "outputs": [
    {
     "data": {
      "text/html": [
       "<div>\n",
       "<style scoped>\n",
       "    .dataframe tbody tr th:only-of-type {\n",
       "        vertical-align: middle;\n",
       "    }\n",
       "\n",
       "    .dataframe tbody tr th {\n",
       "        vertical-align: top;\n",
       "    }\n",
       "\n",
       "    .dataframe thead th {\n",
       "        text-align: right;\n",
       "    }\n",
       "</style>\n",
       "<table border=\"1\" class=\"dataframe\">\n",
       "  <thead>\n",
       "    <tr style=\"text-align: right;\">\n",
       "      <th></th>\n",
       "      <th>user</th>\n",
       "      <th>dayofweek</th>\n",
       "      <th>hour</th>\n",
       "      <th>age</th>\n",
       "      <th>numscreens</th>\n",
       "      <th>minigame</th>\n",
       "      <th>used_premium_feature</th>\n",
       "      <th>enrolled</th>\n",
       "      <th>liked</th>\n",
       "      <th>location</th>\n",
       "      <th>...</th>\n",
       "      <th>SecurityModal</th>\n",
       "      <th>ResendToken</th>\n",
       "      <th>TransactionList</th>\n",
       "      <th>NetworkFailure</th>\n",
       "      <th>ListPicker</th>\n",
       "      <th>OtherScreens</th>\n",
       "      <th>SavingsScreens</th>\n",
       "      <th>CreditMonitoringScreens</th>\n",
       "      <th>CreditCardScreens</th>\n",
       "      <th>LoanScreens</th>\n",
       "    </tr>\n",
       "  </thead>\n",
       "  <tbody>\n",
       "    <tr>\n",
       "      <th>count</th>\n",
       "      <td>49859.000000</td>\n",
       "      <td>49859.000000</td>\n",
       "      <td>49859.000000</td>\n",
       "      <td>49859.000000</td>\n",
       "      <td>49859.000000</td>\n",
       "      <td>49859.000000</td>\n",
       "      <td>49859.000000</td>\n",
       "      <td>49859.000000</td>\n",
       "      <td>49859.000000</td>\n",
       "      <td>49859.000000</td>\n",
       "      <td>...</td>\n",
       "      <td>49859.000000</td>\n",
       "      <td>49859.000000</td>\n",
       "      <td>49859.000000</td>\n",
       "      <td>49859.000000</td>\n",
       "      <td>49859.000000</td>\n",
       "      <td>49859.000000</td>\n",
       "      <td>49859.000000</td>\n",
       "      <td>49859.000000</td>\n",
       "      <td>49859.000000</td>\n",
       "      <td>49859.000000</td>\n",
       "    </tr>\n",
       "    <tr>\n",
       "      <th>mean</th>\n",
       "      <td>186884.281855</td>\n",
       "      <td>3.028902</td>\n",
       "      <td>12.559277</td>\n",
       "      <td>31.733007</td>\n",
       "      <td>20.824545</td>\n",
       "      <td>0.107764</td>\n",
       "      <td>0.172065</td>\n",
       "      <td>0.506448</td>\n",
       "      <td>0.165005</td>\n",
       "      <td>0.516958</td>\n",
       "      <td>...</td>\n",
       "      <td>0.014180</td>\n",
       "      <td>0.013338</td>\n",
       "      <td>0.013037</td>\n",
       "      <td>0.008163</td>\n",
       "      <td>0.007401</td>\n",
       "      <td>6.198139</td>\n",
       "      <td>0.353316</td>\n",
       "      <td>0.924868</td>\n",
       "      <td>0.173991</td>\n",
       "      <td>0.787060</td>\n",
       "    </tr>\n",
       "    <tr>\n",
       "      <th>std</th>\n",
       "      <td>107769.969568</td>\n",
       "      <td>2.031992</td>\n",
       "      <td>7.440773</td>\n",
       "      <td>10.806268</td>\n",
       "      <td>14.778414</td>\n",
       "      <td>0.310085</td>\n",
       "      <td>0.377441</td>\n",
       "      <td>0.499963</td>\n",
       "      <td>0.371189</td>\n",
       "      <td>0.499717</td>\n",
       "      <td>...</td>\n",
       "      <td>0.118234</td>\n",
       "      <td>0.114717</td>\n",
       "      <td>0.113433</td>\n",
       "      <td>0.089981</td>\n",
       "      <td>0.085710</td>\n",
       "      <td>3.655980</td>\n",
       "      <td>1.378185</td>\n",
       "      <td>1.216047</td>\n",
       "      <td>0.607124</td>\n",
       "      <td>0.677072</td>\n",
       "    </tr>\n",
       "    <tr>\n",
       "      <th>min</th>\n",
       "      <td>13.000000</td>\n",
       "      <td>0.000000</td>\n",
       "      <td>0.000000</td>\n",
       "      <td>16.000000</td>\n",
       "      <td>1.000000</td>\n",
       "      <td>0.000000</td>\n",
       "      <td>0.000000</td>\n",
       "      <td>0.000000</td>\n",
       "      <td>0.000000</td>\n",
       "      <td>0.000000</td>\n",
       "      <td>...</td>\n",
       "      <td>0.000000</td>\n",
       "      <td>0.000000</td>\n",
       "      <td>0.000000</td>\n",
       "      <td>0.000000</td>\n",
       "      <td>0.000000</td>\n",
       "      <td>0.000000</td>\n",
       "      <td>0.000000</td>\n",
       "      <td>0.000000</td>\n",
       "      <td>0.000000</td>\n",
       "      <td>0.000000</td>\n",
       "    </tr>\n",
       "    <tr>\n",
       "      <th>25%</th>\n",
       "      <td>93525.500000</td>\n",
       "      <td>1.000000</td>\n",
       "      <td>5.000000</td>\n",
       "      <td>24.000000</td>\n",
       "      <td>10.000000</td>\n",
       "      <td>0.000000</td>\n",
       "      <td>0.000000</td>\n",
       "      <td>0.000000</td>\n",
       "      <td>0.000000</td>\n",
       "      <td>0.000000</td>\n",
       "      <td>...</td>\n",
       "      <td>0.000000</td>\n",
       "      <td>0.000000</td>\n",
       "      <td>0.000000</td>\n",
       "      <td>0.000000</td>\n",
       "      <td>0.000000</td>\n",
       "      <td>3.000000</td>\n",
       "      <td>0.000000</td>\n",
       "      <td>0.000000</td>\n",
       "      <td>0.000000</td>\n",
       "      <td>0.000000</td>\n",
       "    </tr>\n",
       "    <tr>\n",
       "      <th>50%</th>\n",
       "      <td>187148.000000</td>\n",
       "      <td>3.000000</td>\n",
       "      <td>14.000000</td>\n",
       "      <td>29.000000</td>\n",
       "      <td>18.000000</td>\n",
       "      <td>0.000000</td>\n",
       "      <td>0.000000</td>\n",
       "      <td>1.000000</td>\n",
       "      <td>0.000000</td>\n",
       "      <td>1.000000</td>\n",
       "      <td>...</td>\n",
       "      <td>0.000000</td>\n",
       "      <td>0.000000</td>\n",
       "      <td>0.000000</td>\n",
       "      <td>0.000000</td>\n",
       "      <td>0.000000</td>\n",
       "      <td>6.000000</td>\n",
       "      <td>0.000000</td>\n",
       "      <td>0.000000</td>\n",
       "      <td>0.000000</td>\n",
       "      <td>1.000000</td>\n",
       "    </tr>\n",
       "    <tr>\n",
       "      <th>75%</th>\n",
       "      <td>279976.000000</td>\n",
       "      <td>5.000000</td>\n",
       "      <td>19.000000</td>\n",
       "      <td>37.000000</td>\n",
       "      <td>28.000000</td>\n",
       "      <td>0.000000</td>\n",
       "      <td>0.000000</td>\n",
       "      <td>1.000000</td>\n",
       "      <td>0.000000</td>\n",
       "      <td>1.000000</td>\n",
       "      <td>...</td>\n",
       "      <td>0.000000</td>\n",
       "      <td>0.000000</td>\n",
       "      <td>0.000000</td>\n",
       "      <td>0.000000</td>\n",
       "      <td>0.000000</td>\n",
       "      <td>8.000000</td>\n",
       "      <td>0.000000</td>\n",
       "      <td>1.000000</td>\n",
       "      <td>0.000000</td>\n",
       "      <td>1.000000</td>\n",
       "    </tr>\n",
       "    <tr>\n",
       "      <th>max</th>\n",
       "      <td>373662.000000</td>\n",
       "      <td>6.000000</td>\n",
       "      <td>23.000000</td>\n",
       "      <td>101.000000</td>\n",
       "      <td>91.000000</td>\n",
       "      <td>1.000000</td>\n",
       "      <td>1.000000</td>\n",
       "      <td>1.000000</td>\n",
       "      <td>1.000000</td>\n",
       "      <td>1.000000</td>\n",
       "      <td>...</td>\n",
       "      <td>1.000000</td>\n",
       "      <td>1.000000</td>\n",
       "      <td>1.000000</td>\n",
       "      <td>1.000000</td>\n",
       "      <td>1.000000</td>\n",
       "      <td>30.000000</td>\n",
       "      <td>10.000000</td>\n",
       "      <td>5.000000</td>\n",
       "      <td>3.000000</td>\n",
       "      <td>3.000000</td>\n",
       "    </tr>\n",
       "  </tbody>\n",
       "</table>\n",
       "<p>8 rows × 49 columns</p>\n",
       "</div>"
      ],
      "text/plain": [
       "                user     dayofweek          hour           age    numscreens  \\\n",
       "count   49859.000000  49859.000000  49859.000000  49859.000000  49859.000000   \n",
       "mean   186884.281855      3.028902     12.559277     31.733007     20.824545   \n",
       "std    107769.969568      2.031992      7.440773     10.806268     14.778414   \n",
       "min        13.000000      0.000000      0.000000     16.000000      1.000000   \n",
       "25%     93525.500000      1.000000      5.000000     24.000000     10.000000   \n",
       "50%    187148.000000      3.000000     14.000000     29.000000     18.000000   \n",
       "75%    279976.000000      5.000000     19.000000     37.000000     28.000000   \n",
       "max    373662.000000      6.000000     23.000000    101.000000     91.000000   \n",
       "\n",
       "           minigame  used_premium_feature      enrolled         liked  \\\n",
       "count  49859.000000          49859.000000  49859.000000  49859.000000   \n",
       "mean       0.107764              0.172065      0.506448      0.165005   \n",
       "std        0.310085              0.377441      0.499963      0.371189   \n",
       "min        0.000000              0.000000      0.000000      0.000000   \n",
       "25%        0.000000              0.000000      0.000000      0.000000   \n",
       "50%        0.000000              0.000000      1.000000      0.000000   \n",
       "75%        0.000000              0.000000      1.000000      0.000000   \n",
       "max        1.000000              1.000000      1.000000      1.000000   \n",
       "\n",
       "           location  ...  SecurityModal   ResendToken  TransactionList  \\\n",
       "count  49859.000000  ...   49859.000000  49859.000000     49859.000000   \n",
       "mean       0.516958  ...       0.014180      0.013338         0.013037   \n",
       "std        0.499717  ...       0.118234      0.114717         0.113433   \n",
       "min        0.000000  ...       0.000000      0.000000         0.000000   \n",
       "25%        0.000000  ...       0.000000      0.000000         0.000000   \n",
       "50%        1.000000  ...       0.000000      0.000000         0.000000   \n",
       "75%        1.000000  ...       0.000000      0.000000         0.000000   \n",
       "max        1.000000  ...       1.000000      1.000000         1.000000   \n",
       "\n",
       "       NetworkFailure    ListPicker  OtherScreens  SavingsScreens  \\\n",
       "count    49859.000000  49859.000000  49859.000000    49859.000000   \n",
       "mean         0.008163      0.007401      6.198139        0.353316   \n",
       "std          0.089981      0.085710      3.655980        1.378185   \n",
       "min          0.000000      0.000000      0.000000        0.000000   \n",
       "25%          0.000000      0.000000      3.000000        0.000000   \n",
       "50%          0.000000      0.000000      6.000000        0.000000   \n",
       "75%          0.000000      0.000000      8.000000        0.000000   \n",
       "max          1.000000      1.000000     30.000000       10.000000   \n",
       "\n",
       "       CreditMonitoringScreens  CreditCardScreens   LoanScreens  \n",
       "count             49859.000000       49859.000000  49859.000000  \n",
       "mean                  0.924868           0.173991      0.787060  \n",
       "std                   1.216047           0.607124      0.677072  \n",
       "min                   0.000000           0.000000      0.000000  \n",
       "25%                   0.000000           0.000000      0.000000  \n",
       "50%                   0.000000           0.000000      1.000000  \n",
       "75%                   1.000000           0.000000      1.000000  \n",
       "max                   5.000000           3.000000      3.000000  \n",
       "\n",
       "[8 rows x 49 columns]"
      ]
     },
     "execution_count": 4,
     "metadata": {},
     "output_type": "execute_result"
    }
   ],
   "source": [
    "df_users.describe()"
   ]
  },
  {
   "cell_type": "markdown",
   "id": "e7b0d311",
   "metadata": {},
   "source": [
    "- Above we note that we currently have 49,859 samples for model training and evaluation\n",
    "- With 47 numerical & categorical features combined"
   ]
  },
  {
   "cell_type": "markdown",
   "id": "6c9e1132",
   "metadata": {},
   "source": [
    "# Data Pre-processing <img src=\"../../images/processing.gif\" width=\"52\" alt=\"Processing\">"
   ]
  },
  {
   "cell_type": "markdown",
   "id": "dd1dc170",
   "metadata": {},
   "source": [
    "### Remove the label from the features"
   ]
  },
  {
   "cell_type": "code",
   "execution_count": 5,
   "id": "32347cb1",
   "metadata": {},
   "outputs": [],
   "source": [
    "label = df_users['enrolled']\n",
    "df_users = df_users.drop(columns = 'enrolled')"
   ]
  },
  {
   "cell_type": "markdown",
   "id": "d94a5b2a",
   "metadata": {},
   "source": [
    "### Transformations"
   ]
  },
  {
   "cell_type": "code",
   "execution_count": 6,
   "id": "1f97e896",
   "metadata": {},
   "outputs": [],
   "source": [
    "# Take the log of 'numscreens' to address skew\n",
    "df_users['log_numscreens'] = np.log(df_users['numscreens'])\n",
    "\n",
    "# Drop the previous values \n",
    "df_users.drop('numscreens', axis=1, inplace=True)"
   ]
  },
  {
   "cell_type": "markdown",
   "id": "caf60772",
   "metadata": {},
   "source": [
    "### Feature Selection\n",
    "\n",
    "The following function leverages a model's feature importance scores and [SelectFromModel](https://scikit-learn.org/stable/modules/generated/sklearn.feature_selection.SelectFromModel.html) to calculate threshold scores for feature selection. We persist [results](../experiments/feature_thresholds/xgb_feat_threshold_scores.csv) to avoid duplicate runs."
   ]
  },
  {
   "cell_type": "code",
   "execution_count": 7,
   "id": "6a38c7e3",
   "metadata": {},
   "outputs": [],
   "source": [
    "from numpy import sort\n",
    "from sklearn.feature_selection import SelectFromModel\n",
    "from sklearn.metrics import accuracy_score, f1_score, precision_score, recall_score\n",
    "\n",
    "def get_threshold_scores(X_train, y_train, X_test, y_test, model, file_name, run_function):\n",
    "    \"\"\"\n",
    "    Generates scores for feature importance thresholds to be used in feature selection.\n",
    "    Accepts the training & test sets, the trained model, a file_name, & a boolean to execute.\n",
    "    Writes a CSV file with the threshold, number of remaining features, & model evaluation metrics.\n",
    "    \"\"\"\n",
    "    if run_function == False: return\n",
    "    results = []\n",
    "    # Fit model using each importance as a threshold\n",
    "    thresholds = sort(model.feature_importances_)\n",
    "    for thresh in thresholds:\n",
    "        # Select features using threshold\n",
    "        selection = SelectFromModel(model, threshold=thresh, prefit=True)\n",
    "        # Apply selection to datasets\n",
    "        select_X_train = selection.transform(X_train.values)\n",
    "        select_X_test = selection.transform(X_test.values)\n",
    "        num_features = select_X_train.shape[1]\n",
    "        # Define the selection_model to use\n",
    "        selection_model = XGBClassifier(n_estimators=100, objective='binary:logistic', random_state=42)\n",
    "        # Train model\n",
    "        selection_model.fit(select_X_train, y_train)\n",
    "        # Evaluate model\n",
    "        y_predict = selection_model.predict(select_X_test)\n",
    "        accuracy = accuracy_score(y_test, y_predict)\n",
    "        precision = precision_score(y_test, y_predict)\n",
    "        recall = recall_score(y_test, y_predict)\n",
    "        f1 = f1_score(y_test, y_predict)\n",
    "        # Results\n",
    "        results.append([thresh, num_features, accuracy, precision, recall, f1])\n",
    "        \n",
    "    # Create a DataFrame from the results list\n",
    "    column_names = [\"Threshold\", \"Num_Features\", \"Accuracy\", \"Precision\", \"Recall\", \"F1_Score\"]\n",
    "    threshold_results_df = pd.DataFrame(results, columns=column_names)\n",
    "    # Save the DataFrame to a CSV file\n",
    "    threshold_results_df.to_csv(file_name, index=False)  "
   ]
  },
  {
   "cell_type": "markdown",
   "id": "9d23bf7f",
   "metadata": {},
   "source": [
    "### Split the dataset into training and test sets"
   ]
  },
  {
   "cell_type": "code",
   "execution_count": 8,
   "id": "0df11ec6",
   "metadata": {},
   "outputs": [
    {
     "name": "stdout",
     "output_type": "stream",
     "text": [
      "(39887, 48)\n",
      "(9972, 48)\n"
     ]
    }
   ],
   "source": [
    "from sklearn.model_selection import train_test_split\n",
    "\n",
    "# Split the data into an 80/20 train/test ratio\n",
    "X_train, X_test, y_train, y_test = train_test_split(df_users, label,\n",
    "                                                    test_size = 0.2,\n",
    "                                                    stratify=label, \n",
    "                                                    random_state = 42)\n",
    "print(X_train.shape)\n",
    "print(X_test.shape)"
   ]
  },
  {
   "cell_type": "markdown",
   "id": "ba0069b6",
   "metadata": {},
   "source": [
    "### Filter model data"
   ]
  },
  {
   "cell_type": "code",
   "execution_count": 9,
   "id": "b89054cb",
   "metadata": {},
   "outputs": [],
   "source": [
    "# Purge user identification, persist to associate the prediction to the user it came from \n",
    "train_identifier = X_train['user']\n",
    "X_train = X_train.drop(columns = ['user'])\n",
    "\n",
    "test_identifier = X_test['user']\n",
    "X_test = X_test.drop(columns = ['user'])"
   ]
  },
  {
   "cell_type": "markdown",
   "id": "1370dabf",
   "metadata": {},
   "source": [
    "### Feature Scaling"
   ]
  },
  {
   "cell_type": "code",
   "execution_count": 10,
   "id": "c2ed63c0",
   "metadata": {},
   "outputs": [],
   "source": [
    "from sklearn.preprocessing import StandardScaler\n",
    "\n",
    "def standard_scale(your_df, columns_to_exclude):\n",
    "    \"\"\"\n",
    "    Performs standard scaling on numercial columns within a DataFrame.\n",
    "    Accepts the DataFrame and an array of column names to exclude.\n",
    "    Returns the modified DataFrame.\n",
    "    \"\"\"\n",
    "    # Identify columns to be excluded from scaling\n",
    "    excluded_columns = [col for col in your_df.columns if any(substring in col for substring in columns_to_exclude)]\n",
    "    # Columns to be standardized\n",
    "    columns_to_scale = [col for col in your_df.columns if col not in excluded_columns]\n",
    "    # Instantiate the scaler\n",
    "    standard_scaler_X = StandardScaler()\n",
    "    # Scale the columns\n",
    "    scaled_features = standard_scaler_X.fit_transform(your_df[columns_to_scale])\n",
    "    # Convert scaled features into DataFrame\n",
    "    scaled_df = pd.DataFrame(scaled_features, columns=columns_to_scale, index=your_df.index)\n",
    "    # Concatenate the scaled features with the excluded columns to get the final dataframe\n",
    "    your_df = pd.concat([scaled_df, your_df[excluded_columns]], axis=1)\n",
    "\n",
    "    return your_df"
   ]
  },
  {
   "cell_type": "code",
   "execution_count": 11,
   "id": "c69a0ec9",
   "metadata": {},
   "outputs": [],
   "source": [
    "binary_columns_to_exclude = [col for col in df_users.columns if set(df_users[col]) == {0, 1}]\n",
    "\n",
    "X_train = standard_scale(X_train, binary_columns_to_exclude)\n",
    "X_test = standard_scale(X_test, binary_columns_to_exclude)"
   ]
  },
  {
   "cell_type": "markdown",
   "id": "98ef597e",
   "metadata": {},
   "source": [
    "# Model Building 🤖\n",
    "\n",
    "### Training Data"
   ]
  },
  {
   "cell_type": "code",
   "execution_count": 12,
   "id": "8af823b5",
   "metadata": {},
   "outputs": [
    {
     "name": "stdout",
     "output_type": "stream",
     "text": [
      "(31909, 47)\n",
      "(7978, 47)\n"
     ]
    }
   ],
   "source": [
    "# Split the training set into a 80/20 training/validation set\n",
    "X_train, X_validation, y_train, y_validation = train_test_split(X_train, y_train, \n",
    "                                                                test_size=0.2, \n",
    "                                                                stratify=y_train, \n",
    "                                                                random_state=42)\n",
    "print(X_train.shape)\n",
    "print(X_validation.shape)"
   ]
  },
  {
   "cell_type": "markdown",
   "id": "b5688ba5",
   "metadata": {},
   "source": [
    "### Training Data Combined\n",
    "\n",
    "For cross-validation and final model training"
   ]
  },
  {
   "cell_type": "code",
   "execution_count": 13,
   "id": "55cb61f1",
   "metadata": {},
   "outputs": [],
   "source": [
    "# Concatenate the training and validation feature datasets vertically\n",
    "X_train_and_validation = pd.concat([X_train, X_validation], axis=0).reset_index(drop=True)\n",
    "\n",
    "# Concatenate the training and validation label datasets vertically\n",
    "y_train_and_validation = pd.concat([y_train, y_validation], axis=0).reset_index(drop=True)"
   ]
  },
  {
   "cell_type": "markdown",
   "id": "1eaa9f98",
   "metadata": {},
   "source": [
    "### Metrics Function"
   ]
  },
  {
   "cell_type": "code",
   "execution_count": 14,
   "id": "d2057719",
   "metadata": {},
   "outputs": [],
   "source": [
    "from sklearn.metrics import accuracy_score, f1_score, precision_score, recall_score\n",
    "\n",
    "def evaluate_scores_and_concat(y_test, y_predict, model_name, results_dataframe): \n",
    "    \"\"\"\n",
    "    Evaluates model scores and concatenates results to a DataFrame.\n",
    "    \"\"\"\n",
    "    # Get scores\n",
    "    accuracy = accuracy_score(y_test, y_predict)   # CorrectPredicts/TotalPredicts  \n",
    "    precision = precision_score(y_test, y_predict) # TP/(TP+FP)\n",
    "    recall = recall_score(y_test, y_predict)       # TP/(TP+FN)\n",
    "    f1 = f1_score(y_test, y_predict)               # 2*(precision*recall)/(precision+recall)\n",
    "    # Transfer scores to a DataFrame\n",
    "    new_results = pd.DataFrame([[model_name, accuracy, precision, recall, f1]],\n",
    "                       columns=['Model', 'Accuracy', 'Precision', 'Recall', 'F1'])\n",
    "    # Concatenate results to the results_dataframe vertically\n",
    "    results_dataframe = pd.concat([results_dataframe, new_results], axis=0).reset_index(drop=True)\n",
    "    \n",
    "    return results_dataframe"
   ]
  },
  {
   "cell_type": "markdown",
   "id": "e28b3009",
   "metadata": {},
   "source": [
    "## Logistic Regression 📈\n",
    "\n",
    "### Training"
   ]
  },
  {
   "cell_type": "code",
   "execution_count": 15,
   "id": "08ddaec7",
   "metadata": {},
   "outputs": [
    {
     "data": {
      "text/html": [
       "<style>#sk-container-id-1 {color: black;}#sk-container-id-1 pre{padding: 0;}#sk-container-id-1 div.sk-toggleable {background-color: white;}#sk-container-id-1 label.sk-toggleable__label {cursor: pointer;display: block;width: 100%;margin-bottom: 0;padding: 0.3em;box-sizing: border-box;text-align: center;}#sk-container-id-1 label.sk-toggleable__label-arrow:before {content: \"▸\";float: left;margin-right: 0.25em;color: #696969;}#sk-container-id-1 label.sk-toggleable__label-arrow:hover:before {color: black;}#sk-container-id-1 div.sk-estimator:hover label.sk-toggleable__label-arrow:before {color: black;}#sk-container-id-1 div.sk-toggleable__content {max-height: 0;max-width: 0;overflow: hidden;text-align: left;background-color: #f0f8ff;}#sk-container-id-1 div.sk-toggleable__content pre {margin: 0.2em;color: black;border-radius: 0.25em;background-color: #f0f8ff;}#sk-container-id-1 input.sk-toggleable__control:checked~div.sk-toggleable__content {max-height: 200px;max-width: 100%;overflow: auto;}#sk-container-id-1 input.sk-toggleable__control:checked~label.sk-toggleable__label-arrow:before {content: \"▾\";}#sk-container-id-1 div.sk-estimator input.sk-toggleable__control:checked~label.sk-toggleable__label {background-color: #d4ebff;}#sk-container-id-1 div.sk-label input.sk-toggleable__control:checked~label.sk-toggleable__label {background-color: #d4ebff;}#sk-container-id-1 input.sk-hidden--visually {border: 0;clip: rect(1px 1px 1px 1px);clip: rect(1px, 1px, 1px, 1px);height: 1px;margin: -1px;overflow: hidden;padding: 0;position: absolute;width: 1px;}#sk-container-id-1 div.sk-estimator {font-family: monospace;background-color: #f0f8ff;border: 1px dotted black;border-radius: 0.25em;box-sizing: border-box;margin-bottom: 0.5em;}#sk-container-id-1 div.sk-estimator:hover {background-color: #d4ebff;}#sk-container-id-1 div.sk-parallel-item::after {content: \"\";width: 100%;border-bottom: 1px solid gray;flex-grow: 1;}#sk-container-id-1 div.sk-label:hover label.sk-toggleable__label {background-color: #d4ebff;}#sk-container-id-1 div.sk-serial::before {content: \"\";position: absolute;border-left: 1px solid gray;box-sizing: border-box;top: 0;bottom: 0;left: 50%;z-index: 0;}#sk-container-id-1 div.sk-serial {display: flex;flex-direction: column;align-items: center;background-color: white;padding-right: 0.2em;padding-left: 0.2em;position: relative;}#sk-container-id-1 div.sk-item {position: relative;z-index: 1;}#sk-container-id-1 div.sk-parallel {display: flex;align-items: stretch;justify-content: center;background-color: white;position: relative;}#sk-container-id-1 div.sk-item::before, #sk-container-id-1 div.sk-parallel-item::before {content: \"\";position: absolute;border-left: 1px solid gray;box-sizing: border-box;top: 0;bottom: 0;left: 50%;z-index: -1;}#sk-container-id-1 div.sk-parallel-item {display: flex;flex-direction: column;z-index: 1;position: relative;background-color: white;}#sk-container-id-1 div.sk-parallel-item:first-child::after {align-self: flex-end;width: 50%;}#sk-container-id-1 div.sk-parallel-item:last-child::after {align-self: flex-start;width: 50%;}#sk-container-id-1 div.sk-parallel-item:only-child::after {width: 0;}#sk-container-id-1 div.sk-dashed-wrapped {border: 1px dashed gray;margin: 0 0.4em 0.5em 0.4em;box-sizing: border-box;padding-bottom: 0.4em;background-color: white;}#sk-container-id-1 div.sk-label label {font-family: monospace;font-weight: bold;display: inline-block;line-height: 1.2em;}#sk-container-id-1 div.sk-label-container {text-align: center;}#sk-container-id-1 div.sk-container {/* jupyter's `normalize.less` sets `[hidden] { display: none; }` but bootstrap.min.css set `[hidden] { display: none !important; }` so we also need the `!important` here to be able to override the default hidden behavior on the sphinx rendered scikit-learn.org. See: https://github.com/scikit-learn/scikit-learn/issues/21755 */display: inline-block !important;position: relative;}#sk-container-id-1 div.sk-text-repr-fallback {display: none;}</style><div id=\"sk-container-id-1\" class=\"sk-top-container\"><div class=\"sk-text-repr-fallback\"><pre>LogisticRegression(penalty=&#x27;l1&#x27;, random_state=42, solver=&#x27;saga&#x27;)</pre><b>In a Jupyter environment, please rerun this cell to show the HTML representation or trust the notebook. <br />On GitHub, the HTML representation is unable to render, please try loading this page with nbviewer.org.</b></div><div class=\"sk-container\" hidden><div class=\"sk-item\"><div class=\"sk-estimator sk-toggleable\"><input class=\"sk-toggleable__control sk-hidden--visually\" id=\"sk-estimator-id-1\" type=\"checkbox\" checked><label for=\"sk-estimator-id-1\" class=\"sk-toggleable__label sk-toggleable__label-arrow\">LogisticRegression</label><div class=\"sk-toggleable__content\"><pre>LogisticRegression(penalty=&#x27;l1&#x27;, random_state=42, solver=&#x27;saga&#x27;)</pre></div></div></div></div></div>"
      ],
      "text/plain": [
       "LogisticRegression(penalty='l1', random_state=42, solver='saga')"
      ]
     },
     "execution_count": 15,
     "metadata": {},
     "output_type": "execute_result"
    }
   ],
   "source": [
    "from sklearn.linear_model import LogisticRegression\n",
    "\n",
    "# Penalty 'l1' Lasso regularization\n",
    "lr_model = LogisticRegression(penalty='l1', solver='saga', random_state=42)\n",
    "\n",
    "lr_model.fit(X_train, y_train)"
   ]
  },
  {
   "cell_type": "markdown",
   "id": "44a8ddfd",
   "metadata": {},
   "source": [
    "### Evaluation"
   ]
  },
  {
   "cell_type": "code",
   "execution_count": 16,
   "id": "7812255d",
   "metadata": {},
   "outputs": [
    {
     "name": "stdout",
     "output_type": "stream",
     "text": [
      "Cross Validated Accuracy: 76.60%\n",
      "Confidence Interval: +- 0.81%\n",
      "\n"
     ]
    },
    {
     "data": {
      "text/html": [
       "<div>\n",
       "<style scoped>\n",
       "    .dataframe tbody tr th:only-of-type {\n",
       "        vertical-align: middle;\n",
       "    }\n",
       "\n",
       "    .dataframe tbody tr th {\n",
       "        vertical-align: top;\n",
       "    }\n",
       "\n",
       "    .dataframe thead th {\n",
       "        text-align: right;\n",
       "    }\n",
       "</style>\n",
       "<table border=\"1\" class=\"dataframe\">\n",
       "  <thead>\n",
       "    <tr style=\"text-align: right;\">\n",
       "      <th></th>\n",
       "      <th>Model</th>\n",
       "      <th>Accuracy</th>\n",
       "      <th>Precision</th>\n",
       "      <th>Recall</th>\n",
       "      <th>F1</th>\n",
       "    </tr>\n",
       "  </thead>\n",
       "  <tbody>\n",
       "    <tr>\n",
       "      <th>0</th>\n",
       "      <td>LogisticRegression (Lasso)</td>\n",
       "      <td>0.774129</td>\n",
       "      <td>0.773649</td>\n",
       "      <td>0.783222</td>\n",
       "      <td>0.778406</td>\n",
       "    </tr>\n",
       "  </tbody>\n",
       "</table>\n",
       "</div>"
      ],
      "text/plain": [
       "                        Model  Accuracy  Precision    Recall        F1\n",
       "0  LogisticRegression (Lasso)  0.774129   0.773649  0.783222  0.778406"
      ]
     },
     "execution_count": 16,
     "metadata": {},
     "output_type": "execute_result"
    }
   ],
   "source": [
    "from sklearn.model_selection import cross_val_score\n",
    "\n",
    "# Make predictions from the validation set\n",
    "y_predict = lr_model.predict(X_validation)\n",
    "\n",
    "# Initialize a results DataFrame\n",
    "df_results = pd.DataFrame()\n",
    "\n",
    "# Get model scores\n",
    "df_results = evaluate_scores_and_concat(y_validation, y_predict, 'LogisticRegression (Lasso)', df_results)\n",
    "\n",
    "# Perform k-fold cross-validation, here with 5 folds\n",
    "accuracies = cross_val_score(estimator=lr_model, X=X_train_and_validation, y=y_train_and_validation, cv=5)\n",
    "\n",
    "print(\"Cross Validated Accuracy: {:.2f}%\".format(accuracies.mean()*100))\n",
    "print(\"Confidence Interval: +- {:.2f}%\\n\".format((accuracies.std()*2)*100))\n",
    "df_results"
   ]
  },
  {
   "cell_type": "markdown",
   "id": "fdcec9b0",
   "metadata": {},
   "source": [
    "## Random Forest Classifier 🌳\n",
    "\n",
    "### Training"
   ]
  },
  {
   "cell_type": "code",
   "execution_count": 17,
   "id": "4593d270",
   "metadata": {},
   "outputs": [
    {
     "data": {
      "text/html": [
       "<style>#sk-container-id-2 {color: black;}#sk-container-id-2 pre{padding: 0;}#sk-container-id-2 div.sk-toggleable {background-color: white;}#sk-container-id-2 label.sk-toggleable__label {cursor: pointer;display: block;width: 100%;margin-bottom: 0;padding: 0.3em;box-sizing: border-box;text-align: center;}#sk-container-id-2 label.sk-toggleable__label-arrow:before {content: \"▸\";float: left;margin-right: 0.25em;color: #696969;}#sk-container-id-2 label.sk-toggleable__label-arrow:hover:before {color: black;}#sk-container-id-2 div.sk-estimator:hover label.sk-toggleable__label-arrow:before {color: black;}#sk-container-id-2 div.sk-toggleable__content {max-height: 0;max-width: 0;overflow: hidden;text-align: left;background-color: #f0f8ff;}#sk-container-id-2 div.sk-toggleable__content pre {margin: 0.2em;color: black;border-radius: 0.25em;background-color: #f0f8ff;}#sk-container-id-2 input.sk-toggleable__control:checked~div.sk-toggleable__content {max-height: 200px;max-width: 100%;overflow: auto;}#sk-container-id-2 input.sk-toggleable__control:checked~label.sk-toggleable__label-arrow:before {content: \"▾\";}#sk-container-id-2 div.sk-estimator input.sk-toggleable__control:checked~label.sk-toggleable__label {background-color: #d4ebff;}#sk-container-id-2 div.sk-label input.sk-toggleable__control:checked~label.sk-toggleable__label {background-color: #d4ebff;}#sk-container-id-2 input.sk-hidden--visually {border: 0;clip: rect(1px 1px 1px 1px);clip: rect(1px, 1px, 1px, 1px);height: 1px;margin: -1px;overflow: hidden;padding: 0;position: absolute;width: 1px;}#sk-container-id-2 div.sk-estimator {font-family: monospace;background-color: #f0f8ff;border: 1px dotted black;border-radius: 0.25em;box-sizing: border-box;margin-bottom: 0.5em;}#sk-container-id-2 div.sk-estimator:hover {background-color: #d4ebff;}#sk-container-id-2 div.sk-parallel-item::after {content: \"\";width: 100%;border-bottom: 1px solid gray;flex-grow: 1;}#sk-container-id-2 div.sk-label:hover label.sk-toggleable__label {background-color: #d4ebff;}#sk-container-id-2 div.sk-serial::before {content: \"\";position: absolute;border-left: 1px solid gray;box-sizing: border-box;top: 0;bottom: 0;left: 50%;z-index: 0;}#sk-container-id-2 div.sk-serial {display: flex;flex-direction: column;align-items: center;background-color: white;padding-right: 0.2em;padding-left: 0.2em;position: relative;}#sk-container-id-2 div.sk-item {position: relative;z-index: 1;}#sk-container-id-2 div.sk-parallel {display: flex;align-items: stretch;justify-content: center;background-color: white;position: relative;}#sk-container-id-2 div.sk-item::before, #sk-container-id-2 div.sk-parallel-item::before {content: \"\";position: absolute;border-left: 1px solid gray;box-sizing: border-box;top: 0;bottom: 0;left: 50%;z-index: -1;}#sk-container-id-2 div.sk-parallel-item {display: flex;flex-direction: column;z-index: 1;position: relative;background-color: white;}#sk-container-id-2 div.sk-parallel-item:first-child::after {align-self: flex-end;width: 50%;}#sk-container-id-2 div.sk-parallel-item:last-child::after {align-self: flex-start;width: 50%;}#sk-container-id-2 div.sk-parallel-item:only-child::after {width: 0;}#sk-container-id-2 div.sk-dashed-wrapped {border: 1px dashed gray;margin: 0 0.4em 0.5em 0.4em;box-sizing: border-box;padding-bottom: 0.4em;background-color: white;}#sk-container-id-2 div.sk-label label {font-family: monospace;font-weight: bold;display: inline-block;line-height: 1.2em;}#sk-container-id-2 div.sk-label-container {text-align: center;}#sk-container-id-2 div.sk-container {/* jupyter's `normalize.less` sets `[hidden] { display: none; }` but bootstrap.min.css set `[hidden] { display: none !important; }` so we also need the `!important` here to be able to override the default hidden behavior on the sphinx rendered scikit-learn.org. See: https://github.com/scikit-learn/scikit-learn/issues/21755 */display: inline-block !important;position: relative;}#sk-container-id-2 div.sk-text-repr-fallback {display: none;}</style><div id=\"sk-container-id-2\" class=\"sk-top-container\"><div class=\"sk-text-repr-fallback\"><pre>RandomForestClassifier(criterion=&#x27;entropy&#x27;, random_state=42)</pre><b>In a Jupyter environment, please rerun this cell to show the HTML representation or trust the notebook. <br />On GitHub, the HTML representation is unable to render, please try loading this page with nbviewer.org.</b></div><div class=\"sk-container\" hidden><div class=\"sk-item\"><div class=\"sk-estimator sk-toggleable\"><input class=\"sk-toggleable__control sk-hidden--visually\" id=\"sk-estimator-id-2\" type=\"checkbox\" checked><label for=\"sk-estimator-id-2\" class=\"sk-toggleable__label sk-toggleable__label-arrow\">RandomForestClassifier</label><div class=\"sk-toggleable__content\"><pre>RandomForestClassifier(criterion=&#x27;entropy&#x27;, random_state=42)</pre></div></div></div></div></div>"
      ],
      "text/plain": [
       "RandomForestClassifier(criterion='entropy', random_state=42)"
      ]
     },
     "execution_count": 17,
     "metadata": {},
     "output_type": "execute_result"
    }
   ],
   "source": [
    "from sklearn.ensemble import RandomForestClassifier\n",
    "\n",
    "# 100 Trees\n",
    "rf_model = RandomForestClassifier(n_estimators=100, criterion='entropy', random_state=42)\n",
    "\n",
    "rf_model.fit(X_train, y_train)"
   ]
  },
  {
   "cell_type": "markdown",
   "id": "33648fa4",
   "metadata": {},
   "source": [
    "### Evaluation"
   ]
  },
  {
   "cell_type": "code",
   "execution_count": 18,
   "id": "3c0f0960",
   "metadata": {},
   "outputs": [
    {
     "name": "stdout",
     "output_type": "stream",
     "text": [
      "Cross Validated Accuracy: 77.79%\n",
      "Confidence Interval: +- 1.12%\n",
      "\n"
     ]
    },
    {
     "data": {
      "text/html": [
       "<div>\n",
       "<style scoped>\n",
       "    .dataframe tbody tr th:only-of-type {\n",
       "        vertical-align: middle;\n",
       "    }\n",
       "\n",
       "    .dataframe tbody tr th {\n",
       "        vertical-align: top;\n",
       "    }\n",
       "\n",
       "    .dataframe thead th {\n",
       "        text-align: right;\n",
       "    }\n",
       "</style>\n",
       "<table border=\"1\" class=\"dataframe\">\n",
       "  <thead>\n",
       "    <tr style=\"text-align: right;\">\n",
       "      <th></th>\n",
       "      <th>Model</th>\n",
       "      <th>Accuracy</th>\n",
       "      <th>Precision</th>\n",
       "      <th>Recall</th>\n",
       "      <th>F1</th>\n",
       "    </tr>\n",
       "  </thead>\n",
       "  <tbody>\n",
       "    <tr>\n",
       "      <th>0</th>\n",
       "      <td>LogisticRegression (Lasso)</td>\n",
       "      <td>0.774129</td>\n",
       "      <td>0.773649</td>\n",
       "      <td>0.783222</td>\n",
       "      <td>0.778406</td>\n",
       "    </tr>\n",
       "    <tr>\n",
       "      <th>1</th>\n",
       "      <td>RandomForestClassifier (n=100)</td>\n",
       "      <td>0.782276</td>\n",
       "      <td>0.791203</td>\n",
       "      <td>0.774561</td>\n",
       "      <td>0.782794</td>\n",
       "    </tr>\n",
       "  </tbody>\n",
       "</table>\n",
       "</div>"
      ],
      "text/plain": [
       "                            Model  Accuracy  Precision    Recall        F1\n",
       "0      LogisticRegression (Lasso)  0.774129   0.773649  0.783222  0.778406\n",
       "1  RandomForestClassifier (n=100)  0.782276   0.791203  0.774561  0.782794"
      ]
     },
     "execution_count": 18,
     "metadata": {},
     "output_type": "execute_result"
    }
   ],
   "source": [
    "# Make predictions from the validation set\n",
    "y_predict = rf_model.predict(X_validation)\n",
    "\n",
    "# Get model scores\n",
    "df_results = evaluate_scores_and_concat(y_validation, y_predict, 'RandomForestClassifier (n=100)', df_results)\n",
    "\n",
    "# Perform k-fold cross-validation, here with 5 folds\n",
    "accuracies = cross_val_score(estimator=rf_model, X=X_train_and_validation, y=y_train_and_validation, cv=5)\n",
    "\n",
    "print(\"Cross Validated Accuracy: {:.2f}%\".format(accuracies.mean()*100))\n",
    "print(\"Confidence Interval: +- {:.2f}%\\n\".format((accuracies.std()*2)*100))\n",
    "df_results"
   ]
  },
  {
   "cell_type": "markdown",
   "id": "312a62a8",
   "metadata": {},
   "source": [
    "## XGBoost Classifier 🚀\n",
    "\n",
    "\n",
    "### Training"
   ]
  },
  {
   "cell_type": "code",
   "execution_count": 19,
   "id": "9a641f2f",
   "metadata": {},
   "outputs": [
    {
     "data": {
      "text/html": [
       "<style>#sk-container-id-3 {color: black;}#sk-container-id-3 pre{padding: 0;}#sk-container-id-3 div.sk-toggleable {background-color: white;}#sk-container-id-3 label.sk-toggleable__label {cursor: pointer;display: block;width: 100%;margin-bottom: 0;padding: 0.3em;box-sizing: border-box;text-align: center;}#sk-container-id-3 label.sk-toggleable__label-arrow:before {content: \"▸\";float: left;margin-right: 0.25em;color: #696969;}#sk-container-id-3 label.sk-toggleable__label-arrow:hover:before {color: black;}#sk-container-id-3 div.sk-estimator:hover label.sk-toggleable__label-arrow:before {color: black;}#sk-container-id-3 div.sk-toggleable__content {max-height: 0;max-width: 0;overflow: hidden;text-align: left;background-color: #f0f8ff;}#sk-container-id-3 div.sk-toggleable__content pre {margin: 0.2em;color: black;border-radius: 0.25em;background-color: #f0f8ff;}#sk-container-id-3 input.sk-toggleable__control:checked~div.sk-toggleable__content {max-height: 200px;max-width: 100%;overflow: auto;}#sk-container-id-3 input.sk-toggleable__control:checked~label.sk-toggleable__label-arrow:before {content: \"▾\";}#sk-container-id-3 div.sk-estimator input.sk-toggleable__control:checked~label.sk-toggleable__label {background-color: #d4ebff;}#sk-container-id-3 div.sk-label input.sk-toggleable__control:checked~label.sk-toggleable__label {background-color: #d4ebff;}#sk-container-id-3 input.sk-hidden--visually {border: 0;clip: rect(1px 1px 1px 1px);clip: rect(1px, 1px, 1px, 1px);height: 1px;margin: -1px;overflow: hidden;padding: 0;position: absolute;width: 1px;}#sk-container-id-3 div.sk-estimator {font-family: monospace;background-color: #f0f8ff;border: 1px dotted black;border-radius: 0.25em;box-sizing: border-box;margin-bottom: 0.5em;}#sk-container-id-3 div.sk-estimator:hover {background-color: #d4ebff;}#sk-container-id-3 div.sk-parallel-item::after {content: \"\";width: 100%;border-bottom: 1px solid gray;flex-grow: 1;}#sk-container-id-3 div.sk-label:hover label.sk-toggleable__label {background-color: #d4ebff;}#sk-container-id-3 div.sk-serial::before {content: \"\";position: absolute;border-left: 1px solid gray;box-sizing: border-box;top: 0;bottom: 0;left: 50%;z-index: 0;}#sk-container-id-3 div.sk-serial {display: flex;flex-direction: column;align-items: center;background-color: white;padding-right: 0.2em;padding-left: 0.2em;position: relative;}#sk-container-id-3 div.sk-item {position: relative;z-index: 1;}#sk-container-id-3 div.sk-parallel {display: flex;align-items: stretch;justify-content: center;background-color: white;position: relative;}#sk-container-id-3 div.sk-item::before, #sk-container-id-3 div.sk-parallel-item::before {content: \"\";position: absolute;border-left: 1px solid gray;box-sizing: border-box;top: 0;bottom: 0;left: 50%;z-index: -1;}#sk-container-id-3 div.sk-parallel-item {display: flex;flex-direction: column;z-index: 1;position: relative;background-color: white;}#sk-container-id-3 div.sk-parallel-item:first-child::after {align-self: flex-end;width: 50%;}#sk-container-id-3 div.sk-parallel-item:last-child::after {align-self: flex-start;width: 50%;}#sk-container-id-3 div.sk-parallel-item:only-child::after {width: 0;}#sk-container-id-3 div.sk-dashed-wrapped {border: 1px dashed gray;margin: 0 0.4em 0.5em 0.4em;box-sizing: border-box;padding-bottom: 0.4em;background-color: white;}#sk-container-id-3 div.sk-label label {font-family: monospace;font-weight: bold;display: inline-block;line-height: 1.2em;}#sk-container-id-3 div.sk-label-container {text-align: center;}#sk-container-id-3 div.sk-container {/* jupyter's `normalize.less` sets `[hidden] { display: none; }` but bootstrap.min.css set `[hidden] { display: none !important; }` so we also need the `!important` here to be able to override the default hidden behavior on the sphinx rendered scikit-learn.org. See: https://github.com/scikit-learn/scikit-learn/issues/21755 */display: inline-block !important;position: relative;}#sk-container-id-3 div.sk-text-repr-fallback {display: none;}</style><div id=\"sk-container-id-3\" class=\"sk-top-container\"><div class=\"sk-text-repr-fallback\"><pre>XGBClassifier(base_score=None, booster=None, callbacks=None,\n",
       "              colsample_bylevel=None, colsample_bynode=None,\n",
       "              colsample_bytree=None, device=None, early_stopping_rounds=None,\n",
       "              enable_categorical=False, eval_metric=None, feature_types=None,\n",
       "              gamma=None, grow_policy=None, importance_type=None,\n",
       "              interaction_constraints=None, learning_rate=None, max_bin=None,\n",
       "              max_cat_threshold=None, max_cat_to_onehot=None,\n",
       "              max_delta_step=None, max_depth=None, max_leaves=None,\n",
       "              min_child_weight=None, missing=nan, monotone_constraints=None,\n",
       "              multi_strategy=None, n_estimators=100, n_jobs=None,\n",
       "              num_parallel_tree=None, random_state=42, ...)</pre><b>In a Jupyter environment, please rerun this cell to show the HTML representation or trust the notebook. <br />On GitHub, the HTML representation is unable to render, please try loading this page with nbviewer.org.</b></div><div class=\"sk-container\" hidden><div class=\"sk-item\"><div class=\"sk-estimator sk-toggleable\"><input class=\"sk-toggleable__control sk-hidden--visually\" id=\"sk-estimator-id-3\" type=\"checkbox\" checked><label for=\"sk-estimator-id-3\" class=\"sk-toggleable__label sk-toggleable__label-arrow\">XGBClassifier</label><div class=\"sk-toggleable__content\"><pre>XGBClassifier(base_score=None, booster=None, callbacks=None,\n",
       "              colsample_bylevel=None, colsample_bynode=None,\n",
       "              colsample_bytree=None, device=None, early_stopping_rounds=None,\n",
       "              enable_categorical=False, eval_metric=None, feature_types=None,\n",
       "              gamma=None, grow_policy=None, importance_type=None,\n",
       "              interaction_constraints=None, learning_rate=None, max_bin=None,\n",
       "              max_cat_threshold=None, max_cat_to_onehot=None,\n",
       "              max_delta_step=None, max_depth=None, max_leaves=None,\n",
       "              min_child_weight=None, missing=nan, monotone_constraints=None,\n",
       "              multi_strategy=None, n_estimators=100, n_jobs=None,\n",
       "              num_parallel_tree=None, random_state=42, ...)</pre></div></div></div></div></div>"
      ],
      "text/plain": [
       "XGBClassifier(base_score=None, booster=None, callbacks=None,\n",
       "              colsample_bylevel=None, colsample_bynode=None,\n",
       "              colsample_bytree=None, device=None, early_stopping_rounds=None,\n",
       "              enable_categorical=False, eval_metric=None, feature_types=None,\n",
       "              gamma=None, grow_policy=None, importance_type=None,\n",
       "              interaction_constraints=None, learning_rate=None, max_bin=None,\n",
       "              max_cat_threshold=None, max_cat_to_onehot=None,\n",
       "              max_delta_step=None, max_depth=None, max_leaves=None,\n",
       "              min_child_weight=None, missing=nan, monotone_constraints=None,\n",
       "              multi_strategy=None, n_estimators=100, n_jobs=None,\n",
       "              num_parallel_tree=None, random_state=42, ...)"
      ]
     },
     "execution_count": 19,
     "metadata": {},
     "output_type": "execute_result"
    }
   ],
   "source": [
    "from xgboost import XGBClassifier\n",
    "\n",
    "# 100 Stages\n",
    "xgb_model = XGBClassifier(n_estimators=100, objective='binary:logistic', random_state=42)\n",
    "\n",
    "xgb_model.fit(X_train, y_train)"
   ]
  },
  {
   "cell_type": "markdown",
   "id": "5199da7f",
   "metadata": {},
   "source": [
    "### Evaluation"
   ]
  },
  {
   "cell_type": "code",
   "execution_count": 20,
   "id": "204dbb31",
   "metadata": {},
   "outputs": [
    {
     "name": "stdout",
     "output_type": "stream",
     "text": [
      "Cross Validated Accuracy: 77.97%\n",
      "Confidence Interval: +- 0.65%\n",
      "\n"
     ]
    },
    {
     "data": {
      "text/html": [
       "<div>\n",
       "<style scoped>\n",
       "    .dataframe tbody tr th:only-of-type {\n",
       "        vertical-align: middle;\n",
       "    }\n",
       "\n",
       "    .dataframe tbody tr th {\n",
       "        vertical-align: top;\n",
       "    }\n",
       "\n",
       "    .dataframe thead th {\n",
       "        text-align: right;\n",
       "    }\n",
       "</style>\n",
       "<table border=\"1\" class=\"dataframe\">\n",
       "  <thead>\n",
       "    <tr style=\"text-align: right;\">\n",
       "      <th></th>\n",
       "      <th>Model</th>\n",
       "      <th>Accuracy</th>\n",
       "      <th>Precision</th>\n",
       "      <th>Recall</th>\n",
       "      <th>F1</th>\n",
       "    </tr>\n",
       "  </thead>\n",
       "  <tbody>\n",
       "    <tr>\n",
       "      <th>0</th>\n",
       "      <td>LogisticRegression (Lasso)</td>\n",
       "      <td>0.774129</td>\n",
       "      <td>0.773649</td>\n",
       "      <td>0.783222</td>\n",
       "      <td>0.778406</td>\n",
       "    </tr>\n",
       "    <tr>\n",
       "      <th>1</th>\n",
       "      <td>RandomForestClassifier (n=100)</td>\n",
       "      <td>0.782276</td>\n",
       "      <td>0.791203</td>\n",
       "      <td>0.774561</td>\n",
       "      <td>0.782794</td>\n",
       "    </tr>\n",
       "    <tr>\n",
       "      <th>2</th>\n",
       "      <td>XGBClassifier (n=100)</td>\n",
       "      <td>0.787666</td>\n",
       "      <td>0.801749</td>\n",
       "      <td>0.771591</td>\n",
       "      <td>0.786381</td>\n",
       "    </tr>\n",
       "  </tbody>\n",
       "</table>\n",
       "</div>"
      ],
      "text/plain": [
       "                            Model  Accuracy  Precision    Recall        F1\n",
       "0      LogisticRegression (Lasso)  0.774129   0.773649  0.783222  0.778406\n",
       "1  RandomForestClassifier (n=100)  0.782276   0.791203  0.774561  0.782794\n",
       "2           XGBClassifier (n=100)  0.787666   0.801749  0.771591  0.786381"
      ]
     },
     "execution_count": 20,
     "metadata": {},
     "output_type": "execute_result"
    }
   ],
   "source": [
    "# Make predictions from the validation set\n",
    "y_predict = xgb_model.predict(X_validation)\n",
    "\n",
    "# Get model scores\n",
    "df_results = evaluate_scores_and_concat(y_validation, y_predict, 'XGBClassifier (n=100)', df_results)\n",
    "\n",
    "# Perform k-fold cross-validation, here with 5 folds\n",
    "accuracies = cross_val_score(estimator=xgb_model, X=X_train_and_validation, y=y_train_and_validation, cv=5)\n",
    "\n",
    "print(\"Cross Validated Accuracy: {:.2f}%\".format(accuracies.mean()*100))\n",
    "print(\"Confidence Interval: +- {:.2f}%\\n\".format((accuracies.std()*2)*100))\n",
    "df_results"
   ]
  },
  {
   "cell_type": "markdown",
   "id": "89f725dc",
   "metadata": {},
   "source": [
    "## Save Data 💾"
   ]
  },
  {
   "cell_type": "code",
   "execution_count": 21,
   "id": "c015b027",
   "metadata": {},
   "outputs": [],
   "source": [
    "# Create a directory to save results\n",
    "directory = \"../experiments\"\n",
    "if not os.path.exists(directory): os.makedirs(directory)\n",
    "\n",
    "df_results.to_csv(\"../experiments/baseline_metrics_001.csv\", index=False)"
   ]
  },
  {
   "cell_type": "markdown",
   "id": "20888c19",
   "metadata": {},
   "source": [
    "## Baseline Model Evaluation <img src=\"https://media3.giphy.com/media/v1.Y2lkPTc5MGI3NjExNDM1bWRnOW05MW9nNW1kNXJqbDNlMnRpMjFwZ2hpMHJuaWZ2Nms0eSZlcD12MV9pbnRlcm5hbF9naWZfYnlfaWQmY3Q9cw/ZOKhyP4ai1guMHhwFB/giphy.gif\" width=\"44\" alt=\"Stat Bars\">\n",
    "\n",
    "Above we discover the [XGBClassifier](https://xgboost.readthedocs.io/en/stable/python/python_api.html#xgboost.XGBClassifier) algorithm has provided some of our best estimates thus far as a baseline model and we proceed with a further evaluation of the model"
   ]
  },
  {
   "cell_type": "code",
   "execution_count": 22,
   "id": "b27b6be2",
   "metadata": {},
   "outputs": [],
   "source": [
    "# Select model\n",
    "model = xgb_model"
   ]
  },
  {
   "cell_type": "markdown",
   "id": "8e7cb464",
   "metadata": {},
   "source": [
    "### Confusion Matrix"
   ]
  },
  {
   "cell_type": "code",
   "execution_count": 23,
   "id": "c10056f3",
   "metadata": {},
   "outputs": [
    {
     "data": {
      "image/png": "[encoded data removed]",
      "text/plain": [
       "<Figure size 800x600 with 2 Axes>"
      ]
     },
     "metadata": {},
     "output_type": "display_data"
    }
   ],
   "source": [
    "from sklearn.metrics import confusion_matrix, ConfusionMatrixDisplay\n",
    "\n",
    "def sklearn_confusion_matrix(y_test, y_predict):\n",
    "    \"\"\"\n",
    "    Generates a simple confusion matrix. \n",
    "    Accepts the test set and predicted labels from the model.\n",
    "    Displays the plot.\n",
    "    \"\"\"\n",
    "    # Create a confusion matrix with the labels and our model's predictions\n",
    "    conf_matrix = confusion_matrix(y_test, y_predict)\n",
    "    # Create the plot\n",
    "    fig, ax = plt.subplots(figsize=(8,6), dpi=100)\n",
    "    display = ConfusionMatrixDisplay(conf_matrix, display_labels=model.classes_)\n",
    "    ax.set(title='Confusion Matrix for Predicting Loan E-Signature Model')\n",
    "    display.plot(ax=ax, cmap='Blues', values_format='d')\n",
    "    plt.show()\n",
    "\n",
    "  \n",
    "sklearn_confusion_matrix(y_validation, y_predict)"
   ]
  },
  {
   "cell_type": "markdown",
   "id": "588f6d01",
   "metadata": {},
   "source": [
    "### K-Fold Cross Validation\n",
    "\n",
    "Further estimate how well the model is likely to generalize to unseen data\n"
   ]
  },
  {
   "cell_type": "code",
   "execution_count": 24,
   "id": "9f265a12",
   "metadata": {},
   "outputs": [
    {
     "name": "stdout",
     "output_type": "stream",
     "text": [
      "Cross Validated Accuracy: 78.14%\n",
      "Confidence Interval: +- 1.66%\n",
      "\n",
      "[0.78315367 0.78114816 0.76560541 0.78616195 0.78089747 0.7896716\n",
      " 0.7778892  0.77081244 0.79613842 0.78284855]\n"
     ]
    }
   ],
   "source": [
    "from sklearn.model_selection import cross_val_score\n",
    "\n",
    "# Perform k-fold cross-validation, here with 10 folds\n",
    "accuracies = cross_val_score(estimator=model, X=X_train_and_validation, y=y_train_and_validation, cv=10)\n",
    "\n",
    "print(\"Cross Validated Accuracy: {:.2f}%\".format(accuracies.mean()*100))\n",
    "print(\"Confidence Interval: +- {:.2f}%\\n\".format((accuracies.std()*2)*100))\n",
    "print(accuracies)"
   ]
  },
  {
   "cell_type": "markdown",
   "id": "28f1e3af",
   "metadata": {},
   "source": [
    "### Receiver Operating Characteristic (ROC) Curve"
   ]
  },
  {
   "cell_type": "code",
   "execution_count": 25,
   "id": "136b818f",
   "metadata": {},
   "outputs": [
    {
     "name": "stdout",
     "output_type": "stream",
     "text": [
      "AUC (Area Under the ROC Curve): 0.87\n"
     ]
    },
    {
     "data": {
      "image/png": "[encoded data removed]",
      "text/plain": [
       "<Figure size 800x500 with 1 Axes>"
      ]
     },
     "metadata": {},
     "output_type": "display_data"
    }
   ],
   "source": [
    "from sklearn.metrics import roc_curve, roc_auc_score\n",
    "import seaborn.objects as so\n",
    "\n",
    "def plot_roc_curve(X_test, y_test, model):\n",
    "   \"\"\"\n",
    "   Function for plotting the ROC Curve.\n",
    "   Accepts the test features, labels, and the trained model.\n",
    "   Displays the plot and returns the AUC score. \n",
    "   \"\"\"\n",
    "   # Generate data for a 45 degree line\n",
    "   noskill_probabilities = [0 for number in range(len(y_test))]\n",
    "   # Predict the probabilities of the positive class\n",
    "   probabilities_posclass = model.predict_proba(X_test)[:, 1]\n",
    "   # Calculate data for horizontal line\n",
    "   falsepositive_rate_noskill, truepositive_rate_noskill, _ = roc_curve(y_test, noskill_probabilities)\n",
    "   # Calculate data for ROC curve\n",
    "   falsepositive_rate, truepositive_rate, _ = roc_curve(y_test, probabilities_posclass)\n",
    "   # Calculate AUC\n",
    "   auc = roc_auc_score(y_test, probabilities_posclass)\n",
    "   # Display AUC\n",
    "   print(\"AUC (Area Under the ROC Curve): {:.2f}\".format(auc))\n",
    "   # Plot with Seaborn Objects\n",
    "   plt = (so.Plot()\n",
    "      .add(so.Line(color='red'), x =falsepositive_rate, y=truepositive_rate)\n",
    "      .add(so.Line(color='blue', linestyle='dashed'), x=falsepositive_rate_noskill, y=truepositive_rate_noskill)\n",
    "      .layout(size = (8,5))\n",
    "      )\n",
    "   plt.show()\n",
    "   \n",
    "   return auc\n",
    "\n",
    "\n",
    "auc_score = plot_roc_curve(X_validation, y_validation, model)"
   ]
  },
  {
   "cell_type": "markdown",
   "id": "68f4c0ac",
   "metadata": {},
   "source": [
    "We note the model's discriminatory power is very good"
   ]
  },
  {
   "cell_type": "markdown",
   "id": "ad1d4586",
   "metadata": {},
   "source": [
    "### Feature Importances"
   ]
  },
  {
   "cell_type": "code",
   "execution_count": 26,
   "id": "4aed4bf4",
   "metadata": {},
   "outputs": [
    {
     "data": {
      "image/png": "[encoded data removed]",
      "text/plain": [
       "<Figure size 1000x2000 with 1 Axes>"
      ]
     },
     "metadata": {},
     "output_type": "display_data"
    },
    {
     "data": {
      "text/html": [
       "<div>\n",
       "<style scoped>\n",
       "    .dataframe tbody tr th:only-of-type {\n",
       "        vertical-align: middle;\n",
       "    }\n",
       "\n",
       "    .dataframe tbody tr th {\n",
       "        vertical-align: top;\n",
       "    }\n",
       "\n",
       "    .dataframe thead th {\n",
       "        text-align: right;\n",
       "    }\n",
       "</style>\n",
       "<table border=\"1\" class=\"dataframe\">\n",
       "  <thead>\n",
       "    <tr style=\"text-align: right;\">\n",
       "      <th></th>\n",
       "      <th>Feature</th>\n",
       "      <th>Importance</th>\n",
       "    </tr>\n",
       "  </thead>\n",
       "  <tbody>\n",
       "    <tr>\n",
       "      <th>14</th>\n",
       "      <td>VerifyPhone</td>\n",
       "      <td>0.323121</td>\n",
       "    </tr>\n",
       "    <tr>\n",
       "      <th>27</th>\n",
       "      <td>VerifyMobile</td>\n",
       "      <td>0.143793</td>\n",
       "    </tr>\n",
       "    <tr>\n",
       "      <th>7</th>\n",
       "      <td>LoanScreens</td>\n",
       "      <td>0.043434</td>\n",
       "    </tr>\n",
       "    <tr>\n",
       "      <th>5</th>\n",
       "      <td>CreditMonitoringScreens</td>\n",
       "      <td>0.037495</td>\n",
       "    </tr>\n",
       "    <tr>\n",
       "      <th>3</th>\n",
       "      <td>OtherScreens</td>\n",
       "      <td>0.030383</td>\n",
       "    </tr>\n",
       "    <tr>\n",
       "      <th>25</th>\n",
       "      <td>Alerts</td>\n",
       "      <td>0.029308</td>\n",
       "    </tr>\n",
       "    <tr>\n",
       "      <th>39</th>\n",
       "      <td>Login</td>\n",
       "      <td>0.021430</td>\n",
       "    </tr>\n",
       "    <tr>\n",
       "      <th>43</th>\n",
       "      <td>ResendToken</td>\n",
       "      <td>0.019127</td>\n",
       "    </tr>\n",
       "    <tr>\n",
       "      <th>16</th>\n",
       "      <td>VerifyDateOfBirth</td>\n",
       "      <td>0.017787</td>\n",
       "    </tr>\n",
       "    <tr>\n",
       "      <th>20</th>\n",
       "      <td>idscreen</td>\n",
       "      <td>0.016361</td>\n",
       "    </tr>\n",
       "  </tbody>\n",
       "</table>\n",
       "</div>"
      ],
      "text/plain": [
       "                    Feature  Importance\n",
       "14              VerifyPhone    0.323121\n",
       "27             VerifyMobile    0.143793\n",
       "7               LoanScreens    0.043434\n",
       "5   CreditMonitoringScreens    0.037495\n",
       "3              OtherScreens    0.030383\n",
       "25                   Alerts    0.029308\n",
       "39                    Login    0.021430\n",
       "43              ResendToken    0.019127\n",
       "16        VerifyDateOfBirth    0.017787\n",
       "20                 idscreen    0.016361"
      ]
     },
     "execution_count": 26,
     "metadata": {},
     "output_type": "execute_result"
    }
   ],
   "source": [
    "def plot_feature_importance(X_train, model):\n",
    "    \"\"\"\n",
    "    Function to plot feature importance.\n",
    "    Accepts the training features and trained model.\n",
    "    Displays the plot and returns a DataFrame of features and their importance scores.\n",
    "    \"\"\"\n",
    "    # Extract feature names from the DataFrame\n",
    "    features = X_train.columns.tolist()\n",
    "    # Create a DataFrame with feature names and their importance\n",
    "    feature_df = pd.DataFrame({\n",
    "      'Feature': features,\n",
    "      'Importance': model.feature_importances_\n",
    "      })\n",
    "    # Sort the DataFrame by importance in descending order\n",
    "    feature_df = feature_df.sort_values(by='Importance', ascending=False)\n",
    "    # Plotting\n",
    "    plt.figure(figsize=(10, 20)) \n",
    "    plt.barh(feature_df['Feature'], feature_df['Importance'], color='skyblue')\n",
    "    plt.xlabel('Importance')\n",
    "    plt.ylabel('Feature')\n",
    "    plt.title('Feature Importances')\n",
    "    plt.gca().invert_yaxis() # Place highest importance at top\n",
    "    plt.show()\n",
    "\n",
    "    return feature_df\n",
    "\n",
    "\n",
    "feature_df = plot_feature_importance(X_train, model)\n",
    "# Adjust for full list\n",
    "feature_df.head(10)"
   ]
  },
  {
   "cell_type": "markdown",
   "id": "5de46e5d",
   "metadata": {},
   "source": [
    "### Feature Selection"
   ]
  },
  {
   "cell_type": "markdown",
   "id": "56409564",
   "metadata": {},
   "source": [
    "- Generate Threshold Scores"
   ]
  },
  {
   "cell_type": "code",
   "execution_count": 27,
   "id": "a496a854",
   "metadata": {},
   "outputs": [],
   "source": [
    "file_name = \"../experiments/feature_thresholds/xgb_feat_threshold_scores.csv\"\n",
    "\n",
    "get_threshold_scores(X_train, y_train,X_validation, y_validation, model, file_name, False)"
   ]
  },
  {
   "cell_type": "markdown",
   "id": "61e3d0a0",
   "metadata": {},
   "source": [
    "- Inspect Results"
   ]
  },
  {
   "cell_type": "code",
   "execution_count": 28,
   "id": "6d39b0a4",
   "metadata": {},
   "outputs": [
    {
     "data": {
      "text/html": [
       "<div>\n",
       "<style scoped>\n",
       "    .dataframe tbody tr th:only-of-type {\n",
       "        vertical-align: middle;\n",
       "    }\n",
       "\n",
       "    .dataframe tbody tr th {\n",
       "        vertical-align: top;\n",
       "    }\n",
       "\n",
       "    .dataframe thead th {\n",
       "        text-align: right;\n",
       "    }\n",
       "</style>\n",
       "<table border=\"1\" class=\"dataframe\">\n",
       "  <thead>\n",
       "    <tr style=\"text-align: right;\">\n",
       "      <th></th>\n",
       "      <th>Threshold</th>\n",
       "      <th>Num_Features</th>\n",
       "      <th>Accuracy</th>\n",
       "      <th>Precision</th>\n",
       "      <th>Recall</th>\n",
       "      <th>F1_Score</th>\n",
       "    </tr>\n",
       "  </thead>\n",
       "  <tbody>\n",
       "    <tr>\n",
       "      <th>0</th>\n",
       "      <td>0.0047031157</td>\n",
       "      <td>47</td>\n",
       "      <td>0.7876660817</td>\n",
       "      <td>0.8017485215</td>\n",
       "      <td>0.7715911903</td>\n",
       "      <td>0.7863808323</td>\n",
       "    </tr>\n",
       "    <tr>\n",
       "      <th>1</th>\n",
       "      <td>0.0056918184</td>\n",
       "      <td>46</td>\n",
       "      <td>0.7839057408</td>\n",
       "      <td>0.7969751346</td>\n",
       "      <td>0.7693640188</td>\n",
       "      <td>0.7829262151</td>\n",
       "    </tr>\n",
       "    <tr>\n",
       "      <th>2</th>\n",
       "      <td>0.0058860930</td>\n",
       "      <td>45</td>\n",
       "      <td>0.7831536726</td>\n",
       "      <td>0.7972729612</td>\n",
       "      <td>0.7668893838</td>\n",
       "      <td>0.7817860747</td>\n",
       "    </tr>\n",
       "    <tr>\n",
       "      <th>3</th>\n",
       "      <td>0.0062230440</td>\n",
       "      <td>44</td>\n",
       "      <td>0.7837803961</td>\n",
       "      <td>0.7975334018</td>\n",
       "      <td>0.7681267013</td>\n",
       "      <td>0.7825538888</td>\n",
       "    </tr>\n",
       "    <tr>\n",
       "      <th>4</th>\n",
       "      <td>0.0065336134</td>\n",
       "      <td>43</td>\n",
       "      <td>0.7865379794</td>\n",
       "      <td>0.8003597122</td>\n",
       "      <td>0.7708487998</td>\n",
       "      <td>0.7853271146</td>\n",
       "    </tr>\n",
       "    <tr>\n",
       "      <th>5</th>\n",
       "      <td>0.0065942880</td>\n",
       "      <td>42</td>\n",
       "      <td>0.7869140135</td>\n",
       "      <td>0.8028460543</td>\n",
       "      <td>0.7678792378</td>\n",
       "      <td>0.7849734379</td>\n",
       "    </tr>\n",
       "    <tr>\n",
       "      <th>6</th>\n",
       "      <td>0.0068151834</td>\n",
       "      <td>41</td>\n",
       "      <td>0.7872900476</td>\n",
       "      <td>0.8039419087</td>\n",
       "      <td>0.7671368473</td>\n",
       "      <td>0.7851082690</td>\n",
       "    </tr>\n",
       "    <tr>\n",
       "      <th>7</th>\n",
       "      <td>0.0069152920</td>\n",
       "      <td>40</td>\n",
       "      <td>0.7895462522</td>\n",
       "      <td>0.8065939772</td>\n",
       "      <td>0.7688690918</td>\n",
       "      <td>0.7872798682</td>\n",
       "    </tr>\n",
       "    <tr>\n",
       "      <th>8</th>\n",
       "      <td>0.0069615660</td>\n",
       "      <td>39</td>\n",
       "      <td>0.7876660817</td>\n",
       "      <td>0.8048843856</td>\n",
       "      <td>0.7666419203</td>\n",
       "      <td>0.7852978454</td>\n",
       "    </tr>\n",
       "    <tr>\n",
       "      <th>9</th>\n",
       "      <td>0.0069784450</td>\n",
       "      <td>38</td>\n",
       "      <td>0.7879167711</td>\n",
       "      <td>0.8048274072</td>\n",
       "      <td>0.7673843108</td>\n",
       "      <td>0.7856599949</td>\n",
       "    </tr>\n",
       "  </tbody>\n",
       "</table>\n",
       "</div>"
      ],
      "text/plain": [
       "     Threshold  Num_Features     Accuracy    Precision       Recall  \\\n",
       "0 0.0047031157            47 0.7876660817 0.8017485215 0.7715911903   \n",
       "1 0.0056918184            46 0.7839057408 0.7969751346 0.7693640188   \n",
       "2 0.0058860930            45 0.7831536726 0.7972729612 0.7668893838   \n",
       "3 0.0062230440            44 0.7837803961 0.7975334018 0.7681267013   \n",
       "4 0.0065336134            43 0.7865379794 0.8003597122 0.7708487998   \n",
       "5 0.0065942880            42 0.7869140135 0.8028460543 0.7678792378   \n",
       "6 0.0068151834            41 0.7872900476 0.8039419087 0.7671368473   \n",
       "7 0.0069152920            40 0.7895462522 0.8065939772 0.7688690918   \n",
       "8 0.0069615660            39 0.7876660817 0.8048843856 0.7666419203   \n",
       "9 0.0069784450            38 0.7879167711 0.8048274072 0.7673843108   \n",
       "\n",
       "      F1_Score  \n",
       "0 0.7863808323  \n",
       "1 0.7829262151  \n",
       "2 0.7817860747  \n",
       "3 0.7825538888  \n",
       "4 0.7853271146  \n",
       "5 0.7849734379  \n",
       "6 0.7851082690  \n",
       "7 0.7872798682  \n",
       "8 0.7852978454  \n",
       "9 0.7856599949  "
      ]
     },
     "execution_count": 28,
     "metadata": {},
     "output_type": "execute_result"
    }
   ],
   "source": [
    "threshold_results_df = pd.read_csv(file_name)\n",
    "\n",
    "# Set the display format for float values to 10 decimal places\n",
    "pd.set_option('display.float_format', '{:.10f}'.format)\n",
    "\n",
    "# Adjust for full list\n",
    "threshold_results_df.head(10)"
   ]
  },
  {
   "cell_type": "code",
   "execution_count": 29,
   "id": "5d600995",
   "metadata": {},
   "outputs": [],
   "source": [
    "# Reset display option to default value\n",
    "pd.reset_option('display.float_format')"
   ]
  },
  {
   "cell_type": "markdown",
   "id": "c64208d2",
   "metadata": {},
   "source": [
    "- Select Features "
   ]
  },
  {
   "cell_type": "code",
   "execution_count": 30,
   "id": "108aaa39",
   "metadata": {},
   "outputs": [
    {
     "name": "stdout",
     "output_type": "stream",
     "text": [
      "['CreditCardScreens', 'TransactionList', 'ListPicker', 'ProfileMaritalStatus', 'log_numscreens', 'ProfileEducationMajor', 'VerifyIncomeType', 'liked', 'ProfileEducation', 'hour', 'dayofweek', 'RewardsContainer', 'NetworkFailure', 'ProfileJobTitle']\n"
     ]
    }
   ],
   "source": [
    "threshold = 0.0073200840\n",
    "\n",
    "# Define features under the threshold to remove\n",
    "features_to_remove_df = feature_df[feature_df['Importance'] < threshold]\n",
    "columns_to_drop = features_to_remove_df['Feature'].values.tolist()\n",
    "\n",
    "print(columns_to_drop)"
   ]
  },
  {
   "cell_type": "code",
   "execution_count": 31,
   "id": "29543daf",
   "metadata": {},
   "outputs": [
    {
     "name": "stdout",
     "output_type": "stream",
     "text": [
      "Number of Features:  33\n"
     ]
    }
   ],
   "source": [
    "# Drop the features from the datasets\n",
    "X_train.drop(columns=columns_to_drop, axis=1, inplace=True)\n",
    "X_validation.drop(columns=columns_to_drop, axis=1, inplace=True)\n",
    "X_train_and_validation.drop(columns=columns_to_drop, axis=1, inplace=True)\n",
    "X_test.drop(columns=columns_to_drop, axis=1, inplace=True)\n",
    "\n",
    "print(\"Number of Features: \", X_train.shape[1])"
   ]
  },
  {
   "cell_type": "markdown",
   "id": "1f77d26b",
   "metadata": {},
   "source": [
    "- Retraining & Evaluation"
   ]
  },
  {
   "cell_type": "code",
   "execution_count": 32,
   "id": "1721b87c",
   "metadata": {},
   "outputs": [
    {
     "name": "stdout",
     "output_type": "stream",
     "text": [
      "Cross Validated Accuracy: 78.15%\n",
      "Confidence Interval: +- 1.61%\n",
      "\n"
     ]
    },
    {
     "data": {
      "text/html": [
       "<div>\n",
       "<style scoped>\n",
       "    .dataframe tbody tr th:only-of-type {\n",
       "        vertical-align: middle;\n",
       "    }\n",
       "\n",
       "    .dataframe tbody tr th {\n",
       "        vertical-align: top;\n",
       "    }\n",
       "\n",
       "    .dataframe thead th {\n",
       "        text-align: right;\n",
       "    }\n",
       "</style>\n",
       "<table border=\"1\" class=\"dataframe\">\n",
       "  <thead>\n",
       "    <tr style=\"text-align: right;\">\n",
       "      <th></th>\n",
       "      <th>Model</th>\n",
       "      <th>Accuracy</th>\n",
       "      <th>Precision</th>\n",
       "      <th>Recall</th>\n",
       "      <th>F1</th>\n",
       "    </tr>\n",
       "  </thead>\n",
       "  <tbody>\n",
       "    <tr>\n",
       "      <th>0</th>\n",
       "      <td>LogisticRegression (Lasso)</td>\n",
       "      <td>0.774129</td>\n",
       "      <td>0.773649</td>\n",
       "      <td>0.783222</td>\n",
       "      <td>0.778406</td>\n",
       "    </tr>\n",
       "    <tr>\n",
       "      <th>1</th>\n",
       "      <td>RandomForestClassifier (n=100)</td>\n",
       "      <td>0.782276</td>\n",
       "      <td>0.791203</td>\n",
       "      <td>0.774561</td>\n",
       "      <td>0.782794</td>\n",
       "    </tr>\n",
       "    <tr>\n",
       "      <th>2</th>\n",
       "      <td>XGBClassifier (n=100)</td>\n",
       "      <td>0.787666</td>\n",
       "      <td>0.801749</td>\n",
       "      <td>0.771591</td>\n",
       "      <td>0.786381</td>\n",
       "    </tr>\n",
       "    <tr>\n",
       "      <th>3</th>\n",
       "      <td>XGBClassifier (n=100, feat_thresh=0.0073200840)</td>\n",
       "      <td>0.790925</td>\n",
       "      <td>0.805720</td>\n",
       "      <td>0.773818</td>\n",
       "      <td>0.789447</td>\n",
       "    </tr>\n",
       "  </tbody>\n",
       "</table>\n",
       "</div>"
      ],
      "text/plain": [
       "                                             Model  Accuracy  Precision  \\\n",
       "0                       LogisticRegression (Lasso)  0.774129   0.773649   \n",
       "1                   RandomForestClassifier (n=100)  0.782276   0.791203   \n",
       "2                            XGBClassifier (n=100)  0.787666   0.801749   \n",
       "3  XGBClassifier (n=100, feat_thresh=0.0073200840)  0.790925   0.805720   \n",
       "\n",
       "     Recall        F1  \n",
       "0  0.783222  0.778406  \n",
       "1  0.774561  0.782794  \n",
       "2  0.771591  0.786381  \n",
       "3  0.773818  0.789447  "
      ]
     },
     "execution_count": 32,
     "metadata": {},
     "output_type": "execute_result"
    }
   ],
   "source": [
    "model.fit(X_train, y_train)\n",
    "\n",
    "# Make predictions from the validation set\n",
    "y_predict = model.predict(X_validation)\n",
    "\n",
    "# Get model scores\n",
    "df_results = evaluate_scores_and_concat(y_validation, y_predict, 'XGBClassifier (n=100, feat_thresh=0.0073200840)', df_results)\n",
    "\n",
    "# Perform k-fold cross-validation, here with 10 folds\n",
    "accuracies = cross_val_score(estimator=model, X=X_train_and_validation, y=y_train_and_validation, cv=10)\n",
    "\n",
    "print(\"Cross Validated Accuracy: {:.2f}%\".format(accuracies.mean()*100))\n",
    "print(\"Confidence Interval: +- {:.2f}%\\n\".format((accuracies.std()*2)*100))\n",
    "df_results"
   ]
  },
  {
   "cell_type": "markdown",
   "id": "14cdd992",
   "metadata": {},
   "source": [
    "We observe a slight improvement in our scores as a result of feature selection and continue with hyperparameter optimization"
   ]
  },
  {
   "cell_type": "markdown",
   "id": "a582751e",
   "metadata": {},
   "source": [
    "## Model Tuning 🎯\n",
    "\n",
    "Here we utilize Hyperopt for model tuning to take advantage of Bayesian Optimization. "
   ]
  },
  {
   "cell_type": "code",
   "execution_count": null,
   "id": "f291e250",
   "metadata": {},
   "outputs": [],
   "source": []
  },
  {
   "cell_type": "markdown",
   "id": "0c2df0e8",
   "metadata": {},
   "source": [
    "## Final Model Training 🦾"
   ]
  },
  {
   "cell_type": "code",
   "execution_count": null,
   "id": "618bef0b",
   "metadata": {},
   "outputs": [],
   "source": []
  },
  {
   "cell_type": "markdown",
   "id": "e23d693c",
   "metadata": {},
   "source": [
    "## Final Model Evaluation <img src=\"https://media3.giphy.com/media/v1.Y2lkPTc5MGI3NjExNDM1bWRnOW05MW9nNW1kNXJqbDNlMnRpMjFwZ2hpMHJuaWZ2Nms0eSZlcD12MV9pbnRlcm5hbF9naWZfYnlfaWQmY3Q9cw/ZOKhyP4ai1guMHhwFB/giphy.gif\" width=\"44\" alt=\"Stat Bars\">"
   ]
  },
  {
   "cell_type": "code",
   "execution_count": null,
   "id": "f8b1fa9e",
   "metadata": {},
   "outputs": [],
   "source": []
  },
  {
   "cell_type": "markdown",
   "id": "5fd6e320",
   "metadata": {},
   "source": [
    "## Save Model 💾"
   ]
  },
  {
   "cell_type": "code",
   "execution_count": null,
   "id": "b2d3b5cd",
   "metadata": {},
   "outputs": [],
   "source": []
  },
  {
   "cell_type": "markdown",
   "id": "95ee3cfa",
   "metadata": {},
   "source": [
    "## Process Results 🔄"
   ]
  },
  {
   "cell_type": "markdown",
   "id": "cd8753a2",
   "metadata": {},
   "source": [
    "Here we format the final results from our model's predictions to the user this data came from. Though in the future we will not have 'enrolled' data for the deployed model's predictions, a similar process can be utilized. This enables the sales team to identify users the model has estimated unlikely to subscribe to paid subscriptions. "
   ]
  },
  {
   "cell_type": "code",
   "execution_count": null,
   "id": "08c5e0e3",
   "metadata": {},
   "outputs": [],
   "source": [
    "# Concatenate test labels to the user they came from\n",
    "final_results = pd.concat([y_test, test_identifier], axis =1).dropna()\n",
    "# Add predicted results from the model\n",
    "final_results['predicted_results'] = y_predict\n",
    "final_results = final_results[['user', 'enrolled', 'predicted_results']].reset_index(drop=True)\n",
    "\n",
    "# Adjust as needed\n",
    "final_results.head(10)"
   ]
  },
  {
   "cell_type": "markdown",
   "id": "947800a2",
   "metadata": {},
   "source": [
    "### Save Data 💾\n",
    "\n",
    "Persist final results and a list of users our model has estimated to be unlikely to enroll in the paid subscription"
   ]
  },
  {
   "cell_type": "code",
   "execution_count": null,
   "id": "5fdb125c",
   "metadata": {},
   "outputs": [],
   "source": [
    "from reportlab.lib.pagesizes import letter\n",
    "from reportlab.platypus import SimpleDocTemplate, Table\n",
    "from datetime import datetime\n",
    "import csv\n",
    "\n",
    "# Create a directory to save results if it doesn't exist\n",
    "directory = \"../data/results\"\n",
    "if not os.path.exists(directory):\n",
    "    os.makedirs(directory)\n",
    "    \n",
    "# Get the current date and time, remove milliseconds\n",
    "datetime = datetime.now().strftime(\"%Y-%m-%d %H:%M:%S\")\n",
    "\n",
    "# Save final results to a .csv file \n",
    "final_results.to_csv(f\"../data/results/final_results_{datetime}.csv\")\n",
    "\n",
    "# Filter the DataFrame for a list of users unlikely to subscribe\n",
    "final_results = final_results[final_results.predicted_results == 0].copy()\n",
    "unlikely_to_subscribe = final_results.copy().drop(columns = ['enrolled', 'predicted_results'])\n",
    "\n",
    "# Save the list of users unlikely to subscribe to a .csv file\n",
    "unlikely_to_subscribe.to_csv(f\"../data/results/users_unlikely_to_subscribe_{datetime}.csv\")\n",
    "\n",
    "# Define paths to convert\n",
    "csv_file = f\"../data/results/users_unlikely_to_subscribe_{datetime}.csv\"\n",
    "pdf_file = f\"../data/results/users_unlikely_to_subscribe_{datetime}.pdf\"\n",
    "\n",
    "# Convert the .csv file \n",
    "data = []\n",
    "with open(csv_file, 'r') as file:\n",
    "    reader = csv.reader(file)\n",
    "    for row in reader:\n",
    "        data.append(row)\n",
    "\n",
    "# Create a PDF document\n",
    "doc = SimpleDocTemplate(pdf_file, pagesize=letter)\n",
    "\n",
    "# Create a table from the CSV data\n",
    "table = Table(data)\n",
    "\n",
    "# Add the table to the document\n",
    "doc.build([table])"
   ]
  }
 ],
 "metadata": {
  "interpreter": {
   "hash": "cebbbc35963bee152c0570229337147d97be067c4ba41edaf5e0e61998aebd3e"
  },
  "kernelspec": {
   "display_name": "Python 3.10.12 ('base')",
   "language": "python",
   "name": "python3"
  },
  "language_info": {
   "codemirror_mode": {
    "name": "ipython",
    "version": 3
   },
   "file_extension": ".py",
   "mimetype": "text/x-python",
   "name": "python",
   "nbconvert_exporter": "python",
   "pygments_lexer": "ipython3",
   "version": "3.10.12"
  }
 },
 "nbformat": 4,
 "nbformat_minor": 5
}
