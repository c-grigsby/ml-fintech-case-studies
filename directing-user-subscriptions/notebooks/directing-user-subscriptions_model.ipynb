{
 "cells": [
  {
   "cell_type": "markdown",
   "id": "fd11b80e",
   "metadata": {},
   "source": [
    "<h1 style=\"font-size:3rem;color:orange;\">Directing User Subscriptions</h1>\n",
    "\n",
    "<h2 style=\"font-size:2rem;color:orange;\">Data Pre-processing and Model Building</h2>"
   ]
  },
  {
   "cell_type": "markdown",
   "id": "fcd539d0",
   "metadata": {},
   "source": [
    "### Import Libraries"
   ]
  },
  {
   "cell_type": "code",
   "execution_count": 32,
   "id": "cc208728",
   "metadata": {},
   "outputs": [],
   "source": [
    "import matplotlib.pyplot as plt\n",
    "import numpy as np\n",
    "import pandas as pd\n",
    "import seaborn as sn\n",
    "import time\n",
    "import os"
   ]
  },
  {
   "cell_type": "markdown",
   "id": "296316db",
   "metadata": {},
   "source": [
    "### Import Data"
   ]
  },
  {
   "cell_type": "code",
   "execution_count": 33,
   "id": "64962cb7",
   "metadata": {},
   "outputs": [],
   "source": [
    "df_users = pd.read_csv(\"../data/processed/new_app-user-data.csv\")"
   ]
  },
  {
   "cell_type": "markdown",
   "id": "b00e2a90",
   "metadata": {},
   "source": [
    "### Data Peek"
   ]
  },
  {
   "cell_type": "code",
   "execution_count": 34,
   "id": "8d86408f",
   "metadata": {},
   "outputs": [
    {
     "data": {
      "text/html": [
       "<div>\n",
       "<style scoped>\n",
       "    .dataframe tbody tr th:only-of-type {\n",
       "        vertical-align: middle;\n",
       "    }\n",
       "\n",
       "    .dataframe tbody tr th {\n",
       "        vertical-align: top;\n",
       "    }\n",
       "\n",
       "    .dataframe thead th {\n",
       "        text-align: right;\n",
       "    }\n",
       "</style>\n",
       "<table border=\"1\" class=\"dataframe\">\n",
       "  <thead>\n",
       "    <tr style=\"text-align: right;\">\n",
       "      <th></th>\n",
       "      <th>user</th>\n",
       "      <th>dayofweek</th>\n",
       "      <th>hour</th>\n",
       "      <th>age</th>\n",
       "      <th>numscreens</th>\n",
       "      <th>minigame</th>\n",
       "      <th>used_premium_feature</th>\n",
       "      <th>enrolled</th>\n",
       "      <th>liked</th>\n",
       "      <th>location</th>\n",
       "      <th>...</th>\n",
       "      <th>SecurityModal</th>\n",
       "      <th>ResendToken</th>\n",
       "      <th>TransactionList</th>\n",
       "      <th>NetworkFailure</th>\n",
       "      <th>ListPicker</th>\n",
       "      <th>OtherScreens</th>\n",
       "      <th>SavingsScreens</th>\n",
       "      <th>CreditMonitoringScreens</th>\n",
       "      <th>CreditCardScreens</th>\n",
       "      <th>LoanScreens</th>\n",
       "    </tr>\n",
       "  </thead>\n",
       "  <tbody>\n",
       "    <tr>\n",
       "      <th>0</th>\n",
       "      <td>235136</td>\n",
       "      <td>3</td>\n",
       "      <td>2</td>\n",
       "      <td>23</td>\n",
       "      <td>15</td>\n",
       "      <td>0</td>\n",
       "      <td>0</td>\n",
       "      <td>0</td>\n",
       "      <td>0</td>\n",
       "      <td>0</td>\n",
       "      <td>...</td>\n",
       "      <td>0</td>\n",
       "      <td>0</td>\n",
       "      <td>0</td>\n",
       "      <td>0</td>\n",
       "      <td>0</td>\n",
       "      <td>7</td>\n",
       "      <td>0</td>\n",
       "      <td>0</td>\n",
       "      <td>0</td>\n",
       "      <td>1</td>\n",
       "    </tr>\n",
       "    <tr>\n",
       "      <th>1</th>\n",
       "      <td>333588</td>\n",
       "      <td>6</td>\n",
       "      <td>1</td>\n",
       "      <td>24</td>\n",
       "      <td>13</td>\n",
       "      <td>0</td>\n",
       "      <td>0</td>\n",
       "      <td>0</td>\n",
       "      <td>0</td>\n",
       "      <td>1</td>\n",
       "      <td>...</td>\n",
       "      <td>0</td>\n",
       "      <td>0</td>\n",
       "      <td>0</td>\n",
       "      <td>0</td>\n",
       "      <td>0</td>\n",
       "      <td>5</td>\n",
       "      <td>0</td>\n",
       "      <td>0</td>\n",
       "      <td>0</td>\n",
       "      <td>1</td>\n",
       "    </tr>\n",
       "    <tr>\n",
       "      <th>2</th>\n",
       "      <td>254414</td>\n",
       "      <td>1</td>\n",
       "      <td>19</td>\n",
       "      <td>23</td>\n",
       "      <td>3</td>\n",
       "      <td>0</td>\n",
       "      <td>1</td>\n",
       "      <td>0</td>\n",
       "      <td>1</td>\n",
       "      <td>0</td>\n",
       "      <td>...</td>\n",
       "      <td>0</td>\n",
       "      <td>0</td>\n",
       "      <td>0</td>\n",
       "      <td>0</td>\n",
       "      <td>0</td>\n",
       "      <td>0</td>\n",
       "      <td>0</td>\n",
       "      <td>0</td>\n",
       "      <td>0</td>\n",
       "      <td>1</td>\n",
       "    </tr>\n",
       "    <tr>\n",
       "      <th>3</th>\n",
       "      <td>234192</td>\n",
       "      <td>4</td>\n",
       "      <td>16</td>\n",
       "      <td>28</td>\n",
       "      <td>40</td>\n",
       "      <td>0</td>\n",
       "      <td>0</td>\n",
       "      <td>1</td>\n",
       "      <td>0</td>\n",
       "      <td>1</td>\n",
       "      <td>...</td>\n",
       "      <td>0</td>\n",
       "      <td>0</td>\n",
       "      <td>0</td>\n",
       "      <td>0</td>\n",
       "      <td>0</td>\n",
       "      <td>6</td>\n",
       "      <td>0</td>\n",
       "      <td>3</td>\n",
       "      <td>0</td>\n",
       "      <td>1</td>\n",
       "    </tr>\n",
       "    <tr>\n",
       "      <th>4</th>\n",
       "      <td>51549</td>\n",
       "      <td>1</td>\n",
       "      <td>18</td>\n",
       "      <td>31</td>\n",
       "      <td>32</td>\n",
       "      <td>0</td>\n",
       "      <td>0</td>\n",
       "      <td>1</td>\n",
       "      <td>1</td>\n",
       "      <td>0</td>\n",
       "      <td>...</td>\n",
       "      <td>0</td>\n",
       "      <td>0</td>\n",
       "      <td>0</td>\n",
       "      <td>0</td>\n",
       "      <td>0</td>\n",
       "      <td>10</td>\n",
       "      <td>0</td>\n",
       "      <td>2</td>\n",
       "      <td>0</td>\n",
       "      <td>1</td>\n",
       "    </tr>\n",
       "  </tbody>\n",
       "</table>\n",
       "<p>5 rows × 50 columns</p>\n",
       "</div>"
      ],
      "text/plain": [
       "     user  dayofweek  hour  age  numscreens  minigame  used_premium_feature  \\\n",
       "0  235136          3     2   23          15         0                     0   \n",
       "1  333588          6     1   24          13         0                     0   \n",
       "2  254414          1    19   23           3         0                     1   \n",
       "3  234192          4    16   28          40         0                     0   \n",
       "4   51549          1    18   31          32         0                     0   \n",
       "\n",
       "   enrolled  liked  location  ...  SecurityModal  ResendToken  \\\n",
       "0         0      0         0  ...              0            0   \n",
       "1         0      0         1  ...              0            0   \n",
       "2         0      1         0  ...              0            0   \n",
       "3         1      0         1  ...              0            0   \n",
       "4         1      1         0  ...              0            0   \n",
       "\n",
       "   TransactionList  NetworkFailure  ListPicker  OtherScreens  SavingsScreens  \\\n",
       "0                0               0           0             7               0   \n",
       "1                0               0           0             5               0   \n",
       "2                0               0           0             0               0   \n",
       "3                0               0           0             6               0   \n",
       "4                0               0           0            10               0   \n",
       "\n",
       "   CreditMonitoringScreens  CreditCardScreens  LoanScreens  \n",
       "0                        0                  0            1  \n",
       "1                        0                  0            1  \n",
       "2                        0                  0            1  \n",
       "3                        3                  0            1  \n",
       "4                        2                  0            1  \n",
       "\n",
       "[5 rows x 50 columns]"
      ]
     },
     "execution_count": 34,
     "metadata": {},
     "output_type": "execute_result"
    }
   ],
   "source": [
    "df_users.head()"
   ]
  },
  {
   "cell_type": "markdown",
   "id": "6c9e1132",
   "metadata": {},
   "source": [
    "# Data Pre-processing"
   ]
  },
  {
   "cell_type": "markdown",
   "id": "dd1dc170",
   "metadata": {},
   "source": [
    "### Remove the label from the features"
   ]
  },
  {
   "cell_type": "code",
   "execution_count": 35,
   "id": "32347cb1",
   "metadata": {},
   "outputs": [],
   "source": [
    "label = df_users['enrolled']\n",
    "df_users = df_users.drop(columns = 'enrolled')"
   ]
  },
  {
   "cell_type": "markdown",
   "id": "9d23bf7f",
   "metadata": {},
   "source": [
    "### Split the dataset into training and test sets"
   ]
  },
  {
   "cell_type": "code",
   "execution_count": 36,
   "id": "0df11ec6",
   "metadata": {},
   "outputs": [
    {
     "name": "stdout",
     "output_type": "stream",
     "text": [
      "(39701, 49)\n",
      "(9926, 49)\n"
     ]
    },
    {
     "data": {
      "text/html": [
       "<div>\n",
       "<style scoped>\n",
       "    .dataframe tbody tr th:only-of-type {\n",
       "        vertical-align: middle;\n",
       "    }\n",
       "\n",
       "    .dataframe tbody tr th {\n",
       "        vertical-align: top;\n",
       "    }\n",
       "\n",
       "    .dataframe thead th {\n",
       "        text-align: right;\n",
       "    }\n",
       "</style>\n",
       "<table border=\"1\" class=\"dataframe\">\n",
       "  <thead>\n",
       "    <tr style=\"text-align: right;\">\n",
       "      <th></th>\n",
       "      <th>user</th>\n",
       "      <th>dayofweek</th>\n",
       "      <th>hour</th>\n",
       "      <th>age</th>\n",
       "      <th>numscreens</th>\n",
       "      <th>minigame</th>\n",
       "      <th>used_premium_feature</th>\n",
       "      <th>liked</th>\n",
       "      <th>location</th>\n",
       "      <th>Institutions</th>\n",
       "      <th>...</th>\n",
       "      <th>SecurityModal</th>\n",
       "      <th>ResendToken</th>\n",
       "      <th>TransactionList</th>\n",
       "      <th>NetworkFailure</th>\n",
       "      <th>ListPicker</th>\n",
       "      <th>OtherScreens</th>\n",
       "      <th>SavingsScreens</th>\n",
       "      <th>CreditMonitoringScreens</th>\n",
       "      <th>CreditCardScreens</th>\n",
       "      <th>LoanScreens</th>\n",
       "    </tr>\n",
       "  </thead>\n",
       "  <tbody>\n",
       "    <tr>\n",
       "      <th>39408</th>\n",
       "      <td>241027</td>\n",
       "      <td>3</td>\n",
       "      <td>5</td>\n",
       "      <td>39</td>\n",
       "      <td>21</td>\n",
       "      <td>0</td>\n",
       "      <td>0</td>\n",
       "      <td>1</td>\n",
       "      <td>1</td>\n",
       "      <td>0</td>\n",
       "      <td>...</td>\n",
       "      <td>0</td>\n",
       "      <td>0</td>\n",
       "      <td>0</td>\n",
       "      <td>0</td>\n",
       "      <td>0</td>\n",
       "      <td>9</td>\n",
       "      <td>0</td>\n",
       "      <td>1</td>\n",
       "      <td>0</td>\n",
       "      <td>1</td>\n",
       "    </tr>\n",
       "    <tr>\n",
       "      <th>46774</th>\n",
       "      <td>80501</td>\n",
       "      <td>5</td>\n",
       "      <td>3</td>\n",
       "      <td>43</td>\n",
       "      <td>13</td>\n",
       "      <td>0</td>\n",
       "      <td>0</td>\n",
       "      <td>0</td>\n",
       "      <td>0</td>\n",
       "      <td>0</td>\n",
       "      <td>...</td>\n",
       "      <td>0</td>\n",
       "      <td>0</td>\n",
       "      <td>0</td>\n",
       "      <td>0</td>\n",
       "      <td>0</td>\n",
       "      <td>7</td>\n",
       "      <td>0</td>\n",
       "      <td>0</td>\n",
       "      <td>0</td>\n",
       "      <td>0</td>\n",
       "    </tr>\n",
       "    <tr>\n",
       "      <th>31028</th>\n",
       "      <td>311109</td>\n",
       "      <td>1</td>\n",
       "      <td>20</td>\n",
       "      <td>29</td>\n",
       "      <td>57</td>\n",
       "      <td>0</td>\n",
       "      <td>1</td>\n",
       "      <td>0</td>\n",
       "      <td>1</td>\n",
       "      <td>0</td>\n",
       "      <td>...</td>\n",
       "      <td>0</td>\n",
       "      <td>0</td>\n",
       "      <td>0</td>\n",
       "      <td>0</td>\n",
       "      <td>0</td>\n",
       "      <td>16</td>\n",
       "      <td>0</td>\n",
       "      <td>2</td>\n",
       "      <td>0</td>\n",
       "      <td>1</td>\n",
       "    </tr>\n",
       "    <tr>\n",
       "      <th>36570</th>\n",
       "      <td>116866</td>\n",
       "      <td>2</td>\n",
       "      <td>2</td>\n",
       "      <td>20</td>\n",
       "      <td>8</td>\n",
       "      <td>0</td>\n",
       "      <td>0</td>\n",
       "      <td>0</td>\n",
       "      <td>1</td>\n",
       "      <td>0</td>\n",
       "      <td>...</td>\n",
       "      <td>0</td>\n",
       "      <td>0</td>\n",
       "      <td>0</td>\n",
       "      <td>0</td>\n",
       "      <td>0</td>\n",
       "      <td>4</td>\n",
       "      <td>0</td>\n",
       "      <td>0</td>\n",
       "      <td>0</td>\n",
       "      <td>0</td>\n",
       "    </tr>\n",
       "    <tr>\n",
       "      <th>20436</th>\n",
       "      <td>127297</td>\n",
       "      <td>4</td>\n",
       "      <td>4</td>\n",
       "      <td>41</td>\n",
       "      <td>19</td>\n",
       "      <td>0</td>\n",
       "      <td>0</td>\n",
       "      <td>0</td>\n",
       "      <td>1</td>\n",
       "      <td>0</td>\n",
       "      <td>...</td>\n",
       "      <td>0</td>\n",
       "      <td>0</td>\n",
       "      <td>0</td>\n",
       "      <td>0</td>\n",
       "      <td>0</td>\n",
       "      <td>7</td>\n",
       "      <td>0</td>\n",
       "      <td>0</td>\n",
       "      <td>0</td>\n",
       "      <td>1</td>\n",
       "    </tr>\n",
       "  </tbody>\n",
       "</table>\n",
       "<p>5 rows × 49 columns</p>\n",
       "</div>"
      ],
      "text/plain": [
       "         user  dayofweek  hour  age  numscreens  minigame  \\\n",
       "39408  241027          3     5   39          21         0   \n",
       "46774   80501          5     3   43          13         0   \n",
       "31028  311109          1    20   29          57         0   \n",
       "36570  116866          2     2   20           8         0   \n",
       "20436  127297          4     4   41          19         0   \n",
       "\n",
       "       used_premium_feature  liked  location  Institutions  ...  \\\n",
       "39408                     0      1         1             0  ...   \n",
       "46774                     0      0         0             0  ...   \n",
       "31028                     1      0         1             0  ...   \n",
       "36570                     0      0         1             0  ...   \n",
       "20436                     0      0         1             0  ...   \n",
       "\n",
       "       SecurityModal  ResendToken  TransactionList  NetworkFailure  \\\n",
       "39408              0            0                0               0   \n",
       "46774              0            0                0               0   \n",
       "31028              0            0                0               0   \n",
       "36570              0            0                0               0   \n",
       "20436              0            0                0               0   \n",
       "\n",
       "       ListPicker  OtherScreens  SavingsScreens  CreditMonitoringScreens  \\\n",
       "39408           0             9               0                        1   \n",
       "46774           0             7               0                        0   \n",
       "31028           0            16               0                        2   \n",
       "36570           0             4               0                        0   \n",
       "20436           0             7               0                        0   \n",
       "\n",
       "       CreditCardScreens  LoanScreens  \n",
       "39408                  0            1  \n",
       "46774                  0            0  \n",
       "31028                  0            1  \n",
       "36570                  0            0  \n",
       "20436                  0            1  \n",
       "\n",
       "[5 rows x 49 columns]"
      ]
     },
     "execution_count": 36,
     "metadata": {},
     "output_type": "execute_result"
    }
   ],
   "source": [
    "from sklearn.model_selection import train_test_split\n",
    "\n",
    "# Split the data into an 80/20 train/test ratio\n",
    "X_train, X_test, y_train, y_test = train_test_split(df_users, label,\n",
    "                                                    test_size = 0.2,\n",
    "                                                    random_state = 42)\n",
    "print(X_train.shape)\n",
    "print(X_test.shape)\n",
    "\n",
    "X_train.head()"
   ]
  },
  {
   "cell_type": "markdown",
   "id": "ba0069b6",
   "metadata": {},
   "source": [
    "### Filter model data"
   ]
  },
  {
   "cell_type": "code",
   "execution_count": 37,
   "id": "b89054cb",
   "metadata": {},
   "outputs": [],
   "source": [
    "# Purge user identification, persist to associate the prediction to the user it came from \n",
    "train_identifier = X_train['user']\n",
    "X_train = X_train.drop(columns = ['user'])\n",
    "\n",
    "test_identifier = X_test['user']\n",
    "X_test = X_test.drop(columns = ['user'])"
   ]
  },
  {
   "cell_type": "markdown",
   "id": "53440537",
   "metadata": {},
   "source": [
    "Next, we selectively exclude features estimated in model building to have a high p-value "
   ]
  },
  {
   "cell_type": "code",
   "execution_count": 38,
   "id": "6a0ef9dd",
   "metadata": {},
   "outputs": [],
   "source": [
    "drop_features = ['liked', 'Splash', 'Cycle', 'RewardDetail', 'ProfileChildren ', 'ProfileEducation', 'ProfileEducationMajor', 'ProfileJobTitle', 'SecurityModal']\n",
    "\n",
    "# Drop the features estimated to have high p-values\n",
    "X_train = X_train.drop(columns = drop_features)\n",
    "X_test = X_test.drop(columns = drop_features)"
   ]
  },
  {
   "cell_type": "markdown",
   "id": "1370dabf",
   "metadata": {},
   "source": [
    "### Feature Scaling"
   ]
  },
  {
   "cell_type": "code",
   "execution_count": 39,
   "id": "c2ed63c0",
   "metadata": {},
   "outputs": [
    {
     "data": {
      "text/html": [
       "<div>\n",
       "<style scoped>\n",
       "    .dataframe tbody tr th:only-of-type {\n",
       "        vertical-align: middle;\n",
       "    }\n",
       "\n",
       "    .dataframe tbody tr th {\n",
       "        vertical-align: top;\n",
       "    }\n",
       "\n",
       "    .dataframe thead th {\n",
       "        text-align: right;\n",
       "    }\n",
       "</style>\n",
       "<table border=\"1\" class=\"dataframe\">\n",
       "  <thead>\n",
       "    <tr style=\"text-align: right;\">\n",
       "      <th></th>\n",
       "      <th>dayofweek</th>\n",
       "      <th>hour</th>\n",
       "      <th>age</th>\n",
       "      <th>numscreens</th>\n",
       "      <th>minigame</th>\n",
       "      <th>used_premium_feature</th>\n",
       "      <th>location</th>\n",
       "      <th>Institutions</th>\n",
       "      <th>VerifyPhone</th>\n",
       "      <th>BankVerification</th>\n",
       "      <th>...</th>\n",
       "      <th>WebView</th>\n",
       "      <th>ResendToken</th>\n",
       "      <th>TransactionList</th>\n",
       "      <th>NetworkFailure</th>\n",
       "      <th>ListPicker</th>\n",
       "      <th>OtherScreens</th>\n",
       "      <th>SavingsScreens</th>\n",
       "      <th>CreditMonitoringScreens</th>\n",
       "      <th>CreditCardScreens</th>\n",
       "      <th>LoanScreens</th>\n",
       "    </tr>\n",
       "  </thead>\n",
       "  <tbody>\n",
       "    <tr>\n",
       "      <th>39408</th>\n",
       "      <td>-0.015638</td>\n",
       "      <td>-1.019260</td>\n",
       "      <td>0.665530</td>\n",
       "      <td>0.034525</td>\n",
       "      <td>-0.348882</td>\n",
       "      <td>-0.456194</td>\n",
       "      <td>0.972495</td>\n",
       "      <td>-0.641867</td>\n",
       "      <td>0.961473</td>\n",
       "      <td>-0.679122</td>\n",
       "      <td>...</td>\n",
       "      <td>-0.324583</td>\n",
       "      <td>-0.114753</td>\n",
       "      <td>-0.113394</td>\n",
       "      <td>-0.090143</td>\n",
       "      <td>-0.087697</td>\n",
       "      <td>0.782567</td>\n",
       "      <td>-0.250672</td>\n",
       "      <td>0.068025</td>\n",
       "      <td>-0.284849</td>\n",
       "      <td>0.313995</td>\n",
       "    </tr>\n",
       "    <tr>\n",
       "      <th>46774</th>\n",
       "      <td>0.968279</td>\n",
       "      <td>-1.288261</td>\n",
       "      <td>1.034032</td>\n",
       "      <td>-0.529185</td>\n",
       "      <td>-0.348882</td>\n",
       "      <td>-0.456194</td>\n",
       "      <td>-1.028283</td>\n",
       "      <td>-0.641867</td>\n",
       "      <td>-1.040071</td>\n",
       "      <td>-0.679122</td>\n",
       "      <td>...</td>\n",
       "      <td>-0.324583</td>\n",
       "      <td>-0.114753</td>\n",
       "      <td>-0.113394</td>\n",
       "      <td>-0.090143</td>\n",
       "      <td>-0.087697</td>\n",
       "      <td>0.232221</td>\n",
       "      <td>-0.250672</td>\n",
       "      <td>-0.757110</td>\n",
       "      <td>-0.284849</td>\n",
       "      <td>-1.159691</td>\n",
       "    </tr>\n",
       "    <tr>\n",
       "      <th>31028</th>\n",
       "      <td>-0.999556</td>\n",
       "      <td>0.998246</td>\n",
       "      <td>-0.255724</td>\n",
       "      <td>2.571218</td>\n",
       "      <td>-0.348882</td>\n",
       "      <td>2.192051</td>\n",
       "      <td>0.972495</td>\n",
       "      <td>-0.641867</td>\n",
       "      <td>0.961473</td>\n",
       "      <td>1.472489</td>\n",
       "      <td>...</td>\n",
       "      <td>-0.324583</td>\n",
       "      <td>-0.114753</td>\n",
       "      <td>-0.113394</td>\n",
       "      <td>-0.090143</td>\n",
       "      <td>-0.087697</td>\n",
       "      <td>2.708779</td>\n",
       "      <td>-0.250672</td>\n",
       "      <td>0.893160</td>\n",
       "      <td>-0.284849</td>\n",
       "      <td>0.313995</td>\n",
       "    </tr>\n",
       "    <tr>\n",
       "      <th>36570</th>\n",
       "      <td>-0.507597</td>\n",
       "      <td>-1.422761</td>\n",
       "      <td>-1.084853</td>\n",
       "      <td>-0.881504</td>\n",
       "      <td>-0.348882</td>\n",
       "      <td>-0.456194</td>\n",
       "      <td>0.972495</td>\n",
       "      <td>-0.641867</td>\n",
       "      <td>0.961473</td>\n",
       "      <td>1.472489</td>\n",
       "      <td>...</td>\n",
       "      <td>-0.324583</td>\n",
       "      <td>-0.114753</td>\n",
       "      <td>-0.113394</td>\n",
       "      <td>-0.090143</td>\n",
       "      <td>-0.087697</td>\n",
       "      <td>-0.593298</td>\n",
       "      <td>-0.250672</td>\n",
       "      <td>-0.757110</td>\n",
       "      <td>-0.284849</td>\n",
       "      <td>-1.159691</td>\n",
       "    </tr>\n",
       "    <tr>\n",
       "      <th>20436</th>\n",
       "      <td>0.476321</td>\n",
       "      <td>-1.153761</td>\n",
       "      <td>0.849781</td>\n",
       "      <td>-0.106403</td>\n",
       "      <td>-0.348882</td>\n",
       "      <td>-0.456194</td>\n",
       "      <td>0.972495</td>\n",
       "      <td>-0.641867</td>\n",
       "      <td>-1.040071</td>\n",
       "      <td>-0.679122</td>\n",
       "      <td>...</td>\n",
       "      <td>-0.324583</td>\n",
       "      <td>-0.114753</td>\n",
       "      <td>-0.113394</td>\n",
       "      <td>-0.090143</td>\n",
       "      <td>-0.087697</td>\n",
       "      <td>0.232221</td>\n",
       "      <td>-0.250672</td>\n",
       "      <td>-0.757110</td>\n",
       "      <td>-0.284849</td>\n",
       "      <td>0.313995</td>\n",
       "    </tr>\n",
       "  </tbody>\n",
       "</table>\n",
       "<p>5 rows × 39 columns</p>\n",
       "</div>"
      ],
      "text/plain": [
       "       dayofweek      hour       age  numscreens  minigame  \\\n",
       "39408  -0.015638 -1.019260  0.665530    0.034525 -0.348882   \n",
       "46774   0.968279 -1.288261  1.034032   -0.529185 -0.348882   \n",
       "31028  -0.999556  0.998246 -0.255724    2.571218 -0.348882   \n",
       "36570  -0.507597 -1.422761 -1.084853   -0.881504 -0.348882   \n",
       "20436   0.476321 -1.153761  0.849781   -0.106403 -0.348882   \n",
       "\n",
       "       used_premium_feature  location  Institutions  VerifyPhone  \\\n",
       "39408             -0.456194  0.972495     -0.641867     0.961473   \n",
       "46774             -0.456194 -1.028283     -0.641867    -1.040071   \n",
       "31028              2.192051  0.972495     -0.641867     0.961473   \n",
       "36570             -0.456194  0.972495     -0.641867     0.961473   \n",
       "20436             -0.456194  0.972495     -0.641867    -1.040071   \n",
       "\n",
       "       BankVerification  ...   WebView  ResendToken  TransactionList  \\\n",
       "39408         -0.679122  ... -0.324583    -0.114753        -0.113394   \n",
       "46774         -0.679122  ... -0.324583    -0.114753        -0.113394   \n",
       "31028          1.472489  ... -0.324583    -0.114753        -0.113394   \n",
       "36570          1.472489  ... -0.324583    -0.114753        -0.113394   \n",
       "20436         -0.679122  ... -0.324583    -0.114753        -0.113394   \n",
       "\n",
       "       NetworkFailure  ListPicker  OtherScreens  SavingsScreens  \\\n",
       "39408       -0.090143   -0.087697      0.782567       -0.250672   \n",
       "46774       -0.090143   -0.087697      0.232221       -0.250672   \n",
       "31028       -0.090143   -0.087697      2.708779       -0.250672   \n",
       "36570       -0.090143   -0.087697     -0.593298       -0.250672   \n",
       "20436       -0.090143   -0.087697      0.232221       -0.250672   \n",
       "\n",
       "       CreditMonitoringScreens  CreditCardScreens  LoanScreens  \n",
       "39408                 0.068025          -0.284849     0.313995  \n",
       "46774                -0.757110          -0.284849    -1.159691  \n",
       "31028                 0.893160          -0.284849     0.313995  \n",
       "36570                -0.757110          -0.284849    -1.159691  \n",
       "20436                -0.757110          -0.284849     0.313995  \n",
       "\n",
       "[5 rows x 39 columns]"
      ]
     },
     "execution_count": 39,
     "metadata": {},
     "output_type": "execute_result"
    }
   ],
   "source": [
    "from sklearn.preprocessing import StandardScaler\n",
    "\n",
    "# To standardize features\n",
    "standard_scaler_X = StandardScaler()\n",
    "\n",
    "# Scale the training & test datasets, persist results to a new dataframe\n",
    "X_train2 = pd.DataFrame(standard_scaler_X.fit_transform(X_train))\n",
    "X_test2 = pd.DataFrame(standard_scaler_X.transform(X_test))\n",
    "\n",
    "# Retrieve columns for the standardized training & test sets \n",
    "X_train2.columns = X_train.columns.values\n",
    "X_test2.columns = X_test.columns.values\n",
    "\n",
    "# Recuperate indexes \n",
    "X_train2.index = X_train.index.values\n",
    "X_test2.index = X_test.index.values\n",
    "\n",
    "# Convert original training set into the new training set\n",
    "X_train = X_train2\n",
    "X_test = X_test2\n",
    "\n",
    "X_train.head()"
   ]
  },
  {
   "cell_type": "markdown",
   "id": "98ef597e",
   "metadata": {},
   "source": [
    "# Model Building\n",
    "\n",
    "## Training"
   ]
  },
  {
   "cell_type": "code",
   "execution_count": 40,
   "id": "8af823b5",
   "metadata": {},
   "outputs": [],
   "source": [
    "# Split the training set into a 80/20 training/validation set\n",
    "X_train, X_validation, y_train, y_validation = train_test_split(X_train, y_train,\n",
    "                                                    test_size = 0.2,\n",
    "                                                    random_state = 42)"
   ]
  },
  {
   "cell_type": "code",
   "execution_count": 41,
   "id": "23aa6cad",
   "metadata": {},
   "outputs": [
    {
     "data": {
      "text/html": [
       "<style>#sk-container-id-3 {color: black;}#sk-container-id-3 pre{padding: 0;}#sk-container-id-3 div.sk-toggleable {background-color: white;}#sk-container-id-3 label.sk-toggleable__label {cursor: pointer;display: block;width: 100%;margin-bottom: 0;padding: 0.3em;box-sizing: border-box;text-align: center;}#sk-container-id-3 label.sk-toggleable__label-arrow:before {content: \"▸\";float: left;margin-right: 0.25em;color: #696969;}#sk-container-id-3 label.sk-toggleable__label-arrow:hover:before {color: black;}#sk-container-id-3 div.sk-estimator:hover label.sk-toggleable__label-arrow:before {color: black;}#sk-container-id-3 div.sk-toggleable__content {max-height: 0;max-width: 0;overflow: hidden;text-align: left;background-color: #f0f8ff;}#sk-container-id-3 div.sk-toggleable__content pre {margin: 0.2em;color: black;border-radius: 0.25em;background-color: #f0f8ff;}#sk-container-id-3 input.sk-toggleable__control:checked~div.sk-toggleable__content {max-height: 200px;max-width: 100%;overflow: auto;}#sk-container-id-3 input.sk-toggleable__control:checked~label.sk-toggleable__label-arrow:before {content: \"▾\";}#sk-container-id-3 div.sk-estimator input.sk-toggleable__control:checked~label.sk-toggleable__label {background-color: #d4ebff;}#sk-container-id-3 div.sk-label input.sk-toggleable__control:checked~label.sk-toggleable__label {background-color: #d4ebff;}#sk-container-id-3 input.sk-hidden--visually {border: 0;clip: rect(1px 1px 1px 1px);clip: rect(1px, 1px, 1px, 1px);height: 1px;margin: -1px;overflow: hidden;padding: 0;position: absolute;width: 1px;}#sk-container-id-3 div.sk-estimator {font-family: monospace;background-color: #f0f8ff;border: 1px dotted black;border-radius: 0.25em;box-sizing: border-box;margin-bottom: 0.5em;}#sk-container-id-3 div.sk-estimator:hover {background-color: #d4ebff;}#sk-container-id-3 div.sk-parallel-item::after {content: \"\";width: 100%;border-bottom: 1px solid gray;flex-grow: 1;}#sk-container-id-3 div.sk-label:hover label.sk-toggleable__label {background-color: #d4ebff;}#sk-container-id-3 div.sk-serial::before {content: \"\";position: absolute;border-left: 1px solid gray;box-sizing: border-box;top: 0;bottom: 0;left: 50%;z-index: 0;}#sk-container-id-3 div.sk-serial {display: flex;flex-direction: column;align-items: center;background-color: white;padding-right: 0.2em;padding-left: 0.2em;position: relative;}#sk-container-id-3 div.sk-item {position: relative;z-index: 1;}#sk-container-id-3 div.sk-parallel {display: flex;align-items: stretch;justify-content: center;background-color: white;position: relative;}#sk-container-id-3 div.sk-item::before, #sk-container-id-3 div.sk-parallel-item::before {content: \"\";position: absolute;border-left: 1px solid gray;box-sizing: border-box;top: 0;bottom: 0;left: 50%;z-index: -1;}#sk-container-id-3 div.sk-parallel-item {display: flex;flex-direction: column;z-index: 1;position: relative;background-color: white;}#sk-container-id-3 div.sk-parallel-item:first-child::after {align-self: flex-end;width: 50%;}#sk-container-id-3 div.sk-parallel-item:last-child::after {align-self: flex-start;width: 50%;}#sk-container-id-3 div.sk-parallel-item:only-child::after {width: 0;}#sk-container-id-3 div.sk-dashed-wrapped {border: 1px dashed gray;margin: 0 0.4em 0.5em 0.4em;box-sizing: border-box;padding-bottom: 0.4em;background-color: white;}#sk-container-id-3 div.sk-label label {font-family: monospace;font-weight: bold;display: inline-block;line-height: 1.2em;}#sk-container-id-3 div.sk-label-container {text-align: center;}#sk-container-id-3 div.sk-container {/* jupyter's `normalize.less` sets `[hidden] { display: none; }` but bootstrap.min.css set `[hidden] { display: none !important; }` so we also need the `!important` here to be able to override the default hidden behavior on the sphinx rendered scikit-learn.org. See: https://github.com/scikit-learn/scikit-learn/issues/21755 */display: inline-block !important;position: relative;}#sk-container-id-3 div.sk-text-repr-fallback {display: none;}</style><div id=\"sk-container-id-3\" class=\"sk-top-container\"><div class=\"sk-text-repr-fallback\"><pre>LogisticRegression(C=0.1, penalty=&#x27;l1&#x27;, random_state=42, solver=&#x27;saga&#x27;)</pre><b>In a Jupyter environment, please rerun this cell to show the HTML representation or trust the notebook. <br />On GitHub, the HTML representation is unable to render, please try loading this page with nbviewer.org.</b></div><div class=\"sk-container\" hidden><div class=\"sk-item\"><div class=\"sk-estimator sk-toggleable\"><input class=\"sk-toggleable__control sk-hidden--visually\" id=\"sk-estimator-id-3\" type=\"checkbox\" checked><label for=\"sk-estimator-id-3\" class=\"sk-toggleable__label sk-toggleable__label-arrow\">LogisticRegression</label><div class=\"sk-toggleable__content\"><pre>LogisticRegression(C=0.1, penalty=&#x27;l1&#x27;, random_state=42, solver=&#x27;saga&#x27;)</pre></div></div></div></div></div>"
      ],
      "text/plain": [
       "LogisticRegression(C=0.1, penalty='l1', random_state=42, solver='saga')"
      ]
     },
     "execution_count": 41,
     "metadata": {},
     "output_type": "execute_result"
    }
   ],
   "source": [
    "from sklearn.linear_model import LogisticRegression\n",
    "\n",
    "# Add 'l1' penalty (lasso regularization) for screen correlation\n",
    "model = LogisticRegression(C=0.1, penalty='l1', solver='saga', random_state=42)\n",
    "\n",
    "# Train model on the training set\n",
    "model.fit(X_train, y_train)"
   ]
  },
  {
   "cell_type": "markdown",
   "id": "9ef389a4",
   "metadata": {},
   "source": [
    "## Evaluation\n",
    "\n",
    "### Confusion Matrix and Scores"
   ]
  },
  {
   "cell_type": "code",
   "execution_count": 42,
   "id": "90dae096",
   "metadata": {},
   "outputs": [
    {
     "name": "stdout",
     "output_type": "stream",
     "text": [
      "Accuracy Score:  0.76628\n",
      "Precision Score: 0.76321\n",
      "Recall Score:    0.75968\n",
      "F1 Score:        0.76144\n"
     ]
    },
    {
     "data": {
      "image/png": "[encoded data removed]",
      "text/plain": [
       "<Figure size 900x600 with 2 Axes>"
      ]
     },
     "metadata": {},
     "output_type": "display_data"
    }
   ],
   "source": [
    "from sklearn.metrics import confusion_matrix, accuracy_score, f1_score, precision_score, recall_score\n",
    "\n",
    "# Make predictions from the validation set\n",
    "y_predict = model.predict(X_validation)\n",
    "\n",
    "# Create a confusion matrix with the validation labels and our model's predictions\n",
    "conf_matrix = confusion_matrix(y_validation, y_predict)\n",
    "\n",
    "# Plot confusion matrix\n",
    "df_conf_matrix = pd.DataFrame(conf_matrix, index = (0, 1), columns = (0, 1))\n",
    "plt.figure(figsize = (9,6))\n",
    "plt.suptitle(\"Confusion Matrix\", fontsize=20)\n",
    "sn.set(font_scale=1.4)\n",
    "sn.heatmap(df_conf_matrix, annot=True, fmt='g')\n",
    "\n",
    "# Display scores\n",
    "print(f\"Accuracy Score:  {accuracy_score(y_validation, y_predict):.5f}\")  # NumCorrectPredicts / TotalNumPredicts\n",
    "print(f\"Precision Score: {precision_score(y_validation, y_predict):.5f}\") # TP / (TP + FP)\n",
    "print(f\"Recall Score:    {recall_score(y_validation, y_predict):.5f}\")    # TP / (TP + FN)\n",
    "print(f\"F1 Score:        {f1_score(y_validation, y_predict):.5f}\")        # 2 * (precision * recall) / (precision + recall)"
   ]
  },
  {
   "cell_type": "markdown",
   "id": "8b522084-a391-4a53-a6c4-78db1f03725c",
   "metadata": {},
   "source": [
    "### Combine Train and Validation Data for Cross-Validation"
   ]
  },
  {
   "cell_type": "code",
   "execution_count": 43,
   "id": "f839e39c-2447-4b93-b248-5781a41909b8",
   "metadata": {},
   "outputs": [],
   "source": [
    "# Concatenate the training and validation feature datasets vertically\n",
    "X_train = pd.concat([X_train, X_validation], axis=0).reset_index(drop=True)\n",
    "\n",
    "# Concatenate the training and validation label datasets vertically\n",
    "y_train = pd.concat([y_train, y_validation], axis=0).reset_index(drop=True)"
   ]
  },
  {
   "cell_type": "markdown",
   "id": "c47ce60c",
   "metadata": {},
   "source": [
    "### K-Fold Cross Validation\n",
    "\n",
    "Estimate how well the model is likely to generalize to unseen data"
   ]
  },
  {
   "cell_type": "code",
   "execution_count": 44,
   "id": "f8276b9d",
   "metadata": {},
   "outputs": [
    {
     "name": "stdout",
     "output_type": "stream",
     "text": [
      "Cross Validated Scores Mean: 0.76776 Std: (+/- 0.00818)\n"
     ]
    }
   ],
   "source": [
    "from sklearn.model_selection import cross_val_score\n",
    "\n",
    "# Perform k-fold cross-validation, here with 10 folds\n",
    "accuracies = cross_val_score(estimator = model, X = X_train, y = y_train, cv = 10)\n",
    "\n",
    "print(\"Cross Validated Scores Mean: %0.5f Std: (+/- %0.5f)\" % (accuracies.mean(), accuracies.std() * 2))"
   ]
  },
  {
   "cell_type": "markdown",
   "id": "f01775ce",
   "metadata": {},
   "source": [
    "## Model Tuning"
   ]
  },
  {
   "cell_type": "markdown",
   "id": "29f8a8f8",
   "metadata": {},
   "source": [
    "### Grid Search: Round One"
   ]
  },
  {
   "cell_type": "code",
   "execution_count": 45,
   "id": "77b22011",
   "metadata": {},
   "outputs": [
    {
     "name": "stdout",
     "output_type": "stream",
     "text": [
      "Round One Time: 8.87 seconds\n",
      "Round One Best Accuracy: 0.767764\n",
      "Round One Best Hyperparameters: {'C': 0.1, 'penalty': 'l1', 'solver': 'saga'}\n"
     ]
    }
   ],
   "source": [
    "from sklearn.model_selection import GridSearchCV\n",
    "\n",
    "# Define the hyperparameter grid\n",
    "parameter_grid = {\n",
    "    # Select regularization methods\n",
    "    'penalty': ['l1', 'l2'],\n",
    "    # Create regularization hyperparameter space\n",
    "    'C': [0.001, 0.01, 0.1, 1, 10, 100],\n",
    "    # Specify the solvers to be tuned\n",
    "    'solver': ['saga'], \n",
    "}\n",
    "\n",
    "grid_search = GridSearchCV(estimator = model,\n",
    "                           param_grid = parameter_grid,\n",
    "                           scoring = 'accuracy',\n",
    "                           cv = 10,\n",
    "                           n_jobs = -1)\n",
    "start_time = time.time()\n",
    "grid_search = grid_search.fit(X_train, y_train)\n",
    "end_time = time.time()\n",
    "\n",
    "rf_best_accuracy1 = grid_search.best_score_\n",
    "rf_best_parameters1 = grid_search.best_params_\n",
    "\n",
    "print(\"Round One Time: %0.2f seconds\" % (end_time - start_time))\n",
    "print(f\"Round One Best Accuracy: {rf_best_accuracy1:.6f}\")\n",
    "print(\"Round One Best Hyperparameters:\", rf_best_parameters1)"
   ]
  },
  {
   "cell_type": "markdown",
   "id": "783143ef",
   "metadata": {},
   "source": [
    "### Grid Search: Round Two"
   ]
  },
  {
   "cell_type": "code",
   "execution_count": 46,
   "id": "4239622f",
   "metadata": {},
   "outputs": [
    {
     "name": "stdout",
     "output_type": "stream",
     "text": [
      "Round Two Time: 5.71 seconds\n",
      "Round Two Best Accuracy: 0.767764\n",
      "Round Two Best Hyperparameters: {'C': 0.1, 'penalty': 'l1', 'solver': 'saga'}\n"
     ]
    }
   ],
   "source": [
    "# Define the hyperparameter grid\n",
    "parameter_grid = {\n",
    "    # Select regularization methods\n",
    "    'penalty': ['l1'],\n",
    "    # Create regularization hyperparameter space\n",
    "    'C': [0.05, 0.075, 0.1, 0.125, 0.15, 0.175, 0.2],\n",
    "    # Specify the solvers to be tuned\n",
    "    'solver': ['saga'] \n",
    "}\n",
    "\n",
    "grid_search = GridSearchCV(estimator = model,\n",
    "                           param_grid = parameter_grid,\n",
    "                           scoring = 'accuracy',\n",
    "                           cv = 10,\n",
    "                           n_jobs = -1)\n",
    "start_time = time.time()\n",
    "grid_search = grid_search.fit(X_train, y_train)\n",
    "end_time = time.time()\n",
    "\n",
    "rf_best_accuracy2 = grid_search.best_score_\n",
    "rf_best_parameters2 = grid_search.best_params_\n",
    "\n",
    "print(\"Round Two Time: %0.2f seconds\" % (end_time - start_time))\n",
    "print(f\"Round Two Best Accuracy: {rf_best_accuracy2:.6f}\")\n",
    "print(\"Round Two Best Hyperparameters:\", rf_best_parameters2)"
   ]
  },
  {
   "cell_type": "markdown",
   "id": "5330619e",
   "metadata": {},
   "source": [
    "### Analyze Coefficients"
   ]
  },
  {
   "cell_type": "code",
   "execution_count": 47,
   "id": "16436c56",
   "metadata": {},
   "outputs": [
    {
     "data": {
      "text/html": [
       "<div>\n",
       "<style scoped>\n",
       "    .dataframe tbody tr th:only-of-type {\n",
       "        vertical-align: middle;\n",
       "    }\n",
       "\n",
       "    .dataframe tbody tr th {\n",
       "        vertical-align: top;\n",
       "    }\n",
       "\n",
       "    .dataframe thead th {\n",
       "        text-align: right;\n",
       "    }\n",
       "</style>\n",
       "<table border=\"1\" class=\"dataframe\">\n",
       "  <thead>\n",
       "    <tr style=\"text-align: right;\">\n",
       "      <th></th>\n",
       "      <th>features</th>\n",
       "      <th>coef</th>\n",
       "    </tr>\n",
       "  </thead>\n",
       "  <tbody>\n",
       "    <tr>\n",
       "      <th>0</th>\n",
       "      <td>dayofweek</td>\n",
       "      <td>0.018721</td>\n",
       "    </tr>\n",
       "    <tr>\n",
       "      <th>1</th>\n",
       "      <td>hour</td>\n",
       "      <td>-0.016625</td>\n",
       "    </tr>\n",
       "    <tr>\n",
       "      <th>2</th>\n",
       "      <td>age</td>\n",
       "      <td>-0.139408</td>\n",
       "    </tr>\n",
       "    <tr>\n",
       "      <th>3</th>\n",
       "      <td>numscreens</td>\n",
       "      <td>-0.116221</td>\n",
       "    </tr>\n",
       "    <tr>\n",
       "      <th>4</th>\n",
       "      <td>minigame</td>\n",
       "      <td>-0.020984</td>\n",
       "    </tr>\n",
       "  </tbody>\n",
       "</table>\n",
       "</div>"
      ],
      "text/plain": [
       "     features      coef\n",
       "0   dayofweek  0.018721\n",
       "1        hour -0.016625\n",
       "2         age -0.139408\n",
       "3  numscreens -0.116221\n",
       "4    minigame -0.020984"
      ]
     },
     "execution_count": 47,
     "metadata": {},
     "output_type": "execute_result"
    }
   ],
   "source": [
    "# Analyze model coefficients\n",
    "df_coefficients = pd.concat([pd.DataFrame(X_train.columns, columns = ['features']),\n",
    "           pd.DataFrame(np.transpose(model.coef_), columns = ['coef'])\n",
    "           ],axis = 1)\n",
    "\n",
    "# Display (adjust as needed)\n",
    "df_coefficients.head()"
   ]
  },
  {
   "cell_type": "markdown",
   "id": "888553fb",
   "metadata": {},
   "source": [
    "Calculate **p-values** from our sklearn model: Perform permutation testing to approximate\n",
    "(This may take some time)"
   ]
  },
  {
   "cell_type": "code",
   "execution_count": 48,
   "id": "aaf229a5",
   "metadata": {},
   "outputs": [],
   "source": [
    "from sklearn.utils import resample\n",
    "\n",
    "# Number of permutations (adjust as needed)\n",
    "n_permutations = 1000\n",
    "# Flatten the coefficient array\n",
    "coefs = model.coef_.ravel()  \n",
    "# Create an array to store permuted coefficients\n",
    "permuted_coefs = np.zeros((n_permutations, len(coefs)))\n",
    "\n",
    "# Perform permutation testing\n",
    "for i in range(n_permutations):\n",
    "    # Resample the feature matrix while keeping the target variable unchanged\n",
    "    X_permuted = resample(X_train)\n",
    "    # Fit the logistic regression model on the permuted data\n",
    "    model.fit(X_permuted, y_train)\n",
    "    # Record the permuted coefficients in the permuted_coefs array\n",
    "    permuted_coefs[i] = model.coef_.ravel()\n",
    "\n",
    "# Calculate the p-values\n",
    "p_values = np.mean(np.abs(permuted_coefs) >= np.abs(coefs), axis=0)\n",
    "\n",
    "# Add the p-values to the coefficient DataFrame\n",
    "df_coefficients['p-value'] = p_values"
   ]
  },
  {
   "cell_type": "code",
   "execution_count": 54,
   "id": "66555a83",
   "metadata": {},
   "outputs": [
    {
     "data": {
      "text/html": [
       "<div>\n",
       "<style scoped>\n",
       "    .dataframe tbody tr th:only-of-type {\n",
       "        vertical-align: middle;\n",
       "    }\n",
       "\n",
       "    .dataframe tbody tr th {\n",
       "        vertical-align: top;\n",
       "    }\n",
       "\n",
       "    .dataframe thead th {\n",
       "        text-align: right;\n",
       "    }\n",
       "</style>\n",
       "<table border=\"1\" class=\"dataframe\">\n",
       "  <thead>\n",
       "    <tr style=\"text-align: right;\">\n",
       "      <th></th>\n",
       "      <th>features</th>\n",
       "      <th>coef</th>\n",
       "      <th>p-value</th>\n",
       "    </tr>\n",
       "  </thead>\n",
       "  <tbody>\n",
       "    <tr>\n",
       "      <th>0</th>\n",
       "      <td>dayofweek</td>\n",
       "      <td>0.018721</td>\n",
       "      <td>0.050</td>\n",
       "    </tr>\n",
       "    <tr>\n",
       "      <th>1</th>\n",
       "      <td>hour</td>\n",
       "      <td>-0.016625</td>\n",
       "      <td>0.087</td>\n",
       "    </tr>\n",
       "    <tr>\n",
       "      <th>2</th>\n",
       "      <td>age</td>\n",
       "      <td>-0.139408</td>\n",
       "      <td>0.000</td>\n",
       "    </tr>\n",
       "    <tr>\n",
       "      <th>3</th>\n",
       "      <td>numscreens</td>\n",
       "      <td>-0.116221</td>\n",
       "      <td>0.000</td>\n",
       "    </tr>\n",
       "    <tr>\n",
       "      <th>4</th>\n",
       "      <td>minigame</td>\n",
       "      <td>-0.020984</td>\n",
       "      <td>0.029</td>\n",
       "    </tr>\n",
       "  </tbody>\n",
       "</table>\n",
       "</div>"
      ],
      "text/plain": [
       "     features      coef  p-value\n",
       "0   dayofweek  0.018721    0.050\n",
       "1        hour -0.016625    0.087\n",
       "2         age -0.139408    0.000\n",
       "3  numscreens -0.116221    0.000\n",
       "4    minigame -0.020984    0.029"
      ]
     },
     "execution_count": 54,
     "metadata": {},
     "output_type": "execute_result"
    }
   ],
   "source": [
    "# Display p-values (adjust as needed)\n",
    "df_coefficients.head()"
   ]
  },
  {
   "cell_type": "markdown",
   "id": "0c2df0e8",
   "metadata": {},
   "source": [
    "## Final Model Training"
   ]
  },
  {
   "cell_type": "code",
   "execution_count": 51,
   "id": "618bef0b",
   "metadata": {},
   "outputs": [
    {
     "data": {
      "text/html": [
       "<style>#sk-container-id-5 {color: black;}#sk-container-id-5 pre{padding: 0;}#sk-container-id-5 div.sk-toggleable {background-color: white;}#sk-container-id-5 label.sk-toggleable__label {cursor: pointer;display: block;width: 100%;margin-bottom: 0;padding: 0.3em;box-sizing: border-box;text-align: center;}#sk-container-id-5 label.sk-toggleable__label-arrow:before {content: \"▸\";float: left;margin-right: 0.25em;color: #696969;}#sk-container-id-5 label.sk-toggleable__label-arrow:hover:before {color: black;}#sk-container-id-5 div.sk-estimator:hover label.sk-toggleable__label-arrow:before {color: black;}#sk-container-id-5 div.sk-toggleable__content {max-height: 0;max-width: 0;overflow: hidden;text-align: left;background-color: #f0f8ff;}#sk-container-id-5 div.sk-toggleable__content pre {margin: 0.2em;color: black;border-radius: 0.25em;background-color: #f0f8ff;}#sk-container-id-5 input.sk-toggleable__control:checked~div.sk-toggleable__content {max-height: 200px;max-width: 100%;overflow: auto;}#sk-container-id-5 input.sk-toggleable__control:checked~label.sk-toggleable__label-arrow:before {content: \"▾\";}#sk-container-id-5 div.sk-estimator input.sk-toggleable__control:checked~label.sk-toggleable__label {background-color: #d4ebff;}#sk-container-id-5 div.sk-label input.sk-toggleable__control:checked~label.sk-toggleable__label {background-color: #d4ebff;}#sk-container-id-5 input.sk-hidden--visually {border: 0;clip: rect(1px 1px 1px 1px);clip: rect(1px, 1px, 1px, 1px);height: 1px;margin: -1px;overflow: hidden;padding: 0;position: absolute;width: 1px;}#sk-container-id-5 div.sk-estimator {font-family: monospace;background-color: #f0f8ff;border: 1px dotted black;border-radius: 0.25em;box-sizing: border-box;margin-bottom: 0.5em;}#sk-container-id-5 div.sk-estimator:hover {background-color: #d4ebff;}#sk-container-id-5 div.sk-parallel-item::after {content: \"\";width: 100%;border-bottom: 1px solid gray;flex-grow: 1;}#sk-container-id-5 div.sk-label:hover label.sk-toggleable__label {background-color: #d4ebff;}#sk-container-id-5 div.sk-serial::before {content: \"\";position: absolute;border-left: 1px solid gray;box-sizing: border-box;top: 0;bottom: 0;left: 50%;z-index: 0;}#sk-container-id-5 div.sk-serial {display: flex;flex-direction: column;align-items: center;background-color: white;padding-right: 0.2em;padding-left: 0.2em;position: relative;}#sk-container-id-5 div.sk-item {position: relative;z-index: 1;}#sk-container-id-5 div.sk-parallel {display: flex;align-items: stretch;justify-content: center;background-color: white;position: relative;}#sk-container-id-5 div.sk-item::before, #sk-container-id-5 div.sk-parallel-item::before {content: \"\";position: absolute;border-left: 1px solid gray;box-sizing: border-box;top: 0;bottom: 0;left: 50%;z-index: -1;}#sk-container-id-5 div.sk-parallel-item {display: flex;flex-direction: column;z-index: 1;position: relative;background-color: white;}#sk-container-id-5 div.sk-parallel-item:first-child::after {align-self: flex-end;width: 50%;}#sk-container-id-5 div.sk-parallel-item:last-child::after {align-self: flex-start;width: 50%;}#sk-container-id-5 div.sk-parallel-item:only-child::after {width: 0;}#sk-container-id-5 div.sk-dashed-wrapped {border: 1px dashed gray;margin: 0 0.4em 0.5em 0.4em;box-sizing: border-box;padding-bottom: 0.4em;background-color: white;}#sk-container-id-5 div.sk-label label {font-family: monospace;font-weight: bold;display: inline-block;line-height: 1.2em;}#sk-container-id-5 div.sk-label-container {text-align: center;}#sk-container-id-5 div.sk-container {/* jupyter's `normalize.less` sets `[hidden] { display: none; }` but bootstrap.min.css set `[hidden] { display: none !important; }` so we also need the `!important` here to be able to override the default hidden behavior on the sphinx rendered scikit-learn.org. See: https://github.com/scikit-learn/scikit-learn/issues/21755 */display: inline-block !important;position: relative;}#sk-container-id-5 div.sk-text-repr-fallback {display: none;}</style><div id=\"sk-container-id-5\" class=\"sk-top-container\"><div class=\"sk-text-repr-fallback\"><pre>LogisticRegression(C=0.1, penalty=&#x27;l1&#x27;, random_state=42, solver=&#x27;saga&#x27;)</pre><b>In a Jupyter environment, please rerun this cell to show the HTML representation or trust the notebook. <br />On GitHub, the HTML representation is unable to render, please try loading this page with nbviewer.org.</b></div><div class=\"sk-container\" hidden><div class=\"sk-item\"><div class=\"sk-estimator sk-toggleable\"><input class=\"sk-toggleable__control sk-hidden--visually\" id=\"sk-estimator-id-5\" type=\"checkbox\" checked><label for=\"sk-estimator-id-5\" class=\"sk-toggleable__label sk-toggleable__label-arrow\">LogisticRegression</label><div class=\"sk-toggleable__content\"><pre>LogisticRegression(C=0.1, penalty=&#x27;l1&#x27;, random_state=42, solver=&#x27;saga&#x27;)</pre></div></div></div></div></div>"
      ],
      "text/plain": [
       "LogisticRegression(C=0.1, penalty='l1', random_state=42, solver='saga')"
      ]
     },
     "execution_count": 51,
     "metadata": {},
     "output_type": "execute_result"
    }
   ],
   "source": [
    "model.fit(X_train, y_train)"
   ]
  },
  {
   "cell_type": "markdown",
   "id": "e23d693c",
   "metadata": {},
   "source": [
    "## Final Model Evaluation"
   ]
  },
  {
   "cell_type": "code",
   "execution_count": 52,
   "id": "011f4fc1",
   "metadata": {},
   "outputs": [
    {
     "name": "stdout",
     "output_type": "stream",
     "text": [
      "Accuracy Score:  0.77312\n",
      "Precision Score: 0.77169\n",
      "Recall Score:    0.77911\n",
      "F1 Score:        0.77538\n"
     ]
    },
    {
     "data": {
      "image/png": "[encoded data removed]",
      "text/plain": [
       "<Figure size 900x600 with 2 Axes>"
      ]
     },
     "metadata": {},
     "output_type": "display_data"
    }
   ],
   "source": [
    "# Make predictions from the test set\n",
    "y_predict = model.predict(X_test)\n",
    "\n",
    "# Create a confusion matrix with test labels and our model's predictions\n",
    "conf_matrix = confusion_matrix(y_test, y_predict)\n",
    "\n",
    "# Plot confusion matrix\n",
    "df_conf_matrix = pd.DataFrame(conf_matrix, index = (0, 1), columns = (0, 1))\n",
    "plt.figure(figsize = (9,6))\n",
    "plt.suptitle(\"Confusion Matrix\", fontsize=20)\n",
    "sn.set(font_scale=1.4)\n",
    "sn.heatmap(df_conf_matrix, annot=True, fmt='g')\n",
    "\n",
    "# Display scores\n",
    "print(f\"Accuracy Score:  {accuracy_score(y_test, y_predict):.5f}\")  # NumCorrectPredicts / TotalNumPredicts\n",
    "print(f\"Precision Score: {precision_score(y_test, y_predict):.5f}\") # TP / (TP + FP)\n",
    "print(f\"Recall Score:    {recall_score(y_test, y_predict):.5f}\")    # TP / (TP + FN)\n",
    "print(f\"F1 Score:        {f1_score(y_test, y_predict):.5f}\")        # 2 * (precision * recall) / (precision + recall)"
   ]
  },
  {
   "cell_type": "markdown",
   "id": "2b5ae382-1e52-4dbb-bb14-646f28ebf79f",
   "metadata": {},
   "source": [
    "### K-Fold Cross Validation"
   ]
  },
  {
   "cell_type": "code",
   "execution_count": 53,
   "id": "7547a89a",
   "metadata": {},
   "outputs": [
    {
     "name": "stdout",
     "output_type": "stream",
     "text": [
      "Cross Validated Scores Mean: 0.76776 Std: (+/- 0.00818)\n"
     ]
    }
   ],
   "source": [
    "# Perform k-fold cross-validation, here with 10 folds\n",
    "accuracies = cross_val_score(estimator = model, X = X_train, y = y_train, cv = 10)\n",
    "\n",
    "print(\"Cross Validated Scores Mean: %0.5f Std: (+/- %0.5f)\" % (accuracies.mean(), accuracies.std() * 2))"
   ]
  },
  {
   "cell_type": "markdown",
   "id": "5fd6e320",
   "metadata": {},
   "source": [
    "## Save Model"
   ]
  },
  {
   "cell_type": "code",
   "execution_count": 55,
   "id": "f755589c",
   "metadata": {},
   "outputs": [],
   "source": [
    "import pickle\n",
    "\n",
    "# Create a directory to save the model if it doesn't exist\n",
    "directory = \"../models\"\n",
    "if not os.path.exists(directory):\n",
    "    os.makedirs(directory)\n",
    "\n",
    "# Save the model to the specified directory\n",
    "filename = os.path.join(directory, 'sklearn_model.pkl')\n",
    "with open(filename, 'wb') as file:\n",
    "    pickle.dump(model, file)"
   ]
  },
  {
   "cell_type": "markdown",
   "id": "95ee3cfa",
   "metadata": {},
   "source": [
    "## Format Results"
   ]
  },
  {
   "cell_type": "markdown",
   "id": "cd8753a2",
   "metadata": {},
   "source": [
    "Here we format the final results from our model's predictions to the user this data came from. Though in the future we will not have 'enrolled' data for the deployed model's predictions, a similar process can be utilized. This enables the sales team to identify users the model has estimated unlikely to subscribe to paid subscriptions. "
   ]
  },
  {
   "cell_type": "code",
   "execution_count": 56,
   "id": "08c5e0e3",
   "metadata": {},
   "outputs": [
    {
     "data": {
      "text/html": [
       "<div>\n",
       "<style scoped>\n",
       "    .dataframe tbody tr th:only-of-type {\n",
       "        vertical-align: middle;\n",
       "    }\n",
       "\n",
       "    .dataframe tbody tr th {\n",
       "        vertical-align: top;\n",
       "    }\n",
       "\n",
       "    .dataframe thead th {\n",
       "        text-align: right;\n",
       "    }\n",
       "</style>\n",
       "<table border=\"1\" class=\"dataframe\">\n",
       "  <thead>\n",
       "    <tr style=\"text-align: right;\">\n",
       "      <th></th>\n",
       "      <th>user</th>\n",
       "      <th>enrolled</th>\n",
       "      <th>predicted_results</th>\n",
       "    </tr>\n",
       "  </thead>\n",
       "  <tbody>\n",
       "    <tr>\n",
       "      <th>0</th>\n",
       "      <td>282372</td>\n",
       "      <td>1</td>\n",
       "      <td>1</td>\n",
       "    </tr>\n",
       "    <tr>\n",
       "      <th>1</th>\n",
       "      <td>355818</td>\n",
       "      <td>1</td>\n",
       "      <td>0</td>\n",
       "    </tr>\n",
       "    <tr>\n",
       "      <th>2</th>\n",
       "      <td>338666</td>\n",
       "      <td>1</td>\n",
       "      <td>1</td>\n",
       "    </tr>\n",
       "    <tr>\n",
       "      <th>3</th>\n",
       "      <td>269942</td>\n",
       "      <td>1</td>\n",
       "      <td>1</td>\n",
       "    </tr>\n",
       "    <tr>\n",
       "      <th>4</th>\n",
       "      <td>18305</td>\n",
       "      <td>0</td>\n",
       "      <td>0</td>\n",
       "    </tr>\n",
       "    <tr>\n",
       "      <th>5</th>\n",
       "      <td>181631</td>\n",
       "      <td>0</td>\n",
       "      <td>0</td>\n",
       "    </tr>\n",
       "    <tr>\n",
       "      <th>6</th>\n",
       "      <td>99580</td>\n",
       "      <td>0</td>\n",
       "      <td>1</td>\n",
       "    </tr>\n",
       "    <tr>\n",
       "      <th>7</th>\n",
       "      <td>214036</td>\n",
       "      <td>0</td>\n",
       "      <td>0</td>\n",
       "    </tr>\n",
       "    <tr>\n",
       "      <th>8</th>\n",
       "      <td>136307</td>\n",
       "      <td>0</td>\n",
       "      <td>0</td>\n",
       "    </tr>\n",
       "    <tr>\n",
       "      <th>9</th>\n",
       "      <td>126790</td>\n",
       "      <td>1</td>\n",
       "      <td>1</td>\n",
       "    </tr>\n",
       "  </tbody>\n",
       "</table>\n",
       "</div>"
      ],
      "text/plain": [
       "     user  enrolled  predicted_results\n",
       "0  282372         1                  1\n",
       "1  355818         1                  0\n",
       "2  338666         1                  1\n",
       "3  269942         1                  1\n",
       "4   18305         0                  0\n",
       "5  181631         0                  0\n",
       "6   99580         0                  1\n",
       "7  214036         0                  0\n",
       "8  136307         0                  0\n",
       "9  126790         1                  1"
      ]
     },
     "execution_count": 56,
     "metadata": {},
     "output_type": "execute_result"
    }
   ],
   "source": [
    "# Concatenate test labels to the user they came from\n",
    "final_results = pd.concat([y_test, test_identifier], axis =1).dropna()\n",
    "# Add predicted results from the model\n",
    "final_results['predicted_results'] = y_predict\n",
    "final_results = final_results[['user', 'enrolled', 'predicted_results']].reset_index(drop=True)\n",
    "\n",
    "# Display (adjust as needed)\n",
    "final_results.head(10)"
   ]
  },
  {
   "cell_type": "markdown",
   "id": "947800a2",
   "metadata": {},
   "source": [
    "### Save Results \n",
    "\n",
    "Persist final results and a list of users our model has estimated to be unlikely to enroll in the paid subscription"
   ]
  },
  {
   "cell_type": "code",
   "execution_count": 57,
   "id": "5fdb125c",
   "metadata": {},
   "outputs": [],
   "source": [
    "from reportlab.lib.pagesizes import letter\n",
    "from reportlab.platypus import SimpleDocTemplate, Table\n",
    "from datetime import datetime\n",
    "import csv\n",
    "\n",
    "# Create a directory to save results if it doesn't exist\n",
    "directory = \"../data/results\"\n",
    "if not os.path.exists(directory):\n",
    "    os.makedirs(directory)\n",
    "\n",
    "# Get the current date and time, remove milliseconds\n",
    "datetime = datetime.now().strftime(\"%Y-%m-%d %H:%M:%S\")\n",
    "\n",
    "# Save final results to a .csv file \n",
    "final_results.to_csv(f\"../data/results/final_results_{datetime}.csv\")\n",
    "\n",
    "# Filter the DataFrame for a list of users unlikely to subscribe\n",
    "final_results = final_results[final_results.predicted_results == 0].copy()\n",
    "unlikely_to_subscribe = final_results.copy().drop(columns = ['enrolled', 'predicted_results'])\n",
    "\n",
    "# Save the list of users unlikely to subscribe to a .csv file\n",
    "unlikely_to_subscribe.to_csv(f\"../data/results/users_unlikely_to_subscribe_{datetime}.csv\")\n",
    "\n",
    "# Define paths to convert\n",
    "csv_file = f\"../data/results/users_unlikely_to_subscribe_{datetime}.csv\"\n",
    "pdf_file = f\"../data/results/users_unlikely_to_subscribe_{datetime}.pdf\"\n",
    "\n",
    "# Convert the .csv file \n",
    "data = []\n",
    "with open(csv_file, 'r') as file:\n",
    "    reader = csv.reader(file)\n",
    "    for row in reader:\n",
    "        data.append(row)\n",
    "\n",
    "# Create a PDF document\n",
    "doc = SimpleDocTemplate(pdf_file, pagesize=letter)\n",
    "\n",
    "# Create a table from the CSV data\n",
    "table = Table(data)\n",
    "\n",
    "# Add the table to the document\n",
    "doc.build([table])"
   ]
  }
 ],
 "metadata": {
  "kernelspec": {
   "display_name": "Python 3 (ipykernel)",
   "language": "python",
   "name": "python3"
  },
  "language_info": {
   "codemirror_mode": {
    "name": "ipython",
    "version": 3
   },
   "file_extension": ".py",
   "mimetype": "text/x-python",
   "name": "python",
   "nbconvert_exporter": "python",
   "pygments_lexer": "ipython3",
   "version": "3.10.12"
  }
 },
 "nbformat": 4,
 "nbformat_minor": 5
}
