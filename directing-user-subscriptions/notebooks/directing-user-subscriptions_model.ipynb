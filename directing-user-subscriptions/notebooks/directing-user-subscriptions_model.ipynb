{
 "cells": [
  {
   "cell_type": "markdown",
   "id": "fd11b80e",
   "metadata": {},
   "source": [
    "<h1 style=\"font-size:3rem;color:orange;\">Directing User Subscriptions</h1>\n",
    "\n",
    "<h2 style=\"font-size:2rem;color:orange;\">Data Pre-processing and Model Training</h2>"
   ]
  },
  {
   "cell_type": "markdown",
   "id": "fcd539d0",
   "metadata": {},
   "source": [
    "### Import Libraries"
   ]
  },
  {
   "cell_type": "code",
   "execution_count": 1,
   "id": "cc208728",
   "metadata": {},
   "outputs": [],
   "source": [
    "import matplotlib.pyplot as plt\n",
    "import numpy as np\n",
    "import pandas as pd\n",
    "import seaborn as sn\n",
    "import time"
   ]
  },
  {
   "cell_type": "markdown",
   "id": "296316db",
   "metadata": {},
   "source": [
    "### Import Data"
   ]
  },
  {
   "cell_type": "code",
   "execution_count": 2,
   "id": "64962cb7",
   "metadata": {},
   "outputs": [],
   "source": [
    "df_users = pd.read_csv(\"data/processed/new_app-user-data.csv\")"
   ]
  },
  {
   "cell_type": "markdown",
   "id": "b00e2a90",
   "metadata": {},
   "source": [
    "### Data Peek"
   ]
  },
  {
   "cell_type": "code",
   "execution_count": 3,
   "id": "8d86408f",
   "metadata": {},
   "outputs": [
    {
     "data": {
      "text/html": [
       "<div>\n",
       "<style scoped>\n",
       "    .dataframe tbody tr th:only-of-type {\n",
       "        vertical-align: middle;\n",
       "    }\n",
       "\n",
       "    .dataframe tbody tr th {\n",
       "        vertical-align: top;\n",
       "    }\n",
       "\n",
       "    .dataframe thead th {\n",
       "        text-align: right;\n",
       "    }\n",
       "</style>\n",
       "<table border=\"1\" class=\"dataframe\">\n",
       "  <thead>\n",
       "    <tr style=\"text-align: right;\">\n",
       "      <th></th>\n",
       "      <th>user</th>\n",
       "      <th>dayofweek</th>\n",
       "      <th>hour</th>\n",
       "      <th>age</th>\n",
       "      <th>numscreens</th>\n",
       "      <th>minigame</th>\n",
       "      <th>used_premium_feature</th>\n",
       "      <th>enrolled</th>\n",
       "      <th>liked</th>\n",
       "      <th>location</th>\n",
       "      <th>...</th>\n",
       "      <th>SecurityModal</th>\n",
       "      <th>ResendToken</th>\n",
       "      <th>TransactionList</th>\n",
       "      <th>NetworkFailure</th>\n",
       "      <th>ListPicker</th>\n",
       "      <th>OtherScreens</th>\n",
       "      <th>SavingsScreens</th>\n",
       "      <th>CreditMonitoringScreens</th>\n",
       "      <th>CreditCardScreens</th>\n",
       "      <th>LoanScreens</th>\n",
       "    </tr>\n",
       "  </thead>\n",
       "  <tbody>\n",
       "    <tr>\n",
       "      <th>0</th>\n",
       "      <td>235136</td>\n",
       "      <td>3</td>\n",
       "      <td>2</td>\n",
       "      <td>23</td>\n",
       "      <td>15</td>\n",
       "      <td>0</td>\n",
       "      <td>0</td>\n",
       "      <td>0</td>\n",
       "      <td>0</td>\n",
       "      <td>0</td>\n",
       "      <td>...</td>\n",
       "      <td>0</td>\n",
       "      <td>0</td>\n",
       "      <td>0</td>\n",
       "      <td>0</td>\n",
       "      <td>0</td>\n",
       "      <td>7</td>\n",
       "      <td>0</td>\n",
       "      <td>0</td>\n",
       "      <td>0</td>\n",
       "      <td>1</td>\n",
       "    </tr>\n",
       "    <tr>\n",
       "      <th>1</th>\n",
       "      <td>333588</td>\n",
       "      <td>6</td>\n",
       "      <td>1</td>\n",
       "      <td>24</td>\n",
       "      <td>13</td>\n",
       "      <td>0</td>\n",
       "      <td>0</td>\n",
       "      <td>0</td>\n",
       "      <td>0</td>\n",
       "      <td>1</td>\n",
       "      <td>...</td>\n",
       "      <td>0</td>\n",
       "      <td>0</td>\n",
       "      <td>0</td>\n",
       "      <td>0</td>\n",
       "      <td>0</td>\n",
       "      <td>5</td>\n",
       "      <td>0</td>\n",
       "      <td>0</td>\n",
       "      <td>0</td>\n",
       "      <td>1</td>\n",
       "    </tr>\n",
       "    <tr>\n",
       "      <th>2</th>\n",
       "      <td>254414</td>\n",
       "      <td>1</td>\n",
       "      <td>19</td>\n",
       "      <td>23</td>\n",
       "      <td>3</td>\n",
       "      <td>0</td>\n",
       "      <td>1</td>\n",
       "      <td>0</td>\n",
       "      <td>1</td>\n",
       "      <td>0</td>\n",
       "      <td>...</td>\n",
       "      <td>0</td>\n",
       "      <td>0</td>\n",
       "      <td>0</td>\n",
       "      <td>0</td>\n",
       "      <td>0</td>\n",
       "      <td>0</td>\n",
       "      <td>0</td>\n",
       "      <td>0</td>\n",
       "      <td>0</td>\n",
       "      <td>1</td>\n",
       "    </tr>\n",
       "    <tr>\n",
       "      <th>3</th>\n",
       "      <td>234192</td>\n",
       "      <td>4</td>\n",
       "      <td>16</td>\n",
       "      <td>28</td>\n",
       "      <td>40</td>\n",
       "      <td>0</td>\n",
       "      <td>0</td>\n",
       "      <td>1</td>\n",
       "      <td>0</td>\n",
       "      <td>1</td>\n",
       "      <td>...</td>\n",
       "      <td>0</td>\n",
       "      <td>0</td>\n",
       "      <td>0</td>\n",
       "      <td>0</td>\n",
       "      <td>0</td>\n",
       "      <td>6</td>\n",
       "      <td>0</td>\n",
       "      <td>3</td>\n",
       "      <td>0</td>\n",
       "      <td>1</td>\n",
       "    </tr>\n",
       "    <tr>\n",
       "      <th>4</th>\n",
       "      <td>51549</td>\n",
       "      <td>1</td>\n",
       "      <td>18</td>\n",
       "      <td>31</td>\n",
       "      <td>32</td>\n",
       "      <td>0</td>\n",
       "      <td>0</td>\n",
       "      <td>1</td>\n",
       "      <td>1</td>\n",
       "      <td>0</td>\n",
       "      <td>...</td>\n",
       "      <td>0</td>\n",
       "      <td>0</td>\n",
       "      <td>0</td>\n",
       "      <td>0</td>\n",
       "      <td>0</td>\n",
       "      <td>10</td>\n",
       "      <td>0</td>\n",
       "      <td>2</td>\n",
       "      <td>0</td>\n",
       "      <td>1</td>\n",
       "    </tr>\n",
       "  </tbody>\n",
       "</table>\n",
       "<p>5 rows × 50 columns</p>\n",
       "</div>"
      ],
      "text/plain": [
       "     user  dayofweek  hour  age  numscreens  minigame  used_premium_feature  \\\n",
       "0  235136          3     2   23          15         0                     0   \n",
       "1  333588          6     1   24          13         0                     0   \n",
       "2  254414          1    19   23           3         0                     1   \n",
       "3  234192          4    16   28          40         0                     0   \n",
       "4   51549          1    18   31          32         0                     0   \n",
       "\n",
       "   enrolled  liked  location  ...  SecurityModal  ResendToken  \\\n",
       "0         0      0         0  ...              0            0   \n",
       "1         0      0         1  ...              0            0   \n",
       "2         0      1         0  ...              0            0   \n",
       "3         1      0         1  ...              0            0   \n",
       "4         1      1         0  ...              0            0   \n",
       "\n",
       "   TransactionList  NetworkFailure  ListPicker  OtherScreens  SavingsScreens  \\\n",
       "0                0               0           0             7               0   \n",
       "1                0               0           0             5               0   \n",
       "2                0               0           0             0               0   \n",
       "3                0               0           0             6               0   \n",
       "4                0               0           0            10               0   \n",
       "\n",
       "   CreditMonitoringScreens  CreditCardScreens  LoanScreens  \n",
       "0                        0                  0            1  \n",
       "1                        0                  0            1  \n",
       "2                        0                  0            1  \n",
       "3                        3                  0            1  \n",
       "4                        2                  0            1  \n",
       "\n",
       "[5 rows x 50 columns]"
      ]
     },
     "execution_count": 3,
     "metadata": {},
     "output_type": "execute_result"
    }
   ],
   "source": [
    "df_users.head()"
   ]
  },
  {
   "cell_type": "markdown",
   "id": "6c9e1132",
   "metadata": {},
   "source": [
    "# Data Pre-processing"
   ]
  },
  {
   "cell_type": "markdown",
   "id": "dd1dc170",
   "metadata": {},
   "source": [
    "### Remove the label from the features"
   ]
  },
  {
   "cell_type": "code",
   "execution_count": 4,
   "id": "32347cb1",
   "metadata": {},
   "outputs": [],
   "source": [
    "label = df_users['enrolled']\n",
    "df_users = df_users.drop(columns = 'enrolled')"
   ]
  },
  {
   "cell_type": "markdown",
   "id": "9d23bf7f",
   "metadata": {},
   "source": [
    "### Split the dataset into training and test sets"
   ]
  },
  {
   "cell_type": "code",
   "execution_count": 5,
   "id": "0df11ec6",
   "metadata": {},
   "outputs": [
    {
     "name": "stdout",
     "output_type": "stream",
     "text": [
      "(40000, 49)\n",
      "(10000, 49)\n"
     ]
    }
   ],
   "source": [
    "from sklearn.model_selection import train_test_split\n",
    "\n",
    "# Split the data into an 80/20 train/test ratio\n",
    "X_train, X_test, y_train, y_test = train_test_split(df_users, label,\n",
    "                                                    test_size = 0.2,\n",
    "                                                    random_state = 2)\n",
    "print(X_train.shape)\n",
    "print(X_test.shape)"
   ]
  },
  {
   "cell_type": "markdown",
   "id": "ba0069b6",
   "metadata": {},
   "source": [
    "### Filter model data"
   ]
  },
  {
   "cell_type": "code",
   "execution_count": 6,
   "id": "b89054cb",
   "metadata": {},
   "outputs": [],
   "source": [
    "# Purge user identification, persist to associate the prediction to the user it came from \n",
    "train_identifier = X_train['user']\n",
    "X_train = X_train.drop(columns = ['user'])\n",
    "\n",
    "test_identifier = X_test['user']\n",
    "X_test = X_test.drop(columns = ['user'])"
   ]
  },
  {
   "cell_type": "markdown",
   "id": "1370dabf",
   "metadata": {},
   "source": [
    "### Feature Scaling"
   ]
  },
  {
   "cell_type": "code",
   "execution_count": 7,
   "id": "c2ed63c0",
   "metadata": {},
   "outputs": [
    {
     "data": {
      "text/html": [
       "<div>\n",
       "<style scoped>\n",
       "    .dataframe tbody tr th:only-of-type {\n",
       "        vertical-align: middle;\n",
       "    }\n",
       "\n",
       "    .dataframe tbody tr th {\n",
       "        vertical-align: top;\n",
       "    }\n",
       "\n",
       "    .dataframe thead th {\n",
       "        text-align: right;\n",
       "    }\n",
       "</style>\n",
       "<table border=\"1\" class=\"dataframe\">\n",
       "  <thead>\n",
       "    <tr style=\"text-align: right;\">\n",
       "      <th></th>\n",
       "      <th>dayofweek</th>\n",
       "      <th>hour</th>\n",
       "      <th>age</th>\n",
       "      <th>numscreens</th>\n",
       "      <th>minigame</th>\n",
       "      <th>used_premium_feature</th>\n",
       "      <th>liked</th>\n",
       "      <th>location</th>\n",
       "      <th>Institutions</th>\n",
       "      <th>VerifyPhone</th>\n",
       "      <th>...</th>\n",
       "      <th>SecurityModal</th>\n",
       "      <th>ResendToken</th>\n",
       "      <th>TransactionList</th>\n",
       "      <th>NetworkFailure</th>\n",
       "      <th>ListPicker</th>\n",
       "      <th>OtherScreens</th>\n",
       "      <th>SavingsScreens</th>\n",
       "      <th>CreditMonitoringScreens</th>\n",
       "      <th>CreditCardScreens</th>\n",
       "      <th>LoanScreens</th>\n",
       "    </tr>\n",
       "  </thead>\n",
       "  <tbody>\n",
       "    <tr>\n",
       "      <th>5478</th>\n",
       "      <td>1.465294</td>\n",
       "      <td>0.194010</td>\n",
       "      <td>-0.623858</td>\n",
       "      <td>-0.387249</td>\n",
       "      <td>-0.349088</td>\n",
       "      <td>-0.458132</td>\n",
       "      <td>2.249171</td>\n",
       "      <td>0.966559</td>\n",
       "      <td>1.553842</td>\n",
       "      <td>0.953911</td>\n",
       "      <td>...</td>\n",
       "      <td>-0.11851</td>\n",
       "      <td>-0.116211</td>\n",
       "      <td>-0.114989</td>\n",
       "      <td>-0.089944</td>\n",
       "      <td>-0.087075</td>\n",
       "      <td>-0.602852</td>\n",
       "      <td>-0.258576</td>\n",
       "      <td>2.533069</td>\n",
       "      <td>-0.288405</td>\n",
       "      <td>0.315319</td>\n",
       "    </tr>\n",
       "    <tr>\n",
       "      <th>22132</th>\n",
       "      <td>0.480735</td>\n",
       "      <td>-0.074669</td>\n",
       "      <td>-0.994774</td>\n",
       "      <td>0.822372</td>\n",
       "      <td>-0.349088</td>\n",
       "      <td>-0.458132</td>\n",
       "      <td>-0.444608</td>\n",
       "      <td>0.966559</td>\n",
       "      <td>-0.643566</td>\n",
       "      <td>0.953911</td>\n",
       "      <td>...</td>\n",
       "      <td>-0.11851</td>\n",
       "      <td>-0.116211</td>\n",
       "      <td>-0.114989</td>\n",
       "      <td>-0.089944</td>\n",
       "      <td>-0.087075</td>\n",
       "      <td>1.030911</td>\n",
       "      <td>-0.258576</td>\n",
       "      <td>-0.759865</td>\n",
       "      <td>-0.288405</td>\n",
       "      <td>0.315319</td>\n",
       "    </tr>\n",
       "    <tr>\n",
       "      <th>33533</th>\n",
       "      <td>0.973015</td>\n",
       "      <td>0.865708</td>\n",
       "      <td>0.117975</td>\n",
       "      <td>-0.387249</td>\n",
       "      <td>-0.349088</td>\n",
       "      <td>2.182778</td>\n",
       "      <td>2.249171</td>\n",
       "      <td>-1.034598</td>\n",
       "      <td>1.553842</td>\n",
       "      <td>-1.048316</td>\n",
       "      <td>...</td>\n",
       "      <td>-0.11851</td>\n",
       "      <td>-0.116211</td>\n",
       "      <td>8.696456</td>\n",
       "      <td>-0.089944</td>\n",
       "      <td>-0.087075</td>\n",
       "      <td>-0.058264</td>\n",
       "      <td>-0.258576</td>\n",
       "      <td>0.063368</td>\n",
       "      <td>-0.288405</td>\n",
       "      <td>0.315319</td>\n",
       "    </tr>\n",
       "    <tr>\n",
       "      <th>42605</th>\n",
       "      <td>-1.488382</td>\n",
       "      <td>0.865708</td>\n",
       "      <td>-0.345671</td>\n",
       "      <td>0.313058</td>\n",
       "      <td>-0.349088</td>\n",
       "      <td>-0.458132</td>\n",
       "      <td>-0.444608</td>\n",
       "      <td>-1.034598</td>\n",
       "      <td>-0.643566</td>\n",
       "      <td>0.953911</td>\n",
       "      <td>...</td>\n",
       "      <td>-0.11851</td>\n",
       "      <td>-0.116211</td>\n",
       "      <td>-0.114989</td>\n",
       "      <td>-0.089944</td>\n",
       "      <td>-0.087075</td>\n",
       "      <td>0.486323</td>\n",
       "      <td>-0.258576</td>\n",
       "      <td>1.709835</td>\n",
       "      <td>-0.288405</td>\n",
       "      <td>0.315319</td>\n",
       "    </tr>\n",
       "    <tr>\n",
       "      <th>48740</th>\n",
       "      <td>0.973015</td>\n",
       "      <td>1.268727</td>\n",
       "      <td>0.952536</td>\n",
       "      <td>6.934141</td>\n",
       "      <td>-0.349088</td>\n",
       "      <td>-0.458132</td>\n",
       "      <td>-0.444608</td>\n",
       "      <td>0.966559</td>\n",
       "      <td>-0.643566</td>\n",
       "      <td>-1.048316</td>\n",
       "      <td>...</td>\n",
       "      <td>-0.11851</td>\n",
       "      <td>-0.116211</td>\n",
       "      <td>-0.114989</td>\n",
       "      <td>-0.089944</td>\n",
       "      <td>-0.087075</td>\n",
       "      <td>-0.058264</td>\n",
       "      <td>-0.258576</td>\n",
       "      <td>0.063368</td>\n",
       "      <td>4.611579</td>\n",
       "      <td>0.315319</td>\n",
       "    </tr>\n",
       "  </tbody>\n",
       "</table>\n",
       "<p>5 rows × 48 columns</p>\n",
       "</div>"
      ],
      "text/plain": [
       "       dayofweek      hour       age  numscreens  minigame  \\\n",
       "5478    1.465294  0.194010 -0.623858   -0.387249 -0.349088   \n",
       "22132   0.480735 -0.074669 -0.994774    0.822372 -0.349088   \n",
       "33533   0.973015  0.865708  0.117975   -0.387249 -0.349088   \n",
       "42605  -1.488382  0.865708 -0.345671    0.313058 -0.349088   \n",
       "48740   0.973015  1.268727  0.952536    6.934141 -0.349088   \n",
       "\n",
       "       used_premium_feature     liked  location  Institutions  VerifyPhone  \\\n",
       "5478              -0.458132  2.249171  0.966559      1.553842     0.953911   \n",
       "22132             -0.458132 -0.444608  0.966559     -0.643566     0.953911   \n",
       "33533              2.182778  2.249171 -1.034598      1.553842    -1.048316   \n",
       "42605             -0.458132 -0.444608 -1.034598     -0.643566     0.953911   \n",
       "48740             -0.458132 -0.444608  0.966559     -0.643566    -1.048316   \n",
       "\n",
       "       ...  SecurityModal  ResendToken  TransactionList  NetworkFailure  \\\n",
       "5478   ...       -0.11851    -0.116211        -0.114989       -0.089944   \n",
       "22132  ...       -0.11851    -0.116211        -0.114989       -0.089944   \n",
       "33533  ...       -0.11851    -0.116211         8.696456       -0.089944   \n",
       "42605  ...       -0.11851    -0.116211        -0.114989       -0.089944   \n",
       "48740  ...       -0.11851    -0.116211        -0.114989       -0.089944   \n",
       "\n",
       "       ListPicker  OtherScreens  SavingsScreens  CreditMonitoringScreens  \\\n",
       "5478    -0.087075     -0.602852       -0.258576                 2.533069   \n",
       "22132   -0.087075      1.030911       -0.258576                -0.759865   \n",
       "33533   -0.087075     -0.058264       -0.258576                 0.063368   \n",
       "42605   -0.087075      0.486323       -0.258576                 1.709835   \n",
       "48740   -0.087075     -0.058264       -0.258576                 0.063368   \n",
       "\n",
       "       CreditCardScreens  LoanScreens  \n",
       "5478           -0.288405     0.315319  \n",
       "22132          -0.288405     0.315319  \n",
       "33533          -0.288405     0.315319  \n",
       "42605          -0.288405     0.315319  \n",
       "48740           4.611579     0.315319  \n",
       "\n",
       "[5 rows x 48 columns]"
      ]
     },
     "execution_count": 7,
     "metadata": {},
     "output_type": "execute_result"
    }
   ],
   "source": [
    "from sklearn.preprocessing import StandardScaler\n",
    "\n",
    "# To normalize features\n",
    "standard_scaler_X = StandardScaler()\n",
    "\n",
    "# Scale the training & test datasets, persist results to a new dataframe\n",
    "X_train2 = pd.DataFrame(standard_scaler_X.fit_transform(X_train))\n",
    "X_test2 = pd.DataFrame(standard_scaler_X.transform(X_test))\n",
    "\n",
    "# Retrieve columns for the standardized training & test sets \n",
    "X_train2.columns = X_train.columns.values\n",
    "X_test2.columns = X_test.columns.values\n",
    "\n",
    "# Recuperate indexes \n",
    "X_train2.index = X_train.index.values\n",
    "X_test2.index = X_test.index.values\n",
    "\n",
    "# Convert original training set into the new training set\n",
    "X_train = X_train2\n",
    "X_test = X_test2\n",
    "\n",
    "X_train.head()"
   ]
  },
  {
   "cell_type": "markdown",
   "id": "98ef597e",
   "metadata": {},
   "source": [
    "# Model Building\n",
    "\n",
    "## Training"
   ]
  },
  {
   "cell_type": "code",
   "execution_count": 8,
   "id": "bd4168d7",
   "metadata": {},
   "outputs": [
    {
     "data": {
      "text/html": [
       "<style>#sk-container-id-1 {color: black;background-color: white;}#sk-container-id-1 pre{padding: 0;}#sk-container-id-1 div.sk-toggleable {background-color: white;}#sk-container-id-1 label.sk-toggleable__label {cursor: pointer;display: block;width: 100%;margin-bottom: 0;padding: 0.3em;box-sizing: border-box;text-align: center;}#sk-container-id-1 label.sk-toggleable__label-arrow:before {content: \"▸\";float: left;margin-right: 0.25em;color: #696969;}#sk-container-id-1 label.sk-toggleable__label-arrow:hover:before {color: black;}#sk-container-id-1 div.sk-estimator:hover label.sk-toggleable__label-arrow:before {color: black;}#sk-container-id-1 div.sk-toggleable__content {max-height: 0;max-width: 0;overflow: hidden;text-align: left;background-color: #f0f8ff;}#sk-container-id-1 div.sk-toggleable__content pre {margin: 0.2em;color: black;border-radius: 0.25em;background-color: #f0f8ff;}#sk-container-id-1 input.sk-toggleable__control:checked~div.sk-toggleable__content {max-height: 200px;max-width: 100%;overflow: auto;}#sk-container-id-1 input.sk-toggleable__control:checked~label.sk-toggleable__label-arrow:before {content: \"▾\";}#sk-container-id-1 div.sk-estimator input.sk-toggleable__control:checked~label.sk-toggleable__label {background-color: #d4ebff;}#sk-container-id-1 div.sk-label input.sk-toggleable__control:checked~label.sk-toggleable__label {background-color: #d4ebff;}#sk-container-id-1 input.sk-hidden--visually {border: 0;clip: rect(1px 1px 1px 1px);clip: rect(1px, 1px, 1px, 1px);height: 1px;margin: -1px;overflow: hidden;padding: 0;position: absolute;width: 1px;}#sk-container-id-1 div.sk-estimator {font-family: monospace;background-color: #f0f8ff;border: 1px dotted black;border-radius: 0.25em;box-sizing: border-box;margin-bottom: 0.5em;}#sk-container-id-1 div.sk-estimator:hover {background-color: #d4ebff;}#sk-container-id-1 div.sk-parallel-item::after {content: \"\";width: 100%;border-bottom: 1px solid gray;flex-grow: 1;}#sk-container-id-1 div.sk-label:hover label.sk-toggleable__label {background-color: #d4ebff;}#sk-container-id-1 div.sk-serial::before {content: \"\";position: absolute;border-left: 1px solid gray;box-sizing: border-box;top: 0;bottom: 0;left: 50%;z-index: 0;}#sk-container-id-1 div.sk-serial {display: flex;flex-direction: column;align-items: center;background-color: white;padding-right: 0.2em;padding-left: 0.2em;position: relative;}#sk-container-id-1 div.sk-item {position: relative;z-index: 1;}#sk-container-id-1 div.sk-parallel {display: flex;align-items: stretch;justify-content: center;background-color: white;position: relative;}#sk-container-id-1 div.sk-item::before, #sk-container-id-1 div.sk-parallel-item::before {content: \"\";position: absolute;border-left: 1px solid gray;box-sizing: border-box;top: 0;bottom: 0;left: 50%;z-index: -1;}#sk-container-id-1 div.sk-parallel-item {display: flex;flex-direction: column;z-index: 1;position: relative;background-color: white;}#sk-container-id-1 div.sk-parallel-item:first-child::after {align-self: flex-end;width: 50%;}#sk-container-id-1 div.sk-parallel-item:last-child::after {align-self: flex-start;width: 50%;}#sk-container-id-1 div.sk-parallel-item:only-child::after {width: 0;}#sk-container-id-1 div.sk-dashed-wrapped {border: 1px dashed gray;margin: 0 0.4em 0.5em 0.4em;box-sizing: border-box;padding-bottom: 0.4em;background-color: white;}#sk-container-id-1 div.sk-label label {font-family: monospace;font-weight: bold;display: inline-block;line-height: 1.2em;}#sk-container-id-1 div.sk-label-container {text-align: center;}#sk-container-id-1 div.sk-container {/* jupyter's `normalize.less` sets `[hidden] { display: none; }` but bootstrap.min.css set `[hidden] { display: none !important; }` so we also need the `!important` here to be able to override the default hidden behavior on the sphinx rendered scikit-learn.org. See: https://github.com/scikit-learn/scikit-learn/issues/21755 */display: inline-block !important;position: relative;}#sk-container-id-1 div.sk-text-repr-fallback {display: none;}</style><div id=\"sk-container-id-1\" class=\"sk-top-container\"><div class=\"sk-text-repr-fallback\"><pre>LogisticRegression(C=0.1, penalty=&#x27;l1&#x27;, random_state=2, solver=&#x27;liblinear&#x27;)</pre><b>In a Jupyter environment, please rerun this cell to show the HTML representation or trust the notebook. <br />On GitHub, the HTML representation is unable to render, please try loading this page with nbviewer.org.</b></div><div class=\"sk-container\" hidden><div class=\"sk-item\"><div class=\"sk-estimator sk-toggleable\"><input class=\"sk-toggleable__control sk-hidden--visually\" id=\"sk-estimator-id-1\" type=\"checkbox\" checked><label for=\"sk-estimator-id-1\" class=\"sk-toggleable__label sk-toggleable__label-arrow\">LogisticRegression</label><div class=\"sk-toggleable__content\"><pre>LogisticRegression(C=0.1, penalty=&#x27;l1&#x27;, random_state=2, solver=&#x27;liblinear&#x27;)</pre></div></div></div></div></div>"
      ],
      "text/plain": [
       "LogisticRegression(C=0.1, penalty='l1', random_state=2, solver='liblinear')"
      ]
     },
     "execution_count": 8,
     "metadata": {},
     "output_type": "execute_result"
    }
   ],
   "source": [
    "from sklearn.linear_model import LogisticRegression\n",
    "import statsmodels.api as sm\n",
    "\n",
    "# Add 'l1' penalty (lasso regularization) for screen correlation\n",
    "model = LogisticRegression(random_state=2, C=0.1, penalty='l1', solver='liblinear')\n",
    "\n",
    "# Train the model on the test data\n",
    "model.fit(X_train, y_train)"
   ]
  },
  {
   "cell_type": "markdown",
   "id": "9ef389a4",
   "metadata": {},
   "source": [
    "## Evaluation"
   ]
  },
  {
   "cell_type": "code",
   "execution_count": 9,
   "id": "90dae096",
   "metadata": {},
   "outputs": [
    {
     "name": "stdout",
     "output_type": "stream",
     "text": [
      "Accuracy Score:  0.76160\n",
      "Precision Score: 0.76319\n",
      "Recall Score:    0.75954\n",
      "F1 Score:        0.76136\n"
     ]
    },
    {
     "data": {
      "image/png": "[encoded data removed]",
      "text/plain": [
       "<Figure size 900x600 with 2 Axes>"
      ]
     },
     "metadata": {},
     "output_type": "display_data"
    }
   ],
   "source": [
    "from sklearn.metrics import confusion_matrix, accuracy_score, f1_score, precision_score, recall_score\n",
    "\n",
    "# Make predictions from test set\n",
    "y_predict = model.predict(X_test)\n",
    "\n",
    "# Create a confusion matrix with test labels and our model's predictions\n",
    "conf_matrix = confusion_matrix(y_test, y_predict)\n",
    "\n",
    "# Plot Matrix\n",
    "df_conf_matrix = pd.DataFrame(conf_matrix, index = (0, 1), columns = (0, 1))\n",
    "plt.figure(figsize = (9,6))\n",
    "sn.set(font_scale=1.4)\n",
    "sn.heatmap(df_conf_matrix, annot=True, fmt='g')\n",
    "\n",
    "# Display Scores\n",
    "print(f\"Accuracy Score:  {accuracy_score(y_test, y_predict):.5f}\")  # NumCorrectPredicts / TotalNumPredicts\n",
    "print(f\"Precision Score: {precision_score(y_test, y_predict):.5f}\") # TP / (TP + FP)\n",
    "print(f\"Recall Score:    {recall_score(y_test, y_predict):.5f}\")    # TP / (TP + FN)\n",
    "print(f\"F1 Score:        {f1_score(y_test, y_predict):.5f}\")        # 2 * (precision * recall) / (precision + recall)"
   ]
  },
  {
   "cell_type": "markdown",
   "id": "c47ce60c",
   "metadata": {},
   "source": [
    "### K-Fold Cross Validation\n",
    "\n",
    "Estimate how well the model is likely to generalize to unseen data"
   ]
  },
  {
   "cell_type": "code",
   "execution_count": 10,
   "id": "f8276b9d",
   "metadata": {},
   "outputs": [
    {
     "name": "stdout",
     "output_type": "stream",
     "text": [
      "Cross Validated Scores Mean: 0.77118 Std: (+/- 0.00749)\n"
     ]
    }
   ],
   "source": [
    "from sklearn.model_selection import cross_val_score\n",
    "\n",
    "# Perform k-fold cross-validation, here with 10 folds\n",
    "accuracies = cross_val_score(estimator = model, X = X_train, y = y_train, cv = 10)\n",
    "\n",
    "print(\"Cross Validated Scores Mean: %0.5f Std: (+/- %0.5f)\" % (accuracies.mean(), accuracies.std() * 2))"
   ]
  },
  {
   "cell_type": "markdown",
   "id": "c0fb9c10",
   "metadata": {},
   "source": [
    "### Analyze Coefficients"
   ]
  },
  {
   "cell_type": "code",
   "execution_count": 11,
   "id": "716a3bff",
   "metadata": {},
   "outputs": [
    {
     "data": {
      "text/html": [
       "<div>\n",
       "<style scoped>\n",
       "    .dataframe tbody tr th:only-of-type {\n",
       "        vertical-align: middle;\n",
       "    }\n",
       "\n",
       "    .dataframe tbody tr th {\n",
       "        vertical-align: top;\n",
       "    }\n",
       "\n",
       "    .dataframe thead th {\n",
       "        text-align: right;\n",
       "    }\n",
       "</style>\n",
       "<table border=\"1\" class=\"dataframe\">\n",
       "  <thead>\n",
       "    <tr style=\"text-align: right;\">\n",
       "      <th></th>\n",
       "      <th>features</th>\n",
       "      <th>coef</th>\n",
       "    </tr>\n",
       "  </thead>\n",
       "  <tbody>\n",
       "    <tr>\n",
       "      <th>0</th>\n",
       "      <td>dayofweek</td>\n",
       "      <td>0.023370</td>\n",
       "    </tr>\n",
       "    <tr>\n",
       "      <th>1</th>\n",
       "      <td>hour</td>\n",
       "      <td>-0.014571</td>\n",
       "    </tr>\n",
       "    <tr>\n",
       "      <th>2</th>\n",
       "      <td>age</td>\n",
       "      <td>-0.147035</td>\n",
       "    </tr>\n",
       "    <tr>\n",
       "      <th>3</th>\n",
       "      <td>numscreens</td>\n",
       "      <td>-0.103153</td>\n",
       "    </tr>\n",
       "    <tr>\n",
       "      <th>4</th>\n",
       "      <td>minigame</td>\n",
       "      <td>-0.026956</td>\n",
       "    </tr>\n",
       "  </tbody>\n",
       "</table>\n",
       "</div>"
      ],
      "text/plain": [
       "     features      coef\n",
       "0   dayofweek  0.023370\n",
       "1        hour -0.014571\n",
       "2         age -0.147035\n",
       "3  numscreens -0.103153\n",
       "4    minigame -0.026956"
      ]
     },
     "execution_count": 11,
     "metadata": {},
     "output_type": "execute_result"
    }
   ],
   "source": [
    "# Analyze model coefficients\n",
    "coefficients = pd.concat([pd.DataFrame(df_users.drop(columns = 'user').columns, columns = [\"features\"]),\n",
    "           pd.DataFrame(np.transpose(model.coef_), columns = [\"coef\"])\n",
    "           ],axis = 1)\n",
    "\n",
    "# Display (adjust to view all)\n",
    "coefficients.head()"
   ]
  },
  {
   "cell_type": "markdown",
   "id": "fc046675",
   "metadata": {},
   "source": [
    "## Model Tuning"
   ]
  },
  {
   "cell_type": "markdown",
   "id": "31881895",
   "metadata": {},
   "source": [
    "#### Grid Search (Round One)"
   ]
  },
  {
   "cell_type": "code",
   "execution_count": 12,
   "id": "d99ce957",
   "metadata": {},
   "outputs": [
    {
     "name": "stdout",
     "output_type": "stream",
     "text": [
      "Round One Time: 23.30 seconds\n",
      "Round One Best Accuracy:  0.771175\n",
      "Round One Best Parameters:  {'C': 0.1, 'penalty': 'l1'}\n"
     ]
    }
   ],
   "source": [
    "from sklearn.model_selection import GridSearchCV\n",
    "\n",
    "# Select regularization methods\n",
    "penalty = ['l1', 'l2']\n",
    "\n",
    "# Create regularization hyperparameter space\n",
    "C = [0.001, 0.01, 0.1, 1, 10, 100, 1000]\n",
    "\n",
    "# Combine parameters\n",
    "parameters = dict(C=C, penalty=penalty)\n",
    "\n",
    "grid_search = GridSearchCV(estimator = model,\n",
    "                           param_grid = parameters,\n",
    "                           scoring = \"accuracy\",\n",
    "                           cv = 10,\n",
    "                           n_jobs = -1)\n",
    "start_time = time.time()\n",
    "grid_search = grid_search.fit(X_train, y_train)\n",
    "end_time = time.time()\n",
    "\n",
    "rf_best_accuracy1 = grid_search.best_score_\n",
    "rf_best_parameters1 = grid_search.best_params_\n",
    "\n",
    "print(\"Round One Time: %0.2f seconds\" % (end_time - start_time))\n",
    "print(\"Round One Best Accuracy: \", rf_best_accuracy1)\n",
    "print(\"Round One Best Parameters: \", rf_best_parameters1)"
   ]
  },
  {
   "cell_type": "markdown",
   "id": "b470d088",
   "metadata": {},
   "source": [
    "#### Grid Search (Round Two)"
   ]
  },
  {
   "cell_type": "code",
   "execution_count": 13,
   "id": "d945e5c6",
   "metadata": {},
   "outputs": [
    {
     "name": "stdout",
     "output_type": "stream",
     "text": [
      "Round Two Time: 18.89 seconds\n",
      "Round Two Best Accuracy:  0.771175\n",
      "Round Two Best Parameters:  {'C': 0.1, 'penalty': 'l1'}\n"
     ]
    }
   ],
   "source": [
    "# Select regularization methods\n",
    "penalty = ['l1', 'l2']\n",
    "\n",
    "# Create regularization hyperparameter space\n",
    "C = [0.1, 0.5, 0.9, 1, 2, 5]\n",
    "\n",
    "# Combine parameters\n",
    "parameters = dict(C=C, penalty=penalty)\n",
    "\n",
    "grid_search = GridSearchCV(estimator = model,\n",
    "                           param_grid = parameters,\n",
    "                           scoring = \"accuracy\",\n",
    "                           cv = 10,\n",
    "                           n_jobs = -1)\n",
    "start_time = time.time()\n",
    "grid_search = grid_search.fit(X_train, y_train)\n",
    "end_time = time.time()\n",
    "\n",
    "rf_best_accuracy2 = grid_search.best_score_\n",
    "rf_best_parameters2 = grid_search.best_params_\n",
    "\n",
    "print(\"Round Two Time: %0.2f seconds\" % (end_time - start_time))\n",
    "print(\"Round Two Best Accuracy: \", rf_best_accuracy2)\n",
    "print(\"Round Two Best Parameters: \", rf_best_parameters2)"
   ]
  },
  {
   "cell_type": "markdown",
   "id": "f9a0e5af",
   "metadata": {},
   "source": [
    "## Save Model"
   ]
  },
  {
   "cell_type": "code",
   "execution_count": 14,
   "id": "6c1461b3",
   "metadata": {},
   "outputs": [],
   "source": [
    "import os\n",
    "import pickle\n",
    "\n",
    "# Create a directory to save the model if it doesn't exist\n",
    "directory = \"model\"\n",
    "if not os.path.exists(directory):\n",
    "    os.makedirs(directory)\n",
    "\n",
    "# Save the model to the specified directory\n",
    "filename = os.path.join(directory, 'sklearn_model.pkl')\n",
    "with open(filename, 'wb') as file:\n",
    "    pickle.dump(model, file)"
   ]
  }
 ],
 "metadata": {
  "kernelspec": {
   "display_name": "Python 3 (ipykernel)",
   "language": "python",
   "name": "python3"
  },
  "language_info": {
   "codemirror_mode": {
    "name": "ipython",
    "version": 3
   },
   "file_extension": ".py",
   "mimetype": "text/x-python",
   "name": "python",
   "nbconvert_exporter": "python",
   "pygments_lexer": "ipython3",
   "version": "3.10.9"
  }
 },
 "nbformat": 4,
 "nbformat_minor": 5
}
