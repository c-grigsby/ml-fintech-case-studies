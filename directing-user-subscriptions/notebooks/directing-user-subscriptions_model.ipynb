{
 "cells": [
  {
   "cell_type": "markdown",
   "id": "fd11b80e",
   "metadata": {},
   "source": [
    "<h1 style=\"font-size:3rem;color:orange;\">Directing User Subscriptions📱</h1>\n",
    "\n",
    "<h2 style=\"font-size:2rem;color:orange;\">Data Pre-processing and Model Building</h2>"
   ]
  },
  {
   "cell_type": "markdown",
   "id": "fcd539d0",
   "metadata": {},
   "source": [
    "### Import Libraries"
   ]
  },
  {
   "cell_type": "code",
   "execution_count": 1,
   "id": "cc208728",
   "metadata": {},
   "outputs": [],
   "source": [
    "import matplotlib.pyplot as plt\n",
    "import mlflow\n",
    "import numpy as np\n",
    "import pandas as pd\n",
    "import os"
   ]
  },
  {
   "cell_type": "markdown",
   "id": "296316db",
   "metadata": {},
   "source": [
    "### Import Data"
   ]
  },
  {
   "cell_type": "code",
   "execution_count": 2,
   "id": "64962cb7",
   "metadata": {},
   "outputs": [],
   "source": [
    "app_user_data_df = pd.read_csv(\"../data/processed/new_app-user-data.csv\")"
   ]
  },
  {
   "cell_type": "markdown",
   "id": "b00e2a90",
   "metadata": {},
   "source": [
    "### Data Peek 👀"
   ]
  },
  {
   "cell_type": "code",
   "execution_count": 3,
   "id": "8d86408f",
   "metadata": {},
   "outputs": [
    {
     "data": {
      "text/html": [
       "<div>\n",
       "<style scoped>\n",
       "    .dataframe tbody tr th:only-of-type {\n",
       "        vertical-align: middle;\n",
       "    }\n",
       "\n",
       "    .dataframe tbody tr th {\n",
       "        vertical-align: top;\n",
       "    }\n",
       "\n",
       "    .dataframe thead th {\n",
       "        text-align: right;\n",
       "    }\n",
       "</style>\n",
       "<table border=\"1\" class=\"dataframe\">\n",
       "  <thead>\n",
       "    <tr style=\"text-align: right;\">\n",
       "      <th></th>\n",
       "      <th>user</th>\n",
       "      <th>dayofweek</th>\n",
       "      <th>hour</th>\n",
       "      <th>age</th>\n",
       "      <th>numscreens</th>\n",
       "      <th>minigame</th>\n",
       "      <th>used_premium_feature</th>\n",
       "      <th>enrolled</th>\n",
       "      <th>liked</th>\n",
       "      <th>location</th>\n",
       "      <th>...</th>\n",
       "      <th>SecurityModal</th>\n",
       "      <th>ResendToken</th>\n",
       "      <th>TransactionList</th>\n",
       "      <th>NetworkFailure</th>\n",
       "      <th>ListPicker</th>\n",
       "      <th>OtherScreens</th>\n",
       "      <th>CreditCardScreens</th>\n",
       "      <th>CreditMonitoringScreens</th>\n",
       "      <th>LoanScreens</th>\n",
       "      <th>SavingsScreens</th>\n",
       "    </tr>\n",
       "  </thead>\n",
       "  <tbody>\n",
       "    <tr>\n",
       "      <th>0</th>\n",
       "      <td>235136</td>\n",
       "      <td>3</td>\n",
       "      <td>2</td>\n",
       "      <td>23</td>\n",
       "      <td>15</td>\n",
       "      <td>0</td>\n",
       "      <td>0</td>\n",
       "      <td>0</td>\n",
       "      <td>0</td>\n",
       "      <td>0</td>\n",
       "      <td>...</td>\n",
       "      <td>0</td>\n",
       "      <td>0</td>\n",
       "      <td>0</td>\n",
       "      <td>0</td>\n",
       "      <td>0</td>\n",
       "      <td>7</td>\n",
       "      <td>0</td>\n",
       "      <td>0</td>\n",
       "      <td>1</td>\n",
       "      <td>0</td>\n",
       "    </tr>\n",
       "    <tr>\n",
       "      <th>1</th>\n",
       "      <td>333588</td>\n",
       "      <td>6</td>\n",
       "      <td>1</td>\n",
       "      <td>24</td>\n",
       "      <td>13</td>\n",
       "      <td>0</td>\n",
       "      <td>0</td>\n",
       "      <td>0</td>\n",
       "      <td>0</td>\n",
       "      <td>1</td>\n",
       "      <td>...</td>\n",
       "      <td>0</td>\n",
       "      <td>0</td>\n",
       "      <td>0</td>\n",
       "      <td>0</td>\n",
       "      <td>0</td>\n",
       "      <td>5</td>\n",
       "      <td>0</td>\n",
       "      <td>0</td>\n",
       "      <td>1</td>\n",
       "      <td>0</td>\n",
       "    </tr>\n",
       "    <tr>\n",
       "      <th>2</th>\n",
       "      <td>254414</td>\n",
       "      <td>1</td>\n",
       "      <td>19</td>\n",
       "      <td>23</td>\n",
       "      <td>3</td>\n",
       "      <td>0</td>\n",
       "      <td>1</td>\n",
       "      <td>0</td>\n",
       "      <td>1</td>\n",
       "      <td>0</td>\n",
       "      <td>...</td>\n",
       "      <td>0</td>\n",
       "      <td>0</td>\n",
       "      <td>0</td>\n",
       "      <td>0</td>\n",
       "      <td>0</td>\n",
       "      <td>0</td>\n",
       "      <td>0</td>\n",
       "      <td>0</td>\n",
       "      <td>1</td>\n",
       "      <td>0</td>\n",
       "    </tr>\n",
       "    <tr>\n",
       "      <th>3</th>\n",
       "      <td>234192</td>\n",
       "      <td>4</td>\n",
       "      <td>16</td>\n",
       "      <td>28</td>\n",
       "      <td>40</td>\n",
       "      <td>0</td>\n",
       "      <td>0</td>\n",
       "      <td>1</td>\n",
       "      <td>0</td>\n",
       "      <td>1</td>\n",
       "      <td>...</td>\n",
       "      <td>0</td>\n",
       "      <td>0</td>\n",
       "      <td>0</td>\n",
       "      <td>0</td>\n",
       "      <td>0</td>\n",
       "      <td>6</td>\n",
       "      <td>0</td>\n",
       "      <td>3</td>\n",
       "      <td>1</td>\n",
       "      <td>0</td>\n",
       "    </tr>\n",
       "    <tr>\n",
       "      <th>4</th>\n",
       "      <td>51549</td>\n",
       "      <td>1</td>\n",
       "      <td>18</td>\n",
       "      <td>31</td>\n",
       "      <td>32</td>\n",
       "      <td>0</td>\n",
       "      <td>0</td>\n",
       "      <td>1</td>\n",
       "      <td>1</td>\n",
       "      <td>0</td>\n",
       "      <td>...</td>\n",
       "      <td>0</td>\n",
       "      <td>0</td>\n",
       "      <td>0</td>\n",
       "      <td>0</td>\n",
       "      <td>0</td>\n",
       "      <td>10</td>\n",
       "      <td>0</td>\n",
       "      <td>2</td>\n",
       "      <td>1</td>\n",
       "      <td>0</td>\n",
       "    </tr>\n",
       "  </tbody>\n",
       "</table>\n",
       "<p>5 rows × 49 columns</p>\n",
       "</div>"
      ],
      "text/plain": [
       "     user  dayofweek  hour  age  numscreens  minigame  used_premium_feature  \\\n",
       "0  235136          3     2   23          15         0                     0   \n",
       "1  333588          6     1   24          13         0                     0   \n",
       "2  254414          1    19   23           3         0                     1   \n",
       "3  234192          4    16   28          40         0                     0   \n",
       "4   51549          1    18   31          32         0                     0   \n",
       "\n",
       "   enrolled  liked  location  ...  SecurityModal  ResendToken  \\\n",
       "0         0      0         0  ...              0            0   \n",
       "1         0      0         1  ...              0            0   \n",
       "2         0      1         0  ...              0            0   \n",
       "3         1      0         1  ...              0            0   \n",
       "4         1      1         0  ...              0            0   \n",
       "\n",
       "   TransactionList  NetworkFailure  ListPicker  OtherScreens  \\\n",
       "0                0               0           0             7   \n",
       "1                0               0           0             5   \n",
       "2                0               0           0             0   \n",
       "3                0               0           0             6   \n",
       "4                0               0           0            10   \n",
       "\n",
       "   CreditCardScreens  CreditMonitoringScreens  LoanScreens  SavingsScreens  \n",
       "0                  0                        0            1               0  \n",
       "1                  0                        0            1               0  \n",
       "2                  0                        0            1               0  \n",
       "3                  0                        3            1               0  \n",
       "4                  0                        2            1               0  \n",
       "\n",
       "[5 rows x 49 columns]"
      ]
     },
     "execution_count": 3,
     "metadata": {},
     "output_type": "execute_result"
    }
   ],
   "source": [
    "app_user_data_df.head()"
   ]
  },
  {
   "cell_type": "code",
   "execution_count": 4,
   "id": "a3e1f6ba",
   "metadata": {},
   "outputs": [
    {
     "data": {
      "text/html": [
       "<div>\n",
       "<style scoped>\n",
       "    .dataframe tbody tr th:only-of-type {\n",
       "        vertical-align: middle;\n",
       "    }\n",
       "\n",
       "    .dataframe tbody tr th {\n",
       "        vertical-align: top;\n",
       "    }\n",
       "\n",
       "    .dataframe thead th {\n",
       "        text-align: right;\n",
       "    }\n",
       "</style>\n",
       "<table border=\"1\" class=\"dataframe\">\n",
       "  <thead>\n",
       "    <tr style=\"text-align: right;\">\n",
       "      <th></th>\n",
       "      <th>user</th>\n",
       "      <th>dayofweek</th>\n",
       "      <th>hour</th>\n",
       "      <th>age</th>\n",
       "      <th>numscreens</th>\n",
       "      <th>minigame</th>\n",
       "      <th>used_premium_feature</th>\n",
       "      <th>enrolled</th>\n",
       "      <th>liked</th>\n",
       "      <th>location</th>\n",
       "      <th>...</th>\n",
       "      <th>SecurityModal</th>\n",
       "      <th>ResendToken</th>\n",
       "      <th>TransactionList</th>\n",
       "      <th>NetworkFailure</th>\n",
       "      <th>ListPicker</th>\n",
       "      <th>OtherScreens</th>\n",
       "      <th>CreditCardScreens</th>\n",
       "      <th>CreditMonitoringScreens</th>\n",
       "      <th>LoanScreens</th>\n",
       "      <th>SavingsScreens</th>\n",
       "    </tr>\n",
       "  </thead>\n",
       "  <tbody>\n",
       "    <tr>\n",
       "      <th>count</th>\n",
       "      <td>49844.000000</td>\n",
       "      <td>49844.000000</td>\n",
       "      <td>49844.000000</td>\n",
       "      <td>49844.000000</td>\n",
       "      <td>49844.000000</td>\n",
       "      <td>49844.000000</td>\n",
       "      <td>49844.000000</td>\n",
       "      <td>49844.000000</td>\n",
       "      <td>49844.000000</td>\n",
       "      <td>49844.000000</td>\n",
       "      <td>...</td>\n",
       "      <td>49844.000000</td>\n",
       "      <td>49844.000000</td>\n",
       "      <td>49844.000000</td>\n",
       "      <td>49844.000000</td>\n",
       "      <td>49844.000000</td>\n",
       "      <td>49844.000000</td>\n",
       "      <td>49844.000000</td>\n",
       "      <td>49844.000000</td>\n",
       "      <td>49844.000000</td>\n",
       "      <td>49844.000000</td>\n",
       "    </tr>\n",
       "    <tr>\n",
       "      <th>mean</th>\n",
       "      <td>186897.636987</td>\n",
       "      <td>3.028730</td>\n",
       "      <td>12.559445</td>\n",
       "      <td>31.732425</td>\n",
       "      <td>20.824914</td>\n",
       "      <td>0.107756</td>\n",
       "      <td>0.172037</td>\n",
       "      <td>0.506520</td>\n",
       "      <td>0.165055</td>\n",
       "      <td>0.516973</td>\n",
       "      <td>...</td>\n",
       "      <td>0.014184</td>\n",
       "      <td>0.013342</td>\n",
       "      <td>0.013021</td>\n",
       "      <td>0.008165</td>\n",
       "      <td>0.007403</td>\n",
       "      <td>6.198620</td>\n",
       "      <td>0.173943</td>\n",
       "      <td>0.924805</td>\n",
       "      <td>0.787015</td>\n",
       "      <td>0.353342</td>\n",
       "    </tr>\n",
       "    <tr>\n",
       "      <th>std</th>\n",
       "      <td>107772.516054</td>\n",
       "      <td>2.032019</td>\n",
       "      <td>7.440927</td>\n",
       "      <td>10.806681</td>\n",
       "      <td>14.778043</td>\n",
       "      <td>0.310075</td>\n",
       "      <td>0.377416</td>\n",
       "      <td>0.499962</td>\n",
       "      <td>0.371234</td>\n",
       "      <td>0.499717</td>\n",
       "      <td>...</td>\n",
       "      <td>0.118251</td>\n",
       "      <td>0.114734</td>\n",
       "      <td>0.113364</td>\n",
       "      <td>0.089994</td>\n",
       "      <td>0.085723</td>\n",
       "      <td>3.655998</td>\n",
       "      <td>0.607022</td>\n",
       "      <td>1.215996</td>\n",
       "      <td>0.677037</td>\n",
       "      <td>1.378283</td>\n",
       "    </tr>\n",
       "    <tr>\n",
       "      <th>min</th>\n",
       "      <td>13.000000</td>\n",
       "      <td>0.000000</td>\n",
       "      <td>0.000000</td>\n",
       "      <td>16.000000</td>\n",
       "      <td>1.000000</td>\n",
       "      <td>0.000000</td>\n",
       "      <td>0.000000</td>\n",
       "      <td>0.000000</td>\n",
       "      <td>0.000000</td>\n",
       "      <td>0.000000</td>\n",
       "      <td>...</td>\n",
       "      <td>0.000000</td>\n",
       "      <td>0.000000</td>\n",
       "      <td>0.000000</td>\n",
       "      <td>0.000000</td>\n",
       "      <td>0.000000</td>\n",
       "      <td>0.000000</td>\n",
       "      <td>0.000000</td>\n",
       "      <td>0.000000</td>\n",
       "      <td>0.000000</td>\n",
       "      <td>0.000000</td>\n",
       "    </tr>\n",
       "    <tr>\n",
       "      <th>25%</th>\n",
       "      <td>93526.750000</td>\n",
       "      <td>1.000000</td>\n",
       "      <td>5.000000</td>\n",
       "      <td>24.000000</td>\n",
       "      <td>10.000000</td>\n",
       "      <td>0.000000</td>\n",
       "      <td>0.000000</td>\n",
       "      <td>0.000000</td>\n",
       "      <td>0.000000</td>\n",
       "      <td>0.000000</td>\n",
       "      <td>...</td>\n",
       "      <td>0.000000</td>\n",
       "      <td>0.000000</td>\n",
       "      <td>0.000000</td>\n",
       "      <td>0.000000</td>\n",
       "      <td>0.000000</td>\n",
       "      <td>3.000000</td>\n",
       "      <td>0.000000</td>\n",
       "      <td>0.000000</td>\n",
       "      <td>0.000000</td>\n",
       "      <td>0.000000</td>\n",
       "    </tr>\n",
       "    <tr>\n",
       "      <th>50%</th>\n",
       "      <td>187183.500000</td>\n",
       "      <td>3.000000</td>\n",
       "      <td>14.000000</td>\n",
       "      <td>29.000000</td>\n",
       "      <td>18.000000</td>\n",
       "      <td>0.000000</td>\n",
       "      <td>0.000000</td>\n",
       "      <td>1.000000</td>\n",
       "      <td>0.000000</td>\n",
       "      <td>1.000000</td>\n",
       "      <td>...</td>\n",
       "      <td>0.000000</td>\n",
       "      <td>0.000000</td>\n",
       "      <td>0.000000</td>\n",
       "      <td>0.000000</td>\n",
       "      <td>0.000000</td>\n",
       "      <td>6.000000</td>\n",
       "      <td>0.000000</td>\n",
       "      <td>0.000000</td>\n",
       "      <td>1.000000</td>\n",
       "      <td>0.000000</td>\n",
       "    </tr>\n",
       "    <tr>\n",
       "      <th>75%</th>\n",
       "      <td>279996.000000</td>\n",
       "      <td>5.000000</td>\n",
       "      <td>19.000000</td>\n",
       "      <td>37.000000</td>\n",
       "      <td>28.000000</td>\n",
       "      <td>0.000000</td>\n",
       "      <td>0.000000</td>\n",
       "      <td>1.000000</td>\n",
       "      <td>0.000000</td>\n",
       "      <td>1.000000</td>\n",
       "      <td>...</td>\n",
       "      <td>0.000000</td>\n",
       "      <td>0.000000</td>\n",
       "      <td>0.000000</td>\n",
       "      <td>0.000000</td>\n",
       "      <td>0.000000</td>\n",
       "      <td>8.000000</td>\n",
       "      <td>0.000000</td>\n",
       "      <td>1.000000</td>\n",
       "      <td>1.000000</td>\n",
       "      <td>0.000000</td>\n",
       "    </tr>\n",
       "    <tr>\n",
       "      <th>max</th>\n",
       "      <td>373662.000000</td>\n",
       "      <td>6.000000</td>\n",
       "      <td>23.000000</td>\n",
       "      <td>101.000000</td>\n",
       "      <td>91.000000</td>\n",
       "      <td>1.000000</td>\n",
       "      <td>1.000000</td>\n",
       "      <td>1.000000</td>\n",
       "      <td>1.000000</td>\n",
       "      <td>1.000000</td>\n",
       "      <td>...</td>\n",
       "      <td>1.000000</td>\n",
       "      <td>1.000000</td>\n",
       "      <td>1.000000</td>\n",
       "      <td>1.000000</td>\n",
       "      <td>1.000000</td>\n",
       "      <td>30.000000</td>\n",
       "      <td>3.000000</td>\n",
       "      <td>5.000000</td>\n",
       "      <td>3.000000</td>\n",
       "      <td>10.000000</td>\n",
       "    </tr>\n",
       "  </tbody>\n",
       "</table>\n",
       "<p>8 rows × 49 columns</p>\n",
       "</div>"
      ],
      "text/plain": [
       "                user     dayofweek          hour           age    numscreens  \\\n",
       "count   49844.000000  49844.000000  49844.000000  49844.000000  49844.000000   \n",
       "mean   186897.636987      3.028730     12.559445     31.732425     20.824914   \n",
       "std    107772.516054      2.032019      7.440927     10.806681     14.778043   \n",
       "min        13.000000      0.000000      0.000000     16.000000      1.000000   \n",
       "25%     93526.750000      1.000000      5.000000     24.000000     10.000000   \n",
       "50%    187183.500000      3.000000     14.000000     29.000000     18.000000   \n",
       "75%    279996.000000      5.000000     19.000000     37.000000     28.000000   \n",
       "max    373662.000000      6.000000     23.000000    101.000000     91.000000   \n",
       "\n",
       "           minigame  used_premium_feature      enrolled         liked  \\\n",
       "count  49844.000000          49844.000000  49844.000000  49844.000000   \n",
       "mean       0.107756              0.172037      0.506520      0.165055   \n",
       "std        0.310075              0.377416      0.499962      0.371234   \n",
       "min        0.000000              0.000000      0.000000      0.000000   \n",
       "25%        0.000000              0.000000      0.000000      0.000000   \n",
       "50%        0.000000              0.000000      1.000000      0.000000   \n",
       "75%        0.000000              0.000000      1.000000      0.000000   \n",
       "max        1.000000              1.000000      1.000000      1.000000   \n",
       "\n",
       "           location  ...  SecurityModal   ResendToken  TransactionList  \\\n",
       "count  49844.000000  ...   49844.000000  49844.000000     49844.000000   \n",
       "mean       0.516973  ...       0.014184      0.013342         0.013021   \n",
       "std        0.499717  ...       0.118251      0.114734         0.113364   \n",
       "min        0.000000  ...       0.000000      0.000000         0.000000   \n",
       "25%        0.000000  ...       0.000000      0.000000         0.000000   \n",
       "50%        1.000000  ...       0.000000      0.000000         0.000000   \n",
       "75%        1.000000  ...       0.000000      0.000000         0.000000   \n",
       "max        1.000000  ...       1.000000      1.000000         1.000000   \n",
       "\n",
       "       NetworkFailure    ListPicker  OtherScreens  CreditCardScreens  \\\n",
       "count    49844.000000  49844.000000  49844.000000       49844.000000   \n",
       "mean         0.008165      0.007403      6.198620           0.173943   \n",
       "std          0.089994      0.085723      3.655998           0.607022   \n",
       "min          0.000000      0.000000      0.000000           0.000000   \n",
       "25%          0.000000      0.000000      3.000000           0.000000   \n",
       "50%          0.000000      0.000000      6.000000           0.000000   \n",
       "75%          0.000000      0.000000      8.000000           0.000000   \n",
       "max          1.000000      1.000000     30.000000           3.000000   \n",
       "\n",
       "       CreditMonitoringScreens   LoanScreens  SavingsScreens  \n",
       "count             49844.000000  49844.000000    49844.000000  \n",
       "mean                  0.924805      0.787015        0.353342  \n",
       "std                   1.215996      0.677037        1.378283  \n",
       "min                   0.000000      0.000000        0.000000  \n",
       "25%                   0.000000      0.000000        0.000000  \n",
       "50%                   0.000000      1.000000        0.000000  \n",
       "75%                   1.000000      1.000000        0.000000  \n",
       "max                   5.000000      3.000000       10.000000  \n",
       "\n",
       "[8 rows x 49 columns]"
      ]
     },
     "execution_count": 4,
     "metadata": {},
     "output_type": "execute_result"
    }
   ],
   "source": [
    "app_user_data_df.describe()"
   ]
  },
  {
   "cell_type": "markdown",
   "id": "1fd70c5b",
   "metadata": {},
   "source": [
    "Here we generate an interactive [YData Profiling](https://docs.profiling.ydata.ai/4.6/) report of our processed data which we save to a HTML file "
   ]
  },
  {
   "cell_type": "code",
   "execution_count": 5,
   "id": "ee242311",
   "metadata": {},
   "outputs": [],
   "source": [
    "%%capture\n",
    "from ydata_profiling import ProfileReport\n",
    "\n",
    "# The local directory to save the report\n",
    "data_dir = '../data/processed'\n",
    "if not os.path.exists(data_dir):\n",
    "    os.makedirs(data_dir)\n",
    "\n",
    "# Generate the report & save to a file\n",
    "data_profile = ProfileReport(app_user_data_df, title=\"Profiling Report of new_app-user-data.csv\")\n",
    "data_profile.to_file(f'../data/processed/ProfileReport_new_app-user-data.html')"
   ]
  },
  {
   "cell_type": "markdown",
   "id": "f4e3ac6a",
   "metadata": {},
   "source": [
    "- To view in the notebook, create a new cell below with ```data_profile.to_notebook_iframe()```\n",
    "\n",
    "- View the report in the web browser [here](https://ml-fintech-case-studies.netlify.app/profile_reports/new_app-user-data.html#overview) 👁️‍🗨️\n",
    "\n",
    "  <img src=\"../../images/app_users_processed_profile-report.png\" width=\"585\" alt=\"ProfileReport\"/>"
   ]
  },
  {
   "cell_type": "code",
   "execution_count": 6,
   "id": "348a931a",
   "metadata": {},
   "outputs": [],
   "source": [
    "# Restore matplotlib to inline mode after viewing for plots\n",
    "%matplotlib inline"
   ]
  },
  {
   "cell_type": "markdown",
   "id": "6c9e1132",
   "metadata": {},
   "source": [
    "# Data Pre-processing <img src=\"../../images/processing.gif\" width=\"40\" alt=\"Processing\">"
   ]
  },
  {
   "cell_type": "markdown",
   "id": "dd1dc170",
   "metadata": {},
   "source": [
    "### Remove the label from the features"
   ]
  },
  {
   "cell_type": "code",
   "execution_count": 7,
   "id": "32347cb1",
   "metadata": {},
   "outputs": [],
   "source": [
    "label = app_user_data_df['enrolled']\n",
    "app_user_data_df = app_user_data_df.drop(columns = 'enrolled')"
   ]
  },
  {
   "cell_type": "markdown",
   "id": "1e6a3404",
   "metadata": {},
   "source": [
    "### Transformations"
   ]
  },
  {
   "cell_type": "code",
   "execution_count": 8,
   "id": "72941b3d",
   "metadata": {},
   "outputs": [],
   "source": [
    "# Convert data to floats\n",
    "app_user_data_df = app_user_data_df.astype(float)"
   ]
  },
  {
   "cell_type": "code",
   "execution_count": 9,
   "id": "47404668",
   "metadata": {},
   "outputs": [],
   "source": [
    "# Take the log of 'numscreens' to address skew for linear models\n",
    "app_user_data_df['log_numscreens'] = np.log(app_user_data_df['numscreens'])\n",
    "\n",
    "# Drop the previous values \n",
    "app_user_data_df.drop('numscreens', axis=1, inplace=True)"
   ]
  },
  {
   "cell_type": "markdown",
   "id": "caf60772",
   "metadata": {},
   "source": [
    "### Feature Selection\n",
    "\n",
    "The following function leverages a model's feature importance scores and [SelectFromModel](https://scikit-learn.org/stable/modules/generated/sklearn.feature_selection.SelectFromModel.html) to calculate threshold scores for feature selection. We persist [results](../experiments/feature_thresholds/) to avoid duplicate runs."
   ]
  },
  {
   "cell_type": "code",
   "execution_count": 10,
   "id": "6a38c7e3",
   "metadata": {},
   "outputs": [],
   "source": [
    "from numpy import sort\n",
    "from sklearn.feature_selection import SelectFromModel\n",
    "from sklearn.metrics import accuracy_score, f1_score, precision_score, recall_score\n",
    "\n",
    "def get_threshold_scores(X_train, y_train, X_test, y_test, model, file_path, run_function):\n",
    "    \"\"\"\n",
    "    Generates scores for feature importance thresholds to be used in feature selection.\n",
    "    Accepts the training & test sets, the trained model, the path to save the file, & a boolean to execute.\n",
    "    Writes a CSV file with the threshold, number of remaining features, & model evaluation metrics.\n",
    "    \"\"\"\n",
    "    if run_function == False: return\n",
    "    results = []\n",
    "    # Fit model using each importance as a threshold\n",
    "    thresholds = sort(model.feature_importances_)\n",
    "    for thresh in thresholds:\n",
    "        # Select features using threshold\n",
    "        selection = SelectFromModel(model, threshold=thresh, prefit=True)\n",
    "        # Apply selection to datasets\n",
    "        select_X_train = selection.transform(X_train.values)\n",
    "        select_X_test = selection.transform(X_test.values)\n",
    "        num_features = select_X_train.shape[1]\n",
    "        # Define the selection_model to use\n",
    "        selection_model = XGBClassifier(n_estimators=100, objective='binary:logistic', random_state=42)\n",
    "        # Train model\n",
    "        selection_model.fit(select_X_train, y_train)\n",
    "        # Evaluate model\n",
    "        y_predict = selection_model.predict(select_X_test)\n",
    "        accuracy = accuracy_score(y_test, y_predict)\n",
    "        precision = precision_score(y_test, y_predict)\n",
    "        recall = recall_score(y_test, y_predict)\n",
    "        f1 = f1_score(y_test, y_predict)\n",
    "        # Results\n",
    "        results.append([thresh, num_features, accuracy, precision, recall, f1])\n",
    "        \n",
    "    # Create a DataFrame from the results list\n",
    "    column_names = [\"Threshold\", \"Num_Features\", \"Accuracy\", \"Precision\", \"Recall\", \"F1_Score\"]\n",
    "    threshold_results_df = pd.DataFrame(results, columns=column_names)\n",
    "    # Save the DataFrame to a CSV file\n",
    "    threshold_results_df.to_csv(file_path, index=False)  "
   ]
  },
  {
   "cell_type": "markdown",
   "id": "9d23bf7f",
   "metadata": {},
   "source": [
    "### Split the dataset into training and test sets"
   ]
  },
  {
   "cell_type": "code",
   "execution_count": 11,
   "id": "0df11ec6",
   "metadata": {},
   "outputs": [
    {
     "name": "stdout",
     "output_type": "stream",
     "text": [
      "(39875, 48)\n",
      "(9969, 48)\n"
     ]
    }
   ],
   "source": [
    "from sklearn.model_selection import train_test_split\n",
    "\n",
    "# Split the data into an 80/20 train/test ratio\n",
    "X_train, X_test, y_train, y_test = train_test_split(app_user_data_df, label,\n",
    "                                                    test_size=0.2,\n",
    "                                                    stratify=label, \n",
    "                                                    random_state=42)\n",
    "print(X_train.shape)\n",
    "print(X_test.shape)"
   ]
  },
  {
   "cell_type": "markdown",
   "id": "ba0069b6",
   "metadata": {},
   "source": [
    "### Filter model data"
   ]
  },
  {
   "cell_type": "code",
   "execution_count": 12,
   "id": "b89054cb",
   "metadata": {},
   "outputs": [],
   "source": [
    "# Purge user identification, persist to associate the prediction to the user it came from \n",
    "train_identifier = X_train['user']\n",
    "X_train = X_train.drop(columns = ['user'])\n",
    "\n",
    "test_identifier = X_test['user']\n",
    "X_test = X_test.drop(columns = ['user'])"
   ]
  },
  {
   "cell_type": "markdown",
   "id": "1370dabf",
   "metadata": {},
   "source": [
    "### Feature Scaling"
   ]
  },
  {
   "cell_type": "code",
   "execution_count": 13,
   "id": "c2ed63c0",
   "metadata": {},
   "outputs": [],
   "source": [
    "from sklearn.preprocessing import StandardScaler\n",
    "\n",
    "def standard_scale(your_df, columns_to_exclude):\n",
    "    \"\"\"\n",
    "    Performs standard scaling on numercial columns within a DataFrame.\n",
    "    Accepts the DataFrame and an array of column names to exclude.\n",
    "    Returns the modified DataFrame.\n",
    "    \"\"\"\n",
    "    # Identify columns to be excluded from scaling\n",
    "    excluded_columns = [col for col in your_df.columns if any(substring in col for substring in columns_to_exclude)]\n",
    "    # Columns to be standardized\n",
    "    columns_to_scale = [col for col in your_df.columns if col not in excluded_columns]\n",
    "    # Instantiate the scaler\n",
    "    standard_scaler_X = StandardScaler()\n",
    "    # Scale the columns\n",
    "    scaled_features = standard_scaler_X.fit_transform(your_df[columns_to_scale])\n",
    "    # Convert scaled features into DataFrame\n",
    "    scaled_df = pd.DataFrame(scaled_features, columns=columns_to_scale, index=your_df.index)\n",
    "    # Concatenate the scaled features with the excluded columns to get the final dataframe\n",
    "    your_df = pd.concat([scaled_df, your_df[excluded_columns]], axis=1)\n",
    "\n",
    "    return your_df"
   ]
  },
  {
   "cell_type": "code",
   "execution_count": 14,
   "id": "c69a0ec9",
   "metadata": {},
   "outputs": [],
   "source": [
    "binary_columns_to_exclude = [col for col in app_user_data_df.columns if set(app_user_data_df[col]) == {0, 1}]\n",
    "\n",
    "X_train = standard_scale(X_train, binary_columns_to_exclude)\n",
    "X_test = standard_scale(X_test, binary_columns_to_exclude)"
   ]
  },
  {
   "cell_type": "markdown",
   "id": "98ef597e",
   "metadata": {},
   "source": [
    "# Model Building 🤖\n",
    "\n",
    "### Training Data"
   ]
  },
  {
   "cell_type": "code",
   "execution_count": 15,
   "id": "8af823b5",
   "metadata": {},
   "outputs": [
    {
     "name": "stdout",
     "output_type": "stream",
     "text": [
      "(31900, 47)\n",
      "(7975, 47)\n"
     ]
    }
   ],
   "source": [
    "# Split the training set into a 80/20 training/validation set\n",
    "X_train, X_validation, y_train, y_validation = train_test_split(X_train, y_train, \n",
    "                                                                test_size=0.2, \n",
    "                                                                stratify=y_train, \n",
    "                                                                random_state=42)\n",
    "print(X_train.shape)\n",
    "print(X_validation.shape)"
   ]
  },
  {
   "cell_type": "markdown",
   "id": "b5688ba5",
   "metadata": {},
   "source": [
    "### Training Data Combined\n",
    "\n",
    "For cross-validation and final model training"
   ]
  },
  {
   "cell_type": "code",
   "execution_count": 16,
   "id": "55cb61f1",
   "metadata": {},
   "outputs": [],
   "source": [
    "# Concatenate the training and validation feature datasets vertically\n",
    "X_train_and_validation = pd.concat([X_train, X_validation], axis=0).reset_index(drop=True)\n",
    "\n",
    "# Concatenate the training and validation label datasets vertically\n",
    "y_train_and_validation = pd.concat([y_train, y_validation], axis=0).reset_index(drop=True)"
   ]
  },
  {
   "cell_type": "markdown",
   "id": "1eaa9f98",
   "metadata": {},
   "source": [
    "### Metrics Function"
   ]
  },
  {
   "cell_type": "code",
   "execution_count": 17,
   "id": "d2057719",
   "metadata": {},
   "outputs": [],
   "source": [
    "from sklearn.metrics import accuracy_score, f1_score, precision_score, recall_score, roc_auc_score\n",
    "\n",
    "def evaluate_scores_and_concat(prob_posclass, y_test, y_predict, model_name, results_dataframe): \n",
    "    \"\"\"\n",
    "    Evaluates model scores and concatenates results to a DataFrame.\n",
    "    \"\"\"\n",
    "    # Get scores\n",
    "    accuracy = accuracy_score(y_test, y_predict)   # CorrectPredicts/TotalPredicts  \n",
    "    precision = precision_score(y_test, y_predict) # TP/(TP+FP)\n",
    "    recall = recall_score(y_test, y_predict)       # TP/(TP+FN)\n",
    "    f1 = f1_score(y_test, y_predict)               # 2*(precision*recall)/(precision+recall)\n",
    "    roc_auc = roc_auc_score(y_test, prob_posclass)\n",
    "    # Transfer scores to a DataFrame\n",
    "    new_results = pd.DataFrame([[model_name, accuracy, precision, recall, f1, roc_auc]],\n",
    "                       columns=['Model', 'Accuracy', 'Precision', 'Recall', 'F1', 'ROC AUC'])\n",
    "    # Concatenate results to the results_dataframe vertically\n",
    "    results_dataframe = pd.concat([results_dataframe, new_results], axis=0).reset_index(drop=True)\n",
    "    \n",
    "    return results_dataframe"
   ]
  },
  {
   "cell_type": "markdown",
   "id": "e28b3009",
   "metadata": {},
   "source": [
    "## Logistic Regression 📈\n",
    "\n",
    "### Training"
   ]
  },
  {
   "cell_type": "code",
   "execution_count": 18,
   "id": "08ddaec7",
   "metadata": {},
   "outputs": [
    {
     "data": {
      "text/html": [
       "<style>#sk-container-id-1 {color: black;}#sk-container-id-1 pre{padding: 0;}#sk-container-id-1 div.sk-toggleable {background-color: white;}#sk-container-id-1 label.sk-toggleable__label {cursor: pointer;display: block;width: 100%;margin-bottom: 0;padding: 0.3em;box-sizing: border-box;text-align: center;}#sk-container-id-1 label.sk-toggleable__label-arrow:before {content: \"▸\";float: left;margin-right: 0.25em;color: #696969;}#sk-container-id-1 label.sk-toggleable__label-arrow:hover:before {color: black;}#sk-container-id-1 div.sk-estimator:hover label.sk-toggleable__label-arrow:before {color: black;}#sk-container-id-1 div.sk-toggleable__content {max-height: 0;max-width: 0;overflow: hidden;text-align: left;background-color: #f0f8ff;}#sk-container-id-1 div.sk-toggleable__content pre {margin: 0.2em;color: black;border-radius: 0.25em;background-color: #f0f8ff;}#sk-container-id-1 input.sk-toggleable__control:checked~div.sk-toggleable__content {max-height: 200px;max-width: 100%;overflow: auto;}#sk-container-id-1 input.sk-toggleable__control:checked~label.sk-toggleable__label-arrow:before {content: \"▾\";}#sk-container-id-1 div.sk-estimator input.sk-toggleable__control:checked~label.sk-toggleable__label {background-color: #d4ebff;}#sk-container-id-1 div.sk-label input.sk-toggleable__control:checked~label.sk-toggleable__label {background-color: #d4ebff;}#sk-container-id-1 input.sk-hidden--visually {border: 0;clip: rect(1px 1px 1px 1px);clip: rect(1px, 1px, 1px, 1px);height: 1px;margin: -1px;overflow: hidden;padding: 0;position: absolute;width: 1px;}#sk-container-id-1 div.sk-estimator {font-family: monospace;background-color: #f0f8ff;border: 1px dotted black;border-radius: 0.25em;box-sizing: border-box;margin-bottom: 0.5em;}#sk-container-id-1 div.sk-estimator:hover {background-color: #d4ebff;}#sk-container-id-1 div.sk-parallel-item::after {content: \"\";width: 100%;border-bottom: 1px solid gray;flex-grow: 1;}#sk-container-id-1 div.sk-label:hover label.sk-toggleable__label {background-color: #d4ebff;}#sk-container-id-1 div.sk-serial::before {content: \"\";position: absolute;border-left: 1px solid gray;box-sizing: border-box;top: 0;bottom: 0;left: 50%;z-index: 0;}#sk-container-id-1 div.sk-serial {display: flex;flex-direction: column;align-items: center;background-color: white;padding-right: 0.2em;padding-left: 0.2em;position: relative;}#sk-container-id-1 div.sk-item {position: relative;z-index: 1;}#sk-container-id-1 div.sk-parallel {display: flex;align-items: stretch;justify-content: center;background-color: white;position: relative;}#sk-container-id-1 div.sk-item::before, #sk-container-id-1 div.sk-parallel-item::before {content: \"\";position: absolute;border-left: 1px solid gray;box-sizing: border-box;top: 0;bottom: 0;left: 50%;z-index: -1;}#sk-container-id-1 div.sk-parallel-item {display: flex;flex-direction: column;z-index: 1;position: relative;background-color: white;}#sk-container-id-1 div.sk-parallel-item:first-child::after {align-self: flex-end;width: 50%;}#sk-container-id-1 div.sk-parallel-item:last-child::after {align-self: flex-start;width: 50%;}#sk-container-id-1 div.sk-parallel-item:only-child::after {width: 0;}#sk-container-id-1 div.sk-dashed-wrapped {border: 1px dashed gray;margin: 0 0.4em 0.5em 0.4em;box-sizing: border-box;padding-bottom: 0.4em;background-color: white;}#sk-container-id-1 div.sk-label label {font-family: monospace;font-weight: bold;display: inline-block;line-height: 1.2em;}#sk-container-id-1 div.sk-label-container {text-align: center;}#sk-container-id-1 div.sk-container {/* jupyter's `normalize.less` sets `[hidden] { display: none; }` but bootstrap.min.css set `[hidden] { display: none !important; }` so we also need the `!important` here to be able to override the default hidden behavior on the sphinx rendered scikit-learn.org. See: https://github.com/scikit-learn/scikit-learn/issues/21755 */display: inline-block !important;position: relative;}#sk-container-id-1 div.sk-text-repr-fallback {display: none;}</style><div id=\"sk-container-id-1\" class=\"sk-top-container\"><div class=\"sk-text-repr-fallback\"><pre>LogisticRegression(penalty=&#x27;l1&#x27;, random_state=42, solver=&#x27;saga&#x27;)</pre><b>In a Jupyter environment, please rerun this cell to show the HTML representation or trust the notebook. <br />On GitHub, the HTML representation is unable to render, please try loading this page with nbviewer.org.</b></div><div class=\"sk-container\" hidden><div class=\"sk-item\"><div class=\"sk-estimator sk-toggleable\"><input class=\"sk-toggleable__control sk-hidden--visually\" id=\"sk-estimator-id-1\" type=\"checkbox\" checked><label for=\"sk-estimator-id-1\" class=\"sk-toggleable__label sk-toggleable__label-arrow\">LogisticRegression</label><div class=\"sk-toggleable__content\"><pre>LogisticRegression(penalty=&#x27;l1&#x27;, random_state=42, solver=&#x27;saga&#x27;)</pre></div></div></div></div></div>"
      ],
      "text/plain": [
       "LogisticRegression(penalty='l1', random_state=42, solver='saga')"
      ]
     },
     "execution_count": 18,
     "metadata": {},
     "output_type": "execute_result"
    }
   ],
   "source": [
    "from sklearn.linear_model import LogisticRegression\n",
    "\n",
    "# Penalty 'l1' Lasso regularization\n",
    "lr_model = LogisticRegression(penalty='l1', solver='saga', random_state=42)\n",
    "\n",
    "lr_model.fit(X_train, y_train)"
   ]
  },
  {
   "cell_type": "code",
   "execution_count": 19,
   "id": "d2b65d77",
   "metadata": {},
   "outputs": [],
   "source": [
    "# Initialize a results DataFrame\n",
    "df_results = pd.DataFrame()"
   ]
  },
  {
   "cell_type": "markdown",
   "id": "44a8ddfd",
   "metadata": {},
   "source": [
    "### Evaluation"
   ]
  },
  {
   "cell_type": "code",
   "execution_count": 20,
   "id": "7812255d",
   "metadata": {},
   "outputs": [
    {
     "name": "stdout",
     "output_type": "stream",
     "text": [
      "Cross Validated Accuracy: 76.46%\n",
      "Confidence Interval: +- 1.32%\n",
      "\n"
     ]
    },
    {
     "data": {
      "text/html": [
       "<div>\n",
       "<style scoped>\n",
       "    .dataframe tbody tr th:only-of-type {\n",
       "        vertical-align: middle;\n",
       "    }\n",
       "\n",
       "    .dataframe tbody tr th {\n",
       "        vertical-align: top;\n",
       "    }\n",
       "\n",
       "    .dataframe thead th {\n",
       "        text-align: right;\n",
       "    }\n",
       "</style>\n",
       "<table border=\"1\" class=\"dataframe\">\n",
       "  <thead>\n",
       "    <tr style=\"text-align: right;\">\n",
       "      <th></th>\n",
       "      <th>Model</th>\n",
       "      <th>Accuracy</th>\n",
       "      <th>Precision</th>\n",
       "      <th>Recall</th>\n",
       "      <th>F1</th>\n",
       "      <th>ROC AUC</th>\n",
       "    </tr>\n",
       "  </thead>\n",
       "  <tbody>\n",
       "    <tr>\n",
       "      <th>0</th>\n",
       "      <td>LogisticRegression (Lasso)</td>\n",
       "      <td>0.760502</td>\n",
       "      <td>0.764209</td>\n",
       "      <td>0.762317</td>\n",
       "      <td>0.763262</td>\n",
       "      <td>0.834655</td>\n",
       "    </tr>\n",
       "  </tbody>\n",
       "</table>\n",
       "</div>"
      ],
      "text/plain": [
       "                        Model  Accuracy  Precision    Recall        F1  \\\n",
       "0  LogisticRegression (Lasso)  0.760502   0.764209  0.762317  0.763262   \n",
       "\n",
       "    ROC AUC  \n",
       "0  0.834655  "
      ]
     },
     "execution_count": 20,
     "metadata": {},
     "output_type": "execute_result"
    }
   ],
   "source": [
    "from sklearn.model_selection import cross_val_score\n",
    "\n",
    "# Make predictions from the validation set\n",
    "y_predict = lr_model.predict(X_validation)\n",
    "\n",
    "# Predict the probabilities of the positive class\n",
    "prob_posclass = lr_model.predict_proba(X_validation)[:, 1]\n",
    "\n",
    "# Get model scores\n",
    "df_results = evaluate_scores_and_concat(prob_posclass, y_validation, y_predict, 'LogisticRegression (Lasso)', df_results)\n",
    "\n",
    "# Perform k-fold cross-validation, here with 10 folds\n",
    "accuracies = cross_val_score(estimator=lr_model, X=X_train_and_validation, y=y_train_and_validation, cv=10)\n",
    "\n",
    "print(\"Cross Validated Accuracy: {:.2f}%\".format(accuracies.mean()*100))\n",
    "print(\"Confidence Interval: +- {:.2f}%\\n\".format((accuracies.std()*2)*100))\n",
    "df_results"
   ]
  },
  {
   "cell_type": "markdown",
   "id": "fdcec9b0",
   "metadata": {},
   "source": [
    "## Random Forest Classifier 🌳\n",
    "\n",
    "### Training"
   ]
  },
  {
   "cell_type": "code",
   "execution_count": 21,
   "id": "4593d270",
   "metadata": {},
   "outputs": [
    {
     "data": {
      "text/html": [
       "<style>#sk-container-id-2 {color: black;}#sk-container-id-2 pre{padding: 0;}#sk-container-id-2 div.sk-toggleable {background-color: white;}#sk-container-id-2 label.sk-toggleable__label {cursor: pointer;display: block;width: 100%;margin-bottom: 0;padding: 0.3em;box-sizing: border-box;text-align: center;}#sk-container-id-2 label.sk-toggleable__label-arrow:before {content: \"▸\";float: left;margin-right: 0.25em;color: #696969;}#sk-container-id-2 label.sk-toggleable__label-arrow:hover:before {color: black;}#sk-container-id-2 div.sk-estimator:hover label.sk-toggleable__label-arrow:before {color: black;}#sk-container-id-2 div.sk-toggleable__content {max-height: 0;max-width: 0;overflow: hidden;text-align: left;background-color: #f0f8ff;}#sk-container-id-2 div.sk-toggleable__content pre {margin: 0.2em;color: black;border-radius: 0.25em;background-color: #f0f8ff;}#sk-container-id-2 input.sk-toggleable__control:checked~div.sk-toggleable__content {max-height: 200px;max-width: 100%;overflow: auto;}#sk-container-id-2 input.sk-toggleable__control:checked~label.sk-toggleable__label-arrow:before {content: \"▾\";}#sk-container-id-2 div.sk-estimator input.sk-toggleable__control:checked~label.sk-toggleable__label {background-color: #d4ebff;}#sk-container-id-2 div.sk-label input.sk-toggleable__control:checked~label.sk-toggleable__label {background-color: #d4ebff;}#sk-container-id-2 input.sk-hidden--visually {border: 0;clip: rect(1px 1px 1px 1px);clip: rect(1px, 1px, 1px, 1px);height: 1px;margin: -1px;overflow: hidden;padding: 0;position: absolute;width: 1px;}#sk-container-id-2 div.sk-estimator {font-family: monospace;background-color: #f0f8ff;border: 1px dotted black;border-radius: 0.25em;box-sizing: border-box;margin-bottom: 0.5em;}#sk-container-id-2 div.sk-estimator:hover {background-color: #d4ebff;}#sk-container-id-2 div.sk-parallel-item::after {content: \"\";width: 100%;border-bottom: 1px solid gray;flex-grow: 1;}#sk-container-id-2 div.sk-label:hover label.sk-toggleable__label {background-color: #d4ebff;}#sk-container-id-2 div.sk-serial::before {content: \"\";position: absolute;border-left: 1px solid gray;box-sizing: border-box;top: 0;bottom: 0;left: 50%;z-index: 0;}#sk-container-id-2 div.sk-serial {display: flex;flex-direction: column;align-items: center;background-color: white;padding-right: 0.2em;padding-left: 0.2em;position: relative;}#sk-container-id-2 div.sk-item {position: relative;z-index: 1;}#sk-container-id-2 div.sk-parallel {display: flex;align-items: stretch;justify-content: center;background-color: white;position: relative;}#sk-container-id-2 div.sk-item::before, #sk-container-id-2 div.sk-parallel-item::before {content: \"\";position: absolute;border-left: 1px solid gray;box-sizing: border-box;top: 0;bottom: 0;left: 50%;z-index: -1;}#sk-container-id-2 div.sk-parallel-item {display: flex;flex-direction: column;z-index: 1;position: relative;background-color: white;}#sk-container-id-2 div.sk-parallel-item:first-child::after {align-self: flex-end;width: 50%;}#sk-container-id-2 div.sk-parallel-item:last-child::after {align-self: flex-start;width: 50%;}#sk-container-id-2 div.sk-parallel-item:only-child::after {width: 0;}#sk-container-id-2 div.sk-dashed-wrapped {border: 1px dashed gray;margin: 0 0.4em 0.5em 0.4em;box-sizing: border-box;padding-bottom: 0.4em;background-color: white;}#sk-container-id-2 div.sk-label label {font-family: monospace;font-weight: bold;display: inline-block;line-height: 1.2em;}#sk-container-id-2 div.sk-label-container {text-align: center;}#sk-container-id-2 div.sk-container {/* jupyter's `normalize.less` sets `[hidden] { display: none; }` but bootstrap.min.css set `[hidden] { display: none !important; }` so we also need the `!important` here to be able to override the default hidden behavior on the sphinx rendered scikit-learn.org. See: https://github.com/scikit-learn/scikit-learn/issues/21755 */display: inline-block !important;position: relative;}#sk-container-id-2 div.sk-text-repr-fallback {display: none;}</style><div id=\"sk-container-id-2\" class=\"sk-top-container\"><div class=\"sk-text-repr-fallback\"><pre>RandomForestClassifier(criterion=&#x27;entropy&#x27;, random_state=42)</pre><b>In a Jupyter environment, please rerun this cell to show the HTML representation or trust the notebook. <br />On GitHub, the HTML representation is unable to render, please try loading this page with nbviewer.org.</b></div><div class=\"sk-container\" hidden><div class=\"sk-item\"><div class=\"sk-estimator sk-toggleable\"><input class=\"sk-toggleable__control sk-hidden--visually\" id=\"sk-estimator-id-2\" type=\"checkbox\" checked><label for=\"sk-estimator-id-2\" class=\"sk-toggleable__label sk-toggleable__label-arrow\">RandomForestClassifier</label><div class=\"sk-toggleable__content\"><pre>RandomForestClassifier(criterion=&#x27;entropy&#x27;, random_state=42)</pre></div></div></div></div></div>"
      ],
      "text/plain": [
       "RandomForestClassifier(criterion='entropy', random_state=42)"
      ]
     },
     "execution_count": 21,
     "metadata": {},
     "output_type": "execute_result"
    }
   ],
   "source": [
    "from sklearn.ensemble import RandomForestClassifier\n",
    "\n",
    "# 100 Trees\n",
    "rf_model = RandomForestClassifier(n_estimators=100, criterion='entropy', random_state=42)\n",
    "\n",
    "rf_model.fit(X_train, y_train)"
   ]
  },
  {
   "cell_type": "markdown",
   "id": "33648fa4",
   "metadata": {},
   "source": [
    "### Evaluation"
   ]
  },
  {
   "cell_type": "code",
   "execution_count": 22,
   "id": "3c0f0960",
   "metadata": {},
   "outputs": [
    {
     "name": "stdout",
     "output_type": "stream",
     "text": [
      "Cross Validated Accuracy: 77.73%\n",
      "Confidence Interval: +- 1.41%\n",
      "\n"
     ]
    },
    {
     "data": {
      "text/html": [
       "<div>\n",
       "<style scoped>\n",
       "    .dataframe tbody tr th:only-of-type {\n",
       "        vertical-align: middle;\n",
       "    }\n",
       "\n",
       "    .dataframe tbody tr th {\n",
       "        vertical-align: top;\n",
       "    }\n",
       "\n",
       "    .dataframe thead th {\n",
       "        text-align: right;\n",
       "    }\n",
       "</style>\n",
       "<table border=\"1\" class=\"dataframe\">\n",
       "  <thead>\n",
       "    <tr style=\"text-align: right;\">\n",
       "      <th></th>\n",
       "      <th>Model</th>\n",
       "      <th>Accuracy</th>\n",
       "      <th>Precision</th>\n",
       "      <th>Recall</th>\n",
       "      <th>F1</th>\n",
       "      <th>ROC AUC</th>\n",
       "    </tr>\n",
       "  </thead>\n",
       "  <tbody>\n",
       "    <tr>\n",
       "      <th>0</th>\n",
       "      <td>LogisticRegression (Lasso)</td>\n",
       "      <td>0.760502</td>\n",
       "      <td>0.764209</td>\n",
       "      <td>0.762317</td>\n",
       "      <td>0.763262</td>\n",
       "      <td>0.834655</td>\n",
       "    </tr>\n",
       "    <tr>\n",
       "      <th>1</th>\n",
       "      <td>RandomForestClassifier (n=100)</td>\n",
       "      <td>0.777053</td>\n",
       "      <td>0.787879</td>\n",
       "      <td>0.766031</td>\n",
       "      <td>0.776801</td>\n",
       "      <td>0.854993</td>\n",
       "    </tr>\n",
       "  </tbody>\n",
       "</table>\n",
       "</div>"
      ],
      "text/plain": [
       "                            Model  Accuracy  Precision    Recall        F1  \\\n",
       "0      LogisticRegression (Lasso)  0.760502   0.764209  0.762317  0.763262   \n",
       "1  RandomForestClassifier (n=100)  0.777053   0.787879  0.766031  0.776801   \n",
       "\n",
       "    ROC AUC  \n",
       "0  0.834655  \n",
       "1  0.854993  "
      ]
     },
     "execution_count": 22,
     "metadata": {},
     "output_type": "execute_result"
    }
   ],
   "source": [
    "# Make predictions from the validation set\n",
    "y_predict = rf_model.predict(X_validation)\n",
    "\n",
    "# Predict the probabilities of the positive class\n",
    "prob_posclass = rf_model.predict_proba(X_validation)[:, 1]\n",
    "\n",
    "# Get model scores\n",
    "df_results = evaluate_scores_and_concat(prob_posclass, y_validation, y_predict, 'RandomForestClassifier (n=100)', df_results)\n",
    "\n",
    "# Perform k-fold cross-validation, here with 10 folds\n",
    "accuracies = cross_val_score(estimator=rf_model, X=X_train_and_validation, y=y_train_and_validation, cv=10)\n",
    "\n",
    "print(\"Cross Validated Accuracy: {:.2f}%\".format(accuracies.mean()*100))\n",
    "print(\"Confidence Interval: +- {:.2f}%\\n\".format((accuracies.std()*2)*100))\n",
    "df_results"
   ]
  },
  {
   "cell_type": "markdown",
   "id": "312a62a8",
   "metadata": {},
   "source": [
    "## XGBoost Classifier 🚀\n",
    "\n",
    "\n",
    "### Training"
   ]
  },
  {
   "cell_type": "code",
   "execution_count": 23,
   "id": "9a641f2f",
   "metadata": {},
   "outputs": [
    {
     "data": {
      "text/html": [
       "<style>#sk-container-id-3 {color: black;}#sk-container-id-3 pre{padding: 0;}#sk-container-id-3 div.sk-toggleable {background-color: white;}#sk-container-id-3 label.sk-toggleable__label {cursor: pointer;display: block;width: 100%;margin-bottom: 0;padding: 0.3em;box-sizing: border-box;text-align: center;}#sk-container-id-3 label.sk-toggleable__label-arrow:before {content: \"▸\";float: left;margin-right: 0.25em;color: #696969;}#sk-container-id-3 label.sk-toggleable__label-arrow:hover:before {color: black;}#sk-container-id-3 div.sk-estimator:hover label.sk-toggleable__label-arrow:before {color: black;}#sk-container-id-3 div.sk-toggleable__content {max-height: 0;max-width: 0;overflow: hidden;text-align: left;background-color: #f0f8ff;}#sk-container-id-3 div.sk-toggleable__content pre {margin: 0.2em;color: black;border-radius: 0.25em;background-color: #f0f8ff;}#sk-container-id-3 input.sk-toggleable__control:checked~div.sk-toggleable__content {max-height: 200px;max-width: 100%;overflow: auto;}#sk-container-id-3 input.sk-toggleable__control:checked~label.sk-toggleable__label-arrow:before {content: \"▾\";}#sk-container-id-3 div.sk-estimator input.sk-toggleable__control:checked~label.sk-toggleable__label {background-color: #d4ebff;}#sk-container-id-3 div.sk-label input.sk-toggleable__control:checked~label.sk-toggleable__label {background-color: #d4ebff;}#sk-container-id-3 input.sk-hidden--visually {border: 0;clip: rect(1px 1px 1px 1px);clip: rect(1px, 1px, 1px, 1px);height: 1px;margin: -1px;overflow: hidden;padding: 0;position: absolute;width: 1px;}#sk-container-id-3 div.sk-estimator {font-family: monospace;background-color: #f0f8ff;border: 1px dotted black;border-radius: 0.25em;box-sizing: border-box;margin-bottom: 0.5em;}#sk-container-id-3 div.sk-estimator:hover {background-color: #d4ebff;}#sk-container-id-3 div.sk-parallel-item::after {content: \"\";width: 100%;border-bottom: 1px solid gray;flex-grow: 1;}#sk-container-id-3 div.sk-label:hover label.sk-toggleable__label {background-color: #d4ebff;}#sk-container-id-3 div.sk-serial::before {content: \"\";position: absolute;border-left: 1px solid gray;box-sizing: border-box;top: 0;bottom: 0;left: 50%;z-index: 0;}#sk-container-id-3 div.sk-serial {display: flex;flex-direction: column;align-items: center;background-color: white;padding-right: 0.2em;padding-left: 0.2em;position: relative;}#sk-container-id-3 div.sk-item {position: relative;z-index: 1;}#sk-container-id-3 div.sk-parallel {display: flex;align-items: stretch;justify-content: center;background-color: white;position: relative;}#sk-container-id-3 div.sk-item::before, #sk-container-id-3 div.sk-parallel-item::before {content: \"\";position: absolute;border-left: 1px solid gray;box-sizing: border-box;top: 0;bottom: 0;left: 50%;z-index: -1;}#sk-container-id-3 div.sk-parallel-item {display: flex;flex-direction: column;z-index: 1;position: relative;background-color: white;}#sk-container-id-3 div.sk-parallel-item:first-child::after {align-self: flex-end;width: 50%;}#sk-container-id-3 div.sk-parallel-item:last-child::after {align-self: flex-start;width: 50%;}#sk-container-id-3 div.sk-parallel-item:only-child::after {width: 0;}#sk-container-id-3 div.sk-dashed-wrapped {border: 1px dashed gray;margin: 0 0.4em 0.5em 0.4em;box-sizing: border-box;padding-bottom: 0.4em;background-color: white;}#sk-container-id-3 div.sk-label label {font-family: monospace;font-weight: bold;display: inline-block;line-height: 1.2em;}#sk-container-id-3 div.sk-label-container {text-align: center;}#sk-container-id-3 div.sk-container {/* jupyter's `normalize.less` sets `[hidden] { display: none; }` but bootstrap.min.css set `[hidden] { display: none !important; }` so we also need the `!important` here to be able to override the default hidden behavior on the sphinx rendered scikit-learn.org. See: https://github.com/scikit-learn/scikit-learn/issues/21755 */display: inline-block !important;position: relative;}#sk-container-id-3 div.sk-text-repr-fallback {display: none;}</style><div id=\"sk-container-id-3\" class=\"sk-top-container\"><div class=\"sk-text-repr-fallback\"><pre>XGBClassifier(base_score=None, booster=None, callbacks=None,\n",
       "              colsample_bylevel=None, colsample_bynode=None,\n",
       "              colsample_bytree=None, early_stopping_rounds=None,\n",
       "              enable_categorical=False, eval_metric=None, feature_types=None,\n",
       "              gamma=None, gpu_id=None, grow_policy=None, importance_type=None,\n",
       "              interaction_constraints=None, learning_rate=None, max_bin=None,\n",
       "              max_cat_threshold=None, max_cat_to_onehot=None,\n",
       "              max_delta_step=None, max_depth=None, max_leaves=None,\n",
       "              min_child_weight=None, missing=nan, monotone_constraints=None,\n",
       "              n_estimators=100, n_jobs=None, num_parallel_tree=None,\n",
       "              predictor=None, random_state=42, ...)</pre><b>In a Jupyter environment, please rerun this cell to show the HTML representation or trust the notebook. <br />On GitHub, the HTML representation is unable to render, please try loading this page with nbviewer.org.</b></div><div class=\"sk-container\" hidden><div class=\"sk-item\"><div class=\"sk-estimator sk-toggleable\"><input class=\"sk-toggleable__control sk-hidden--visually\" id=\"sk-estimator-id-3\" type=\"checkbox\" checked><label for=\"sk-estimator-id-3\" class=\"sk-toggleable__label sk-toggleable__label-arrow\">XGBClassifier</label><div class=\"sk-toggleable__content\"><pre>XGBClassifier(base_score=None, booster=None, callbacks=None,\n",
       "              colsample_bylevel=None, colsample_bynode=None,\n",
       "              colsample_bytree=None, early_stopping_rounds=None,\n",
       "              enable_categorical=False, eval_metric=None, feature_types=None,\n",
       "              gamma=None, gpu_id=None, grow_policy=None, importance_type=None,\n",
       "              interaction_constraints=None, learning_rate=None, max_bin=None,\n",
       "              max_cat_threshold=None, max_cat_to_onehot=None,\n",
       "              max_delta_step=None, max_depth=None, max_leaves=None,\n",
       "              min_child_weight=None, missing=nan, monotone_constraints=None,\n",
       "              n_estimators=100, n_jobs=None, num_parallel_tree=None,\n",
       "              predictor=None, random_state=42, ...)</pre></div></div></div></div></div>"
      ],
      "text/plain": [
       "XGBClassifier(base_score=None, booster=None, callbacks=None,\n",
       "              colsample_bylevel=None, colsample_bynode=None,\n",
       "              colsample_bytree=None, early_stopping_rounds=None,\n",
       "              enable_categorical=False, eval_metric=None, feature_types=None,\n",
       "              gamma=None, gpu_id=None, grow_policy=None, importance_type=None,\n",
       "              interaction_constraints=None, learning_rate=None, max_bin=None,\n",
       "              max_cat_threshold=None, max_cat_to_onehot=None,\n",
       "              max_delta_step=None, max_depth=None, max_leaves=None,\n",
       "              min_child_weight=None, missing=nan, monotone_constraints=None,\n",
       "              n_estimators=100, n_jobs=None, num_parallel_tree=None,\n",
       "              predictor=None, random_state=42, ...)"
      ]
     },
     "execution_count": 23,
     "metadata": {},
     "output_type": "execute_result"
    }
   ],
   "source": [
    "from xgboost import XGBClassifier\n",
    "\n",
    "# 100 Stages\n",
    "xgb_model = XGBClassifier(n_estimators=100, objective='binary:logistic', random_state=42)\n",
    "\n",
    "xgb_model.fit(X_train, y_train)"
   ]
  },
  {
   "cell_type": "markdown",
   "id": "5199da7f",
   "metadata": {},
   "source": [
    "### Evaluation"
   ]
  },
  {
   "cell_type": "code",
   "execution_count": 24,
   "id": "204dbb31",
   "metadata": {},
   "outputs": [
    {
     "name": "stdout",
     "output_type": "stream",
     "text": [
      "Cross Validated Accuracy: 77.79%\n",
      "Confidence Interval: +- 1.30%\n",
      "\n"
     ]
    },
    {
     "data": {
      "text/html": [
       "<div>\n",
       "<style scoped>\n",
       "    .dataframe tbody tr th:only-of-type {\n",
       "        vertical-align: middle;\n",
       "    }\n",
       "\n",
       "    .dataframe tbody tr th {\n",
       "        vertical-align: top;\n",
       "    }\n",
       "\n",
       "    .dataframe thead th {\n",
       "        text-align: right;\n",
       "    }\n",
       "</style>\n",
       "<table border=\"1\" class=\"dataframe\">\n",
       "  <thead>\n",
       "    <tr style=\"text-align: right;\">\n",
       "      <th></th>\n",
       "      <th>Model</th>\n",
       "      <th>Accuracy</th>\n",
       "      <th>Precision</th>\n",
       "      <th>Recall</th>\n",
       "      <th>F1</th>\n",
       "      <th>ROC AUC</th>\n",
       "    </tr>\n",
       "  </thead>\n",
       "  <tbody>\n",
       "    <tr>\n",
       "      <th>0</th>\n",
       "      <td>LogisticRegression (Lasso)</td>\n",
       "      <td>0.760502</td>\n",
       "      <td>0.764209</td>\n",
       "      <td>0.762317</td>\n",
       "      <td>0.763262</td>\n",
       "      <td>0.834655</td>\n",
       "    </tr>\n",
       "    <tr>\n",
       "      <th>1</th>\n",
       "      <td>RandomForestClassifier (n=100)</td>\n",
       "      <td>0.777053</td>\n",
       "      <td>0.787879</td>\n",
       "      <td>0.766031</td>\n",
       "      <td>0.776801</td>\n",
       "      <td>0.854993</td>\n",
       "    </tr>\n",
       "    <tr>\n",
       "      <th>2</th>\n",
       "      <td>XGBClassifier (n=100)</td>\n",
       "      <td>0.770909</td>\n",
       "      <td>0.784905</td>\n",
       "      <td>0.754395</td>\n",
       "      <td>0.769347</td>\n",
       "      <td>0.856257</td>\n",
       "    </tr>\n",
       "  </tbody>\n",
       "</table>\n",
       "</div>"
      ],
      "text/plain": [
       "                            Model  Accuracy  Precision    Recall        F1  \\\n",
       "0      LogisticRegression (Lasso)  0.760502   0.764209  0.762317  0.763262   \n",
       "1  RandomForestClassifier (n=100)  0.777053   0.787879  0.766031  0.776801   \n",
       "2           XGBClassifier (n=100)  0.770909   0.784905  0.754395  0.769347   \n",
       "\n",
       "    ROC AUC  \n",
       "0  0.834655  \n",
       "1  0.854993  \n",
       "2  0.856257  "
      ]
     },
     "execution_count": 24,
     "metadata": {},
     "output_type": "execute_result"
    }
   ],
   "source": [
    "# Make predictions from the validation set\n",
    "y_predict = xgb_model.predict(X_validation)\n",
    "\n",
    "# Predict the probabilities of the positive class\n",
    "prob_posclass = xgb_model.predict_proba(X_validation)[:, 1]\n",
    "\n",
    "# Get model scores\n",
    "df_results = evaluate_scores_and_concat(prob_posclass, y_validation, y_predict, 'XGBClassifier (n=100)', df_results)\n",
    "\n",
    "# Perform k-fold cross-validation, here with 10 folds\n",
    "accuracies = cross_val_score(estimator=xgb_model, X=X_train_and_validation, y=y_train_and_validation, cv=10)\n",
    "\n",
    "print(\"Cross Validated Accuracy: {:.2f}%\".format(accuracies.mean()*100))\n",
    "print(\"Confidence Interval: +- {:.2f}%\\n\".format((accuracies.std()*2)*100))\n",
    "df_results"
   ]
  },
  {
   "cell_type": "markdown",
   "id": "89f725dc",
   "metadata": {},
   "source": [
    "## Save Data 💾"
   ]
  },
  {
   "cell_type": "code",
   "execution_count": 25,
   "id": "c015b027",
   "metadata": {},
   "outputs": [],
   "source": [
    "# Create a directory to save results\n",
    "directory = \"../experiments/baseline_metrics\"\n",
    "if not os.path.exists(directory): os.makedirs(directory)\n",
    "\n",
    "df_results.to_csv(f\"{directory}/baseline_metrics_001.csv\", index=False)"
   ]
  },
  {
   "cell_type": "markdown",
   "id": "20888c19",
   "metadata": {},
   "source": [
    "## Baseline Model Evaluation <img src=\"../../images/charts.gif\" width=\"43\" alt=\"Chart Bars\"/>\n",
    "\n",
    "Here we continue with a further evaluation of the [XGBClassifier](https://xgboost.readthedocs.io/en/stable/python/python_api.html#xgboost.XGBClassifier) algorithm as a baseline model"
   ]
  },
  {
   "cell_type": "code",
   "execution_count": 26,
   "id": "b27b6be2",
   "metadata": {},
   "outputs": [],
   "source": [
    "# Define model\n",
    "model = xgb_model"
   ]
  },
  {
   "cell_type": "markdown",
   "id": "8e7cb464",
   "metadata": {},
   "source": [
    "### Confusion Matrix"
   ]
  },
  {
   "cell_type": "code",
   "execution_count": 27,
   "id": "97d7f400",
   "metadata": {},
   "outputs": [],
   "source": [
    "from sklearn.metrics import confusion_matrix, ConfusionMatrixDisplay\n",
    "\n",
    "def sklearn_confusion_matrix(y_test, y_predict):\n",
    "    \"\"\"\n",
    "    Generates a scikit-learn confusion matrix. \n",
    "    Accepts the test labels and the predicted labels from the model.\n",
    "    Displays the plot.\n",
    "    \"\"\"\n",
    "    # Create a confusion matrix with the labels and our model's predictions\n",
    "    conf_matrix = confusion_matrix(y_test, y_predict)\n",
    "    # Create the plot\n",
    "    fig, ax = plt.subplots(figsize=(8,6), dpi=100)\n",
    "    display = ConfusionMatrixDisplay(conf_matrix, display_labels=model.classes_)\n",
    "    ax.set(title='Confusion Matrix for Predicting Loan E-Signature Model')\n",
    "    display.plot(ax=ax, cmap='Blues', values_format='d')\n",
    "    plt.show()"
   ]
  },
  {
   "cell_type": "code",
   "execution_count": 28,
   "id": "ac1d3ae9",
   "metadata": {},
   "outputs": [
    {
     "data": {
      "image/png": "[encoded data removed]",
      "text/plain": [
       "<Figure size 800x600 with 2 Axes>"
      ]
     },
     "metadata": {},
     "output_type": "display_data"
    },
    {
     "data": {
      "text/html": [
       "<div>\n",
       "<style scoped>\n",
       "    .dataframe tbody tr th:only-of-type {\n",
       "        vertical-align: middle;\n",
       "    }\n",
       "\n",
       "    .dataframe tbody tr th {\n",
       "        vertical-align: top;\n",
       "    }\n",
       "\n",
       "    .dataframe thead th {\n",
       "        text-align: right;\n",
       "    }\n",
       "</style>\n",
       "<table border=\"1\" class=\"dataframe\">\n",
       "  <thead>\n",
       "    <tr style=\"text-align: right;\">\n",
       "      <th></th>\n",
       "      <th>Model</th>\n",
       "      <th>Accuracy</th>\n",
       "      <th>Precision</th>\n",
       "      <th>Recall</th>\n",
       "      <th>F1</th>\n",
       "    </tr>\n",
       "  </thead>\n",
       "  <tbody>\n",
       "    <tr>\n",
       "      <th>0</th>\n",
       "      <td>XGBClassifier</td>\n",
       "      <td>0.770909</td>\n",
       "      <td>0.784905</td>\n",
       "      <td>0.754395</td>\n",
       "      <td>0.769347</td>\n",
       "    </tr>\n",
       "  </tbody>\n",
       "</table>\n",
       "</div>"
      ],
      "text/plain": [
       "           Model  Accuracy  Precision    Recall        F1\n",
       "0  XGBClassifier  0.770909   0.784905  0.754395  0.769347"
      ]
     },
     "execution_count": 28,
     "metadata": {},
     "output_type": "execute_result"
    }
   ],
   "source": [
    "# Plot confusion matrix\n",
    "sklearn_confusion_matrix(y_validation, y_predict)\n",
    "\n",
    "# Make predictions and display scores\n",
    "y_predict = model.predict(X_validation)\n",
    "prob_posclass = model.predict_proba(X_validation)[:, 1]\n",
    "baseline_results_df = pd.DataFrame()\n",
    "baseline_results_df = evaluate_scores_and_concat(prob_posclass, y_validation, y_predict, f'{type(model).__name__}', baseline_results_df)\n",
    "conf_matrix_df = baseline_results_df.copy().drop(columns='ROC AUC')\n",
    "conf_matrix_df"
   ]
  },
  {
   "cell_type": "markdown",
   "id": "28f1e3af",
   "metadata": {},
   "source": [
    "### Receiver Operating Characteristic (ROC) Curve"
   ]
  },
  {
   "cell_type": "code",
   "execution_count": 29,
   "id": "1efa0779",
   "metadata": {},
   "outputs": [],
   "source": [
    "from sklearn.metrics import roc_curve, roc_auc_score\n",
    "import seaborn.objects as so\n",
    "\n",
    "def plot_roc_curve(X_test, y_test, model):\n",
    "   \"\"\"\n",
    "   Function for plotting the ROC Curve.\n",
    "   Accepts the test features, test labels, and the trained model.\n",
    "   Displays the plot and returns the AUC score. \n",
    "   \"\"\"\n",
    "   # Generate data for a 45 degree line\n",
    "   noskill_probabilities = [0 for number in range(len(y_test))]\n",
    "   # Predict the probabilities of the positive class\n",
    "   probabilities_posclass = model.predict_proba(X_test)[:, 1]\n",
    "   # Calculate data for horizontal line\n",
    "   falsepositive_rate_noskill, truepositive_rate_noskill, _ = roc_curve(y_test, noskill_probabilities)\n",
    "   # Calculate data for ROC curve\n",
    "   falsepositive_rate, truepositive_rate, _ = roc_curve(y_test, probabilities_posclass)\n",
    "   # Calculate AUC\n",
    "   roc_auc = roc_auc_score(y_test, probabilities_posclass)\n",
    "   # Display AUC\n",
    "   print(\"AUC (Area Under the ROC Curve): {:.2f}\".format(roc_auc))\n",
    "   # Plot with Seaborn Objects\n",
    "   plt = (so.Plot()\n",
    "      .add(so.Line(color='red'), x =falsepositive_rate, y=truepositive_rate)\n",
    "      .add(so.Line(color='blue', linestyle='dashed'), x=falsepositive_rate_noskill, y=truepositive_rate_noskill)\n",
    "      .layout(size = (8,5))\n",
    "      )\n",
    "   plt.show()\n",
    "   \n",
    "   return roc_auc"
   ]
  },
  {
   "cell_type": "code",
   "execution_count": 30,
   "id": "97e69f07",
   "metadata": {},
   "outputs": [
    {
     "name": "stdout",
     "output_type": "stream",
     "text": [
      "AUC (Area Under the ROC Curve): 0.86\n"
     ]
    },
    {
     "data": {
      "image/png": "[encoded data removed]",
      "text/plain": [
       "<Figure size 800x500 with 1 Axes>"
      ]
     },
     "metadata": {},
     "output_type": "display_data"
    }
   ],
   "source": [
    "roc_auc = plot_roc_curve(X_validation, y_validation, model)"
   ]
  },
  {
   "cell_type": "markdown",
   "id": "68f4c0ac",
   "metadata": {},
   "source": [
    "We note the model's discriminatory power is very good"
   ]
  },
  {
   "cell_type": "markdown",
   "id": "ad1d4586",
   "metadata": {},
   "source": [
    "### Feature Importances"
   ]
  },
  {
   "cell_type": "code",
   "execution_count": 31,
   "id": "2f3f4139",
   "metadata": {},
   "outputs": [],
   "source": [
    "def plot_feature_importance(X_train, model):\n",
    "    \"\"\"\n",
    "    Plots feature importances from a model.\n",
    "    Accepts the training features DataFrame and the trained model.\n",
    "    Displays the plot and returns a DataFrame of features and their importance scores.\n",
    "    \"\"\"\n",
    "    # Extract feature names from the DataFrame\n",
    "    features = X_train.columns.tolist()\n",
    "    # Create a DataFrame with feature names and their importance\n",
    "    feature_df = pd.DataFrame({\n",
    "      'Feature': features,\n",
    "      'Importance': model.feature_importances_\n",
    "      })\n",
    "    # Sort the DataFrame by importance in descending order\n",
    "    feature_df = feature_df.sort_values(by='Importance', ascending=False)\n",
    "    # Adjust figure size as needed\n",
    "    plt.figure(figsize=(10, 20)) \n",
    "    plt.barh(feature_df['Feature'], feature_df['Importance'], color='skyblue')\n",
    "    plt.xlabel('Importance')\n",
    "    plt.ylabel('Feature')\n",
    "    plt.title('Feature Importances')\n",
    "    plt.gca().invert_yaxis() # Place highest importance at top\n",
    "    plt.show()\n",
    "\n",
    "    return feature_df"
   ]
  },
  {
   "cell_type": "code",
   "execution_count": 32,
   "id": "140bfc40",
   "metadata": {},
   "outputs": [
    {
     "data": {
      "image/png": "[encoded data removed]",
      "text/plain": [
       "<Figure size 1000x2000 with 1 Axes>"
      ]
     },
     "metadata": {},
     "output_type": "display_data"
    },
    {
     "data": {
      "text/html": [
       "<div>\n",
       "<style scoped>\n",
       "    .dataframe tbody tr th:only-of-type {\n",
       "        vertical-align: middle;\n",
       "    }\n",
       "\n",
       "    .dataframe tbody tr th {\n",
       "        vertical-align: top;\n",
       "    }\n",
       "\n",
       "    .dataframe thead th {\n",
       "        text-align: right;\n",
       "    }\n",
       "</style>\n",
       "<table border=\"1\" class=\"dataframe\">\n",
       "  <thead>\n",
       "    <tr style=\"text-align: right;\">\n",
       "      <th></th>\n",
       "      <th>Feature</th>\n",
       "      <th>Importance</th>\n",
       "    </tr>\n",
       "  </thead>\n",
       "  <tbody>\n",
       "    <tr>\n",
       "      <th>14</th>\n",
       "      <td>VerifyPhone</td>\n",
       "      <td>0.339775</td>\n",
       "    </tr>\n",
       "    <tr>\n",
       "      <th>27</th>\n",
       "      <td>VerifyMobile</td>\n",
       "      <td>0.160815</td>\n",
       "    </tr>\n",
       "    <tr>\n",
       "      <th>6</th>\n",
       "      <td>LoanScreens</td>\n",
       "      <td>0.042962</td>\n",
       "    </tr>\n",
       "    <tr>\n",
       "      <th>5</th>\n",
       "      <td>CreditMonitoringScreens</td>\n",
       "      <td>0.035935</td>\n",
       "    </tr>\n",
       "    <tr>\n",
       "      <th>3</th>\n",
       "      <td>OtherScreens</td>\n",
       "      <td>0.029013</td>\n",
       "    </tr>\n",
       "    <tr>\n",
       "      <th>43</th>\n",
       "      <td>ResendToken</td>\n",
       "      <td>0.027558</td>\n",
       "    </tr>\n",
       "    <tr>\n",
       "      <th>25</th>\n",
       "      <td>Alerts</td>\n",
       "      <td>0.027280</td>\n",
       "    </tr>\n",
       "    <tr>\n",
       "      <th>20</th>\n",
       "      <td>idscreen</td>\n",
       "      <td>0.018973</td>\n",
       "    </tr>\n",
       "    <tr>\n",
       "      <th>16</th>\n",
       "      <td>VerifyDateOfBirth</td>\n",
       "      <td>0.015322</td>\n",
       "    </tr>\n",
       "    <tr>\n",
       "      <th>39</th>\n",
       "      <td>Login</td>\n",
       "      <td>0.014994</td>\n",
       "    </tr>\n",
       "  </tbody>\n",
       "</table>\n",
       "</div>"
      ],
      "text/plain": [
       "                    Feature  Importance\n",
       "14              VerifyPhone    0.339775\n",
       "27             VerifyMobile    0.160815\n",
       "6               LoanScreens    0.042962\n",
       "5   CreditMonitoringScreens    0.035935\n",
       "3              OtherScreens    0.029013\n",
       "43              ResendToken    0.027558\n",
       "25                   Alerts    0.027280\n",
       "20                 idscreen    0.018973\n",
       "16        VerifyDateOfBirth    0.015322\n",
       "39                    Login    0.014994"
      ]
     },
     "execution_count": 32,
     "metadata": {},
     "output_type": "execute_result"
    }
   ],
   "source": [
    "feature_df = plot_feature_importance(X_train, model)\n",
    "# Adjust as needed\n",
    "feature_df.head(10)"
   ]
  },
  {
   "cell_type": "markdown",
   "id": "5de46e5d",
   "metadata": {},
   "source": [
    "### Feature Selection"
   ]
  },
  {
   "cell_type": "markdown",
   "id": "56409564",
   "metadata": {},
   "source": [
    "- Generate Threshold Scores"
   ]
  },
  {
   "cell_type": "code",
   "execution_count": 33,
   "id": "a496a854",
   "metadata": {},
   "outputs": [],
   "source": [
    "# Create a directory to save results\n",
    "directory = \"../experiments/feature_thresholds\"\n",
    "if not os.path.exists(directory): os.makedirs(directory)\n",
    "\n",
    "file_name = f\"{directory}/xgb_feat_threshold_scores.csv\"\n",
    "\n",
    "get_threshold_scores(X_train, y_train,X_validation, y_validation, model, file_name, False)"
   ]
  },
  {
   "cell_type": "markdown",
   "id": "61e3d0a0",
   "metadata": {},
   "source": [
    "- Inspect Results"
   ]
  },
  {
   "cell_type": "code",
   "execution_count": 34,
   "id": "6d39b0a4",
   "metadata": {},
   "outputs": [
    {
     "data": {
      "text/html": [
       "<div>\n",
       "<style scoped>\n",
       "    .dataframe tbody tr th:only-of-type {\n",
       "        vertical-align: middle;\n",
       "    }\n",
       "\n",
       "    .dataframe tbody tr th {\n",
       "        vertical-align: top;\n",
       "    }\n",
       "\n",
       "    .dataframe thead th {\n",
       "        text-align: right;\n",
       "    }\n",
       "</style>\n",
       "<table border=\"1\" class=\"dataframe\">\n",
       "  <thead>\n",
       "    <tr style=\"text-align: right;\">\n",
       "      <th></th>\n",
       "      <th>Threshold</th>\n",
       "      <th>Num_Features</th>\n",
       "      <th>Accuracy</th>\n",
       "      <th>Precision</th>\n",
       "      <th>Recall</th>\n",
       "      <th>F1_Score</th>\n",
       "    </tr>\n",
       "  </thead>\n",
       "  <tbody>\n",
       "    <tr>\n",
       "      <th>0</th>\n",
       "      <td>0.0045522675</td>\n",
       "      <td>47</td>\n",
       "      <td>0.7709090909</td>\n",
       "      <td>0.7849046883</td>\n",
       "      <td>0.7543946521</td>\n",
       "      <td>0.7693473046</td>\n",
       "    </tr>\n",
       "    <tr>\n",
       "      <th>1</th>\n",
       "      <td>0.0054445890</td>\n",
       "      <td>46</td>\n",
       "      <td>0.7711598746</td>\n",
       "      <td>0.7870850622</td>\n",
       "      <td>0.7514236197</td>\n",
       "      <td>0.7688410386</td>\n",
       "    </tr>\n",
       "    <tr>\n",
       "      <th>2</th>\n",
       "      <td>0.0055741705</td>\n",
       "      <td>45</td>\n",
       "      <td>0.7732915361</td>\n",
       "      <td>0.7860989997</td>\n",
       "      <td>0.7588512008</td>\n",
       "      <td>0.7722348199</td>\n",
       "    </tr>\n",
       "    <tr>\n",
       "      <th>3</th>\n",
       "      <td>0.0057759834</td>\n",
       "      <td>44</td>\n",
       "      <td>0.7732915361</td>\n",
       "      <td>0.7863928113</td>\n",
       "      <td>0.7583560287</td>\n",
       "      <td>0.7721199899</td>\n",
       "    </tr>\n",
       "    <tr>\n",
       "      <th>4</th>\n",
       "      <td>0.0058625606</td>\n",
       "      <td>43</td>\n",
       "      <td>0.7677742947</td>\n",
       "      <td>0.7804565273</td>\n",
       "      <td>0.7534043080</td>\n",
       "      <td>0.7666918619</td>\n",
       "    </tr>\n",
       "  </tbody>\n",
       "</table>\n",
       "</div>"
      ],
      "text/plain": [
       "     Threshold  Num_Features     Accuracy    Precision       Recall  \\\n",
       "0 0.0045522675            47 0.7709090909 0.7849046883 0.7543946521   \n",
       "1 0.0054445890            46 0.7711598746 0.7870850622 0.7514236197   \n",
       "2 0.0055741705            45 0.7732915361 0.7860989997 0.7588512008   \n",
       "3 0.0057759834            44 0.7732915361 0.7863928113 0.7583560287   \n",
       "4 0.0058625606            43 0.7677742947 0.7804565273 0.7534043080   \n",
       "\n",
       "      F1_Score  \n",
       "0 0.7693473046  \n",
       "1 0.7688410386  \n",
       "2 0.7722348199  \n",
       "3 0.7721199899  \n",
       "4 0.7666918619  "
      ]
     },
     "execution_count": 34,
     "metadata": {},
     "output_type": "execute_result"
    }
   ],
   "source": [
    "threshold_results_df = pd.read_csv(file_name)\n",
    "\n",
    "# Set the display format for float values to 10 decimal places\n",
    "pd.set_option('display.float_format', '{:.10f}'.format)\n",
    "\n",
    "# Adjust for full list\n",
    "threshold_results_df.head()"
   ]
  },
  {
   "cell_type": "code",
   "execution_count": 35,
   "id": "5d600995",
   "metadata": {},
   "outputs": [],
   "source": [
    "# Reset display option to default value\n",
    "pd.reset_option('display.float_format')"
   ]
  },
  {
   "cell_type": "markdown",
   "id": "c64208d2",
   "metadata": {},
   "source": [
    "- Select Features "
   ]
  },
  {
   "cell_type": "code",
   "execution_count": 36,
   "id": "108aaa39",
   "metadata": {},
   "outputs": [
    {
     "name": "stdout",
     "output_type": "stream",
     "text": [
      "['age', 'Leaderboard', 'EditProfile', 'VerifyIncomeType', 'Institutions', 'ListPicker', 'RewardsContainer', 'Cycle', 'ProfileJobTitle', 'liked', 'ProfileMaritalStatus', 'ProfileEducationMajor', 'SecurityModal', 'log_numscreens', 'hour', 'dayofweek', 'CreditCardScreens', 'Rewards', 'NetworkFailure', 'RewardDetail', 'ProfileEducation', 'TransactionList']\n"
     ]
    }
   ],
   "source": [
    "threshold = 0.0078923660\n",
    "\n",
    "# Define features under the threshold to remove\n",
    "features_to_remove_df = feature_df[feature_df['Importance'] < threshold]\n",
    "columns_to_drop = features_to_remove_df['Feature'].values.tolist()\n",
    "\n",
    "print(columns_to_drop)"
   ]
  },
  {
   "cell_type": "code",
   "execution_count": 37,
   "id": "29543daf",
   "metadata": {},
   "outputs": [
    {
     "name": "stdout",
     "output_type": "stream",
     "text": [
      "Number of Features:  25\n"
     ]
    }
   ],
   "source": [
    "# Drop the features from the datasets\n",
    "X_train.drop(columns=columns_to_drop, axis=1, inplace=True)\n",
    "X_validation.drop(columns=columns_to_drop, axis=1, inplace=True)\n",
    "X_train_and_validation.drop(columns=columns_to_drop, axis=1, inplace=True)\n",
    "X_test.drop(columns=columns_to_drop, axis=1, inplace=True)\n",
    "\n",
    "print(\"Number of Features: \", X_train.shape[1])"
   ]
  },
  {
   "cell_type": "markdown",
   "id": "1f77d26b",
   "metadata": {},
   "source": [
    "- Retraining & Evaluation"
   ]
  },
  {
   "cell_type": "code",
   "execution_count": 38,
   "id": "1721b87c",
   "metadata": {},
   "outputs": [
    {
     "name": "stdout",
     "output_type": "stream",
     "text": [
      "Cross Validated Accuracy: 78.10%\n",
      "Confidence Interval: +- 1.36%\n",
      "\n"
     ]
    },
    {
     "data": {
      "text/html": [
       "<div>\n",
       "<style scoped>\n",
       "    .dataframe tbody tr th:only-of-type {\n",
       "        vertical-align: middle;\n",
       "    }\n",
       "\n",
       "    .dataframe tbody tr th {\n",
       "        vertical-align: top;\n",
       "    }\n",
       "\n",
       "    .dataframe thead th {\n",
       "        text-align: right;\n",
       "    }\n",
       "</style>\n",
       "<table border=\"1\" class=\"dataframe\">\n",
       "  <thead>\n",
       "    <tr style=\"text-align: right;\">\n",
       "      <th></th>\n",
       "      <th>Model</th>\n",
       "      <th>Accuracy</th>\n",
       "      <th>Precision</th>\n",
       "      <th>Recall</th>\n",
       "      <th>F1</th>\n",
       "      <th>ROC AUC</th>\n",
       "    </tr>\n",
       "  </thead>\n",
       "  <tbody>\n",
       "    <tr>\n",
       "      <th>0</th>\n",
       "      <td>LogisticRegression (Lasso)</td>\n",
       "      <td>0.760502</td>\n",
       "      <td>0.764209</td>\n",
       "      <td>0.762317</td>\n",
       "      <td>0.763262</td>\n",
       "      <td>0.834655</td>\n",
       "    </tr>\n",
       "    <tr>\n",
       "      <th>1</th>\n",
       "      <td>RandomForestClassifier (n=100)</td>\n",
       "      <td>0.777053</td>\n",
       "      <td>0.787879</td>\n",
       "      <td>0.766031</td>\n",
       "      <td>0.776801</td>\n",
       "      <td>0.854993</td>\n",
       "    </tr>\n",
       "    <tr>\n",
       "      <th>2</th>\n",
       "      <td>XGBClassifier (n=100)</td>\n",
       "      <td>0.770909</td>\n",
       "      <td>0.784905</td>\n",
       "      <td>0.754395</td>\n",
       "      <td>0.769347</td>\n",
       "      <td>0.856257</td>\n",
       "    </tr>\n",
       "    <tr>\n",
       "      <th>3</th>\n",
       "      <td>XGBClassifier (n=100, feat_thresh=0.007892366)</td>\n",
       "      <td>0.780564</td>\n",
       "      <td>0.803340</td>\n",
       "      <td>0.750433</td>\n",
       "      <td>0.775986</td>\n",
       "      <td>0.859407</td>\n",
       "    </tr>\n",
       "  </tbody>\n",
       "</table>\n",
       "</div>"
      ],
      "text/plain": [
       "                                            Model  Accuracy  Precision  \\\n",
       "0                      LogisticRegression (Lasso)  0.760502   0.764209   \n",
       "1                  RandomForestClassifier (n=100)  0.777053   0.787879   \n",
       "2                           XGBClassifier (n=100)  0.770909   0.784905   \n",
       "3  XGBClassifier (n=100, feat_thresh=0.007892366)  0.780564   0.803340   \n",
       "\n",
       "     Recall        F1   ROC AUC  \n",
       "0  0.762317  0.763262  0.834655  \n",
       "1  0.766031  0.776801  0.854993  \n",
       "2  0.754395  0.769347  0.856257  \n",
       "3  0.750433  0.775986  0.859407  "
      ]
     },
     "execution_count": 38,
     "metadata": {},
     "output_type": "execute_result"
    }
   ],
   "source": [
    "model.fit(X_train, y_train)\n",
    "\n",
    "# Make predictions from the validation set\n",
    "y_predict = model.predict(X_validation)\n",
    "# Predict the probabilities of the positive class\n",
    "prob_posclass = xgb_model.predict_proba(X_validation)[:, 1]\n",
    "# Get model scores\n",
    "df_results = evaluate_scores_and_concat(prob_posclass, y_validation, y_predict, f\"XGBClassifier (n=100, feat_thresh={threshold})\", df_results)\n",
    "# Perform k-fold cross-validation, here with 10 folds\n",
    "accuracies = cross_val_score(estimator=model, X=X_train_and_validation, y=y_train_and_validation, cv=10)\n",
    "\n",
    "print(\"Cross Validated Accuracy: {:.2f}%\".format(accuracies.mean()*100))\n",
    "print(\"Confidence Interval: +- {:.2f}%\\n\".format((accuracies.std()*2)*100))\n",
    "df_results"
   ]
  },
  {
   "cell_type": "markdown",
   "id": "14cdd992",
   "metadata": {},
   "source": [
    "We observe an improvement in our scores as a result of feature selection and continue with hyperparameter optimization"
   ]
  },
  {
   "cell_type": "markdown",
   "id": "a582751e",
   "metadata": {},
   "source": [
    "## Model Tuning <img src=\"../../images/tuning.gif\" width=\"50\" alt=\"Tuning\"/>\n",
    "\n",
    "Here we utilize Hyperopt for model tuning to take advantage of Bayesian Optimization \n",
    "\n",
    "- We begin by initializing MLflow to document our [experiment](../experiments/README.md) 🧪"
   ]
  },
  {
   "cell_type": "code",
   "execution_count": 39,
   "id": "f291e250",
   "metadata": {},
   "outputs": [],
   "source": [
    "# Location to save experiments\n",
    "experiment_dir = \"../experiments/mlflow_demo\"\n",
    "if not os.path.exists(experiment_dir): os.makedirs(experiment_dir)\n",
    "    \n",
    "# Location to save artifacts\n",
    "artifacts_dir = f\"{experiment_dir}/artifacts\"\n",
    "if not os.path.exists(artifacts_dir): os.makedirs(artifacts_dir)"
   ]
  },
  {
   "cell_type": "code",
   "execution_count": 40,
   "id": "bb481506",
   "metadata": {},
   "outputs": [
    {
     "name": "stdout",
     "output_type": "stream",
     "text": [
      "Name: hyperopt_tuning_55635\n",
      "Experiment_id: 4\n",
      "Artifact Location: file://../experiments/mlflow_demo/4\n",
      "Tags: {'version': 'v1'}\n",
      "Lifecycle_stage: active\n",
      "Creation timestamp: 1699570765662\n"
     ]
    }
   ],
   "source": [
    "from pathlib import Path\n",
    "import random\n",
    "\n",
    "# 5 digit random number for the experiment\n",
    "random_number = random.randint(10_000, 99_999)\n",
    "# Set the tracking server URI \n",
    "mlflow.set_tracking_uri(f\"sqlite:///{os.path.abspath(experiment_dir)}/mlflow.sqlite\")\n",
    "# Create a new experiment\n",
    "EXPERIMENT_ID = mlflow.create_experiment(f\"hyperopt_tuning_{random_number}\",\n",
    "                                         artifact_location=Path.cwd().joinpath(f\"{artifacts_dir}\").as_uri(), \n",
    "                                         tags={\"version\": \"v1\"})\n",
    "# Fetch experiment details\n",
    "experiment = mlflow.get_experiment(EXPERIMENT_ID)\n",
    "\n",
    "print(f\"Name: {experiment.name}\")\n",
    "print(f\"Experiment_id: {experiment.experiment_id}\")\n",
    "print(f\"Artifact Location: file://{experiment_dir}/{experiment.experiment_id}\")\n",
    "print(f\"Tags: {experiment.tags}\")\n",
    "print(f\"Lifecycle_stage: {experiment.lifecycle_stage}\")\n",
    "print(f\"Creation timestamp: {experiment.creation_time}\")"
   ]
  },
  {
   "cell_type": "markdown",
   "id": "5fcd968b",
   "metadata": {},
   "source": [
    "- Define the objective function"
   ]
  },
  {
   "cell_type": "code",
   "execution_count": 41,
   "id": "90ee0fac",
   "metadata": {},
   "outputs": [],
   "source": [
    "from hyperopt import STATUS_OK\n",
    "from mlflow.models.signature import infer_signature\n",
    "from sklearn.metrics import accuracy_score, f1_score, precision_score, recall_score, roc_auc_score\n",
    "from xgboost import XGBClassifier\n",
    "\n",
    "def objective_function(space):\n",
    "    \"\"\"\n",
    "    The objective function for Hyperopt. \n",
    "    Accepts the hyperparameter search space & returns a loss score to minimize. \n",
    "    Logs metadata & the model from best trials.\n",
    "    \"\"\"\n",
    "    experiment = mlflow.set_experiment(experiment_id=EXPERIMENT_ID)\n",
    "    \n",
    "    # Define & train model\n",
    "    model = XGBClassifier(**space, random_state=42)\n",
    "    model = model.fit(X_train, y_train)\n",
    "    # Predict values & positive class probabilities for the validation set\n",
    "    y_val_predict = model.predict(X_validation)\n",
    "    probabilities_posclass = model.predict_proba(X_validation)[:, 1]\n",
    "    # Evaluation metrics\n",
    "    val_accuracy = accuracy_score(y_validation, y_val_predict)\n",
    "    val_precision = precision_score(y_validation, y_val_predict, zero_division=0)\n",
    "    val_recall = recall_score(y_validation, y_val_predict)\n",
    "    val_f1 = f1_score(y_validation, y_val_predict)\n",
    "    val_roc_auc = roc_auc_score(y_validation, probabilities_posclass)\n",
    "    \n",
    "    validation_metrics = {\n",
    "      \"accuracy\": val_accuracy, \n",
    "      \"precision\": val_precision, \n",
    "      \"recall\": val_recall, \n",
    "      \"F1\": val_f1, \n",
    "      \"roc_auc\": val_roc_auc\n",
    "    }\n",
    "    \n",
    "    with mlflow.start_run(experiment_id=experiment.experiment_id):\n",
    "        mlflow.log_params(space)\n",
    "        mlflow.log_params({\"validation_feature_importances\": model.feature_importances_})\n",
    "        for name, metric in validation_metrics.items():\n",
    "            mlflow.log_metric(f\"validation_{name}\", metric)\n",
    "        signature = infer_signature(X_train, y_val_predict)\n",
    "        mlflow.xgboost.log_model(xgb_model=model, \n",
    "                                 artifact_path=\"model\", \n",
    "                                 signature=signature, \n",
    "                                 input_example=X_train.iloc[[0]], \n",
    "                                 pip_requirements=\"./requirements.txt\")\n",
    "        mlflow.set_tag(\"estimator_name\", model.__class__.__name__)\n",
    "        mlflow.set_tag(\"estimator_class\", model.__class__)\n",
    "        mlflow.end_run()\n",
    "    \n",
    "    # Here we aim to maximize roc_auc, thus return it as a negative value\n",
    "    return {'loss': -val_roc_auc, 'status': STATUS_OK}"
   ]
  },
  {
   "cell_type": "markdown",
   "id": "5bf4fe69",
   "metadata": {},
   "source": [
    "- Define the search space"
   ]
  },
  {
   "cell_type": "code",
   "execution_count": 42,
   "id": "69a41d57",
   "metadata": {},
   "outputs": [],
   "source": [
    "from hyperopt import hp\n",
    "from hyperopt.pyll.base import scope\n",
    "\n",
    "search_space = {\n",
    "    'objective': 'binary:logistic',\n",
    "    'eval_metric': 'auc',\n",
    "    'n_estimators': scope.int(hp.quniform('n_estimators', 100, 500, 1)),\n",
    "    'max_depth': scope.int(hp.quniform('max_depth', 4, 12, 1)),\n",
    "    'subsample': hp.uniform('subsample', .5, 1.0),\n",
    "    'learning_rate': hp.loguniform('learning_rate', -7, 0),\n",
    "    'min_child_weight': hp.loguniform('min_child_weight', -1, 7),\n",
    "    'reg_alpha': hp.loguniform('reg_alpha', -10, 10),\n",
    "    'reg_lambda': hp.loguniform('reg_lambda', -10, 10),\n",
    "    'gamma': hp.loguniform('gamma', -10, 10),\n",
    "    'use_label_encoder': False,\n",
    "    'verbosity': 0,\n",
    "    }"
   ]
  },
  {
   "cell_type": "markdown",
   "id": "e7d4f44f",
   "metadata": {},
   "source": [
    "- Run Hyperopt. _For optimal (or fastest) results, see [suggested formulas](https://www.databricks.com/blog/2021/04/15/how-not-to-tune-your-model-with-hyperopt.html). This may take some time, go have some tea_ "
   ]
  },
  {
   "cell_type": "code",
   "execution_count": 43,
   "id": "02ed7bef",
   "metadata": {},
   "outputs": [
    {
     "name": "stdout",
     "output_type": "stream",
     "text": [
      "100%|██████████| 5/5 [00:31<00:00,  6.38s/trial, best loss: -0.8588136854691152]\n",
      "{'gamma': 1.6717454718446907, 'learning_rate': 0.4667529468841399, 'max_depth': 11.0, 'min_child_weight': 35.93906811331547, 'n_estimators': 163.0, 'reg_alpha': 10.519356386632165, 'reg_lambda': 0.00019809190050441863, 'subsample': 0.5734813936425138}\n"
     ]
    }
   ],
   "source": [
    "from hyperopt import fmin, tpe, Trials\n",
    "\n",
    "# Demo number of trials, adjust for utilization\n",
    "num_evals = 5\n",
    "trials = Trials()\n",
    "\n",
    "best_hyperparam = fmin(fn=objective_function, \n",
    "                       space=search_space, \n",
    "                       algo=tpe.suggest, # Bayesian search w/ Tree Parzen Estimator (TPE)\n",
    "                       max_evals=num_evals, \n",
    "                       trials=trials, \n",
    "                       rstate=np.random.default_rng(42)\n",
    "                       ) \n",
    "\n",
    "print(best_hyperparam)"
   ]
  },
  {
   "cell_type": "markdown",
   "id": "4b8efce2",
   "metadata": {},
   "source": [
    "#### MLflow Functions"
   ]
  },
  {
   "cell_type": "code",
   "execution_count": 44,
   "id": "eaf4ecaa",
   "metadata": {},
   "outputs": [],
   "source": [
    "def get_best_scoring_model(metric_name, ascending_boolean, experiment_dir, experiment_ID, database_name):\n",
    "    \"\"\"\n",
    "    Returns a model with the best scoring metric from MLflow. \n",
    "    Accepts the metric name, an ascending order boolean (False=Higher Scores, True=Lower Scores),\n",
    "    path to the directory hosting the experiment, the experiment_id, and SQLite database name.\n",
    "    Returns the model with the best scoring metric from MLflow. \n",
    "    \"\"\"\n",
    "    # Set the tracking server URI, here configred for SQLite backend storage\n",
    "    mlflow.set_tracking_uri(f\"sqlite:///{os.path.abspath(experiment_dir)}/{database_name}\")\n",
    "    # Get the experiment_id \n",
    "    experiment_id = experiment_ID\n",
    "    # Get runs from the experiment\n",
    "    runs = mlflow.search_runs(experiment_ids=[experiment_id], filter_string='', max_results=1000)\n",
    "    # Filter the runs for best desired metric\n",
    "    best_run = runs.sort_values(f\"metrics.{metric_name}\", ascending=ascending_boolean).iloc[0]\n",
    "    # Provide the model URI\n",
    "    best_model_uri = best_run[\"artifact_uri\"] + \"/model\"\n",
    "    # Modify this line to your flavor of model: sklearn, spark, xgboost, pytorch, tensorflow, etc.\n",
    "    model = mlflow.xgboost.load_model(best_model_uri)\n",
    "    \n",
    "    print(\"Best Scoring Run ID:\", best_run.run_id)\n",
    "    print(\"Model Type:\", type(model).__name__)\n",
    "    print(\"Hyperparameters: \", model.get_params())\n",
    "    \n",
    "    return model"
   ]
  },
  {
   "cell_type": "code",
   "execution_count": 45,
   "id": "7faf3b2c",
   "metadata": {},
   "outputs": [],
   "source": [
    "def get_model(experiment_dir,run_id, database_name):\n",
    "    \"\"\"\n",
    "    Returns a model logged with MLflow.\n",
    "    Accepts a path to the directory hosting the experiment and run_id.\n",
    "    \"\"\"\n",
    "    # Set the tracking server URI, here configred for SQLite backend storage\n",
    "    mlflow.set_tracking_uri(f\"sqlite:///{os.path.abspath(experiment_dir)}/{database_name}\")\n",
    "    # Specify model URI\n",
    "    model_uri = f\"runs:/{run_id}/model\" \n",
    "    # Modify this line to your flavor of model: sklearn, spark, xgboost, pytorch, tensorflow, etc.\n",
    "    model = mlflow.xgboost.load_model(model_uri)\n",
    "    \n",
    "    return model"
   ]
  },
  {
   "cell_type": "markdown",
   "id": "4a933e25",
   "metadata": {},
   "source": [
    "### K-Fold Cross Validation\n",
    "\n",
    "Estimate how well the tuned model is likely to generalize to unseen data"
   ]
  },
  {
   "cell_type": "code",
   "execution_count": 46,
   "id": "77e7c7e4",
   "metadata": {},
   "outputs": [
    {
     "name": "stdout",
     "output_type": "stream",
     "text": [
      "Best Scoring Run ID: caddb0ac9d0c4194b83ea3c26d977f97\n",
      "Model Type: XGBClassifier\n",
      "Hyperparameters:  {'objective': 'binary:logistic', 'use_label_encoder': False, 'base_score': None, 'booster': None, 'callbacks': None, 'colsample_bylevel': None, 'colsample_bynode': None, 'colsample_bytree': None, 'early_stopping_rounds': None, 'enable_categorical': False, 'eval_metric': 'auc', 'feature_types': None, 'gamma': 0.06452469202559104, 'gpu_id': None, 'grow_policy': None, 'importance_type': None, 'interaction_constraints': None, 'learning_rate': 0.025467532325811212, 'max_bin': None, 'max_cat_threshold': None, 'max_cat_to_onehot': None, 'max_delta_step': None, 'max_depth': 7, 'max_leaves': None, 'min_child_weight': 6.539288994604176, 'missing': nan, 'monotone_constraints': None, 'n_estimators': 400, 'n_jobs': None, 'num_parallel_tree': None, 'predictor': None, 'random_state': 42, 'reg_alpha': 2.978329442686076, 'reg_lambda': 6.4187421917346645, 'sampling_method': None, 'scale_pos_weight': None, 'subsample': 0.6502970843845121, 'tree_method': None, 'validate_parameters': None, 'verbosity': 0}\n"
     ]
    }
   ],
   "source": [
    "# Active experiment_ID => experiment.experiment_id\n",
    "experiment_ID = \"1\"\n",
    "# Active experiment_dir => experiment_dir\n",
    "experiment_dir = \"../experiments/mlflow_xgb\"\n",
    "\n",
    "# Load the best scoring model from the experiment \n",
    "model = get_best_scoring_model(\"validation_roc_auc\", False, experiment_dir, experiment_ID, \"mlflow.sqlite\")"
   ]
  },
  {
   "cell_type": "code",
   "execution_count": 47,
   "id": "6a84089a",
   "metadata": {},
   "outputs": [
    {
     "name": "stdout",
     "output_type": "stream",
     "text": [
      "Cross Validated Accuracy: 78.38%\n",
      "Confidence Interval: +- 1.56%\n",
      "\n",
      "[0.77331996 0.7998997  0.78660983 0.78034102 0.77231695 0.78655631\n",
      " 0.79031854 0.78755957 0.77928267 0.78204164]\n"
     ]
    }
   ],
   "source": [
    "from sklearn.model_selection import cross_val_score\n",
    "\n",
    "# Perform k-fold cross-validation, here with 10 folds\n",
    "accuracies = cross_val_score(estimator=model, X=X_train_and_validation, y=y_train_and_validation, cv=10)\n",
    "\n",
    "print(\"Cross Validated Accuracy: {:.2f}%\".format(accuracies.mean()*100))\n",
    "print(\"Confidence Interval: +- {:.2f}%\\n\".format((accuracies.std()*2)*100))\n",
    "print(accuracies)"
   ]
  },
  {
   "cell_type": "markdown",
   "id": "0c2df0e8",
   "metadata": {},
   "source": [
    "## Final Model Training 🦾\n",
    "\n",
    "Load the model from MLflow "
   ]
  },
  {
   "cell_type": "code",
   "execution_count": 48,
   "id": "618bef0b",
   "metadata": {},
   "outputs": [],
   "source": [
    "experiment_dir = \"../experiments/mlflow_xgb\"\n",
    "run_id = \"caddb0ac9d0c4194b83ea3c26d977f97\"\n",
    "\n",
    "model = get_model(experiment_dir, run_id, \"mlflow.sqlite\")"
   ]
  },
  {
   "cell_type": "code",
   "execution_count": 49,
   "id": "58456173",
   "metadata": {},
   "outputs": [
    {
     "data": {
      "text/html": [
       "<style>#sk-container-id-4 {color: black;}#sk-container-id-4 pre{padding: 0;}#sk-container-id-4 div.sk-toggleable {background-color: white;}#sk-container-id-4 label.sk-toggleable__label {cursor: pointer;display: block;width: 100%;margin-bottom: 0;padding: 0.3em;box-sizing: border-box;text-align: center;}#sk-container-id-4 label.sk-toggleable__label-arrow:before {content: \"▸\";float: left;margin-right: 0.25em;color: #696969;}#sk-container-id-4 label.sk-toggleable__label-arrow:hover:before {color: black;}#sk-container-id-4 div.sk-estimator:hover label.sk-toggleable__label-arrow:before {color: black;}#sk-container-id-4 div.sk-toggleable__content {max-height: 0;max-width: 0;overflow: hidden;text-align: left;background-color: #f0f8ff;}#sk-container-id-4 div.sk-toggleable__content pre {margin: 0.2em;color: black;border-radius: 0.25em;background-color: #f0f8ff;}#sk-container-id-4 input.sk-toggleable__control:checked~div.sk-toggleable__content {max-height: 200px;max-width: 100%;overflow: auto;}#sk-container-id-4 input.sk-toggleable__control:checked~label.sk-toggleable__label-arrow:before {content: \"▾\";}#sk-container-id-4 div.sk-estimator input.sk-toggleable__control:checked~label.sk-toggleable__label {background-color: #d4ebff;}#sk-container-id-4 div.sk-label input.sk-toggleable__control:checked~label.sk-toggleable__label {background-color: #d4ebff;}#sk-container-id-4 input.sk-hidden--visually {border: 0;clip: rect(1px 1px 1px 1px);clip: rect(1px, 1px, 1px, 1px);height: 1px;margin: -1px;overflow: hidden;padding: 0;position: absolute;width: 1px;}#sk-container-id-4 div.sk-estimator {font-family: monospace;background-color: #f0f8ff;border: 1px dotted black;border-radius: 0.25em;box-sizing: border-box;margin-bottom: 0.5em;}#sk-container-id-4 div.sk-estimator:hover {background-color: #d4ebff;}#sk-container-id-4 div.sk-parallel-item::after {content: \"\";width: 100%;border-bottom: 1px solid gray;flex-grow: 1;}#sk-container-id-4 div.sk-label:hover label.sk-toggleable__label {background-color: #d4ebff;}#sk-container-id-4 div.sk-serial::before {content: \"\";position: absolute;border-left: 1px solid gray;box-sizing: border-box;top: 0;bottom: 0;left: 50%;z-index: 0;}#sk-container-id-4 div.sk-serial {display: flex;flex-direction: column;align-items: center;background-color: white;padding-right: 0.2em;padding-left: 0.2em;position: relative;}#sk-container-id-4 div.sk-item {position: relative;z-index: 1;}#sk-container-id-4 div.sk-parallel {display: flex;align-items: stretch;justify-content: center;background-color: white;position: relative;}#sk-container-id-4 div.sk-item::before, #sk-container-id-4 div.sk-parallel-item::before {content: \"\";position: absolute;border-left: 1px solid gray;box-sizing: border-box;top: 0;bottom: 0;left: 50%;z-index: -1;}#sk-container-id-4 div.sk-parallel-item {display: flex;flex-direction: column;z-index: 1;position: relative;background-color: white;}#sk-container-id-4 div.sk-parallel-item:first-child::after {align-self: flex-end;width: 50%;}#sk-container-id-4 div.sk-parallel-item:last-child::after {align-self: flex-start;width: 50%;}#sk-container-id-4 div.sk-parallel-item:only-child::after {width: 0;}#sk-container-id-4 div.sk-dashed-wrapped {border: 1px dashed gray;margin: 0 0.4em 0.5em 0.4em;box-sizing: border-box;padding-bottom: 0.4em;background-color: white;}#sk-container-id-4 div.sk-label label {font-family: monospace;font-weight: bold;display: inline-block;line-height: 1.2em;}#sk-container-id-4 div.sk-label-container {text-align: center;}#sk-container-id-4 div.sk-container {/* jupyter's `normalize.less` sets `[hidden] { display: none; }` but bootstrap.min.css set `[hidden] { display: none !important; }` so we also need the `!important` here to be able to override the default hidden behavior on the sphinx rendered scikit-learn.org. See: https://github.com/scikit-learn/scikit-learn/issues/21755 */display: inline-block !important;position: relative;}#sk-container-id-4 div.sk-text-repr-fallback {display: none;}</style><div id=\"sk-container-id-4\" class=\"sk-top-container\"><div class=\"sk-text-repr-fallback\"><pre>XGBClassifier(base_score=None, booster=None, callbacks=None,\n",
       "              colsample_bylevel=None, colsample_bynode=None,\n",
       "              colsample_bytree=None, early_stopping_rounds=None,\n",
       "              enable_categorical=False, eval_metric=&#x27;auc&#x27;, feature_types=None,\n",
       "              gamma=0.06452469202559104, gpu_id=None, grow_policy=None,\n",
       "              importance_type=None, interaction_constraints=None,\n",
       "              learning_rate=0.025467532325811212, max_bin=None,\n",
       "              max_cat_threshold=None, max_cat_to_onehot=None,\n",
       "              max_delta_step=None, max_depth=7, max_leaves=None,\n",
       "              min_child_weight=6.539288994604176, missing=nan,\n",
       "              monotone_constraints=None, n_estimators=400, n_jobs=None,\n",
       "              num_parallel_tree=None, predictor=None, random_state=42, ...)</pre><b>In a Jupyter environment, please rerun this cell to show the HTML representation or trust the notebook. <br />On GitHub, the HTML representation is unable to render, please try loading this page with nbviewer.org.</b></div><div class=\"sk-container\" hidden><div class=\"sk-item\"><div class=\"sk-estimator sk-toggleable\"><input class=\"sk-toggleable__control sk-hidden--visually\" id=\"sk-estimator-id-4\" type=\"checkbox\" checked><label for=\"sk-estimator-id-4\" class=\"sk-toggleable__label sk-toggleable__label-arrow\">XGBClassifier</label><div class=\"sk-toggleable__content\"><pre>XGBClassifier(base_score=None, booster=None, callbacks=None,\n",
       "              colsample_bylevel=None, colsample_bynode=None,\n",
       "              colsample_bytree=None, early_stopping_rounds=None,\n",
       "              enable_categorical=False, eval_metric=&#x27;auc&#x27;, feature_types=None,\n",
       "              gamma=0.06452469202559104, gpu_id=None, grow_policy=None,\n",
       "              importance_type=None, interaction_constraints=None,\n",
       "              learning_rate=0.025467532325811212, max_bin=None,\n",
       "              max_cat_threshold=None, max_cat_to_onehot=None,\n",
       "              max_delta_step=None, max_depth=7, max_leaves=None,\n",
       "              min_child_weight=6.539288994604176, missing=nan,\n",
       "              monotone_constraints=None, n_estimators=400, n_jobs=None,\n",
       "              num_parallel_tree=None, predictor=None, random_state=42, ...)</pre></div></div></div></div></div>"
      ],
      "text/plain": [
       "XGBClassifier(base_score=None, booster=None, callbacks=None,\n",
       "              colsample_bylevel=None, colsample_bynode=None,\n",
       "              colsample_bytree=None, early_stopping_rounds=None,\n",
       "              enable_categorical=False, eval_metric='auc', feature_types=None,\n",
       "              gamma=0.06452469202559104, gpu_id=None, grow_policy=None,\n",
       "              importance_type=None, interaction_constraints=None,\n",
       "              learning_rate=0.025467532325811212, max_bin=None,\n",
       "              max_cat_threshold=None, max_cat_to_onehot=None,\n",
       "              max_delta_step=None, max_depth=7, max_leaves=None,\n",
       "              min_child_weight=6.539288994604176, missing=nan,\n",
       "              monotone_constraints=None, n_estimators=400, n_jobs=None,\n",
       "              num_parallel_tree=None, predictor=None, random_state=42, ...)"
      ]
     },
     "execution_count": 49,
     "metadata": {},
     "output_type": "execute_result"
    }
   ],
   "source": [
    "# Train model on the train & validation data\n",
    "model.fit(X_train_and_validation, y_train_and_validation)"
   ]
  },
  {
   "cell_type": "markdown",
   "id": "e23d693c",
   "metadata": {},
   "source": [
    "## Final Model Evaluation <img src=\"../../images/charts.gif\" width=\"43\" alt=\"Chart Bars\"/>"
   ]
  },
  {
   "cell_type": "code",
   "execution_count": 50,
   "id": "f8b1fa9e",
   "metadata": {},
   "outputs": [],
   "source": [
    "# DataFrame for storing metrics\n",
    "df_final_metrics = pd.DataFrame()"
   ]
  },
  {
   "cell_type": "code",
   "execution_count": 51,
   "id": "ff0328ee",
   "metadata": {},
   "outputs": [
    {
     "data": {
      "text/html": [
       "<div>\n",
       "<style scoped>\n",
       "    .dataframe tbody tr th:only-of-type {\n",
       "        vertical-align: middle;\n",
       "    }\n",
       "\n",
       "    .dataframe tbody tr th {\n",
       "        vertical-align: top;\n",
       "    }\n",
       "\n",
       "    .dataframe thead th {\n",
       "        text-align: right;\n",
       "    }\n",
       "</style>\n",
       "<table border=\"1\" class=\"dataframe\">\n",
       "  <thead>\n",
       "    <tr style=\"text-align: right;\">\n",
       "      <th></th>\n",
       "      <th>Model</th>\n",
       "      <th>Accuracy</th>\n",
       "      <th>Precision</th>\n",
       "      <th>Recall</th>\n",
       "      <th>F1</th>\n",
       "      <th>ROC AUC</th>\n",
       "    </tr>\n",
       "  </thead>\n",
       "  <tbody>\n",
       "    <tr>\n",
       "      <th>0</th>\n",
       "      <td>XGBClassifier caddb0...</td>\n",
       "      <td>0.783228</td>\n",
       "      <td>0.80494</td>\n",
       "      <td>0.75505</td>\n",
       "      <td>0.779197</td>\n",
       "      <td>0.862102</td>\n",
       "    </tr>\n",
       "  </tbody>\n",
       "</table>\n",
       "</div>"
      ],
      "text/plain": [
       "                     Model  Accuracy  Precision   Recall        F1   ROC AUC\n",
       "0  XGBClassifier caddb0...  0.783228    0.80494  0.75505  0.779197  0.862102"
      ]
     },
     "execution_count": 51,
     "metadata": {},
     "output_type": "execute_result"
    }
   ],
   "source": [
    "# Make predictions from the test set\n",
    "y_predict = model.predict(X_test)\n",
    "\n",
    "# Predict probabilities of the positive class\n",
    "prob_posclass = model.predict_proba(X_test)[:, 1]\n",
    "\n",
    "# Model info\n",
    "model_type = type(model).__name__\n",
    "run_id = str(run_id) if run_id else \"(tuned)\"\n",
    "\n",
    "# Get model scores\n",
    "df_final_metrics = evaluate_scores_and_concat(prob_posclass, y_test, y_predict, f\"{model_type} {run_id[:6]}...\", df_final_metrics)\n",
    "df_final_metrics"
   ]
  },
  {
   "cell_type": "markdown",
   "id": "daccc48b",
   "metadata": {},
   "source": [
    "### Confusion Matrix"
   ]
  },
  {
   "cell_type": "code",
   "execution_count": 52,
   "id": "cc8dd950",
   "metadata": {},
   "outputs": [
    {
     "data": {
      "image/png": "[encoded data removed]",
      "text/plain": [
       "<Figure size 800x600 with 2 Axes>"
      ]
     },
     "metadata": {},
     "output_type": "display_data"
    },
    {
     "data": {
      "text/html": [
       "<div>\n",
       "<style scoped>\n",
       "    .dataframe tbody tr th:only-of-type {\n",
       "        vertical-align: middle;\n",
       "    }\n",
       "\n",
       "    .dataframe tbody tr th {\n",
       "        vertical-align: top;\n",
       "    }\n",
       "\n",
       "    .dataframe thead th {\n",
       "        text-align: right;\n",
       "    }\n",
       "</style>\n",
       "<table border=\"1\" class=\"dataframe\">\n",
       "  <thead>\n",
       "    <tr style=\"text-align: right;\">\n",
       "      <th></th>\n",
       "      <th>Model</th>\n",
       "      <th>Accuracy</th>\n",
       "      <th>Precision</th>\n",
       "      <th>Recall</th>\n",
       "      <th>F1</th>\n",
       "    </tr>\n",
       "  </thead>\n",
       "  <tbody>\n",
       "    <tr>\n",
       "      <th>0</th>\n",
       "      <td>XGBClassifier caddb0...</td>\n",
       "      <td>0.783228</td>\n",
       "      <td>0.80494</td>\n",
       "      <td>0.75505</td>\n",
       "      <td>0.779197</td>\n",
       "    </tr>\n",
       "  </tbody>\n",
       "</table>\n",
       "</div>"
      ],
      "text/plain": [
       "                     Model  Accuracy  Precision   Recall        F1\n",
       "0  XGBClassifier caddb0...  0.783228    0.80494  0.75505  0.779197"
      ]
     },
     "execution_count": 52,
     "metadata": {},
     "output_type": "execute_result"
    }
   ],
   "source": [
    "sklearn_confusion_matrix(y_test, y_predict)\n",
    "conf_matrix_df = df_final_metrics.copy().drop(columns='ROC AUC')\n",
    "conf_matrix_df"
   ]
  },
  {
   "cell_type": "markdown",
   "id": "0d92149c",
   "metadata": {},
   "source": [
    "### Receiver Operating Characteristic (ROC) Curve"
   ]
  },
  {
   "cell_type": "code",
   "execution_count": 53,
   "id": "d058dfb4",
   "metadata": {},
   "outputs": [
    {
     "name": "stdout",
     "output_type": "stream",
     "text": [
      "AUC (Area Under the ROC Curve): 0.86\n"
     ]
    },
    {
     "data": {
      "image/png": "[encoded data removed]",
      "text/plain": [
       "<Figure size 800x500 with 1 Axes>"
      ]
     },
     "metadata": {},
     "output_type": "display_data"
    }
   ],
   "source": [
    "roc_auc = plot_roc_curve(X_test, y_test, model)"
   ]
  },
  {
   "cell_type": "markdown",
   "id": "9a6bf401",
   "metadata": {},
   "source": [
    "### Feature Importances"
   ]
  },
  {
   "cell_type": "code",
   "execution_count": 54,
   "id": "3173420b",
   "metadata": {},
   "outputs": [
    {
     "data": {
      "image/png": "[encoded data removed]",
      "text/plain": [
       "<Figure size 1000x2000 with 1 Axes>"
      ]
     },
     "metadata": {},
     "output_type": "display_data"
    },
    {
     "data": {
      "text/html": [
       "<div>\n",
       "<style scoped>\n",
       "    .dataframe tbody tr th:only-of-type {\n",
       "        vertical-align: middle;\n",
       "    }\n",
       "\n",
       "    .dataframe tbody tr th {\n",
       "        vertical-align: top;\n",
       "    }\n",
       "\n",
       "    .dataframe thead th {\n",
       "        text-align: right;\n",
       "    }\n",
       "</style>\n",
       "<table border=\"1\" class=\"dataframe\">\n",
       "  <thead>\n",
       "    <tr style=\"text-align: right;\">\n",
       "      <th></th>\n",
       "      <th>Feature</th>\n",
       "      <th>Importance</th>\n",
       "    </tr>\n",
       "  </thead>\n",
       "  <tbody>\n",
       "    <tr>\n",
       "      <th>7</th>\n",
       "      <td>VerifyPhone</td>\n",
       "      <td>0.488814</td>\n",
       "    </tr>\n",
       "    <tr>\n",
       "      <th>16</th>\n",
       "      <td>VerifyMobile</td>\n",
       "      <td>0.183682</td>\n",
       "    </tr>\n",
       "    <tr>\n",
       "      <th>1</th>\n",
       "      <td>CreditMonitoringScreens</td>\n",
       "      <td>0.039962</td>\n",
       "    </tr>\n",
       "    <tr>\n",
       "      <th>2</th>\n",
       "      <td>LoanScreens</td>\n",
       "      <td>0.039302</td>\n",
       "    </tr>\n",
       "    <tr>\n",
       "      <th>0</th>\n",
       "      <td>OtherScreens</td>\n",
       "      <td>0.031106</td>\n",
       "    </tr>\n",
       "    <tr>\n",
       "      <th>15</th>\n",
       "      <td>Alerts</td>\n",
       "      <td>0.022777</td>\n",
       "    </tr>\n",
       "    <tr>\n",
       "      <th>24</th>\n",
       "      <td>ResendToken</td>\n",
       "      <td>0.018351</td>\n",
       "    </tr>\n",
       "    <tr>\n",
       "      <th>9</th>\n",
       "      <td>VerifyDateOfBirth</td>\n",
       "      <td>0.014522</td>\n",
       "    </tr>\n",
       "    <tr>\n",
       "      <th>21</th>\n",
       "      <td>Login</td>\n",
       "      <td>0.014085</td>\n",
       "    </tr>\n",
       "    <tr>\n",
       "      <th>12</th>\n",
       "      <td>idscreen</td>\n",
       "      <td>0.013713</td>\n",
       "    </tr>\n",
       "    <tr>\n",
       "      <th>19</th>\n",
       "      <td>AccountView</td>\n",
       "      <td>0.012917</td>\n",
       "    </tr>\n",
       "    <tr>\n",
       "      <th>6</th>\n",
       "      <td>location</td>\n",
       "      <td>0.012701</td>\n",
       "    </tr>\n",
       "    <tr>\n",
       "      <th>11</th>\n",
       "      <td>VerifyCountry</td>\n",
       "      <td>0.011226</td>\n",
       "    </tr>\n",
       "    <tr>\n",
       "      <th>17</th>\n",
       "      <td>VerifyHousing</td>\n",
       "      <td>0.010373</td>\n",
       "    </tr>\n",
       "    <tr>\n",
       "      <th>10</th>\n",
       "      <td>ProfilePage</td>\n",
       "      <td>0.010116</td>\n",
       "    </tr>\n",
       "    <tr>\n",
       "      <th>4</th>\n",
       "      <td>minigame</td>\n",
       "      <td>0.009337</td>\n",
       "    </tr>\n",
       "    <tr>\n",
       "      <th>8</th>\n",
       "      <td>BankVerification</td>\n",
       "      <td>0.008350</td>\n",
       "    </tr>\n",
       "    <tr>\n",
       "      <th>3</th>\n",
       "      <td>SavingsScreens</td>\n",
       "      <td>0.007984</td>\n",
       "    </tr>\n",
       "    <tr>\n",
       "      <th>14</th>\n",
       "      <td>Finances</td>\n",
       "      <td>0.007935</td>\n",
       "    </tr>\n",
       "    <tr>\n",
       "      <th>5</th>\n",
       "      <td>used_premium_feature</td>\n",
       "      <td>0.007823</td>\n",
       "    </tr>\n",
       "    <tr>\n",
       "      <th>18</th>\n",
       "      <td>VerifyHousingAmount</td>\n",
       "      <td>0.007721</td>\n",
       "    </tr>\n",
       "    <tr>\n",
       "      <th>20</th>\n",
       "      <td>VerifyAnnualIncome</td>\n",
       "      <td>0.007509</td>\n",
       "    </tr>\n",
       "    <tr>\n",
       "      <th>13</th>\n",
       "      <td>Splash</td>\n",
       "      <td>0.006923</td>\n",
       "    </tr>\n",
       "    <tr>\n",
       "      <th>23</th>\n",
       "      <td>WebView</td>\n",
       "      <td>0.006718</td>\n",
       "    </tr>\n",
       "    <tr>\n",
       "      <th>22</th>\n",
       "      <td>ProfileEmploymentLength</td>\n",
       "      <td>0.006055</td>\n",
       "    </tr>\n",
       "  </tbody>\n",
       "</table>\n",
       "</div>"
      ],
      "text/plain": [
       "                    Feature  Importance\n",
       "7               VerifyPhone    0.488814\n",
       "16             VerifyMobile    0.183682\n",
       "1   CreditMonitoringScreens    0.039962\n",
       "2               LoanScreens    0.039302\n",
       "0              OtherScreens    0.031106\n",
       "15                   Alerts    0.022777\n",
       "24              ResendToken    0.018351\n",
       "9         VerifyDateOfBirth    0.014522\n",
       "21                    Login    0.014085\n",
       "12                 idscreen    0.013713\n",
       "19              AccountView    0.012917\n",
       "6                  location    0.012701\n",
       "11            VerifyCountry    0.011226\n",
       "17            VerifyHousing    0.010373\n",
       "10              ProfilePage    0.010116\n",
       "4                  minigame    0.009337\n",
       "8          BankVerification    0.008350\n",
       "3            SavingsScreens    0.007984\n",
       "14                 Finances    0.007935\n",
       "5      used_premium_feature    0.007823\n",
       "18      VerifyHousingAmount    0.007721\n",
       "20       VerifyAnnualIncome    0.007509\n",
       "13                   Splash    0.006923\n",
       "23                  WebView    0.006718\n",
       "22  ProfileEmploymentLength    0.006055"
      ]
     },
     "execution_count": 54,
     "metadata": {},
     "output_type": "execute_result"
    }
   ],
   "source": [
    "feature_df = plot_feature_importance(X_train_and_validation, model)\n",
    "feature_df"
   ]
  },
  {
   "cell_type": "markdown",
   "id": "5fd6e320",
   "metadata": {},
   "source": [
    "## Save Model 💾\n",
    "\n",
    "Next we save the optimized model along with associated metrics, metadata, and artifacts"
   ]
  },
  {
   "cell_type": "code",
   "execution_count": 55,
   "id": "b2d3b5cd",
   "metadata": {},
   "outputs": [],
   "source": [
    "# Create a directory to save sample training data \n",
    "sample_dir = \"../data/samples\"\n",
    "if not os.path.exists(sample_dir): os.makedirs(sample_dir)\n",
    "    \n",
    "type_of_model = type(model).__name__\n",
    "    \n",
    "# Create a directory to save the model\n",
    "model_dir = f\"../models/{type_of_model}\"\n",
    "if not os.path.exists(model_dir): os.makedirs(model_dir)"
   ]
  },
  {
   "cell_type": "code",
   "execution_count": 56,
   "id": "8ccd988b",
   "metadata": {},
   "outputs": [],
   "source": [
    "from sklearn.metrics import accuracy_score, f1_score, precision_score, recall_score, roc_auc_score\n",
    "import random\n",
    "\n",
    "random_number = random.randint(10_000, 99_999)\n",
    "\n",
    "# Set the tracking server URI, here set to file storage\n",
    "mlflow.set_tracking_uri(f'file://{os.path.abspath(model_dir)}')\n",
    "\n",
    "# Set the experiment\n",
    "experiment_name = \"final_models\"\n",
    "experiment = mlflow.set_experiment(experiment_name)\n",
    "\n",
    "# Save a sample of the data the model was trained on\n",
    "sample_data = X_train.head()\n",
    "sample_data.to_csv(f\"{sample_dir}/sample_train_data_{random_number}.csv\", index=False)\n",
    "\n",
    "# Get model hyperpameters\n",
    "model_params = model.get_params()\n",
    "params_dict = dict(model_params)\n",
    "\n",
    "# Predict the probabilities of the positive class\n",
    "prob_posclass = model.predict_proba(X_test)[:, 1]\n",
    "roc_auc = roc_auc_score(y_test, prob_posclass)\n",
    "\n",
    "with mlflow.start_run(experiment_id=experiment.experiment_id):\n",
    "    mlflow.log_params(params_dict)\n",
    "    mlflow.log_params({\"test_feature_importances\": model.feature_importances_})\n",
    "    mlflow.log_metric(\"test_accuracy\", accuracy_score(y_test, y_predict))\n",
    "    mlflow.log_metric(\"test_precision\", precision_score(y_test, y_predict))\n",
    "    mlflow.log_metric(\"test_recall\", recall_score(y_test, y_predict))\n",
    "    mlflow.log_metric(\"test_F1\", f1_score(y_test, y_predict))\n",
    "    mlflow.log_metric(\"test_roc_auc\", roc_auc)\n",
    "    mlflow.sklearn.log_model(model, \"model\", pip_requirements=\"./requirements.txt\")\n",
    "    mlflow.set_tag(\"estimator_name\", model.__class__.__name__)\n",
    "    mlflow.set_tag(\"estimator_class\", model.__class__)\n",
    "    mlflow.log_artifact(f\"{sample_dir}/sample_train_data_{random_number}.csv\")\n",
    "    mlflow.end_run()"
   ]
  },
  {
   "cell_type": "markdown",
   "id": "95ee3cfa",
   "metadata": {},
   "source": [
    "## Process Results 🔄"
   ]
  },
  {
   "cell_type": "markdown",
   "id": "cd8753a2",
   "metadata": {},
   "source": [
    "Here we format the final results from our model's predictions to the user this data came from. Though in the future we will not have 'enrolled' data for the deployed model's predictions, a similar process can be utilized. This enables the sales team to identify users the model has estimated unlikely to subscribe to paid subscriptions. "
   ]
  },
  {
   "cell_type": "code",
   "execution_count": 57,
   "id": "08c5e0e3",
   "metadata": {},
   "outputs": [
    {
     "data": {
      "text/html": [
       "<div>\n",
       "<style scoped>\n",
       "    .dataframe tbody tr th:only-of-type {\n",
       "        vertical-align: middle;\n",
       "    }\n",
       "\n",
       "    .dataframe tbody tr th {\n",
       "        vertical-align: top;\n",
       "    }\n",
       "\n",
       "    .dataframe thead th {\n",
       "        text-align: right;\n",
       "    }\n",
       "</style>\n",
       "<table border=\"1\" class=\"dataframe\">\n",
       "  <thead>\n",
       "    <tr style=\"text-align: right;\">\n",
       "      <th></th>\n",
       "      <th>user</th>\n",
       "      <th>enrolled</th>\n",
       "      <th>predicted_results</th>\n",
       "    </tr>\n",
       "  </thead>\n",
       "  <tbody>\n",
       "    <tr>\n",
       "      <th>0</th>\n",
       "      <td>49321.0</td>\n",
       "      <td>0</td>\n",
       "      <td>0</td>\n",
       "    </tr>\n",
       "    <tr>\n",
       "      <th>1</th>\n",
       "      <td>260324.0</td>\n",
       "      <td>0</td>\n",
       "      <td>0</td>\n",
       "    </tr>\n",
       "    <tr>\n",
       "      <th>2</th>\n",
       "      <td>279577.0</td>\n",
       "      <td>0</td>\n",
       "      <td>1</td>\n",
       "    </tr>\n",
       "    <tr>\n",
       "      <th>3</th>\n",
       "      <td>20758.0</td>\n",
       "      <td>1</td>\n",
       "      <td>1</td>\n",
       "    </tr>\n",
       "    <tr>\n",
       "      <th>4</th>\n",
       "      <td>76492.0</td>\n",
       "      <td>1</td>\n",
       "      <td>0</td>\n",
       "    </tr>\n",
       "    <tr>\n",
       "      <th>5</th>\n",
       "      <td>32728.0</td>\n",
       "      <td>0</td>\n",
       "      <td>0</td>\n",
       "    </tr>\n",
       "    <tr>\n",
       "      <th>6</th>\n",
       "      <td>239012.0</td>\n",
       "      <td>0</td>\n",
       "      <td>0</td>\n",
       "    </tr>\n",
       "    <tr>\n",
       "      <th>7</th>\n",
       "      <td>218344.0</td>\n",
       "      <td>1</td>\n",
       "      <td>1</td>\n",
       "    </tr>\n",
       "    <tr>\n",
       "      <th>8</th>\n",
       "      <td>66162.0</td>\n",
       "      <td>0</td>\n",
       "      <td>0</td>\n",
       "    </tr>\n",
       "    <tr>\n",
       "      <th>9</th>\n",
       "      <td>286539.0</td>\n",
       "      <td>1</td>\n",
       "      <td>0</td>\n",
       "    </tr>\n",
       "  </tbody>\n",
       "</table>\n",
       "</div>"
      ],
      "text/plain": [
       "       user  enrolled  predicted_results\n",
       "0   49321.0         0                  0\n",
       "1  260324.0         0                  0\n",
       "2  279577.0         0                  1\n",
       "3   20758.0         1                  1\n",
       "4   76492.0         1                  0\n",
       "5   32728.0         0                  0\n",
       "6  239012.0         0                  0\n",
       "7  218344.0         1                  1\n",
       "8   66162.0         0                  0\n",
       "9  286539.0         1                  0"
      ]
     },
     "execution_count": 57,
     "metadata": {},
     "output_type": "execute_result"
    }
   ],
   "source": [
    "# Concatenate test labels to the user they came from\n",
    "final_results_df = pd.concat([y_test, test_identifier], axis =1).dropna()\n",
    "# Add predicted results from the model\n",
    "final_results_df['predicted_results'] = y_predict\n",
    "final_results_df = final_results_df[['user', 'enrolled', 'predicted_results']].reset_index(drop=True)\n",
    "\n",
    "# Adjust as needed\n",
    "final_results_df.head(10)"
   ]
  },
  {
   "cell_type": "markdown",
   "id": "947800a2",
   "metadata": {},
   "source": [
    "### Save Data 💾\n",
    "\n",
    "Persist final results and a list of users our model has estimated to be unlikely to enroll in the paid subscription"
   ]
  },
  {
   "cell_type": "code",
   "execution_count": 58,
   "id": "5fdb125c",
   "metadata": {},
   "outputs": [],
   "source": [
    "from datetime import datetime\n",
    "from reportlab.lib.pagesizes import letter\n",
    "from reportlab.platypus import SimpleDocTemplate, Table\n",
    "import csv\n",
    "\n",
    "# Define a directory to save results \n",
    "directory = \"../data/results\"\n",
    "if not os.path.exists(directory): os.makedirs(directory)\n",
    "\n",
    "# Process a timestamp\n",
    "datetime = datetime.now().strftime(\"%Y-%m-%d %H:%M:%S\")\n",
    "# Save final results to a .csv file \n",
    "final_results_df.to_csv(f\"../data/results/final_results_{datetime}.csv\")\n",
    "\n",
    "# Filter results for users unlikely to enroll in the paid subscription\n",
    "final_results_df = final_results_df[final_results_df.predicted_results == 0].copy()\n",
    "unlikely_to_esign_df = final_results_df.copy().drop(columns = ['enrolled', 'predicted_results'])\n",
    "# Save the filtered DataFrame to a .csv file\n",
    "unlikely_to_esign_df.to_csv(f\"../data/results/users_unlikely_to_enroll_{datetime}.csv\")\n",
    "# Define paths for conversion\n",
    "csv_file = f\"../data/results/users_unlikely_to_enroll_{datetime}.csv\"\n",
    "pdf_file = f\"../data/results/users_unlikely_to_enroll_{datetime}.pdf\"\n",
    "\n",
    "# Convert the .csv file \n",
    "data = []\n",
    "with open(csv_file, 'r') as file:\n",
    "    reader = csv.reader(file)\n",
    "    for row in reader: data.append(row)\n",
    "\n",
    "# Create a PDF document\n",
    "doc = SimpleDocTemplate(pdf_file, pagesize=letter)\n",
    "# Create a table from the CSV data\n",
    "table = Table(data)\n",
    "# Add the table to the document\n",
    "doc.build([table])"
   ]
  }
 ],
 "metadata": {
  "interpreter": {
   "hash": "cebbbc35963bee152c0570229337147d97be067c4ba41edaf5e0e61998aebd3e"
  },
  "kernelspec": {
   "display_name": "Python 3.10.12 ('base')",
   "language": "python",
   "name": "python3"
  },
  "language_info": {
   "codemirror_mode": {
    "name": "ipython",
    "version": 3
   },
   "file_extension": ".py",
   "mimetype": "text/x-python",
   "name": "python",
   "nbconvert_exporter": "python",
   "pygments_lexer": "ipython3",
   "version": "3.10.12"
  }
 },
 "nbformat": 4,
 "nbformat_minor": 5
}
