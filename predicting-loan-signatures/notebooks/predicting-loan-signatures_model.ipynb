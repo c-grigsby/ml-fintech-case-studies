{
 "cells": [
  {
   "cell_type": "markdown",
   "id": "7c951ac5",
   "metadata": {},
   "source": [
    "<h1 style=\"font-size:3rem;color:orange;\">Predicting Loan E-Signatures 🖆</h1>\n",
    "\n",
    "<h2 style=\"font-size:2rem;color:orange;\">Data Pre-processing and Model Building</h2>"
   ]
  },
  {
   "cell_type": "markdown",
   "id": "5cc9cf1c",
   "metadata": {},
   "source": [
    "### Import Libraries"
   ]
  },
  {
   "cell_type": "code",
   "execution_count": 1,
   "id": "25adc484",
   "metadata": {},
   "outputs": [],
   "source": [
    "import matplotlib.pyplot as plt\n",
    "import mlflow\n",
    "import numpy as np\n",
    "import os\n",
    "import pandas as pd"
   ]
  },
  {
   "cell_type": "markdown",
   "id": "0bed3149",
   "metadata": {},
   "source": [
    "### Import Data"
   ]
  },
  {
   "cell_type": "code",
   "execution_count": 2,
   "id": "4b0dd51c",
   "metadata": {},
   "outputs": [],
   "source": [
    "df_users_financial = pd.read_csv(\"../data/processed/new_P39-Financial-Data.csv\")"
   ]
  },
  {
   "cell_type": "markdown",
   "id": "d7d0d5fa",
   "metadata": {},
   "source": [
    "### Data Peek 👀"
   ]
  },
  {
   "cell_type": "code",
   "execution_count": 3,
   "id": "52aa6e12",
   "metadata": {},
   "outputs": [
    {
     "data": {
      "text/html": [
       "<div>\n",
       "<style scoped>\n",
       "    .dataframe tbody tr th:only-of-type {\n",
       "        vertical-align: middle;\n",
       "    }\n",
       "\n",
       "    .dataframe tbody tr th {\n",
       "        vertical-align: top;\n",
       "    }\n",
       "\n",
       "    .dataframe thead th {\n",
       "        text-align: right;\n",
       "    }\n",
       "</style>\n",
       "<table border=\"1\" class=\"dataframe\">\n",
       "  <thead>\n",
       "    <tr style=\"text-align: right;\">\n",
       "      <th></th>\n",
       "      <th>entry_id</th>\n",
       "      <th>age</th>\n",
       "      <th>monthly_income</th>\n",
       "      <th>years_employed</th>\n",
       "      <th>current_address_year</th>\n",
       "      <th>amount_requested</th>\n",
       "      <th>risk_score</th>\n",
       "      <th>inquiries_last_month</th>\n",
       "      <th>pay_schedule</th>\n",
       "      <th>home_owner</th>\n",
       "      <th>has_debt</th>\n",
       "      <th>personal_account_months</th>\n",
       "      <th>avg_risk_score</th>\n",
       "      <th>avg_ext_quality_score</th>\n",
       "      <th>e_signed</th>\n",
       "    </tr>\n",
       "  </thead>\n",
       "  <tbody>\n",
       "    <tr>\n",
       "      <th>0</th>\n",
       "      <td>7629673</td>\n",
       "      <td>40</td>\n",
       "      <td>3135</td>\n",
       "      <td>3</td>\n",
       "      <td>3</td>\n",
       "      <td>550</td>\n",
       "      <td>36200</td>\n",
       "      <td>10</td>\n",
       "      <td>bi-weekly</td>\n",
       "      <td>1</td>\n",
       "      <td>1</td>\n",
       "      <td>30</td>\n",
       "      <td>0.661151</td>\n",
       "      <td>0.480918</td>\n",
       "      <td>1</td>\n",
       "    </tr>\n",
       "    <tr>\n",
       "      <th>1</th>\n",
       "      <td>3560428</td>\n",
       "      <td>61</td>\n",
       "      <td>3180</td>\n",
       "      <td>6</td>\n",
       "      <td>3</td>\n",
       "      <td>600</td>\n",
       "      <td>30150</td>\n",
       "      <td>9</td>\n",
       "      <td>weekly</td>\n",
       "      <td>0</td>\n",
       "      <td>1</td>\n",
       "      <td>86</td>\n",
       "      <td>0.789841</td>\n",
       "      <td>0.680720</td>\n",
       "      <td>0</td>\n",
       "    </tr>\n",
       "    <tr>\n",
       "      <th>2</th>\n",
       "      <td>6934997</td>\n",
       "      <td>23</td>\n",
       "      <td>1540</td>\n",
       "      <td>0</td>\n",
       "      <td>0</td>\n",
       "      <td>450</td>\n",
       "      <td>34550</td>\n",
       "      <td>7</td>\n",
       "      <td>weekly</td>\n",
       "      <td>0</td>\n",
       "      <td>1</td>\n",
       "      <td>19</td>\n",
       "      <td>0.691712</td>\n",
       "      <td>0.531712</td>\n",
       "      <td>0</td>\n",
       "    </tr>\n",
       "    <tr>\n",
       "      <th>3</th>\n",
       "      <td>5682812</td>\n",
       "      <td>40</td>\n",
       "      <td>5230</td>\n",
       "      <td>6</td>\n",
       "      <td>1</td>\n",
       "      <td>700</td>\n",
       "      <td>42150</td>\n",
       "      <td>8</td>\n",
       "      <td>bi-weekly</td>\n",
       "      <td>0</td>\n",
       "      <td>1</td>\n",
       "      <td>86</td>\n",
       "      <td>0.793179</td>\n",
       "      <td>0.692552</td>\n",
       "      <td>1</td>\n",
       "    </tr>\n",
       "    <tr>\n",
       "      <th>4</th>\n",
       "      <td>5335819</td>\n",
       "      <td>33</td>\n",
       "      <td>3590</td>\n",
       "      <td>5</td>\n",
       "      <td>2</td>\n",
       "      <td>1100</td>\n",
       "      <td>53850</td>\n",
       "      <td>12</td>\n",
       "      <td>semi-monthly</td>\n",
       "      <td>0</td>\n",
       "      <td>1</td>\n",
       "      <td>98</td>\n",
       "      <td>0.688483</td>\n",
       "      <td>0.744634</td>\n",
       "      <td>0</td>\n",
       "    </tr>\n",
       "  </tbody>\n",
       "</table>\n",
       "</div>"
      ],
      "text/plain": [
       "   entry_id  age  monthly_income  years_employed  current_address_year  \\\n",
       "0   7629673   40            3135               3                     3   \n",
       "1   3560428   61            3180               6                     3   \n",
       "2   6934997   23            1540               0                     0   \n",
       "3   5682812   40            5230               6                     1   \n",
       "4   5335819   33            3590               5                     2   \n",
       "\n",
       "   amount_requested  risk_score  inquiries_last_month  pay_schedule  \\\n",
       "0               550       36200                    10     bi-weekly   \n",
       "1               600       30150                     9        weekly   \n",
       "2               450       34550                     7        weekly   \n",
       "3               700       42150                     8     bi-weekly   \n",
       "4              1100       53850                    12  semi-monthly   \n",
       "\n",
       "   home_owner  has_debt  personal_account_months  avg_risk_score  \\\n",
       "0           1         1                       30        0.661151   \n",
       "1           0         1                       86        0.789841   \n",
       "2           0         1                       19        0.691712   \n",
       "3           0         1                       86        0.793179   \n",
       "4           0         1                       98        0.688483   \n",
       "\n",
       "   avg_ext_quality_score  e_signed  \n",
       "0               0.480918         1  \n",
       "1               0.680720         0  \n",
       "2               0.531712         0  \n",
       "3               0.692552         1  \n",
       "4               0.744634         0  "
      ]
     },
     "execution_count": 3,
     "metadata": {},
     "output_type": "execute_result"
    }
   ],
   "source": [
    "df_users_financial.head()"
   ]
  },
  {
   "cell_type": "code",
   "execution_count": 4,
   "id": "8a1eb7a8",
   "metadata": {},
   "outputs": [
    {
     "data": {
      "text/html": [
       "<div>\n",
       "<style scoped>\n",
       "    .dataframe tbody tr th:only-of-type {\n",
       "        vertical-align: middle;\n",
       "    }\n",
       "\n",
       "    .dataframe tbody tr th {\n",
       "        vertical-align: top;\n",
       "    }\n",
       "\n",
       "    .dataframe thead th {\n",
       "        text-align: right;\n",
       "    }\n",
       "</style>\n",
       "<table border=\"1\" class=\"dataframe\">\n",
       "  <thead>\n",
       "    <tr style=\"text-align: right;\">\n",
       "      <th></th>\n",
       "      <th>entry_id</th>\n",
       "      <th>age</th>\n",
       "      <th>monthly_income</th>\n",
       "      <th>years_employed</th>\n",
       "      <th>current_address_year</th>\n",
       "      <th>amount_requested</th>\n",
       "      <th>risk_score</th>\n",
       "      <th>inquiries_last_month</th>\n",
       "      <th>home_owner</th>\n",
       "      <th>has_debt</th>\n",
       "      <th>personal_account_months</th>\n",
       "      <th>avg_risk_score</th>\n",
       "      <th>avg_ext_quality_score</th>\n",
       "      <th>e_signed</th>\n",
       "    </tr>\n",
       "  </thead>\n",
       "  <tbody>\n",
       "    <tr>\n",
       "      <th>count</th>\n",
       "      <td>1.790800e+04</td>\n",
       "      <td>17908.000000</td>\n",
       "      <td>17908.000000</td>\n",
       "      <td>17908.000000</td>\n",
       "      <td>17908.000000</td>\n",
       "      <td>17908.000000</td>\n",
       "      <td>17908.000000</td>\n",
       "      <td>17908.000000</td>\n",
       "      <td>17908.000000</td>\n",
       "      <td>17908.000000</td>\n",
       "      <td>17908.000000</td>\n",
       "      <td>17908.000000</td>\n",
       "      <td>17908.000000</td>\n",
       "      <td>17908.000000</td>\n",
       "    </tr>\n",
       "    <tr>\n",
       "      <th>mean</th>\n",
       "      <td>5.596978e+06</td>\n",
       "      <td>43.015412</td>\n",
       "      <td>3657.214653</td>\n",
       "      <td>3.526860</td>\n",
       "      <td>3.584711</td>\n",
       "      <td>950.446449</td>\n",
       "      <td>61086.302211</td>\n",
       "      <td>6.457226</td>\n",
       "      <td>0.425173</td>\n",
       "      <td>0.795399</td>\n",
       "      <td>45.467389</td>\n",
       "      <td>0.717640</td>\n",
       "      <td>0.622590</td>\n",
       "      <td>0.538251</td>\n",
       "    </tr>\n",
       "    <tr>\n",
       "      <th>std</th>\n",
       "      <td>2.562473e+06</td>\n",
       "      <td>11.873107</td>\n",
       "      <td>1504.890063</td>\n",
       "      <td>2.259732</td>\n",
       "      <td>2.751937</td>\n",
       "      <td>698.543683</td>\n",
       "      <td>15394.255020</td>\n",
       "      <td>3.673093</td>\n",
       "      <td>0.494383</td>\n",
       "      <td>0.403421</td>\n",
       "      <td>23.258829</td>\n",
       "      <td>0.070536</td>\n",
       "      <td>0.115284</td>\n",
       "      <td>0.498549</td>\n",
       "    </tr>\n",
       "    <tr>\n",
       "      <th>min</th>\n",
       "      <td>1.111398e+06</td>\n",
       "      <td>18.000000</td>\n",
       "      <td>905.000000</td>\n",
       "      <td>0.000000</td>\n",
       "      <td>0.000000</td>\n",
       "      <td>350.000000</td>\n",
       "      <td>2100.000000</td>\n",
       "      <td>1.000000</td>\n",
       "      <td>0.000000</td>\n",
       "      <td>0.000000</td>\n",
       "      <td>0.000000</td>\n",
       "      <td>0.353661</td>\n",
       "      <td>0.022057</td>\n",
       "      <td>0.000000</td>\n",
       "    </tr>\n",
       "    <tr>\n",
       "      <th>25%</th>\n",
       "      <td>3.378999e+06</td>\n",
       "      <td>34.000000</td>\n",
       "      <td>2580.000000</td>\n",
       "      <td>2.000000</td>\n",
       "      <td>2.000000</td>\n",
       "      <td>600.000000</td>\n",
       "      <td>49350.000000</td>\n",
       "      <td>4.000000</td>\n",
       "      <td>0.000000</td>\n",
       "      <td>1.000000</td>\n",
       "      <td>29.000000</td>\n",
       "      <td>0.668689</td>\n",
       "      <td>0.547725</td>\n",
       "      <td>0.000000</td>\n",
       "    </tr>\n",
       "    <tr>\n",
       "      <th>50%</th>\n",
       "      <td>5.608376e+06</td>\n",
       "      <td>42.000000</td>\n",
       "      <td>3260.000000</td>\n",
       "      <td>3.000000</td>\n",
       "      <td>3.000000</td>\n",
       "      <td>700.000000</td>\n",
       "      <td>61200.000000</td>\n",
       "      <td>6.000000</td>\n",
       "      <td>0.000000</td>\n",
       "      <td>1.000000</td>\n",
       "      <td>40.000000</td>\n",
       "      <td>0.719793</td>\n",
       "      <td>0.627009</td>\n",
       "      <td>1.000000</td>\n",
       "    </tr>\n",
       "    <tr>\n",
       "      <th>75%</th>\n",
       "      <td>7.805624e+06</td>\n",
       "      <td>51.000000</td>\n",
       "      <td>4670.000000</td>\n",
       "      <td>5.000000</td>\n",
       "      <td>5.000000</td>\n",
       "      <td>1100.000000</td>\n",
       "      <td>72750.000000</td>\n",
       "      <td>8.000000</td>\n",
       "      <td>1.000000</td>\n",
       "      <td>1.000000</td>\n",
       "      <td>54.000000</td>\n",
       "      <td>0.769095</td>\n",
       "      <td>0.702689</td>\n",
       "      <td>1.000000</td>\n",
       "    </tr>\n",
       "    <tr>\n",
       "      <th>max</th>\n",
       "      <td>9.999874e+06</td>\n",
       "      <td>96.000000</td>\n",
       "      <td>9985.000000</td>\n",
       "      <td>16.000000</td>\n",
       "      <td>12.000000</td>\n",
       "      <td>10200.000000</td>\n",
       "      <td>99750.000000</td>\n",
       "      <td>30.000000</td>\n",
       "      <td>1.000000</td>\n",
       "      <td>1.000000</td>\n",
       "      <td>183.000000</td>\n",
       "      <td>0.925252</td>\n",
       "      <td>0.966953</td>\n",
       "      <td>1.000000</td>\n",
       "    </tr>\n",
       "  </tbody>\n",
       "</table>\n",
       "</div>"
      ],
      "text/plain": [
       "           entry_id           age  monthly_income  years_employed  \\\n",
       "count  1.790800e+04  17908.000000    17908.000000    17908.000000   \n",
       "mean   5.596978e+06     43.015412     3657.214653        3.526860   \n",
       "std    2.562473e+06     11.873107     1504.890063        2.259732   \n",
       "min    1.111398e+06     18.000000      905.000000        0.000000   \n",
       "25%    3.378999e+06     34.000000     2580.000000        2.000000   \n",
       "50%    5.608376e+06     42.000000     3260.000000        3.000000   \n",
       "75%    7.805624e+06     51.000000     4670.000000        5.000000   \n",
       "max    9.999874e+06     96.000000     9985.000000       16.000000   \n",
       "\n",
       "       current_address_year  amount_requested    risk_score  \\\n",
       "count          17908.000000      17908.000000  17908.000000   \n",
       "mean               3.584711        950.446449  61086.302211   \n",
       "std                2.751937        698.543683  15394.255020   \n",
       "min                0.000000        350.000000   2100.000000   \n",
       "25%                2.000000        600.000000  49350.000000   \n",
       "50%                3.000000        700.000000  61200.000000   \n",
       "75%                5.000000       1100.000000  72750.000000   \n",
       "max               12.000000      10200.000000  99750.000000   \n",
       "\n",
       "       inquiries_last_month    home_owner      has_debt  \\\n",
       "count          17908.000000  17908.000000  17908.000000   \n",
       "mean               6.457226      0.425173      0.795399   \n",
       "std                3.673093      0.494383      0.403421   \n",
       "min                1.000000      0.000000      0.000000   \n",
       "25%                4.000000      0.000000      1.000000   \n",
       "50%                6.000000      0.000000      1.000000   \n",
       "75%                8.000000      1.000000      1.000000   \n",
       "max               30.000000      1.000000      1.000000   \n",
       "\n",
       "       personal_account_months  avg_risk_score  avg_ext_quality_score  \\\n",
       "count             17908.000000    17908.000000           17908.000000   \n",
       "mean                 45.467389        0.717640               0.622590   \n",
       "std                  23.258829        0.070536               0.115284   \n",
       "min                   0.000000        0.353661               0.022057   \n",
       "25%                  29.000000        0.668689               0.547725   \n",
       "50%                  40.000000        0.719793               0.627009   \n",
       "75%                  54.000000        0.769095               0.702689   \n",
       "max                 183.000000        0.925252               0.966953   \n",
       "\n",
       "           e_signed  \n",
       "count  17908.000000  \n",
       "mean       0.538251  \n",
       "std        0.498549  \n",
       "min        0.000000  \n",
       "25%        0.000000  \n",
       "50%        1.000000  \n",
       "75%        1.000000  \n",
       "max        1.000000  "
      ]
     },
     "execution_count": 4,
     "metadata": {},
     "output_type": "execute_result"
    }
   ],
   "source": [
    "df_users_financial.describe()"
   ]
  },
  {
   "cell_type": "markdown",
   "id": "49799bce",
   "metadata": {},
   "source": [
    "Here we generate an interactive [YData Profiling](https://docs.profiling.ydata.ai/4.6/) report of our processed data which we save to a HTML file "
   ]
  },
  {
   "cell_type": "code",
   "execution_count": 5,
   "id": "46607222",
   "metadata": {},
   "outputs": [],
   "source": [
    "%%capture\n",
    "from ydata_profiling import ProfileReport\n",
    "\n",
    "# The local directory to save the report\n",
    "data_dir = '../data/processed'\n",
    "if not os.path.exists(data_dir):\n",
    "    os.makedirs(data_dir)\n",
    "\n",
    "# Generate the report & save to a file\n",
    "data_profile = ProfileReport(df_users_financial, title=\"Profiling Report of new_P39-Financial-Data.csv\")\n",
    "data_profile.to_file(f'../data/processed/ProfileReport_new_P39-Financial-Data.html')"
   ]
  },
  {
   "cell_type": "markdown",
   "id": "67d32980",
   "metadata": {},
   "source": [
    "- To view in the notebook, create a new cell below with ```data_profile.to_notebook_iframe()```\n",
    "\n",
    "- View the report in the web browser [here](https://ml-fintech-case-studies.netlify.app/profile_reports/new_P39-Financial-Data.html#overview) 👁️‍🗨️\n",
    "\n",
    "  <img src=\"../../images/p39_processed_profile-report.png\" width=\"580\" alt=\"ProfileReport\"/>"
   ]
  },
  {
   "cell_type": "code",
   "execution_count": 6,
   "id": "8b8c8c87",
   "metadata": {},
   "outputs": [],
   "source": [
    "# Restore matplotlib to inline mode after viewing for plots\n",
    "%matplotlib inline"
   ]
  },
  {
   "cell_type": "markdown",
   "id": "9cfa82d3",
   "metadata": {},
   "source": [
    "# Data Pre-processing <img src=\"../../images/processing.gif\" width=\"40\" alt=\"Processing\"/>"
   ]
  },
  {
   "cell_type": "markdown",
   "id": "d6450122",
   "metadata": {},
   "source": [
    "### Remove the label from the features"
   ]
  },
  {
   "cell_type": "code",
   "execution_count": 7,
   "id": "f779d045",
   "metadata": {},
   "outputs": [],
   "source": [
    "label = df_users_financial['e_signed']\n",
    "df_users_financial = df_users_financial.drop(columns='e_signed')"
   ]
  },
  {
   "cell_type": "markdown",
   "id": "31feabb1",
   "metadata": {},
   "source": [
    "### Feature Selection"
   ]
  },
  {
   "cell_type": "code",
   "execution_count": 8,
   "id": "799d5ce0",
   "metadata": {},
   "outputs": [],
   "source": [
    "df_users_financial = df_users_financial.drop(columns='pay_schedule')"
   ]
  },
  {
   "cell_type": "markdown",
   "id": "f3471ed3",
   "metadata": {},
   "source": [
    "### Transformations"
   ]
  },
  {
   "cell_type": "code",
   "execution_count": 9,
   "id": "08afff18",
   "metadata": {},
   "outputs": [],
   "source": [
    "# Convert all columns to float except 'entry_id'\n",
    "columns_to_convert = df_users_financial.columns.difference(['entry_id'])\n",
    "df_users_financial[columns_to_convert] = df_users_financial[columns_to_convert].astype(float)"
   ]
  },
  {
   "cell_type": "code",
   "execution_count": 10,
   "id": "7435aa05",
   "metadata": {},
   "outputs": [],
   "source": [
    "# Take the log of 'amount_requested' to address skew\n",
    "df_users_financial['log_amount_requested'] = np.log(df_users_financial['amount_requested'])\n",
    "\n",
    "# Drop the previous values \n",
    "df_users_financial.drop('amount_requested', axis=1, inplace=True)"
   ]
  },
  {
   "cell_type": "markdown",
   "id": "740b0d59",
   "metadata": {},
   "source": [
    "### Split the dataset into training and test sets"
   ]
  },
  {
   "cell_type": "code",
   "execution_count": 11,
   "id": "331a67f3",
   "metadata": {},
   "outputs": [
    {
     "name": "stdout",
     "output_type": "stream",
     "text": [
      "(14326, 13)\n",
      "(3582, 13)\n"
     ]
    }
   ],
   "source": [
    "from sklearn.model_selection import train_test_split\n",
    "\n",
    "# Split the data into an 80/20 train/test ratio\n",
    "X_train, X_test, y_train, y_test = train_test_split(df_users_financial, label, \n",
    "                                                    test_size=0.2, \n",
    "                                                    stratify=label, \n",
    "                                                    random_state=42)\n",
    "print(X_train.shape)\n",
    "print(X_test.shape)"
   ]
  },
  {
   "cell_type": "markdown",
   "id": "37e6623a",
   "metadata": {},
   "source": [
    "### Filter model data"
   ]
  },
  {
   "cell_type": "code",
   "execution_count": 12,
   "id": "86dd41ac",
   "metadata": {},
   "outputs": [],
   "source": [
    "# Purge user identification, persist to associate the prediction to the user it came from \n",
    "user_identification = 'entry_id'\n",
    "\n",
    "train_identifier = X_train[user_identification]\n",
    "X_train = X_train.drop(columns = [user_identification])\n",
    "\n",
    "test_identifier = X_test[user_identification]\n",
    "X_test = X_test.drop(columns = [user_identification])"
   ]
  },
  {
   "cell_type": "markdown",
   "id": "7a21237a",
   "metadata": {},
   "source": [
    "### Feature Scaling"
   ]
  },
  {
   "cell_type": "code",
   "execution_count": 13,
   "id": "52c10025",
   "metadata": {},
   "outputs": [],
   "source": [
    "from sklearn.preprocessing import StandardScaler\n",
    "\n",
    "def standard_scale(train_df, test_df, columns_to_exclude):\n",
    "    \"\"\"\n",
    "    Performs standard scaling on numerical columns within a DataFrame.\n",
    "    Accepts a training DataFrame, a test DataFrame, and an array of column names to exclude.\n",
    "    Returns the modified DataFrames.\n",
    "    \"\"\"\n",
    "    # Identify columns to be excluded from scaling\n",
    "    excluded_columns = [col for col in train_df.columns if any(substring in col for substring in columns_to_exclude)]\n",
    "    # Columns to be standardized\n",
    "    columns_to_scale = [col for col in train_df.columns if col not in excluded_columns]\n",
    "    # Instantiate the scaler\n",
    "    standard_scaler_X = StandardScaler()\n",
    "    # Scale the selected columns in the training data\n",
    "    scaled_features_train = standard_scaler_X.fit_transform(train_df[columns_to_scale])\n",
    "    # Convert scaled features into a DataFrame\n",
    "    scaled_train_df = pd.DataFrame(scaled_features_train, columns=columns_to_scale, index=train_df.index)\n",
    "    # Scale the selected columns in the test data\n",
    "    scaled_features_test = standard_scaler_X.transform(test_df[columns_to_scale])\n",
    "    # Convert scaled features into a DataFrame\n",
    "    scaled_test_df = pd.DataFrame(scaled_features_test, columns=columns_to_scale, index=test_df.index)\n",
    "    # Concatenate the scaled features with the excluded columns to get the final dataframes\n",
    "    final_train_df = pd.concat([scaled_train_df, train_df[excluded_columns]], axis=1)\n",
    "    final_test_df = pd.concat([scaled_test_df, test_df[excluded_columns]], axis=1)\n",
    "\n",
    "    return final_train_df, final_test_df"
   ]
  },
  {
   "cell_type": "code",
   "execution_count": 14,
   "id": "e946fd1d",
   "metadata": {},
   "outputs": [],
   "source": [
    "# Scale the datasets\n",
    "binary_columns_to_exclude = ['has_', 'home_']\n",
    "X_train, X_test = standard_scale(X_train, X_test, binary_columns_to_exclude)"
   ]
  },
  {
   "cell_type": "markdown",
   "id": "4b681ffb",
   "metadata": {},
   "source": [
    "# Model Building 🤖"
   ]
  },
  {
   "cell_type": "markdown",
   "id": "5f7e9db0",
   "metadata": {},
   "source": [
    "### Training Data"
   ]
  },
  {
   "cell_type": "code",
   "execution_count": 15,
   "id": "bff846d9",
   "metadata": {},
   "outputs": [
    {
     "name": "stdout",
     "output_type": "stream",
     "text": [
      "(11460, 12)\n",
      "(2866, 12)\n"
     ]
    }
   ],
   "source": [
    "# Split the training set into a 80/20 training/validation set\n",
    "X_train, X_validation, y_train, y_validation = train_test_split(X_train, y_train, \n",
    "                                                                test_size=0.2, \n",
    "                                                                stratify=y_train, \n",
    "                                                                random_state=42)\n",
    "print(X_train.shape)\n",
    "print(X_validation.shape)"
   ]
  },
  {
   "cell_type": "code",
   "execution_count": 16,
   "id": "9db22f57",
   "metadata": {},
   "outputs": [],
   "source": [
    "# Scale the datasets\n",
    "binary_columns_to_exclude = ['has_', 'home_']\n",
    "X_train, X_validation = standard_scale(X_train, X_validation, binary_columns_to_exclude)"
   ]
  },
  {
   "cell_type": "markdown",
   "id": "2ddc0494",
   "metadata": {},
   "source": [
    "### Training Data Combined\n",
    "\n",
    "For cross-validation and final model training"
   ]
  },
  {
   "cell_type": "code",
   "execution_count": 17,
   "id": "bb21f8fa",
   "metadata": {},
   "outputs": [],
   "source": [
    "# Concatenate the training and validation feature datasets vertically\n",
    "X_train_and_validation = pd.concat([X_train, X_validation], axis=0).reset_index(drop=True)\n",
    "\n",
    "# Concatenate the training and validation label datasets vertically\n",
    "y_train_and_validation = pd.concat([y_train, y_validation], axis=0).reset_index(drop=True)"
   ]
  },
  {
   "cell_type": "markdown",
   "id": "f1704640",
   "metadata": {},
   "source": [
    "### Metrics Function"
   ]
  },
  {
   "cell_type": "code",
   "execution_count": 18,
   "id": "90afbdfb",
   "metadata": {},
   "outputs": [],
   "source": [
    "from sklearn.metrics import accuracy_score, f1_score, precision_score, recall_score, roc_auc_score\n",
    "\n",
    "def evaluate_scores_and_concat(prob_posclass, y_test, y_predict, model_name, results_dataframe): \n",
    "    \"\"\"\n",
    "    Evaluates model scores and concatenates results to a DataFrame.\n",
    "    \"\"\"\n",
    "    # Get scores\n",
    "    accuracy = accuracy_score(y_test, y_predict)   # CorrectPredicts/TotalPredicts  \n",
    "    precision = precision_score(y_test, y_predict) # TP/(TP+FP)\n",
    "    recall = recall_score(y_test, y_predict)       # TP/(TP+FN)\n",
    "    f1 = f1_score(y_test, y_predict)               # 2*(precision*recall)/(precision+recall)\n",
    "    roc_auc = roc_auc_score(y_test, prob_posclass)\n",
    "    # Transfer scores to a DataFrame\n",
    "    new_results = pd.DataFrame([[model_name, accuracy, precision, recall, f1, roc_auc]],\n",
    "                       columns=['Model', 'Accuracy', 'Precision', 'Recall', 'F1', 'ROC AUC'])\n",
    "    # Concatenate results to the results_dataframe vertically\n",
    "    results_dataframe = pd.concat([results_dataframe, new_results], axis=0).reset_index(drop=True)\n",
    "    \n",
    "    return results_dataframe"
   ]
  },
  {
   "cell_type": "markdown",
   "id": "4938b14d",
   "metadata": {},
   "source": [
    "## Logistic Regression 📈"
   ]
  },
  {
   "cell_type": "markdown",
   "id": "ae475baa",
   "metadata": {},
   "source": [
    "### Training"
   ]
  },
  {
   "cell_type": "code",
   "execution_count": 19,
   "id": "5ea1b4d8",
   "metadata": {},
   "outputs": [
    {
     "data": {
      "text/html": [
       "<style>#sk-container-id-1 {color: black;}#sk-container-id-1 pre{padding: 0;}#sk-container-id-1 div.sk-toggleable {background-color: white;}#sk-container-id-1 label.sk-toggleable__label {cursor: pointer;display: block;width: 100%;margin-bottom: 0;padding: 0.3em;box-sizing: border-box;text-align: center;}#sk-container-id-1 label.sk-toggleable__label-arrow:before {content: \"▸\";float: left;margin-right: 0.25em;color: #696969;}#sk-container-id-1 label.sk-toggleable__label-arrow:hover:before {color: black;}#sk-container-id-1 div.sk-estimator:hover label.sk-toggleable__label-arrow:before {color: black;}#sk-container-id-1 div.sk-toggleable__content {max-height: 0;max-width: 0;overflow: hidden;text-align: left;background-color: #f0f8ff;}#sk-container-id-1 div.sk-toggleable__content pre {margin: 0.2em;color: black;border-radius: 0.25em;background-color: #f0f8ff;}#sk-container-id-1 input.sk-toggleable__control:checked~div.sk-toggleable__content {max-height: 200px;max-width: 100%;overflow: auto;}#sk-container-id-1 input.sk-toggleable__control:checked~label.sk-toggleable__label-arrow:before {content: \"▾\";}#sk-container-id-1 div.sk-estimator input.sk-toggleable__control:checked~label.sk-toggleable__label {background-color: #d4ebff;}#sk-container-id-1 div.sk-label input.sk-toggleable__control:checked~label.sk-toggleable__label {background-color: #d4ebff;}#sk-container-id-1 input.sk-hidden--visually {border: 0;clip: rect(1px 1px 1px 1px);clip: rect(1px, 1px, 1px, 1px);height: 1px;margin: -1px;overflow: hidden;padding: 0;position: absolute;width: 1px;}#sk-container-id-1 div.sk-estimator {font-family: monospace;background-color: #f0f8ff;border: 1px dotted black;border-radius: 0.25em;box-sizing: border-box;margin-bottom: 0.5em;}#sk-container-id-1 div.sk-estimator:hover {background-color: #d4ebff;}#sk-container-id-1 div.sk-parallel-item::after {content: \"\";width: 100%;border-bottom: 1px solid gray;flex-grow: 1;}#sk-container-id-1 div.sk-label:hover label.sk-toggleable__label {background-color: #d4ebff;}#sk-container-id-1 div.sk-serial::before {content: \"\";position: absolute;border-left: 1px solid gray;box-sizing: border-box;top: 0;bottom: 0;left: 50%;z-index: 0;}#sk-container-id-1 div.sk-serial {display: flex;flex-direction: column;align-items: center;background-color: white;padding-right: 0.2em;padding-left: 0.2em;position: relative;}#sk-container-id-1 div.sk-item {position: relative;z-index: 1;}#sk-container-id-1 div.sk-parallel {display: flex;align-items: stretch;justify-content: center;background-color: white;position: relative;}#sk-container-id-1 div.sk-item::before, #sk-container-id-1 div.sk-parallel-item::before {content: \"\";position: absolute;border-left: 1px solid gray;box-sizing: border-box;top: 0;bottom: 0;left: 50%;z-index: -1;}#sk-container-id-1 div.sk-parallel-item {display: flex;flex-direction: column;z-index: 1;position: relative;background-color: white;}#sk-container-id-1 div.sk-parallel-item:first-child::after {align-self: flex-end;width: 50%;}#sk-container-id-1 div.sk-parallel-item:last-child::after {align-self: flex-start;width: 50%;}#sk-container-id-1 div.sk-parallel-item:only-child::after {width: 0;}#sk-container-id-1 div.sk-dashed-wrapped {border: 1px dashed gray;margin: 0 0.4em 0.5em 0.4em;box-sizing: border-box;padding-bottom: 0.4em;background-color: white;}#sk-container-id-1 div.sk-label label {font-family: monospace;font-weight: bold;display: inline-block;line-height: 1.2em;}#sk-container-id-1 div.sk-label-container {text-align: center;}#sk-container-id-1 div.sk-container {/* jupyter's `normalize.less` sets `[hidden] { display: none; }` but bootstrap.min.css set `[hidden] { display: none !important; }` so we also need the `!important` here to be able to override the default hidden behavior on the sphinx rendered scikit-learn.org. See: https://github.com/scikit-learn/scikit-learn/issues/21755 */display: inline-block !important;position: relative;}#sk-container-id-1 div.sk-text-repr-fallback {display: none;}</style><div id=\"sk-container-id-1\" class=\"sk-top-container\"><div class=\"sk-text-repr-fallback\"><pre>LogisticRegression(penalty=&#x27;l1&#x27;, random_state=42, solver=&#x27;saga&#x27;)</pre><b>In a Jupyter environment, please rerun this cell to show the HTML representation or trust the notebook. <br />On GitHub, the HTML representation is unable to render, please try loading this page with nbviewer.org.</b></div><div class=\"sk-container\" hidden><div class=\"sk-item\"><div class=\"sk-estimator sk-toggleable\"><input class=\"sk-toggleable__control sk-hidden--visually\" id=\"sk-estimator-id-1\" type=\"checkbox\" checked><label for=\"sk-estimator-id-1\" class=\"sk-toggleable__label sk-toggleable__label-arrow\">LogisticRegression</label><div class=\"sk-toggleable__content\"><pre>LogisticRegression(penalty=&#x27;l1&#x27;, random_state=42, solver=&#x27;saga&#x27;)</pre></div></div></div></div></div>"
      ],
      "text/plain": [
       "LogisticRegression(penalty='l1', random_state=42, solver='saga')"
      ]
     },
     "execution_count": 19,
     "metadata": {},
     "output_type": "execute_result"
    }
   ],
   "source": [
    "from sklearn.linear_model import LogisticRegression\n",
    "\n",
    "# Penalty 'l1' Lasso regularization\n",
    "lr_model = LogisticRegression(penalty='l1', solver='saga', random_state=42)\n",
    "\n",
    "lr_model.fit(X_train, y_train)"
   ]
  },
  {
   "cell_type": "markdown",
   "id": "13f1c0aa",
   "metadata": {},
   "source": [
    "### Evaluation"
   ]
  },
  {
   "cell_type": "code",
   "execution_count": 20,
   "id": "dd2587af",
   "metadata": {},
   "outputs": [],
   "source": [
    "# Initialize a results DataFrame\n",
    "df_results = pd.DataFrame()"
   ]
  },
  {
   "cell_type": "code",
   "execution_count": 21,
   "id": "c9f63e7d",
   "metadata": {},
   "outputs": [
    {
     "name": "stdout",
     "output_type": "stream",
     "text": [
      "Cross Validated Accuracy: 57.08%\n",
      "Confidence Interval: +- 1.74%\n",
      "\n"
     ]
    },
    {
     "data": {
      "text/html": [
       "<div>\n",
       "<style scoped>\n",
       "    .dataframe tbody tr th:only-of-type {\n",
       "        vertical-align: middle;\n",
       "    }\n",
       "\n",
       "    .dataframe tbody tr th {\n",
       "        vertical-align: top;\n",
       "    }\n",
       "\n",
       "    .dataframe thead th {\n",
       "        text-align: right;\n",
       "    }\n",
       "</style>\n",
       "<table border=\"1\" class=\"dataframe\">\n",
       "  <thead>\n",
       "    <tr style=\"text-align: right;\">\n",
       "      <th></th>\n",
       "      <th>Model</th>\n",
       "      <th>Accuracy</th>\n",
       "      <th>Precision</th>\n",
       "      <th>Recall</th>\n",
       "      <th>F1</th>\n",
       "      <th>ROC AUC</th>\n",
       "    </tr>\n",
       "  </thead>\n",
       "  <tbody>\n",
       "    <tr>\n",
       "      <th>0</th>\n",
       "      <td>LogisticRegression (Lasso)</td>\n",
       "      <td>0.572226</td>\n",
       "      <td>0.582595</td>\n",
       "      <td>0.724563</td>\n",
       "      <td>0.645869</td>\n",
       "      <td>0.594457</td>\n",
       "    </tr>\n",
       "  </tbody>\n",
       "</table>\n",
       "</div>"
      ],
      "text/plain": [
       "                        Model  Accuracy  Precision    Recall        F1  \\\n",
       "0  LogisticRegression (Lasso)  0.572226   0.582595  0.724563  0.645869   \n",
       "\n",
       "    ROC AUC  \n",
       "0  0.594457  "
      ]
     },
     "execution_count": 21,
     "metadata": {},
     "output_type": "execute_result"
    }
   ],
   "source": [
    "from sklearn.model_selection import cross_val_score\n",
    "\n",
    "# Make predictions from the validation set\n",
    "y_predict = lr_model.predict(X_validation)\n",
    "\n",
    "# Predict the probabilities of the positive class\n",
    "prob_posclass = lr_model.predict_proba(X_validation)[:, 1]\n",
    "\n",
    "# Get model scores\n",
    "df_results = evaluate_scores_and_concat(prob_posclass, y_validation, y_predict, 'LogisticRegression (Lasso)', df_results)\n",
    "\n",
    "# Perform k-fold cross-validation, here with 10 folds\n",
    "accuracies = cross_val_score(estimator=lr_model, X=X_train_and_validation, y=y_train_and_validation, cv=10)\n",
    "\n",
    "print(\"Cross Validated Accuracy: {:.2f}%\".format(accuracies.mean()*100))\n",
    "print(\"Confidence Interval: +- {:.2f}%\\n\".format((accuracies.std()*2)*100))\n",
    "df_results"
   ]
  },
  {
   "cell_type": "markdown",
   "id": "12a17f89",
   "metadata": {},
   "source": [
    "## Support Vector Machines 🛤️"
   ]
  },
  {
   "cell_type": "markdown",
   "id": "fdc12928",
   "metadata": {},
   "source": [
    "### SVC (Linear) Training"
   ]
  },
  {
   "cell_type": "code",
   "execution_count": 22,
   "id": "2e65da8f",
   "metadata": {},
   "outputs": [
    {
     "data": {
      "text/html": [
       "<style>#sk-container-id-2 {color: black;}#sk-container-id-2 pre{padding: 0;}#sk-container-id-2 div.sk-toggleable {background-color: white;}#sk-container-id-2 label.sk-toggleable__label {cursor: pointer;display: block;width: 100%;margin-bottom: 0;padding: 0.3em;box-sizing: border-box;text-align: center;}#sk-container-id-2 label.sk-toggleable__label-arrow:before {content: \"▸\";float: left;margin-right: 0.25em;color: #696969;}#sk-container-id-2 label.sk-toggleable__label-arrow:hover:before {color: black;}#sk-container-id-2 div.sk-estimator:hover label.sk-toggleable__label-arrow:before {color: black;}#sk-container-id-2 div.sk-toggleable__content {max-height: 0;max-width: 0;overflow: hidden;text-align: left;background-color: #f0f8ff;}#sk-container-id-2 div.sk-toggleable__content pre {margin: 0.2em;color: black;border-radius: 0.25em;background-color: #f0f8ff;}#sk-container-id-2 input.sk-toggleable__control:checked~div.sk-toggleable__content {max-height: 200px;max-width: 100%;overflow: auto;}#sk-container-id-2 input.sk-toggleable__control:checked~label.sk-toggleable__label-arrow:before {content: \"▾\";}#sk-container-id-2 div.sk-estimator input.sk-toggleable__control:checked~label.sk-toggleable__label {background-color: #d4ebff;}#sk-container-id-2 div.sk-label input.sk-toggleable__control:checked~label.sk-toggleable__label {background-color: #d4ebff;}#sk-container-id-2 input.sk-hidden--visually {border: 0;clip: rect(1px 1px 1px 1px);clip: rect(1px, 1px, 1px, 1px);height: 1px;margin: -1px;overflow: hidden;padding: 0;position: absolute;width: 1px;}#sk-container-id-2 div.sk-estimator {font-family: monospace;background-color: #f0f8ff;border: 1px dotted black;border-radius: 0.25em;box-sizing: border-box;margin-bottom: 0.5em;}#sk-container-id-2 div.sk-estimator:hover {background-color: #d4ebff;}#sk-container-id-2 div.sk-parallel-item::after {content: \"\";width: 100%;border-bottom: 1px solid gray;flex-grow: 1;}#sk-container-id-2 div.sk-label:hover label.sk-toggleable__label {background-color: #d4ebff;}#sk-container-id-2 div.sk-serial::before {content: \"\";position: absolute;border-left: 1px solid gray;box-sizing: border-box;top: 0;bottom: 0;left: 50%;z-index: 0;}#sk-container-id-2 div.sk-serial {display: flex;flex-direction: column;align-items: center;background-color: white;padding-right: 0.2em;padding-left: 0.2em;position: relative;}#sk-container-id-2 div.sk-item {position: relative;z-index: 1;}#sk-container-id-2 div.sk-parallel {display: flex;align-items: stretch;justify-content: center;background-color: white;position: relative;}#sk-container-id-2 div.sk-item::before, #sk-container-id-2 div.sk-parallel-item::before {content: \"\";position: absolute;border-left: 1px solid gray;box-sizing: border-box;top: 0;bottom: 0;left: 50%;z-index: -1;}#sk-container-id-2 div.sk-parallel-item {display: flex;flex-direction: column;z-index: 1;position: relative;background-color: white;}#sk-container-id-2 div.sk-parallel-item:first-child::after {align-self: flex-end;width: 50%;}#sk-container-id-2 div.sk-parallel-item:last-child::after {align-self: flex-start;width: 50%;}#sk-container-id-2 div.sk-parallel-item:only-child::after {width: 0;}#sk-container-id-2 div.sk-dashed-wrapped {border: 1px dashed gray;margin: 0 0.4em 0.5em 0.4em;box-sizing: border-box;padding-bottom: 0.4em;background-color: white;}#sk-container-id-2 div.sk-label label {font-family: monospace;font-weight: bold;display: inline-block;line-height: 1.2em;}#sk-container-id-2 div.sk-label-container {text-align: center;}#sk-container-id-2 div.sk-container {/* jupyter's `normalize.less` sets `[hidden] { display: none; }` but bootstrap.min.css set `[hidden] { display: none !important; }` so we also need the `!important` here to be able to override the default hidden behavior on the sphinx rendered scikit-learn.org. See: https://github.com/scikit-learn/scikit-learn/issues/21755 */display: inline-block !important;position: relative;}#sk-container-id-2 div.sk-text-repr-fallback {display: none;}</style><div id=\"sk-container-id-2\" class=\"sk-top-container\"><div class=\"sk-text-repr-fallback\"><pre>SVC(kernel=&#x27;linear&#x27;, probability=True, random_state=42)</pre><b>In a Jupyter environment, please rerun this cell to show the HTML representation or trust the notebook. <br />On GitHub, the HTML representation is unable to render, please try loading this page with nbviewer.org.</b></div><div class=\"sk-container\" hidden><div class=\"sk-item\"><div class=\"sk-estimator sk-toggleable\"><input class=\"sk-toggleable__control sk-hidden--visually\" id=\"sk-estimator-id-2\" type=\"checkbox\" checked><label for=\"sk-estimator-id-2\" class=\"sk-toggleable__label sk-toggleable__label-arrow\">SVC</label><div class=\"sk-toggleable__content\"><pre>SVC(kernel=&#x27;linear&#x27;, probability=True, random_state=42)</pre></div></div></div></div></div>"
      ],
      "text/plain": [
       "SVC(kernel='linear', probability=True, random_state=42)"
      ]
     },
     "execution_count": 22,
     "metadata": {},
     "output_type": "execute_result"
    }
   ],
   "source": [
    "from sklearn.svm import SVC\n",
    "\n",
    "# Linear kernel\n",
    "svc_linear_model = SVC(kernel='linear', probability=True, random_state=42)\n",
    "\n",
    "svc_linear_model.fit(X_train, y_train)"
   ]
  },
  {
   "cell_type": "markdown",
   "id": "867dfe70",
   "metadata": {},
   "source": [
    "### SVC (Linear) Evaluation"
   ]
  },
  {
   "cell_type": "code",
   "execution_count": 23,
   "id": "0dc6e291",
   "metadata": {},
   "outputs": [
    {
     "name": "stdout",
     "output_type": "stream",
     "text": [
      "Cross Validated Accuracy: 57.62%\n",
      "Confidence Interval: +- 1.36%\n",
      "\n"
     ]
    },
    {
     "data": {
      "text/html": [
       "<div>\n",
       "<style scoped>\n",
       "    .dataframe tbody tr th:only-of-type {\n",
       "        vertical-align: middle;\n",
       "    }\n",
       "\n",
       "    .dataframe tbody tr th {\n",
       "        vertical-align: top;\n",
       "    }\n",
       "\n",
       "    .dataframe thead th {\n",
       "        text-align: right;\n",
       "    }\n",
       "</style>\n",
       "<table border=\"1\" class=\"dataframe\">\n",
       "  <thead>\n",
       "    <tr style=\"text-align: right;\">\n",
       "      <th></th>\n",
       "      <th>Model</th>\n",
       "      <th>Accuracy</th>\n",
       "      <th>Precision</th>\n",
       "      <th>Recall</th>\n",
       "      <th>F1</th>\n",
       "      <th>ROC AUC</th>\n",
       "    </tr>\n",
       "  </thead>\n",
       "  <tbody>\n",
       "    <tr>\n",
       "      <th>0</th>\n",
       "      <td>LogisticRegression (Lasso)</td>\n",
       "      <td>0.572226</td>\n",
       "      <td>0.582595</td>\n",
       "      <td>0.724563</td>\n",
       "      <td>0.645869</td>\n",
       "      <td>0.594457</td>\n",
       "    </tr>\n",
       "    <tr>\n",
       "      <th>1</th>\n",
       "      <td>SVC (Linear)</td>\n",
       "      <td>0.574669</td>\n",
       "      <td>0.581984</td>\n",
       "      <td>0.745301</td>\n",
       "      <td>0.653595</td>\n",
       "      <td>0.593592</td>\n",
       "    </tr>\n",
       "  </tbody>\n",
       "</table>\n",
       "</div>"
      ],
      "text/plain": [
       "                        Model  Accuracy  Precision    Recall        F1  \\\n",
       "0  LogisticRegression (Lasso)  0.572226   0.582595  0.724563  0.645869   \n",
       "1                SVC (Linear)  0.574669   0.581984  0.745301  0.653595   \n",
       "\n",
       "    ROC AUC  \n",
       "0  0.594457  \n",
       "1  0.593592  "
      ]
     },
     "execution_count": 23,
     "metadata": {},
     "output_type": "execute_result"
    }
   ],
   "source": [
    "# Make predictions from the validation set\n",
    "y_predict = svc_linear_model.predict(X_validation)\n",
    "\n",
    "# Predict the probabilities of the positive class\n",
    "prob_posclass = svc_linear_model.predict_proba(X_validation)[:, 1]\n",
    "\n",
    "# Get model scores\n",
    "df_results = evaluate_scores_and_concat(prob_posclass, y_validation, y_predict, 'SVC (Linear)', df_results)\n",
    "\n",
    "# Perform k-fold cross-validation, here with 10 folds\n",
    "accuracies = cross_val_score(estimator=svc_linear_model, X=X_train_and_validation, y=y_train_and_validation, cv=10)\n",
    "\n",
    "print(\"Cross Validated Accuracy: {:.2f}%\".format(accuracies.mean()*100))\n",
    "print(\"Confidence Interval: +- {:.2f}%\\n\".format((accuracies.std()*2)*100))\n",
    "df_results"
   ]
  },
  {
   "cell_type": "markdown",
   "id": "48b7d7d3",
   "metadata": {},
   "source": [
    "### SVC (RBF) Training"
   ]
  },
  {
   "cell_type": "code",
   "execution_count": 24,
   "id": "4ac12ee8",
   "metadata": {},
   "outputs": [
    {
     "data": {
      "text/html": [
       "<style>#sk-container-id-3 {color: black;}#sk-container-id-3 pre{padding: 0;}#sk-container-id-3 div.sk-toggleable {background-color: white;}#sk-container-id-3 label.sk-toggleable__label {cursor: pointer;display: block;width: 100%;margin-bottom: 0;padding: 0.3em;box-sizing: border-box;text-align: center;}#sk-container-id-3 label.sk-toggleable__label-arrow:before {content: \"▸\";float: left;margin-right: 0.25em;color: #696969;}#sk-container-id-3 label.sk-toggleable__label-arrow:hover:before {color: black;}#sk-container-id-3 div.sk-estimator:hover label.sk-toggleable__label-arrow:before {color: black;}#sk-container-id-3 div.sk-toggleable__content {max-height: 0;max-width: 0;overflow: hidden;text-align: left;background-color: #f0f8ff;}#sk-container-id-3 div.sk-toggleable__content pre {margin: 0.2em;color: black;border-radius: 0.25em;background-color: #f0f8ff;}#sk-container-id-3 input.sk-toggleable__control:checked~div.sk-toggleable__content {max-height: 200px;max-width: 100%;overflow: auto;}#sk-container-id-3 input.sk-toggleable__control:checked~label.sk-toggleable__label-arrow:before {content: \"▾\";}#sk-container-id-3 div.sk-estimator input.sk-toggleable__control:checked~label.sk-toggleable__label {background-color: #d4ebff;}#sk-container-id-3 div.sk-label input.sk-toggleable__control:checked~label.sk-toggleable__label {background-color: #d4ebff;}#sk-container-id-3 input.sk-hidden--visually {border: 0;clip: rect(1px 1px 1px 1px);clip: rect(1px, 1px, 1px, 1px);height: 1px;margin: -1px;overflow: hidden;padding: 0;position: absolute;width: 1px;}#sk-container-id-3 div.sk-estimator {font-family: monospace;background-color: #f0f8ff;border: 1px dotted black;border-radius: 0.25em;box-sizing: border-box;margin-bottom: 0.5em;}#sk-container-id-3 div.sk-estimator:hover {background-color: #d4ebff;}#sk-container-id-3 div.sk-parallel-item::after {content: \"\";width: 100%;border-bottom: 1px solid gray;flex-grow: 1;}#sk-container-id-3 div.sk-label:hover label.sk-toggleable__label {background-color: #d4ebff;}#sk-container-id-3 div.sk-serial::before {content: \"\";position: absolute;border-left: 1px solid gray;box-sizing: border-box;top: 0;bottom: 0;left: 50%;z-index: 0;}#sk-container-id-3 div.sk-serial {display: flex;flex-direction: column;align-items: center;background-color: white;padding-right: 0.2em;padding-left: 0.2em;position: relative;}#sk-container-id-3 div.sk-item {position: relative;z-index: 1;}#sk-container-id-3 div.sk-parallel {display: flex;align-items: stretch;justify-content: center;background-color: white;position: relative;}#sk-container-id-3 div.sk-item::before, #sk-container-id-3 div.sk-parallel-item::before {content: \"\";position: absolute;border-left: 1px solid gray;box-sizing: border-box;top: 0;bottom: 0;left: 50%;z-index: -1;}#sk-container-id-3 div.sk-parallel-item {display: flex;flex-direction: column;z-index: 1;position: relative;background-color: white;}#sk-container-id-3 div.sk-parallel-item:first-child::after {align-self: flex-end;width: 50%;}#sk-container-id-3 div.sk-parallel-item:last-child::after {align-self: flex-start;width: 50%;}#sk-container-id-3 div.sk-parallel-item:only-child::after {width: 0;}#sk-container-id-3 div.sk-dashed-wrapped {border: 1px dashed gray;margin: 0 0.4em 0.5em 0.4em;box-sizing: border-box;padding-bottom: 0.4em;background-color: white;}#sk-container-id-3 div.sk-label label {font-family: monospace;font-weight: bold;display: inline-block;line-height: 1.2em;}#sk-container-id-3 div.sk-label-container {text-align: center;}#sk-container-id-3 div.sk-container {/* jupyter's `normalize.less` sets `[hidden] { display: none; }` but bootstrap.min.css set `[hidden] { display: none !important; }` so we also need the `!important` here to be able to override the default hidden behavior on the sphinx rendered scikit-learn.org. See: https://github.com/scikit-learn/scikit-learn/issues/21755 */display: inline-block !important;position: relative;}#sk-container-id-3 div.sk-text-repr-fallback {display: none;}</style><div id=\"sk-container-id-3\" class=\"sk-top-container\"><div class=\"sk-text-repr-fallback\"><pre>SVC(probability=True, random_state=42)</pre><b>In a Jupyter environment, please rerun this cell to show the HTML representation or trust the notebook. <br />On GitHub, the HTML representation is unable to render, please try loading this page with nbviewer.org.</b></div><div class=\"sk-container\" hidden><div class=\"sk-item\"><div class=\"sk-estimator sk-toggleable\"><input class=\"sk-toggleable__control sk-hidden--visually\" id=\"sk-estimator-id-3\" type=\"checkbox\" checked><label for=\"sk-estimator-id-3\" class=\"sk-toggleable__label sk-toggleable__label-arrow\">SVC</label><div class=\"sk-toggleable__content\"><pre>SVC(probability=True, random_state=42)</pre></div></div></div></div></div>"
      ],
      "text/plain": [
       "SVC(probability=True, random_state=42)"
      ]
     },
     "execution_count": 24,
     "metadata": {},
     "output_type": "execute_result"
    }
   ],
   "source": [
    "from sklearn.svm import SVC\n",
    "\n",
    "# Radial Basis Function kernel (default)\n",
    "svc_rbf_model = SVC(kernel='rbf', probability=True, random_state=42)\n",
    "\n",
    "svc_rbf_model.fit(X_train, y_train)"
   ]
  },
  {
   "cell_type": "markdown",
   "id": "a1801ede",
   "metadata": {},
   "source": [
    "### SVC (RBF) Evaluation"
   ]
  },
  {
   "cell_type": "code",
   "execution_count": 25,
   "id": "e9f3fede",
   "metadata": {},
   "outputs": [
    {
     "name": "stdout",
     "output_type": "stream",
     "text": [
      "Cross Validated Accuracy: 61.06%\n",
      "Confidence Interval: +- 2.50%\n",
      "\n"
     ]
    },
    {
     "data": {
      "text/html": [
       "<div>\n",
       "<style scoped>\n",
       "    .dataframe tbody tr th:only-of-type {\n",
       "        vertical-align: middle;\n",
       "    }\n",
       "\n",
       "    .dataframe tbody tr th {\n",
       "        vertical-align: top;\n",
       "    }\n",
       "\n",
       "    .dataframe thead th {\n",
       "        text-align: right;\n",
       "    }\n",
       "</style>\n",
       "<table border=\"1\" class=\"dataframe\">\n",
       "  <thead>\n",
       "    <tr style=\"text-align: right;\">\n",
       "      <th></th>\n",
       "      <th>Model</th>\n",
       "      <th>Accuracy</th>\n",
       "      <th>Precision</th>\n",
       "      <th>Recall</th>\n",
       "      <th>F1</th>\n",
       "      <th>ROC AUC</th>\n",
       "    </tr>\n",
       "  </thead>\n",
       "  <tbody>\n",
       "    <tr>\n",
       "      <th>0</th>\n",
       "      <td>LogisticRegression (Lasso)</td>\n",
       "      <td>0.572226</td>\n",
       "      <td>0.582595</td>\n",
       "      <td>0.724563</td>\n",
       "      <td>0.645869</td>\n",
       "      <td>0.594457</td>\n",
       "    </tr>\n",
       "    <tr>\n",
       "      <th>1</th>\n",
       "      <td>SVC (Linear)</td>\n",
       "      <td>0.574669</td>\n",
       "      <td>0.581984</td>\n",
       "      <td>0.745301</td>\n",
       "      <td>0.653595</td>\n",
       "      <td>0.593592</td>\n",
       "    </tr>\n",
       "    <tr>\n",
       "      <th>2</th>\n",
       "      <td>SVC (RBF)</td>\n",
       "      <td>0.604327</td>\n",
       "      <td>0.611202</td>\n",
       "      <td>0.728451</td>\n",
       "      <td>0.664695</td>\n",
       "      <td>0.639727</td>\n",
       "    </tr>\n",
       "  </tbody>\n",
       "</table>\n",
       "</div>"
      ],
      "text/plain": [
       "                        Model  Accuracy  Precision    Recall        F1  \\\n",
       "0  LogisticRegression (Lasso)  0.572226   0.582595  0.724563  0.645869   \n",
       "1                SVC (Linear)  0.574669   0.581984  0.745301  0.653595   \n",
       "2                   SVC (RBF)  0.604327   0.611202  0.728451  0.664695   \n",
       "\n",
       "    ROC AUC  \n",
       "0  0.594457  \n",
       "1  0.593592  \n",
       "2  0.639727  "
      ]
     },
     "execution_count": 25,
     "metadata": {},
     "output_type": "execute_result"
    }
   ],
   "source": [
    "# Make predictions from the validation set\n",
    "y_predict = svc_rbf_model.predict(X_validation)\n",
    "\n",
    "# Predict the probabilities of the positive class\n",
    "prob_posclass = svc_rbf_model.predict_proba(X_validation)[:, 1]\n",
    "\n",
    "# Get model scores\n",
    "df_results = evaluate_scores_and_concat(prob_posclass, y_validation, y_predict, 'SVC (RBF)', df_results)\n",
    "\n",
    "# Perform k-fold cross-validation, here with 10 folds\n",
    "accuracies = cross_val_score(estimator=svc_rbf_model, X=X_train_and_validation, y=y_train_and_validation, cv=10)\n",
    "\n",
    "print(\"Cross Validated Accuracy: {:.2f}%\".format(accuracies.mean()*100))\n",
    "print(\"Confidence Interval: +- {:.2f}%\\n\".format((accuracies.std()*2)*100))\n",
    "df_results"
   ]
  },
  {
   "cell_type": "markdown",
   "id": "54b30b13",
   "metadata": {},
   "source": [
    "## Random Forest Classifier 🌳"
   ]
  },
  {
   "cell_type": "markdown",
   "id": "e6a61674",
   "metadata": {},
   "source": [
    "### Training"
   ]
  },
  {
   "cell_type": "code",
   "execution_count": 26,
   "id": "8621e641",
   "metadata": {},
   "outputs": [
    {
     "data": {
      "text/html": [
       "<style>#sk-container-id-4 {color: black;}#sk-container-id-4 pre{padding: 0;}#sk-container-id-4 div.sk-toggleable {background-color: white;}#sk-container-id-4 label.sk-toggleable__label {cursor: pointer;display: block;width: 100%;margin-bottom: 0;padding: 0.3em;box-sizing: border-box;text-align: center;}#sk-container-id-4 label.sk-toggleable__label-arrow:before {content: \"▸\";float: left;margin-right: 0.25em;color: #696969;}#sk-container-id-4 label.sk-toggleable__label-arrow:hover:before {color: black;}#sk-container-id-4 div.sk-estimator:hover label.sk-toggleable__label-arrow:before {color: black;}#sk-container-id-4 div.sk-toggleable__content {max-height: 0;max-width: 0;overflow: hidden;text-align: left;background-color: #f0f8ff;}#sk-container-id-4 div.sk-toggleable__content pre {margin: 0.2em;color: black;border-radius: 0.25em;background-color: #f0f8ff;}#sk-container-id-4 input.sk-toggleable__control:checked~div.sk-toggleable__content {max-height: 200px;max-width: 100%;overflow: auto;}#sk-container-id-4 input.sk-toggleable__control:checked~label.sk-toggleable__label-arrow:before {content: \"▾\";}#sk-container-id-4 div.sk-estimator input.sk-toggleable__control:checked~label.sk-toggleable__label {background-color: #d4ebff;}#sk-container-id-4 div.sk-label input.sk-toggleable__control:checked~label.sk-toggleable__label {background-color: #d4ebff;}#sk-container-id-4 input.sk-hidden--visually {border: 0;clip: rect(1px 1px 1px 1px);clip: rect(1px, 1px, 1px, 1px);height: 1px;margin: -1px;overflow: hidden;padding: 0;position: absolute;width: 1px;}#sk-container-id-4 div.sk-estimator {font-family: monospace;background-color: #f0f8ff;border: 1px dotted black;border-radius: 0.25em;box-sizing: border-box;margin-bottom: 0.5em;}#sk-container-id-4 div.sk-estimator:hover {background-color: #d4ebff;}#sk-container-id-4 div.sk-parallel-item::after {content: \"\";width: 100%;border-bottom: 1px solid gray;flex-grow: 1;}#sk-container-id-4 div.sk-label:hover label.sk-toggleable__label {background-color: #d4ebff;}#sk-container-id-4 div.sk-serial::before {content: \"\";position: absolute;border-left: 1px solid gray;box-sizing: border-box;top: 0;bottom: 0;left: 50%;z-index: 0;}#sk-container-id-4 div.sk-serial {display: flex;flex-direction: column;align-items: center;background-color: white;padding-right: 0.2em;padding-left: 0.2em;position: relative;}#sk-container-id-4 div.sk-item {position: relative;z-index: 1;}#sk-container-id-4 div.sk-parallel {display: flex;align-items: stretch;justify-content: center;background-color: white;position: relative;}#sk-container-id-4 div.sk-item::before, #sk-container-id-4 div.sk-parallel-item::before {content: \"\";position: absolute;border-left: 1px solid gray;box-sizing: border-box;top: 0;bottom: 0;left: 50%;z-index: -1;}#sk-container-id-4 div.sk-parallel-item {display: flex;flex-direction: column;z-index: 1;position: relative;background-color: white;}#sk-container-id-4 div.sk-parallel-item:first-child::after {align-self: flex-end;width: 50%;}#sk-container-id-4 div.sk-parallel-item:last-child::after {align-self: flex-start;width: 50%;}#sk-container-id-4 div.sk-parallel-item:only-child::after {width: 0;}#sk-container-id-4 div.sk-dashed-wrapped {border: 1px dashed gray;margin: 0 0.4em 0.5em 0.4em;box-sizing: border-box;padding-bottom: 0.4em;background-color: white;}#sk-container-id-4 div.sk-label label {font-family: monospace;font-weight: bold;display: inline-block;line-height: 1.2em;}#sk-container-id-4 div.sk-label-container {text-align: center;}#sk-container-id-4 div.sk-container {/* jupyter's `normalize.less` sets `[hidden] { display: none; }` but bootstrap.min.css set `[hidden] { display: none !important; }` so we also need the `!important` here to be able to override the default hidden behavior on the sphinx rendered scikit-learn.org. See: https://github.com/scikit-learn/scikit-learn/issues/21755 */display: inline-block !important;position: relative;}#sk-container-id-4 div.sk-text-repr-fallback {display: none;}</style><div id=\"sk-container-id-4\" class=\"sk-top-container\"><div class=\"sk-text-repr-fallback\"><pre>RandomForestClassifier(criterion=&#x27;entropy&#x27;, random_state=42)</pre><b>In a Jupyter environment, please rerun this cell to show the HTML representation or trust the notebook. <br />On GitHub, the HTML representation is unable to render, please try loading this page with nbviewer.org.</b></div><div class=\"sk-container\" hidden><div class=\"sk-item\"><div class=\"sk-estimator sk-toggleable\"><input class=\"sk-toggleable__control sk-hidden--visually\" id=\"sk-estimator-id-4\" type=\"checkbox\" checked><label for=\"sk-estimator-id-4\" class=\"sk-toggleable__label sk-toggleable__label-arrow\">RandomForestClassifier</label><div class=\"sk-toggleable__content\"><pre>RandomForestClassifier(criterion=&#x27;entropy&#x27;, random_state=42)</pre></div></div></div></div></div>"
      ],
      "text/plain": [
       "RandomForestClassifier(criterion='entropy', random_state=42)"
      ]
     },
     "execution_count": 26,
     "metadata": {},
     "output_type": "execute_result"
    }
   ],
   "source": [
    "from sklearn.ensemble import RandomForestClassifier\n",
    "\n",
    "# 100 Trees\n",
    "rf_model = RandomForestClassifier(n_estimators=100, criterion='entropy', random_state=42)\n",
    "\n",
    "rf_model.fit(X_train, y_train)"
   ]
  },
  {
   "cell_type": "markdown",
   "id": "b779ae36",
   "metadata": {},
   "source": [
    "### Evaluation"
   ]
  },
  {
   "cell_type": "code",
   "execution_count": 27,
   "id": "1c69791d",
   "metadata": {},
   "outputs": [
    {
     "name": "stdout",
     "output_type": "stream",
     "text": [
      "Cross Validated Accuracy: 62.75%\n",
      "Confidence Interval: +- 1.68%\n",
      "\n"
     ]
    },
    {
     "data": {
      "text/html": [
       "<div>\n",
       "<style scoped>\n",
       "    .dataframe tbody tr th:only-of-type {\n",
       "        vertical-align: middle;\n",
       "    }\n",
       "\n",
       "    .dataframe tbody tr th {\n",
       "        vertical-align: top;\n",
       "    }\n",
       "\n",
       "    .dataframe thead th {\n",
       "        text-align: right;\n",
       "    }\n",
       "</style>\n",
       "<table border=\"1\" class=\"dataframe\">\n",
       "  <thead>\n",
       "    <tr style=\"text-align: right;\">\n",
       "      <th></th>\n",
       "      <th>Model</th>\n",
       "      <th>Accuracy</th>\n",
       "      <th>Precision</th>\n",
       "      <th>Recall</th>\n",
       "      <th>F1</th>\n",
       "      <th>ROC AUC</th>\n",
       "    </tr>\n",
       "  </thead>\n",
       "  <tbody>\n",
       "    <tr>\n",
       "      <th>0</th>\n",
       "      <td>LogisticRegression (Lasso)</td>\n",
       "      <td>0.572226</td>\n",
       "      <td>0.582595</td>\n",
       "      <td>0.724563</td>\n",
       "      <td>0.645869</td>\n",
       "      <td>0.594457</td>\n",
       "    </tr>\n",
       "    <tr>\n",
       "      <th>1</th>\n",
       "      <td>SVC (Linear)</td>\n",
       "      <td>0.574669</td>\n",
       "      <td>0.581984</td>\n",
       "      <td>0.745301</td>\n",
       "      <td>0.653595</td>\n",
       "      <td>0.593592</td>\n",
       "    </tr>\n",
       "    <tr>\n",
       "      <th>2</th>\n",
       "      <td>SVC (RBF)</td>\n",
       "      <td>0.604327</td>\n",
       "      <td>0.611202</td>\n",
       "      <td>0.728451</td>\n",
       "      <td>0.664695</td>\n",
       "      <td>0.639727</td>\n",
       "    </tr>\n",
       "    <tr>\n",
       "      <th>3</th>\n",
       "      <td>RandomForestClassifier (n=100)</td>\n",
       "      <td>0.627006</td>\n",
       "      <td>0.647572</td>\n",
       "      <td>0.674012</td>\n",
       "      <td>0.660527</td>\n",
       "      <td>0.681416</td>\n",
       "    </tr>\n",
       "  </tbody>\n",
       "</table>\n",
       "</div>"
      ],
      "text/plain": [
       "                            Model  Accuracy  Precision    Recall        F1  \\\n",
       "0      LogisticRegression (Lasso)  0.572226   0.582595  0.724563  0.645869   \n",
       "1                    SVC (Linear)  0.574669   0.581984  0.745301  0.653595   \n",
       "2                       SVC (RBF)  0.604327   0.611202  0.728451  0.664695   \n",
       "3  RandomForestClassifier (n=100)  0.627006   0.647572  0.674012  0.660527   \n",
       "\n",
       "    ROC AUC  \n",
       "0  0.594457  \n",
       "1  0.593592  \n",
       "2  0.639727  \n",
       "3  0.681416  "
      ]
     },
     "execution_count": 27,
     "metadata": {},
     "output_type": "execute_result"
    }
   ],
   "source": [
    "# Make predictions from the validation set\n",
    "y_predict = rf_model.predict(X_validation)\n",
    "\n",
    "# Predict the probabilities of the positive class\n",
    "prob_posclass = rf_model.predict_proba(X_validation)[:, 1]\n",
    "\n",
    "# Get model scores\n",
    "df_results = evaluate_scores_and_concat(prob_posclass, y_validation, y_predict, 'RandomForestClassifier (n=100)', df_results)\n",
    "\n",
    "# Perform k-fold cross-validation, here with 10 folds\n",
    "accuracies = cross_val_score(estimator=rf_model, X=X_train_and_validation, y=y_train_and_validation, cv=10)\n",
    "\n",
    "print(\"Cross Validated Accuracy: {:.2f}%\".format(accuracies.mean()*100))\n",
    "print(\"Confidence Interval: +- {:.2f}%\\n\".format((accuracies.std()*2)*100))\n",
    "df_results"
   ]
  },
  {
   "cell_type": "markdown",
   "id": "1311caa9",
   "metadata": {},
   "source": [
    "## XGBoost Classifier 🚀 \n",
    "\n",
    "### Training"
   ]
  },
  {
   "cell_type": "code",
   "execution_count": 28,
   "id": "3bd9971b",
   "metadata": {},
   "outputs": [
    {
     "data": {
      "text/html": [
       "<style>#sk-container-id-5 {color: black;}#sk-container-id-5 pre{padding: 0;}#sk-container-id-5 div.sk-toggleable {background-color: white;}#sk-container-id-5 label.sk-toggleable__label {cursor: pointer;display: block;width: 100%;margin-bottom: 0;padding: 0.3em;box-sizing: border-box;text-align: center;}#sk-container-id-5 label.sk-toggleable__label-arrow:before {content: \"▸\";float: left;margin-right: 0.25em;color: #696969;}#sk-container-id-5 label.sk-toggleable__label-arrow:hover:before {color: black;}#sk-container-id-5 div.sk-estimator:hover label.sk-toggleable__label-arrow:before {color: black;}#sk-container-id-5 div.sk-toggleable__content {max-height: 0;max-width: 0;overflow: hidden;text-align: left;background-color: #f0f8ff;}#sk-container-id-5 div.sk-toggleable__content pre {margin: 0.2em;color: black;border-radius: 0.25em;background-color: #f0f8ff;}#sk-container-id-5 input.sk-toggleable__control:checked~div.sk-toggleable__content {max-height: 200px;max-width: 100%;overflow: auto;}#sk-container-id-5 input.sk-toggleable__control:checked~label.sk-toggleable__label-arrow:before {content: \"▾\";}#sk-container-id-5 div.sk-estimator input.sk-toggleable__control:checked~label.sk-toggleable__label {background-color: #d4ebff;}#sk-container-id-5 div.sk-label input.sk-toggleable__control:checked~label.sk-toggleable__label {background-color: #d4ebff;}#sk-container-id-5 input.sk-hidden--visually {border: 0;clip: rect(1px 1px 1px 1px);clip: rect(1px, 1px, 1px, 1px);height: 1px;margin: -1px;overflow: hidden;padding: 0;position: absolute;width: 1px;}#sk-container-id-5 div.sk-estimator {font-family: monospace;background-color: #f0f8ff;border: 1px dotted black;border-radius: 0.25em;box-sizing: border-box;margin-bottom: 0.5em;}#sk-container-id-5 div.sk-estimator:hover {background-color: #d4ebff;}#sk-container-id-5 div.sk-parallel-item::after {content: \"\";width: 100%;border-bottom: 1px solid gray;flex-grow: 1;}#sk-container-id-5 div.sk-label:hover label.sk-toggleable__label {background-color: #d4ebff;}#sk-container-id-5 div.sk-serial::before {content: \"\";position: absolute;border-left: 1px solid gray;box-sizing: border-box;top: 0;bottom: 0;left: 50%;z-index: 0;}#sk-container-id-5 div.sk-serial {display: flex;flex-direction: column;align-items: center;background-color: white;padding-right: 0.2em;padding-left: 0.2em;position: relative;}#sk-container-id-5 div.sk-item {position: relative;z-index: 1;}#sk-container-id-5 div.sk-parallel {display: flex;align-items: stretch;justify-content: center;background-color: white;position: relative;}#sk-container-id-5 div.sk-item::before, #sk-container-id-5 div.sk-parallel-item::before {content: \"\";position: absolute;border-left: 1px solid gray;box-sizing: border-box;top: 0;bottom: 0;left: 50%;z-index: -1;}#sk-container-id-5 div.sk-parallel-item {display: flex;flex-direction: column;z-index: 1;position: relative;background-color: white;}#sk-container-id-5 div.sk-parallel-item:first-child::after {align-self: flex-end;width: 50%;}#sk-container-id-5 div.sk-parallel-item:last-child::after {align-self: flex-start;width: 50%;}#sk-container-id-5 div.sk-parallel-item:only-child::after {width: 0;}#sk-container-id-5 div.sk-dashed-wrapped {border: 1px dashed gray;margin: 0 0.4em 0.5em 0.4em;box-sizing: border-box;padding-bottom: 0.4em;background-color: white;}#sk-container-id-5 div.sk-label label {font-family: monospace;font-weight: bold;display: inline-block;line-height: 1.2em;}#sk-container-id-5 div.sk-label-container {text-align: center;}#sk-container-id-5 div.sk-container {/* jupyter's `normalize.less` sets `[hidden] { display: none; }` but bootstrap.min.css set `[hidden] { display: none !important; }` so we also need the `!important` here to be able to override the default hidden behavior on the sphinx rendered scikit-learn.org. See: https://github.com/scikit-learn/scikit-learn/issues/21755 */display: inline-block !important;position: relative;}#sk-container-id-5 div.sk-text-repr-fallback {display: none;}</style><div id=\"sk-container-id-5\" class=\"sk-top-container\"><div class=\"sk-text-repr-fallback\"><pre>XGBClassifier(base_score=None, booster=None, callbacks=None,\n",
       "              colsample_bylevel=None, colsample_bynode=None,\n",
       "              colsample_bytree=None, early_stopping_rounds=None,\n",
       "              enable_categorical=False, eval_metric=None, feature_types=None,\n",
       "              gamma=None, gpu_id=None, grow_policy=None, importance_type=None,\n",
       "              interaction_constraints=None, learning_rate=None, max_bin=None,\n",
       "              max_cat_threshold=None, max_cat_to_onehot=None,\n",
       "              max_delta_step=None, max_depth=None, max_leaves=None,\n",
       "              min_child_weight=None, missing=nan, monotone_constraints=None,\n",
       "              n_estimators=100, n_jobs=None, num_parallel_tree=None,\n",
       "              predictor=None, random_state=42, ...)</pre><b>In a Jupyter environment, please rerun this cell to show the HTML representation or trust the notebook. <br />On GitHub, the HTML representation is unable to render, please try loading this page with nbviewer.org.</b></div><div class=\"sk-container\" hidden><div class=\"sk-item\"><div class=\"sk-estimator sk-toggleable\"><input class=\"sk-toggleable__control sk-hidden--visually\" id=\"sk-estimator-id-5\" type=\"checkbox\" checked><label for=\"sk-estimator-id-5\" class=\"sk-toggleable__label sk-toggleable__label-arrow\">XGBClassifier</label><div class=\"sk-toggleable__content\"><pre>XGBClassifier(base_score=None, booster=None, callbacks=None,\n",
       "              colsample_bylevel=None, colsample_bynode=None,\n",
       "              colsample_bytree=None, early_stopping_rounds=None,\n",
       "              enable_categorical=False, eval_metric=None, feature_types=None,\n",
       "              gamma=None, gpu_id=None, grow_policy=None, importance_type=None,\n",
       "              interaction_constraints=None, learning_rate=None, max_bin=None,\n",
       "              max_cat_threshold=None, max_cat_to_onehot=None,\n",
       "              max_delta_step=None, max_depth=None, max_leaves=None,\n",
       "              min_child_weight=None, missing=nan, monotone_constraints=None,\n",
       "              n_estimators=100, n_jobs=None, num_parallel_tree=None,\n",
       "              predictor=None, random_state=42, ...)</pre></div></div></div></div></div>"
      ],
      "text/plain": [
       "XGBClassifier(base_score=None, booster=None, callbacks=None,\n",
       "              colsample_bylevel=None, colsample_bynode=None,\n",
       "              colsample_bytree=None, early_stopping_rounds=None,\n",
       "              enable_categorical=False, eval_metric=None, feature_types=None,\n",
       "              gamma=None, gpu_id=None, grow_policy=None, importance_type=None,\n",
       "              interaction_constraints=None, learning_rate=None, max_bin=None,\n",
       "              max_cat_threshold=None, max_cat_to_onehot=None,\n",
       "              max_delta_step=None, max_depth=None, max_leaves=None,\n",
       "              min_child_weight=None, missing=nan, monotone_constraints=None,\n",
       "              n_estimators=100, n_jobs=None, num_parallel_tree=None,\n",
       "              predictor=None, random_state=42, ...)"
      ]
     },
     "execution_count": 28,
     "metadata": {},
     "output_type": "execute_result"
    }
   ],
   "source": [
    "from xgboost import XGBClassifier\n",
    "\n",
    "# 100 Stages\n",
    "xgb_model = XGBClassifier(n_estimators=100, objective='binary:logistic', random_state=42)\n",
    "\n",
    "xgb_model.fit(X_train, y_train)"
   ]
  },
  {
   "cell_type": "markdown",
   "id": "22b8988d",
   "metadata": {},
   "source": [
    "### Evaluation"
   ]
  },
  {
   "cell_type": "code",
   "execution_count": 29,
   "id": "9eaeaa9a",
   "metadata": {},
   "outputs": [
    {
     "name": "stdout",
     "output_type": "stream",
     "text": [
      "Cross Validated Accuracy: 63.10%\n",
      "Confidence Interval: +- 2.09%\n",
      "\n"
     ]
    },
    {
     "data": {
      "text/html": [
       "<div>\n",
       "<style scoped>\n",
       "    .dataframe tbody tr th:only-of-type {\n",
       "        vertical-align: middle;\n",
       "    }\n",
       "\n",
       "    .dataframe tbody tr th {\n",
       "        vertical-align: top;\n",
       "    }\n",
       "\n",
       "    .dataframe thead th {\n",
       "        text-align: right;\n",
       "    }\n",
       "</style>\n",
       "<table border=\"1\" class=\"dataframe\">\n",
       "  <thead>\n",
       "    <tr style=\"text-align: right;\">\n",
       "      <th></th>\n",
       "      <th>Model</th>\n",
       "      <th>Accuracy</th>\n",
       "      <th>Precision</th>\n",
       "      <th>Recall</th>\n",
       "      <th>F1</th>\n",
       "      <th>ROC AUC</th>\n",
       "    </tr>\n",
       "  </thead>\n",
       "  <tbody>\n",
       "    <tr>\n",
       "      <th>0</th>\n",
       "      <td>LogisticRegression (Lasso)</td>\n",
       "      <td>0.572226</td>\n",
       "      <td>0.582595</td>\n",
       "      <td>0.724563</td>\n",
       "      <td>0.645869</td>\n",
       "      <td>0.594457</td>\n",
       "    </tr>\n",
       "    <tr>\n",
       "      <th>1</th>\n",
       "      <td>SVC (Linear)</td>\n",
       "      <td>0.574669</td>\n",
       "      <td>0.581984</td>\n",
       "      <td>0.745301</td>\n",
       "      <td>0.653595</td>\n",
       "      <td>0.593592</td>\n",
       "    </tr>\n",
       "    <tr>\n",
       "      <th>2</th>\n",
       "      <td>SVC (RBF)</td>\n",
       "      <td>0.604327</td>\n",
       "      <td>0.611202</td>\n",
       "      <td>0.728451</td>\n",
       "      <td>0.664695</td>\n",
       "      <td>0.639727</td>\n",
       "    </tr>\n",
       "    <tr>\n",
       "      <th>3</th>\n",
       "      <td>RandomForestClassifier (n=100)</td>\n",
       "      <td>0.627006</td>\n",
       "      <td>0.647572</td>\n",
       "      <td>0.674012</td>\n",
       "      <td>0.660527</td>\n",
       "      <td>0.681416</td>\n",
       "    </tr>\n",
       "    <tr>\n",
       "      <th>4</th>\n",
       "      <td>XGBClassifier (n=100)</td>\n",
       "      <td>0.625960</td>\n",
       "      <td>0.648020</td>\n",
       "      <td>0.668179</td>\n",
       "      <td>0.657945</td>\n",
       "      <td>0.678069</td>\n",
       "    </tr>\n",
       "  </tbody>\n",
       "</table>\n",
       "</div>"
      ],
      "text/plain": [
       "                            Model  Accuracy  Precision    Recall        F1  \\\n",
       "0      LogisticRegression (Lasso)  0.572226   0.582595  0.724563  0.645869   \n",
       "1                    SVC (Linear)  0.574669   0.581984  0.745301  0.653595   \n",
       "2                       SVC (RBF)  0.604327   0.611202  0.728451  0.664695   \n",
       "3  RandomForestClassifier (n=100)  0.627006   0.647572  0.674012  0.660527   \n",
       "4           XGBClassifier (n=100)  0.625960   0.648020  0.668179  0.657945   \n",
       "\n",
       "    ROC AUC  \n",
       "0  0.594457  \n",
       "1  0.593592  \n",
       "2  0.639727  \n",
       "3  0.681416  \n",
       "4  0.678069  "
      ]
     },
     "execution_count": 29,
     "metadata": {},
     "output_type": "execute_result"
    }
   ],
   "source": [
    "# Make predictions from the validation set\n",
    "y_predict = xgb_model.predict(X_validation)\n",
    "\n",
    "# Predict the probabilities of the positive class\n",
    "prob_posclass = xgb_model.predict_proba(X_validation)[:, 1]\n",
    "\n",
    "# Get model scores\n",
    "df_results = evaluate_scores_and_concat(prob_posclass, y_validation, y_predict, 'XGBClassifier (n=100)', df_results)\n",
    "\n",
    "# Perform k-fold cross-validation, here with 10 folds\n",
    "accuracies = cross_val_score(estimator=xgb_model, X=X_train_and_validation, y=y_train_and_validation, cv=10)\n",
    "\n",
    "print(\"Cross Validated Accuracy: {:.2f}%\".format(accuracies.mean()*100))\n",
    "print(\"Confidence Interval: +- {:.2f}%\\n\".format((accuracies.std()*2)*100))\n",
    "df_results"
   ]
  },
  {
   "cell_type": "markdown",
   "id": "3b8a3b22",
   "metadata": {},
   "source": [
    "## Gradient Boosting Classifier 🚀 \n",
    "\n",
    "### Training"
   ]
  },
  {
   "cell_type": "code",
   "execution_count": 30,
   "id": "5b03553f",
   "metadata": {},
   "outputs": [
    {
     "data": {
      "text/html": [
       "<style>#sk-container-id-6 {color: black;}#sk-container-id-6 pre{padding: 0;}#sk-container-id-6 div.sk-toggleable {background-color: white;}#sk-container-id-6 label.sk-toggleable__label {cursor: pointer;display: block;width: 100%;margin-bottom: 0;padding: 0.3em;box-sizing: border-box;text-align: center;}#sk-container-id-6 label.sk-toggleable__label-arrow:before {content: \"▸\";float: left;margin-right: 0.25em;color: #696969;}#sk-container-id-6 label.sk-toggleable__label-arrow:hover:before {color: black;}#sk-container-id-6 div.sk-estimator:hover label.sk-toggleable__label-arrow:before {color: black;}#sk-container-id-6 div.sk-toggleable__content {max-height: 0;max-width: 0;overflow: hidden;text-align: left;background-color: #f0f8ff;}#sk-container-id-6 div.sk-toggleable__content pre {margin: 0.2em;color: black;border-radius: 0.25em;background-color: #f0f8ff;}#sk-container-id-6 input.sk-toggleable__control:checked~div.sk-toggleable__content {max-height: 200px;max-width: 100%;overflow: auto;}#sk-container-id-6 input.sk-toggleable__control:checked~label.sk-toggleable__label-arrow:before {content: \"▾\";}#sk-container-id-6 div.sk-estimator input.sk-toggleable__control:checked~label.sk-toggleable__label {background-color: #d4ebff;}#sk-container-id-6 div.sk-label input.sk-toggleable__control:checked~label.sk-toggleable__label {background-color: #d4ebff;}#sk-container-id-6 input.sk-hidden--visually {border: 0;clip: rect(1px 1px 1px 1px);clip: rect(1px, 1px, 1px, 1px);height: 1px;margin: -1px;overflow: hidden;padding: 0;position: absolute;width: 1px;}#sk-container-id-6 div.sk-estimator {font-family: monospace;background-color: #f0f8ff;border: 1px dotted black;border-radius: 0.25em;box-sizing: border-box;margin-bottom: 0.5em;}#sk-container-id-6 div.sk-estimator:hover {background-color: #d4ebff;}#sk-container-id-6 div.sk-parallel-item::after {content: \"\";width: 100%;border-bottom: 1px solid gray;flex-grow: 1;}#sk-container-id-6 div.sk-label:hover label.sk-toggleable__label {background-color: #d4ebff;}#sk-container-id-6 div.sk-serial::before {content: \"\";position: absolute;border-left: 1px solid gray;box-sizing: border-box;top: 0;bottom: 0;left: 50%;z-index: 0;}#sk-container-id-6 div.sk-serial {display: flex;flex-direction: column;align-items: center;background-color: white;padding-right: 0.2em;padding-left: 0.2em;position: relative;}#sk-container-id-6 div.sk-item {position: relative;z-index: 1;}#sk-container-id-6 div.sk-parallel {display: flex;align-items: stretch;justify-content: center;background-color: white;position: relative;}#sk-container-id-6 div.sk-item::before, #sk-container-id-6 div.sk-parallel-item::before {content: \"\";position: absolute;border-left: 1px solid gray;box-sizing: border-box;top: 0;bottom: 0;left: 50%;z-index: -1;}#sk-container-id-6 div.sk-parallel-item {display: flex;flex-direction: column;z-index: 1;position: relative;background-color: white;}#sk-container-id-6 div.sk-parallel-item:first-child::after {align-self: flex-end;width: 50%;}#sk-container-id-6 div.sk-parallel-item:last-child::after {align-self: flex-start;width: 50%;}#sk-container-id-6 div.sk-parallel-item:only-child::after {width: 0;}#sk-container-id-6 div.sk-dashed-wrapped {border: 1px dashed gray;margin: 0 0.4em 0.5em 0.4em;box-sizing: border-box;padding-bottom: 0.4em;background-color: white;}#sk-container-id-6 div.sk-label label {font-family: monospace;font-weight: bold;display: inline-block;line-height: 1.2em;}#sk-container-id-6 div.sk-label-container {text-align: center;}#sk-container-id-6 div.sk-container {/* jupyter's `normalize.less` sets `[hidden] { display: none; }` but bootstrap.min.css set `[hidden] { display: none !important; }` so we also need the `!important` here to be able to override the default hidden behavior on the sphinx rendered scikit-learn.org. See: https://github.com/scikit-learn/scikit-learn/issues/21755 */display: inline-block !important;position: relative;}#sk-container-id-6 div.sk-text-repr-fallback {display: none;}</style><div id=\"sk-container-id-6\" class=\"sk-top-container\"><div class=\"sk-text-repr-fallback\"><pre>GradientBoostingClassifier(random_state=42)</pre><b>In a Jupyter environment, please rerun this cell to show the HTML representation or trust the notebook. <br />On GitHub, the HTML representation is unable to render, please try loading this page with nbviewer.org.</b></div><div class=\"sk-container\" hidden><div class=\"sk-item\"><div class=\"sk-estimator sk-toggleable\"><input class=\"sk-toggleable__control sk-hidden--visually\" id=\"sk-estimator-id-6\" type=\"checkbox\" checked><label for=\"sk-estimator-id-6\" class=\"sk-toggleable__label sk-toggleable__label-arrow\">GradientBoostingClassifier</label><div class=\"sk-toggleable__content\"><pre>GradientBoostingClassifier(random_state=42)</pre></div></div></div></div></div>"
      ],
      "text/plain": [
       "GradientBoostingClassifier(random_state=42)"
      ]
     },
     "execution_count": 30,
     "metadata": {},
     "output_type": "execute_result"
    }
   ],
   "source": [
    "from sklearn.ensemble import GradientBoostingClassifier \n",
    "\n",
    "# 100 Stages\n",
    "gbc_model = GradientBoostingClassifier(n_estimators=100, random_state=42)\n",
    "\n",
    "gbc_model.fit(X_train, y_train)"
   ]
  },
  {
   "cell_type": "markdown",
   "id": "ee626cb4",
   "metadata": {},
   "source": [
    "### Evaluation"
   ]
  },
  {
   "cell_type": "code",
   "execution_count": 31,
   "id": "f22d5c10",
   "metadata": {},
   "outputs": [
    {
     "name": "stdout",
     "output_type": "stream",
     "text": [
      "Cross Validated Accuracy: 63.74%\n",
      "Confidence Interval: +- 1.58%\n",
      "\n"
     ]
    },
    {
     "data": {
      "text/html": [
       "<div>\n",
       "<style scoped>\n",
       "    .dataframe tbody tr th:only-of-type {\n",
       "        vertical-align: middle;\n",
       "    }\n",
       "\n",
       "    .dataframe tbody tr th {\n",
       "        vertical-align: top;\n",
       "    }\n",
       "\n",
       "    .dataframe thead th {\n",
       "        text-align: right;\n",
       "    }\n",
       "</style>\n",
       "<table border=\"1\" class=\"dataframe\">\n",
       "  <thead>\n",
       "    <tr style=\"text-align: right;\">\n",
       "      <th></th>\n",
       "      <th>Model</th>\n",
       "      <th>Accuracy</th>\n",
       "      <th>Precision</th>\n",
       "      <th>Recall</th>\n",
       "      <th>F1</th>\n",
       "      <th>ROC AUC</th>\n",
       "    </tr>\n",
       "  </thead>\n",
       "  <tbody>\n",
       "    <tr>\n",
       "      <th>0</th>\n",
       "      <td>LogisticRegression (Lasso)</td>\n",
       "      <td>0.572226</td>\n",
       "      <td>0.582595</td>\n",
       "      <td>0.724563</td>\n",
       "      <td>0.645869</td>\n",
       "      <td>0.594457</td>\n",
       "    </tr>\n",
       "    <tr>\n",
       "      <th>1</th>\n",
       "      <td>SVC (Linear)</td>\n",
       "      <td>0.574669</td>\n",
       "      <td>0.581984</td>\n",
       "      <td>0.745301</td>\n",
       "      <td>0.653595</td>\n",
       "      <td>0.593592</td>\n",
       "    </tr>\n",
       "    <tr>\n",
       "      <th>2</th>\n",
       "      <td>SVC (RBF)</td>\n",
       "      <td>0.604327</td>\n",
       "      <td>0.611202</td>\n",
       "      <td>0.728451</td>\n",
       "      <td>0.664695</td>\n",
       "      <td>0.639727</td>\n",
       "    </tr>\n",
       "    <tr>\n",
       "      <th>3</th>\n",
       "      <td>RandomForestClassifier (n=100)</td>\n",
       "      <td>0.627006</td>\n",
       "      <td>0.647572</td>\n",
       "      <td>0.674012</td>\n",
       "      <td>0.660527</td>\n",
       "      <td>0.681416</td>\n",
       "    </tr>\n",
       "    <tr>\n",
       "      <th>4</th>\n",
       "      <td>XGBClassifier (n=100)</td>\n",
       "      <td>0.625960</td>\n",
       "      <td>0.648020</td>\n",
       "      <td>0.668179</td>\n",
       "      <td>0.657945</td>\n",
       "      <td>0.678069</td>\n",
       "    </tr>\n",
       "    <tr>\n",
       "      <th>5</th>\n",
       "      <td>GradientBoostingClassifier (n=100)</td>\n",
       "      <td>0.629100</td>\n",
       "      <td>0.641677</td>\n",
       "      <td>0.704472</td>\n",
       "      <td>0.671610</td>\n",
       "      <td>0.686662</td>\n",
       "    </tr>\n",
       "  </tbody>\n",
       "</table>\n",
       "</div>"
      ],
      "text/plain": [
       "                                Model  Accuracy  Precision    Recall  \\\n",
       "0          LogisticRegression (Lasso)  0.572226   0.582595  0.724563   \n",
       "1                        SVC (Linear)  0.574669   0.581984  0.745301   \n",
       "2                           SVC (RBF)  0.604327   0.611202  0.728451   \n",
       "3      RandomForestClassifier (n=100)  0.627006   0.647572  0.674012   \n",
       "4               XGBClassifier (n=100)  0.625960   0.648020  0.668179   \n",
       "5  GradientBoostingClassifier (n=100)  0.629100   0.641677  0.704472   \n",
       "\n",
       "         F1   ROC AUC  \n",
       "0  0.645869  0.594457  \n",
       "1  0.653595  0.593592  \n",
       "2  0.664695  0.639727  \n",
       "3  0.660527  0.681416  \n",
       "4  0.657945  0.678069  \n",
       "5  0.671610  0.686662  "
      ]
     },
     "execution_count": 31,
     "metadata": {},
     "output_type": "execute_result"
    }
   ],
   "source": [
    "# Make predictions from the validation set\n",
    "y_predict = gbc_model.predict(X_validation)\n",
    "\n",
    "# Predict the probabilities of the positive class\n",
    "prob_posclass = gbc_model.predict_proba(X_validation)[:, 1]\n",
    "\n",
    "# Get model scores\n",
    "df_results = evaluate_scores_and_concat(prob_posclass, y_validation, y_predict, 'GradientBoostingClassifier (n=100)', df_results)\n",
    "\n",
    "# Perform k-fold cross-validation, here with 10 folds\n",
    "accuracies = cross_val_score(estimator=gbc_model, X=X_train_and_validation, y=y_train_and_validation, cv=10)\n",
    "\n",
    "print(\"Cross Validated Accuracy: {:.2f}%\".format(accuracies.mean()*100))\n",
    "print(\"Confidence Interval: +- {:.2f}%\\n\".format((accuracies.std()*2)*100))\n",
    "df_results"
   ]
  },
  {
   "cell_type": "markdown",
   "id": "3ba70b6d",
   "metadata": {},
   "source": [
    "## Save Data 💾"
   ]
  },
  {
   "cell_type": "code",
   "execution_count": 32,
   "id": "e98c457d",
   "metadata": {},
   "outputs": [],
   "source": [
    "# Create a directory to save results\n",
    "directory = \"../experiments/baseline_metrics\"\n",
    "if not os.path.exists(directory): os.makedirs(directory)\n",
    "\n",
    "df_results.to_csv(f\"{directory}/baseline_metrics_002.csv\", index=False)"
   ]
  },
  {
   "cell_type": "markdown",
   "id": "5b565243-1cdf-4c57-b03e-d351c8938ef9",
   "metadata": {},
   "source": [
    "## Baseline Model Evaluation <img src=\"../../images/charts.gif\" width=\"43\" alt=\"Chart Bars\"/>\n",
    "\n",
    "Above we discover the [GradientBoostingClassifier](https://scikit-learn.org/stable/modules/generated/sklearn.ensemble.GradientBoostingClassifier.html) algorithm has provided some of our best scores thus far and proceed with a further evaluation of the model"
   ]
  },
  {
   "cell_type": "code",
   "execution_count": 33,
   "id": "d7a9481d",
   "metadata": {},
   "outputs": [],
   "source": [
    "# Define model\n",
    "model = gbc_model"
   ]
  },
  {
   "cell_type": "markdown",
   "id": "d3886e0d",
   "metadata": {},
   "source": [
    "### Confusion Matrix"
   ]
  },
  {
   "cell_type": "code",
   "execution_count": 34,
   "id": "a51993b1",
   "metadata": {},
   "outputs": [],
   "source": [
    "from sklearn.metrics import confusion_matrix, ConfusionMatrixDisplay\n",
    "\n",
    "def sklearn_confusion_matrix(y_test, y_predict, model):\n",
    "    \"\"\"\n",
    "    Generates a scikit-learn confusion matrix. \n",
    "    Accepts the test labels, the predicted labels, and the trained model.\n",
    "    Displays the plot.\n",
    "    \"\"\"\n",
    "    # Create a confusion matrix with the labels and our model's predictions\n",
    "    conf_matrix = confusion_matrix(y_test, y_predict)\n",
    "    # Create the plot\n",
    "    fig, ax = plt.subplots(figsize=(8,6), dpi=100)\n",
    "    display = ConfusionMatrixDisplay(conf_matrix, display_labels=model.classes_)\n",
    "    ax.set(title='Confusion Matrix for Predicting Loan E-Signature Model')\n",
    "    display.plot(ax=ax, cmap='Blues', values_format='d')\n",
    "    plt.show()"
   ]
  },
  {
   "cell_type": "code",
   "execution_count": 35,
   "id": "ad8469a3",
   "metadata": {},
   "outputs": [
    {
     "data": {
      "image/png": "[encoded data removed]",
      "text/plain": [
       "<Figure size 800x600 with 2 Axes>"
      ]
     },
     "metadata": {},
     "output_type": "display_data"
    },
    {
     "name": "stdout",
     "output_type": "stream",
     "text": [
      "              precision    recall  f1-score   support\n",
      "\n",
      "           0      0.611     0.541     0.574      1323\n",
      "           1      0.642     0.704     0.672      1543\n",
      "\n",
      "    accuracy                          0.629      2866\n",
      "   macro avg      0.626     0.623     0.623      2866\n",
      "weighted avg      0.627     0.629     0.627      2866\n",
      "\n"
     ]
    }
   ],
   "source": [
    "from sklearn.metrics import classification_report\n",
    "\n",
    "# Make predictions\n",
    "y_predict = model.predict(X_validation)\n",
    "\n",
    "# Plot confusion matrix and display classification report\n",
    "sklearn_confusion_matrix(y_validation, y_predict, model)\n",
    "print(classification_report(y_validation, y_predict, digits=3))"
   ]
  },
  {
   "cell_type": "markdown",
   "id": "4164cf99",
   "metadata": {},
   "source": [
    "### Receiver Operating Characteristic (ROC) Curve"
   ]
  },
  {
   "cell_type": "code",
   "execution_count": 36,
   "id": "d88ee47a",
   "metadata": {},
   "outputs": [],
   "source": [
    "from sklearn.metrics import roc_curve, roc_auc_score\n",
    "import seaborn.objects as so\n",
    "\n",
    "def plot_roc_curve(X_test, y_test, model):\n",
    "   \"\"\"\n",
    "   Function for plotting the ROC Curve.\n",
    "   Accepts the test features, test labels, and the trained model.\n",
    "   Displays the plot and returns the AUC score. \n",
    "   \"\"\"\n",
    "   # Generate data for a 45 degree line\n",
    "   noskill_probabilities = [0 for number in range(len(y_test))]\n",
    "   # Predict the probabilities of the positive class\n",
    "   probabilities_posclass = model.predict_proba(X_test)[:, 1]\n",
    "   # Calculate data for horizontal line\n",
    "   falsepositive_rate_noskill, truepositive_rate_noskill, _ = roc_curve(y_test, noskill_probabilities)\n",
    "   # Calculate data for ROC curve\n",
    "   falsepositive_rate, truepositive_rate, _ = roc_curve(y_test, probabilities_posclass)\n",
    "   # Calculate AUC\n",
    "   roc_auc = roc_auc_score(y_test, probabilities_posclass)\n",
    "   # Display AUC\n",
    "   print(\"AUC (Area Under the ROC Curve): {:.2f}\".format(roc_auc))\n",
    "   # Plot with Seaborn Objects\n",
    "   plt = (so.Plot()\n",
    "      .add(so.Line(color='red'), x =falsepositive_rate, y=truepositive_rate)\n",
    "      .add(so.Line(color='blue', linestyle='dashed'), x=falsepositive_rate_noskill, y=truepositive_rate_noskill)\n",
    "      .layout(size = (8,5))\n",
    "      )\n",
    "   plt.show()\n",
    "   \n",
    "   return roc_auc"
   ]
  },
  {
   "cell_type": "code",
   "execution_count": 37,
   "id": "c6444c61",
   "metadata": {},
   "outputs": [
    {
     "name": "stdout",
     "output_type": "stream",
     "text": [
      "AUC (Area Under the ROC Curve): 0.69\n"
     ]
    },
    {
     "data": {
      "image/png": "[encoded data removed]",
      "text/plain": [
       "<Figure size 800x500 with 1 Axes>"
      ]
     },
     "metadata": {},
     "output_type": "display_data"
    }
   ],
   "source": [
    "roc_auc = plot_roc_curve(X_validation, y_validation, model)"
   ]
  },
  {
   "cell_type": "markdown",
   "id": "bb3e6183",
   "metadata": {},
   "source": [
    "We observe the model's discriminatory power is slightly less than acceptable and aim to improve this score via hyperparameter optimization"
   ]
  },
  {
   "cell_type": "markdown",
   "id": "dc302048-5006-4ac7-8c39-a66fc39f5c91",
   "metadata": {},
   "source": [
    "### Feature Importances"
   ]
  },
  {
   "cell_type": "code",
   "execution_count": 38,
   "id": "68e09fa5-1ec5-4716-9aa9-7853fea21947",
   "metadata": {},
   "outputs": [],
   "source": [
    "def plot_feature_importance(X_train, model):\n",
    "    \"\"\"\n",
    "    Plots feature importances from a model.\n",
    "    Accepts the training features DataFrame and the trained model.\n",
    "    Displays the plot and returns a DataFrame of features and their importance scores.\n",
    "    \"\"\"\n",
    "    # Extract feature names from the DataFrame\n",
    "    features = X_train.columns.tolist()\n",
    "    # Create a DataFrame with feature names and their importance\n",
    "    feature_df = pd.DataFrame({\n",
    "      'Feature': features,\n",
    "      'Importance': model.feature_importances_\n",
    "      })\n",
    "    # Sort the DataFrame by importance in descending order\n",
    "    feature_df = feature_df.sort_values(by='Importance', ascending=False)\n",
    "    # Adjust figure size as needed\n",
    "    plt.figure(figsize=(8, 6)) \n",
    "    plt.barh(feature_df['Feature'], feature_df['Importance'], color='skyblue')\n",
    "    plt.xlabel('Importance')\n",
    "    plt.ylabel('Feature')\n",
    "    plt.title('Feature Importances')\n",
    "    plt.gca().invert_yaxis() # Place highest importance at top\n",
    "    plt.show()\n",
    "\n",
    "    return feature_df"
   ]
  },
  {
   "cell_type": "code",
   "execution_count": 39,
   "id": "b05eade1",
   "metadata": {},
   "outputs": [
    {
     "data": {
      "image/png": "[encoded data removed]",
      "text/plain": [
       "<Figure size 800x600 with 1 Axes>"
      ]
     },
     "metadata": {},
     "output_type": "display_data"
    },
    {
     "data": {
      "text/html": [
       "<div>\n",
       "<style scoped>\n",
       "    .dataframe tbody tr th:only-of-type {\n",
       "        vertical-align: middle;\n",
       "    }\n",
       "\n",
       "    .dataframe tbody tr th {\n",
       "        vertical-align: top;\n",
       "    }\n",
       "\n",
       "    .dataframe thead th {\n",
       "        text-align: right;\n",
       "    }\n",
       "</style>\n",
       "<table border=\"1\" class=\"dataframe\">\n",
       "  <thead>\n",
       "    <tr style=\"text-align: right;\">\n",
       "      <th></th>\n",
       "      <th>Feature</th>\n",
       "      <th>Importance</th>\n",
       "    </tr>\n",
       "  </thead>\n",
       "  <tbody>\n",
       "    <tr>\n",
       "      <th>9</th>\n",
       "      <td>log_amount_requested</td>\n",
       "      <td>0.478478</td>\n",
       "    </tr>\n",
       "    <tr>\n",
       "      <th>6</th>\n",
       "      <td>personal_account_months</td>\n",
       "      <td>0.126099</td>\n",
       "    </tr>\n",
       "    <tr>\n",
       "      <th>1</th>\n",
       "      <td>monthly_income</td>\n",
       "      <td>0.093923</td>\n",
       "    </tr>\n",
       "    <tr>\n",
       "      <th>0</th>\n",
       "      <td>age</td>\n",
       "      <td>0.093378</td>\n",
       "    </tr>\n",
       "    <tr>\n",
       "      <th>4</th>\n",
       "      <td>risk_score</td>\n",
       "      <td>0.084207</td>\n",
       "    </tr>\n",
       "    <tr>\n",
       "      <th>8</th>\n",
       "      <td>avg_ext_quality_score</td>\n",
       "      <td>0.033907</td>\n",
       "    </tr>\n",
       "    <tr>\n",
       "      <th>10</th>\n",
       "      <td>home_owner</td>\n",
       "      <td>0.021500</td>\n",
       "    </tr>\n",
       "    <tr>\n",
       "      <th>7</th>\n",
       "      <td>avg_risk_score</td>\n",
       "      <td>0.020326</td>\n",
       "    </tr>\n",
       "    <tr>\n",
       "      <th>5</th>\n",
       "      <td>inquiries_last_month</td>\n",
       "      <td>0.017204</td>\n",
       "    </tr>\n",
       "    <tr>\n",
       "      <th>11</th>\n",
       "      <td>has_debt</td>\n",
       "      <td>0.016039</td>\n",
       "    </tr>\n",
       "    <tr>\n",
       "      <th>2</th>\n",
       "      <td>years_employed</td>\n",
       "      <td>0.011332</td>\n",
       "    </tr>\n",
       "    <tr>\n",
       "      <th>3</th>\n",
       "      <td>current_address_year</td>\n",
       "      <td>0.003607</td>\n",
       "    </tr>\n",
       "  </tbody>\n",
       "</table>\n",
       "</div>"
      ],
      "text/plain": [
       "                    Feature  Importance\n",
       "9      log_amount_requested    0.478478\n",
       "6   personal_account_months    0.126099\n",
       "1            monthly_income    0.093923\n",
       "0                       age    0.093378\n",
       "4                risk_score    0.084207\n",
       "8     avg_ext_quality_score    0.033907\n",
       "10               home_owner    0.021500\n",
       "7            avg_risk_score    0.020326\n",
       "5      inquiries_last_month    0.017204\n",
       "11                 has_debt    0.016039\n",
       "2            years_employed    0.011332\n",
       "3      current_address_year    0.003607"
      ]
     },
     "execution_count": 39,
     "metadata": {},
     "output_type": "execute_result"
    }
   ],
   "source": [
    "feature_df = plot_feature_importance(X_train, model)\n",
    "feature_df"
   ]
  },
  {
   "cell_type": "markdown",
   "id": "a61f630a",
   "metadata": {},
   "source": [
    "## Model Tuning <img src=\"../../images/tuning.gif\" width=\"50\" alt=\"Tuning\"/>\n",
    "\n",
    "Here we utilize Hyperopt for model tuning to take advantage of Bayesian Optimization\n",
    "\n",
    "- We begin by initializing MLflow to track our [experiment](../experiments/README.md) 🧪 "
   ]
  },
  {
   "cell_type": "code",
   "execution_count": 40,
   "id": "c5a507a3",
   "metadata": {},
   "outputs": [],
   "source": [
    "# Define a location to save experiments\n",
    "experiment_dir = \"../experiments/mlflow_demo\"\n",
    "if not os.path.exists(experiment_dir): os.makedirs(experiment_dir)"
   ]
  },
  {
   "cell_type": "code",
   "execution_count": 41,
   "id": "e066aab7",
   "metadata": {},
   "outputs": [
    {
     "name": "stdout",
     "output_type": "stream",
     "text": [
      "Name: hyperopt_tuning_17717\n",
      "Experiment_id: 582078070597902265\n",
      "Artifact Location: file://../experiments/mlflow_demo/582078070597902265\n",
      "Tags: {}\n",
      "Lifecycle_stage: active\n",
      "Creation timestamp: 1699684134831\n"
     ]
    }
   ],
   "source": [
    "import random\n",
    "\n",
    "# 5 digit random number for the experiment\n",
    "random_number = random.randint(10_000, 99_999)\n",
    "# Set the tracking server URI\n",
    "mlflow.set_tracking_uri(f'file://{os.path.abspath(experiment_dir)}')\n",
    "# Create a new experiment\n",
    "EXPERIMENT_ID = mlflow.create_experiment(f'hyperopt_tuning_{random_number}')\n",
    "# Fetch experiment details\n",
    "experiment = mlflow.get_experiment(EXPERIMENT_ID)\n",
    "\n",
    "print(f\"Name: {experiment.name}\")\n",
    "print(f\"Experiment_id: {experiment.experiment_id}\")\n",
    "print(f\"Artifact Location: file://{experiment_dir}/{experiment.experiment_id}\")\n",
    "print(f\"Tags: {experiment.tags}\")\n",
    "print(f\"Lifecycle_stage: {experiment.lifecycle_stage}\")\n",
    "print(f\"Creation timestamp: {experiment.creation_time}\")"
   ]
  },
  {
   "cell_type": "markdown",
   "id": "a80ff496",
   "metadata": {},
   "source": [
    "\n",
    "- Define the objective function"
   ]
  },
  {
   "cell_type": "code",
   "execution_count": 42,
   "id": "0c2773be",
   "metadata": {},
   "outputs": [],
   "source": [
    "from hyperopt import STATUS_OK\n",
    "from sklearn.ensemble import GradientBoostingClassifier \n",
    "from sklearn.model_selection import cross_val_score\n",
    "from sklearn.metrics import accuracy_score, f1_score, precision_score, recall_score, roc_auc_score\n",
    "from mlflow.models.signature import infer_signature\n",
    "\n",
    "def objective_function(space):\n",
    "    \"\"\"\n",
    "    The objective function for Hyperopt. \n",
    "    Accepts the hyperparameter search space & returns a loss score to minimize. \n",
    "    Logs metadata & the model from trials.\n",
    "    \"\"\"\n",
    "    # Convert floats to integers for the model as needed\n",
    "    space['n_estimators'] = int(space['n_estimators'])\n",
    "    space['max_depth'] = int(space['max_depth'])\n",
    "    space['min_samples_split'] = int(space['min_samples_split'])\n",
    "    space['min_samples_leaf'] = int(space['min_samples_leaf'])\n",
    "    \n",
    "    # Define model\n",
    "    model = GradientBoostingClassifier(**space, random_state=42)\n",
    "    # Define cross-validation (if opted)\n",
    "    auc_scores = cross_val_score(model, X_train_and_validation, y_train_and_validation, cv=3, scoring='roc_auc')\n",
    "    # Cross validation mean & loss variance from scores\n",
    "    roc_auc = np.mean(auc_scores)\n",
    "    loss_variance = np.var(auc_scores, ddof=1)\n",
    "    # Train the model & predict values for the validation set\n",
    "    model.fit(X_train, y_train)\n",
    "    y_val_predict = model.predict(X_validation)\n",
    "    prob_posclass = model.predict_proba(X_validation)[:, 1]\n",
    "    # Evaluation metrics\n",
    "    val_accuracy = accuracy_score(y_validation, y_val_predict)\n",
    "    val_precision = precision_score(y_validation, y_val_predict)\n",
    "    val_recall = recall_score(y_validation, y_val_predict)\n",
    "    val_f1 = f1_score(y_validation, y_val_predict)\n",
    "    val_roc_auc = roc_auc_score(y_validation, prob_posclass)\n",
    "    \n",
    "    validation_metrics = {\n",
    "      'accuracy': val_accuracy, \n",
    "      'precision': val_precision, \n",
    "      'recall': val_recall, \n",
    "      'F1': val_f1, \n",
    "      'roc_auc': val_roc_auc\n",
    "    }\n",
    "    \n",
    "    with mlflow.start_run(experiment_id=experiment.experiment_id):\n",
    "        mlflow.log_params(space)\n",
    "        mlflow.log_params({\"validation_feature_importances\": model.feature_importances_})\n",
    "        for name, metric in validation_metrics.items():\n",
    "            mlflow.log_metric(f'validation_{name}', metric)\n",
    "        mlflow.log_metric(\"cross_roc_auc\", roc_auc)\n",
    "        mlflow.log_metric(\"loss_variance\", loss_variance)\n",
    "        signature = infer_signature(X_train, y_val_predict)\n",
    "        mlflow.sklearn.log_model(model, \"model\", \n",
    "                                 signature=signature, \n",
    "                                 input_example=X_train.iloc[[0]],\n",
    "                                 pip_requirements=\"./requirements.txt\")\n",
    "        mlflow.sklearn.log_model(model, \"model\", pip_requirements=\"requirements.txt\")\n",
    "        mlflow.set_tag(\"estimator_name\", model.__class__.__name__)\n",
    "        mlflow.set_tag(\"estimator_class\", model.__class__)\n",
    "        mlflow.end_run()\n",
    "    \n",
    "    # Here we aim to maximize roc_auc, thus return it as a negative value\n",
    "    return {'loss': -roc_auc, 'loss_variance': loss_variance, 'status': STATUS_OK}"
   ]
  },
  {
   "cell_type": "markdown",
   "id": "94b34b74",
   "metadata": {},
   "source": [
    "- Define the search space"
   ]
  },
  {
   "cell_type": "code",
   "execution_count": 43,
   "id": "32442531",
   "metadata": {},
   "outputs": [],
   "source": [
    "from hyperopt import hp\n",
    "\n",
    "search_space = {\n",
    "    'n_estimators': hp.quniform('n_estimators', 100, 400, 10),\n",
    "    'max_depth': hp.quniform('max_depth', 5, 10, 1),\n",
    "    'min_samples_split': hp.quniform('min_samples_split', 2, 10, 1),\n",
    "    'min_samples_leaf': hp.quniform('min_samples_leaf', 1, 10, 1),\n",
    "    'learning_rate': hp.loguniform('learning_rate', np.log(0.01), np.log(0.2)),\n",
    "    'subsample': hp.uniform('subsample', 0.7, 1.0),\n",
    "    'max_features': None\n",
    "    }"
   ]
  },
  {
   "cell_type": "markdown",
   "id": "99337636",
   "metadata": {},
   "source": [
    "- Run Hyperopt. _For optimal (or fastest) results, see [suggested formulas](https://www.databricks.com/blog/2021/04/15/how-not-to-tune-your-model-with-hyperopt.html). This may take some time, go have some tea_ "
   ]
  },
  {
   "cell_type": "code",
   "execution_count": 44,
   "id": "7a66139a",
   "metadata": {},
   "outputs": [
    {
     "name": "stdout",
     "output_type": "stream",
     "text": [
      "100%|██████████| 5/5 [02:41<00:00, 32.27s/trial, best loss: -0.7009027391145985]\n",
      "{'learning_rate': 0.012669504094959403, 'max_depth': 8.0, 'min_samples_leaf': 2.0, 'min_samples_split': 9.0, 'n_estimators': 280.0, 'subsample': 0.7901264064371525}\n"
     ]
    }
   ],
   "source": [
    "from hyperopt import fmin, tpe, Trials\n",
    "\n",
    "# Demo number of trials, adjust for utilization\n",
    "num_evals = 5\n",
    "trials = Trials()\n",
    "\n",
    "best_hyperparams = fmin(fn=objective_function, \n",
    "                        space=search_space, \n",
    "                        algo=tpe.suggest, # Bayesian search w/ Tree Parzen Estimator (TPE)\n",
    "                        max_evals=num_evals, \n",
    "                        trials=trials, \n",
    "                        rstate=np.random.default_rng(42)\n",
    "                       ) \n",
    "\n",
    "print(best_hyperparams)"
   ]
  },
  {
   "cell_type": "markdown",
   "id": "91b8eb49",
   "metadata": {},
   "source": [
    "#### MLflow Functions"
   ]
  },
  {
   "cell_type": "code",
   "execution_count": 45,
   "id": "f6bd57f0",
   "metadata": {},
   "outputs": [],
   "source": [
    "def get_best_scoring_model(metric_name, ascending_boolean, experiment_dir, experiment_ID):\n",
    "    \"\"\"\n",
    "    Returns a model with the best scoring metric from MLflow.\n",
    "    Accepts the metric name, an ascending order boolean (False=Higher Scores, True=Lower Scores),\n",
    "    path to the directory hosting the experiment, and the experiment_id.\n",
    "    Returns the model with the best scoring metric from MLflow. \n",
    "    \"\"\"\n",
    "    # Set the tracking server URI, configured here for file storage\n",
    "    mlflow.set_tracking_uri(f'file://{os.path.abspath(experiment_dir)}')\n",
    "    # Get the experiment ID\n",
    "    experiment_id = experiment_ID\n",
    "    # Get runs from the experiment\n",
    "    runs = mlflow.search_runs(experiment_ids=[experiment_id], filter_string='', max_results=1000)\n",
    "    # Filter the runs for best desired metric\n",
    "    best_run = runs.sort_values(f\"metrics.{metric_name}\", ascending=ascending_boolean).iloc[0]\n",
    "    # Provide the model URI\n",
    "    best_model_uri = best_run[\"artifact_uri\"] + \"/model\"\n",
    "    # Modify this line to your flavor of model: sklearn, spark, xgboost, pytorch, tensorflow, etc.\n",
    "    model = mlflow.sklearn.load_model(best_model_uri)\n",
    "    \n",
    "    print(\"Best Scoring Run ID:\", best_run.run_id)\n",
    "    print(\"Model Type:\", type(model).__name__)\n",
    "    print(\"Hyperparameters: \", model.get_params())\n",
    "    \n",
    "    return model"
   ]
  },
  {
   "cell_type": "code",
   "execution_count": 46,
   "id": "517f19ce",
   "metadata": {},
   "outputs": [],
   "source": [
    "def get_model(experiment_dir,run_id):\n",
    "    \"\"\"\n",
    "    Returns a model logged with MLflow.\n",
    "    Accepts a path to the directory hosting the experiment and run_id.\n",
    "    \"\"\"\n",
    "    # Set the tracking server URI, here configured for file storage\n",
    "    mlflow.set_tracking_uri(f'file://{os.path.abspath(experiment_dir)}')\n",
    "    # Specify model URI\n",
    "    model_uri = f\"runs:/{run_id}/model\" \n",
    "    # Modify this line to your flavor of model: sklearn, spark, xgboost, pytorch, tensorflow, etc.\n",
    "    model = mlflow.sklearn.load_model(model_uri)\n",
    "    \n",
    "    return model"
   ]
  },
  {
   "cell_type": "markdown",
   "id": "ce088e3e",
   "metadata": {},
   "source": [
    "### K-Fold Cross Validation\n",
    "\n",
    "Evaluate the tuned model across a more thorough cross-validation process"
   ]
  },
  {
   "cell_type": "code",
   "execution_count": 47,
   "id": "55144759",
   "metadata": {},
   "outputs": [
    {
     "name": "stdout",
     "output_type": "stream",
     "text": [
      "Best Scoring Run ID: 1be79e9f05e24d009bab26abe40aab8e\n",
      "Model Type: GradientBoostingClassifier\n",
      "Hyperparameters:  {'ccp_alpha': 0.0, 'criterion': 'friedman_mse', 'init': None, 'learning_rate': 0.015275982184203713, 'loss': 'log_loss', 'max_depth': 7, 'max_features': None, 'max_leaf_nodes': None, 'min_impurity_decrease': 0.0, 'min_samples_leaf': 4, 'min_samples_split': 7, 'min_weight_fraction_leaf': 0.0, 'n_estimators': 320, 'n_iter_no_change': None, 'random_state': 42, 'subsample': 0.9015413148869229, 'tol': 0.0001, 'validation_fraction': 0.1, 'verbose': 0, 'warm_start': False}\n"
     ]
    }
   ],
   "source": [
    "# Active experiment_ID => experiment.experiment_id\n",
    "experiment_ID = \"455990813687122612\"\n",
    "# Active experiment_dir => experiment_dir\n",
    "experiment_dir = \"../experiments/mlflow_gbc\"\n",
    "\n",
    "# Load the best scoring model from the experiment \n",
    "model = get_best_scoring_model(\"cross_roc_auc\", False, experiment_dir, experiment_ID)"
   ]
  },
  {
   "cell_type": "code",
   "execution_count": 48,
   "id": "0f1adbef",
   "metadata": {},
   "outputs": [
    {
     "name": "stdout",
     "output_type": "stream",
     "text": [
      "Cross Validated Accuracy: 64.39%\n",
      "Confidence Interval: +- 1.98%\n",
      "\n",
      "[0.63433357 0.64480112 0.65457083 0.65945569 0.65108165 0.65526867\n",
      " 0.63058659 0.63687151 0.63826816 0.63407821]\n"
     ]
    }
   ],
   "source": [
    "from sklearn.model_selection import cross_val_score\n",
    "\n",
    "# Perform k-fold cross-validation, here with 10 folds\n",
    "accuracies = cross_val_score(estimator=model, X=X_train_and_validation, y=y_train_and_validation, cv=10)\n",
    "\n",
    "print(\"Cross Validated Accuracy: {:.2f}%\".format(accuracies.mean()*100))\n",
    "print(\"Confidence Interval: +- {:.2f}%\\n\".format((accuracies.std()*2)*100))\n",
    "print(accuracies)"
   ]
  },
  {
   "cell_type": "markdown",
   "id": "6a953e8c",
   "metadata": {},
   "source": [
    "## Final Model Training 🦾\n",
    "\n",
    "Load the model from MLflow "
   ]
  },
  {
   "cell_type": "code",
   "execution_count": 49,
   "id": "37ac2ee9",
   "metadata": {},
   "outputs": [],
   "source": [
    "# Directory hosting the experiment and run_id\n",
    "experiment_dir = \"../experiments/mlflow_gbc\"\n",
    "run_id = \"1be79e9f05e24d009bab26abe40aab8e\"\n",
    "\n",
    "model = get_model(experiment_dir, run_id)"
   ]
  },
  {
   "cell_type": "markdown",
   "id": "dfae3afe",
   "metadata": {},
   "source": [
    "Train the model"
   ]
  },
  {
   "cell_type": "code",
   "execution_count": 50,
   "id": "e9b67307",
   "metadata": {},
   "outputs": [
    {
     "data": {
      "text/html": [
       "<style>#sk-container-id-7 {color: black;}#sk-container-id-7 pre{padding: 0;}#sk-container-id-7 div.sk-toggleable {background-color: white;}#sk-container-id-7 label.sk-toggleable__label {cursor: pointer;display: block;width: 100%;margin-bottom: 0;padding: 0.3em;box-sizing: border-box;text-align: center;}#sk-container-id-7 label.sk-toggleable__label-arrow:before {content: \"▸\";float: left;margin-right: 0.25em;color: #696969;}#sk-container-id-7 label.sk-toggleable__label-arrow:hover:before {color: black;}#sk-container-id-7 div.sk-estimator:hover label.sk-toggleable__label-arrow:before {color: black;}#sk-container-id-7 div.sk-toggleable__content {max-height: 0;max-width: 0;overflow: hidden;text-align: left;background-color: #f0f8ff;}#sk-container-id-7 div.sk-toggleable__content pre {margin: 0.2em;color: black;border-radius: 0.25em;background-color: #f0f8ff;}#sk-container-id-7 input.sk-toggleable__control:checked~div.sk-toggleable__content {max-height: 200px;max-width: 100%;overflow: auto;}#sk-container-id-7 input.sk-toggleable__control:checked~label.sk-toggleable__label-arrow:before {content: \"▾\";}#sk-container-id-7 div.sk-estimator input.sk-toggleable__control:checked~label.sk-toggleable__label {background-color: #d4ebff;}#sk-container-id-7 div.sk-label input.sk-toggleable__control:checked~label.sk-toggleable__label {background-color: #d4ebff;}#sk-container-id-7 input.sk-hidden--visually {border: 0;clip: rect(1px 1px 1px 1px);clip: rect(1px, 1px, 1px, 1px);height: 1px;margin: -1px;overflow: hidden;padding: 0;position: absolute;width: 1px;}#sk-container-id-7 div.sk-estimator {font-family: monospace;background-color: #f0f8ff;border: 1px dotted black;border-radius: 0.25em;box-sizing: border-box;margin-bottom: 0.5em;}#sk-container-id-7 div.sk-estimator:hover {background-color: #d4ebff;}#sk-container-id-7 div.sk-parallel-item::after {content: \"\";width: 100%;border-bottom: 1px solid gray;flex-grow: 1;}#sk-container-id-7 div.sk-label:hover label.sk-toggleable__label {background-color: #d4ebff;}#sk-container-id-7 div.sk-serial::before {content: \"\";position: absolute;border-left: 1px solid gray;box-sizing: border-box;top: 0;bottom: 0;left: 50%;z-index: 0;}#sk-container-id-7 div.sk-serial {display: flex;flex-direction: column;align-items: center;background-color: white;padding-right: 0.2em;padding-left: 0.2em;position: relative;}#sk-container-id-7 div.sk-item {position: relative;z-index: 1;}#sk-container-id-7 div.sk-parallel {display: flex;align-items: stretch;justify-content: center;background-color: white;position: relative;}#sk-container-id-7 div.sk-item::before, #sk-container-id-7 div.sk-parallel-item::before {content: \"\";position: absolute;border-left: 1px solid gray;box-sizing: border-box;top: 0;bottom: 0;left: 50%;z-index: -1;}#sk-container-id-7 div.sk-parallel-item {display: flex;flex-direction: column;z-index: 1;position: relative;background-color: white;}#sk-container-id-7 div.sk-parallel-item:first-child::after {align-self: flex-end;width: 50%;}#sk-container-id-7 div.sk-parallel-item:last-child::after {align-self: flex-start;width: 50%;}#sk-container-id-7 div.sk-parallel-item:only-child::after {width: 0;}#sk-container-id-7 div.sk-dashed-wrapped {border: 1px dashed gray;margin: 0 0.4em 0.5em 0.4em;box-sizing: border-box;padding-bottom: 0.4em;background-color: white;}#sk-container-id-7 div.sk-label label {font-family: monospace;font-weight: bold;display: inline-block;line-height: 1.2em;}#sk-container-id-7 div.sk-label-container {text-align: center;}#sk-container-id-7 div.sk-container {/* jupyter's `normalize.less` sets `[hidden] { display: none; }` but bootstrap.min.css set `[hidden] { display: none !important; }` so we also need the `!important` here to be able to override the default hidden behavior on the sphinx rendered scikit-learn.org. See: https://github.com/scikit-learn/scikit-learn/issues/21755 */display: inline-block !important;position: relative;}#sk-container-id-7 div.sk-text-repr-fallback {display: none;}</style><div id=\"sk-container-id-7\" class=\"sk-top-container\"><div class=\"sk-text-repr-fallback\"><pre>GradientBoostingClassifier(learning_rate=0.015275982184203713, max_depth=7,\n",
       "                           min_samples_leaf=4, min_samples_split=7,\n",
       "                           n_estimators=320, random_state=42,\n",
       "                           subsample=0.9015413148869229)</pre><b>In a Jupyter environment, please rerun this cell to show the HTML representation or trust the notebook. <br />On GitHub, the HTML representation is unable to render, please try loading this page with nbviewer.org.</b></div><div class=\"sk-container\" hidden><div class=\"sk-item\"><div class=\"sk-estimator sk-toggleable\"><input class=\"sk-toggleable__control sk-hidden--visually\" id=\"sk-estimator-id-7\" type=\"checkbox\" checked><label for=\"sk-estimator-id-7\" class=\"sk-toggleable__label sk-toggleable__label-arrow\">GradientBoostingClassifier</label><div class=\"sk-toggleable__content\"><pre>GradientBoostingClassifier(learning_rate=0.015275982184203713, max_depth=7,\n",
       "                           min_samples_leaf=4, min_samples_split=7,\n",
       "                           n_estimators=320, random_state=42,\n",
       "                           subsample=0.9015413148869229)</pre></div></div></div></div></div>"
      ],
      "text/plain": [
       "GradientBoostingClassifier(learning_rate=0.015275982184203713, max_depth=7,\n",
       "                           min_samples_leaf=4, min_samples_split=7,\n",
       "                           n_estimators=320, random_state=42,\n",
       "                           subsample=0.9015413148869229)"
      ]
     },
     "execution_count": 50,
     "metadata": {},
     "output_type": "execute_result"
    }
   ],
   "source": [
    "# Train model on the train & validation data\n",
    "model.fit(X_train_and_validation, y_train_and_validation)"
   ]
  },
  {
   "cell_type": "markdown",
   "id": "d6de30a2",
   "metadata": {},
   "source": [
    "## Final Model Evaluation <img src=\"../../images/charts.gif\" width=\"43\" alt=\"Chart Bars\"/>"
   ]
  },
  {
   "cell_type": "code",
   "execution_count": 51,
   "id": "cb4b3f6b",
   "metadata": {},
   "outputs": [],
   "source": [
    "# DataFrame for storing metrics\n",
    "df_final_metrics = pd.DataFrame()"
   ]
  },
  {
   "cell_type": "code",
   "execution_count": 52,
   "id": "091d0d97",
   "metadata": {},
   "outputs": [
    {
     "data": {
      "text/html": [
       "<div>\n",
       "<style scoped>\n",
       "    .dataframe tbody tr th:only-of-type {\n",
       "        vertical-align: middle;\n",
       "    }\n",
       "\n",
       "    .dataframe tbody tr th {\n",
       "        vertical-align: top;\n",
       "    }\n",
       "\n",
       "    .dataframe thead th {\n",
       "        text-align: right;\n",
       "    }\n",
       "</style>\n",
       "<table border=\"1\" class=\"dataframe\">\n",
       "  <thead>\n",
       "    <tr style=\"text-align: right;\">\n",
       "      <th></th>\n",
       "      <th>Model</th>\n",
       "      <th>Accuracy</th>\n",
       "      <th>Precision</th>\n",
       "      <th>Recall</th>\n",
       "      <th>F1</th>\n",
       "      <th>ROC AUC</th>\n",
       "    </tr>\n",
       "  </thead>\n",
       "  <tbody>\n",
       "    <tr>\n",
       "      <th>0</th>\n",
       "      <td>GradientBoostingClassifier 1be79e...</td>\n",
       "      <td>0.643774</td>\n",
       "      <td>0.647112</td>\n",
       "      <td>0.743776</td>\n",
       "      <td>0.692085</td>\n",
       "      <td>0.712702</td>\n",
       "    </tr>\n",
       "  </tbody>\n",
       "</table>\n",
       "</div>"
      ],
      "text/plain": [
       "                                  Model  Accuracy  Precision    Recall  \\\n",
       "0  GradientBoostingClassifier 1be79e...  0.643774   0.647112  0.743776   \n",
       "\n",
       "         F1   ROC AUC  \n",
       "0  0.692085  0.712702  "
      ]
     },
     "execution_count": 52,
     "metadata": {},
     "output_type": "execute_result"
    }
   ],
   "source": [
    "# Make predictions from the test set\n",
    "y_predict = model.predict(X_test)\n",
    "\n",
    "# Predict probabilities of the positive class\n",
    "prob_posclass = model.predict_proba(X_test)[:, 1]\n",
    "\n",
    "# Model info\n",
    "model_type = type(model).__name__\n",
    "run_id = str(run_id) if run_id else \"(tuned)\"\n",
    "\n",
    "# Get model scores\n",
    "df_final_metrics = evaluate_scores_and_concat(prob_posclass, y_test, y_predict, f\"{model_type} {run_id[:6]}...\", df_final_metrics)\n",
    "df_final_metrics"
   ]
  },
  {
   "cell_type": "markdown",
   "id": "4ac1e2cf",
   "metadata": {},
   "source": [
    "### Confusion Matrix"
   ]
  },
  {
   "cell_type": "code",
   "execution_count": 53,
   "id": "6497eadd",
   "metadata": {},
   "outputs": [
    {
     "data": {
      "image/png": "[encoded data removed]",
      "text/plain": [
       "<Figure size 800x600 with 2 Axes>"
      ]
     },
     "metadata": {},
     "output_type": "display_data"
    },
    {
     "name": "stdout",
     "output_type": "stream",
     "text": [
      "              precision    recall  f1-score   support\n",
      "\n",
      "           0      0.638     0.527     0.577      1654\n",
      "           1      0.647     0.744     0.692      1928\n",
      "\n",
      "    accuracy                          0.644      3582\n",
      "   macro avg      0.643     0.635     0.635      3582\n",
      "weighted avg      0.643     0.644     0.639      3582\n",
      "\n"
     ]
    }
   ],
   "source": [
    "# Plot confusion matrix and display classification report\n",
    "sklearn_confusion_matrix(y_test, y_predict, model)\n",
    "print(classification_report(y_test, y_predict, digits=3))"
   ]
  },
  {
   "cell_type": "markdown",
   "id": "cbf2614d",
   "metadata": {},
   "source": [
    "### Receiver Operating Characteristic (ROC) Curve"
   ]
  },
  {
   "cell_type": "code",
   "execution_count": 54,
   "id": "c5cb7f26",
   "metadata": {},
   "outputs": [
    {
     "name": "stdout",
     "output_type": "stream",
     "text": [
      "AUC (Area Under the ROC Curve): 0.71\n"
     ]
    },
    {
     "data": {
      "image/png": "[encoded data removed]",
      "text/plain": [
       "<Figure size 800x500 with 1 Axes>"
      ]
     },
     "metadata": {},
     "output_type": "display_data"
    }
   ],
   "source": [
    "roc_auc = plot_roc_curve(X_test, y_test, model)"
   ]
  },
  {
   "cell_type": "markdown",
   "id": "5314fa47",
   "metadata": {},
   "source": [
    "We note the model's discriminatory power has improved and is considered reasonable"
   ]
  },
  {
   "cell_type": "markdown",
   "id": "94c289f7",
   "metadata": {},
   "source": [
    "### Feature Importances"
   ]
  },
  {
   "cell_type": "code",
   "execution_count": 55,
   "id": "3b883512",
   "metadata": {},
   "outputs": [
    {
     "data": {
      "image/png": "[encoded data removed]",
      "text/plain": [
       "<Figure size 800x600 with 1 Axes>"
      ]
     },
     "metadata": {},
     "output_type": "display_data"
    },
    {
     "data": {
      "text/html": [
       "<div>\n",
       "<style scoped>\n",
       "    .dataframe tbody tr th:only-of-type {\n",
       "        vertical-align: middle;\n",
       "    }\n",
       "\n",
       "    .dataframe tbody tr th {\n",
       "        vertical-align: top;\n",
       "    }\n",
       "\n",
       "    .dataframe thead th {\n",
       "        text-align: right;\n",
       "    }\n",
       "</style>\n",
       "<table border=\"1\" class=\"dataframe\">\n",
       "  <thead>\n",
       "    <tr style=\"text-align: right;\">\n",
       "      <th></th>\n",
       "      <th>Feature</th>\n",
       "      <th>Importance</th>\n",
       "    </tr>\n",
       "  </thead>\n",
       "  <tbody>\n",
       "    <tr>\n",
       "      <th>9</th>\n",
       "      <td>log_amount_requested</td>\n",
       "      <td>0.270760</td>\n",
       "    </tr>\n",
       "    <tr>\n",
       "      <th>4</th>\n",
       "      <td>risk_score</td>\n",
       "      <td>0.154671</td>\n",
       "    </tr>\n",
       "    <tr>\n",
       "      <th>1</th>\n",
       "      <td>monthly_income</td>\n",
       "      <td>0.117684</td>\n",
       "    </tr>\n",
       "    <tr>\n",
       "      <th>6</th>\n",
       "      <td>personal_account_months</td>\n",
       "      <td>0.109633</td>\n",
       "    </tr>\n",
       "    <tr>\n",
       "      <th>0</th>\n",
       "      <td>age</td>\n",
       "      <td>0.084397</td>\n",
       "    </tr>\n",
       "    <tr>\n",
       "      <th>8</th>\n",
       "      <td>avg_ext_quality_score</td>\n",
       "      <td>0.075699</td>\n",
       "    </tr>\n",
       "    <tr>\n",
       "      <th>7</th>\n",
       "      <td>avg_risk_score</td>\n",
       "      <td>0.070790</td>\n",
       "    </tr>\n",
       "    <tr>\n",
       "      <th>5</th>\n",
       "      <td>inquiries_last_month</td>\n",
       "      <td>0.035171</td>\n",
       "    </tr>\n",
       "    <tr>\n",
       "      <th>3</th>\n",
       "      <td>current_address_year</td>\n",
       "      <td>0.026350</td>\n",
       "    </tr>\n",
       "    <tr>\n",
       "      <th>2</th>\n",
       "      <td>years_employed</td>\n",
       "      <td>0.025500</td>\n",
       "    </tr>\n",
       "    <tr>\n",
       "      <th>10</th>\n",
       "      <td>home_owner</td>\n",
       "      <td>0.015810</td>\n",
       "    </tr>\n",
       "    <tr>\n",
       "      <th>11</th>\n",
       "      <td>has_debt</td>\n",
       "      <td>0.013535</td>\n",
       "    </tr>\n",
       "  </tbody>\n",
       "</table>\n",
       "</div>"
      ],
      "text/plain": [
       "                    Feature  Importance\n",
       "9      log_amount_requested    0.270760\n",
       "4                risk_score    0.154671\n",
       "1            monthly_income    0.117684\n",
       "6   personal_account_months    0.109633\n",
       "0                       age    0.084397\n",
       "8     avg_ext_quality_score    0.075699\n",
       "7            avg_risk_score    0.070790\n",
       "5      inquiries_last_month    0.035171\n",
       "3      current_address_year    0.026350\n",
       "2            years_employed    0.025500\n",
       "10               home_owner    0.015810\n",
       "11                 has_debt    0.013535"
      ]
     },
     "execution_count": 55,
     "metadata": {},
     "output_type": "execute_result"
    }
   ],
   "source": [
    "feature_df = plot_feature_importance(X_train_and_validation, model)\n",
    "feature_df"
   ]
  },
  {
   "cell_type": "markdown",
   "id": "ba420e43",
   "metadata": {},
   "source": [
    "## Save Model 💾\n",
    "\n",
    "Next we save the optimized model along with associated metrics, metadata, and artifacts"
   ]
  },
  {
   "cell_type": "code",
   "execution_count": 56,
   "id": "d1473c78",
   "metadata": {},
   "outputs": [],
   "source": [
    "# Create a directory to save sample training data \n",
    "sample_dir = \"../data/samples\"\n",
    "if not os.path.exists(sample_dir): os.makedirs(sample_dir)\n",
    "    \n",
    "type_of_model = type(model).__name__\n",
    "    \n",
    "# Create a directory to save the model\n",
    "model_dir = f\"../models/{type_of_model}\"\n",
    "if not os.path.exists(model_dir): os.makedirs(model_dir)"
   ]
  },
  {
   "cell_type": "code",
   "execution_count": 57,
   "id": "f65637c7",
   "metadata": {},
   "outputs": [],
   "source": [
    "from sklearn.metrics import accuracy_score, f1_score, precision_score, recall_score, roc_auc_score\n",
    "import random\n",
    "\n",
    "random_number = random.randint(10_000, 99_999)\n",
    "\n",
    "# Use directory above to set the tracking server URI\n",
    "mlflow.set_tracking_uri(f'file://{os.path.abspath(model_dir)}')\n",
    "\n",
    "# Set the experiment\n",
    "experiment_name = \"final_models\"\n",
    "experiment = mlflow.set_experiment(experiment_name)\n",
    "\n",
    "# Save a sample of the data the model was trained on\n",
    "sample_data = X_train.head()\n",
    "sample_data.to_csv(f\"{sample_dir}/sample_train_data_{random_number}.csv\", index=False)\n",
    "\n",
    "# Get model hyperpameters\n",
    "model_params = model.get_params()\n",
    "params_dict = dict(model_params)\n",
    "\n",
    "# Predict the probabilities of the positive class\n",
    "prob_posclass = model.predict_proba(X_test)[:, 1]\n",
    "roc_auc = roc_auc_score(y_test, prob_posclass)\n",
    "\n",
    "with mlflow.start_run(experiment_id=experiment.experiment_id):\n",
    "    mlflow.log_params(params_dict)\n",
    "    mlflow.log_params({\"test_feature_importances\": model.feature_importances_})\n",
    "    mlflow.log_metric(\"test_accuracy\", accuracy_score(y_test, y_predict))\n",
    "    mlflow.log_metric(\"test_precision\", precision_score(y_test, y_predict))\n",
    "    mlflow.log_metric(\"test_recall\", recall_score(y_test, y_predict))\n",
    "    mlflow.log_metric(\"test_F1\", f1_score(y_test, y_predict))\n",
    "    mlflow.log_metric(\"test_roc_auc\", roc_auc)\n",
    "    mlflow.log_artifact(f\"{sample_dir}/sample_train_data_{random_number}.csv\")\n",
    "    mlflow.sklearn.log_model(model, \"model\", pip_requirements=\"requirements.txt\")\n",
    "    mlflow.set_tag(\"estimator_name\", model.__class__.__name__)\n",
    "    mlflow.set_tag(\"estimator_class\", model.__class__)\n",
    "    mlflow.end_run()"
   ]
  },
  {
   "cell_type": "markdown",
   "id": "5663dc0a",
   "metadata": {},
   "source": [
    "- _To use the saved model for inference_ 🗨️"
   ]
  },
  {
   "cell_type": "code",
   "execution_count": 58,
   "id": "db4a1c1d",
   "metadata": {},
   "outputs": [],
   "source": [
    "# Define directory hosting the experiment with your saved model and run_id\n",
    "experiment_dir = \"../models/GradientBoostingClassifier\"\n",
    "run_id = \"721662deaffa43269df59fcb4cd195b9\"\n",
    "\n",
    "# Load the model\n",
    "model = get_model(experiment_dir, run_id)\n",
    "\n",
    "# Make predictions\n",
    "y_predict = model.predict(X_test)"
   ]
  },
  {
   "cell_type": "markdown",
   "id": "614850c2",
   "metadata": {},
   "source": [
    "## Process Results 🔄\n",
    "\n",
    "Here we format the final results from our model's predictions to the user this data came from. While we will not have 'e-signed' data for the deployed model's predictions in the future, a similar process can be applied. This enables the company to identify leads predicted not to complete the e-signature phase of the loan application process and experiment with different methods of onboarding them."
   ]
  },
  {
   "cell_type": "code",
   "execution_count": 59,
   "id": "99baac8b",
   "metadata": {},
   "outputs": [
    {
     "data": {
      "text/html": [
       "<div>\n",
       "<style scoped>\n",
       "    .dataframe tbody tr th:only-of-type {\n",
       "        vertical-align: middle;\n",
       "    }\n",
       "\n",
       "    .dataframe tbody tr th {\n",
       "        vertical-align: top;\n",
       "    }\n",
       "\n",
       "    .dataframe thead th {\n",
       "        text-align: right;\n",
       "    }\n",
       "</style>\n",
       "<table border=\"1\" class=\"dataframe\">\n",
       "  <thead>\n",
       "    <tr style=\"text-align: right;\">\n",
       "      <th></th>\n",
       "      <th>entry_id</th>\n",
       "      <th>e_signed</th>\n",
       "      <th>predicted_results</th>\n",
       "    </tr>\n",
       "  </thead>\n",
       "  <tbody>\n",
       "    <tr>\n",
       "      <th>0</th>\n",
       "      <td>6495937</td>\n",
       "      <td>0</td>\n",
       "      <td>1</td>\n",
       "    </tr>\n",
       "    <tr>\n",
       "      <th>1</th>\n",
       "      <td>2299475</td>\n",
       "      <td>1</td>\n",
       "      <td>1</td>\n",
       "    </tr>\n",
       "    <tr>\n",
       "      <th>2</th>\n",
       "      <td>4822403</td>\n",
       "      <td>0</td>\n",
       "      <td>1</td>\n",
       "    </tr>\n",
       "    <tr>\n",
       "      <th>3</th>\n",
       "      <td>7060498</td>\n",
       "      <td>1</td>\n",
       "      <td>1</td>\n",
       "    </tr>\n",
       "    <tr>\n",
       "      <th>4</th>\n",
       "      <td>2699789</td>\n",
       "      <td>0</td>\n",
       "      <td>1</td>\n",
       "    </tr>\n",
       "    <tr>\n",
       "      <th>5</th>\n",
       "      <td>4311351</td>\n",
       "      <td>1</td>\n",
       "      <td>1</td>\n",
       "    </tr>\n",
       "    <tr>\n",
       "      <th>6</th>\n",
       "      <td>3054334</td>\n",
       "      <td>0</td>\n",
       "      <td>0</td>\n",
       "    </tr>\n",
       "    <tr>\n",
       "      <th>7</th>\n",
       "      <td>5634938</td>\n",
       "      <td>1</td>\n",
       "      <td>1</td>\n",
       "    </tr>\n",
       "    <tr>\n",
       "      <th>8</th>\n",
       "      <td>7573188</td>\n",
       "      <td>1</td>\n",
       "      <td>0</td>\n",
       "    </tr>\n",
       "    <tr>\n",
       "      <th>9</th>\n",
       "      <td>7047275</td>\n",
       "      <td>1</td>\n",
       "      <td>0</td>\n",
       "    </tr>\n",
       "    <tr>\n",
       "      <th>10</th>\n",
       "      <td>6612010</td>\n",
       "      <td>1</td>\n",
       "      <td>1</td>\n",
       "    </tr>\n",
       "    <tr>\n",
       "      <th>11</th>\n",
       "      <td>7617208</td>\n",
       "      <td>1</td>\n",
       "      <td>1</td>\n",
       "    </tr>\n",
       "    <tr>\n",
       "      <th>12</th>\n",
       "      <td>7604504</td>\n",
       "      <td>1</td>\n",
       "      <td>0</td>\n",
       "    </tr>\n",
       "    <tr>\n",
       "      <th>13</th>\n",
       "      <td>7945852</td>\n",
       "      <td>1</td>\n",
       "      <td>0</td>\n",
       "    </tr>\n",
       "    <tr>\n",
       "      <th>14</th>\n",
       "      <td>3327080</td>\n",
       "      <td>0</td>\n",
       "      <td>0</td>\n",
       "    </tr>\n",
       "    <tr>\n",
       "      <th>15</th>\n",
       "      <td>3383119</td>\n",
       "      <td>0</td>\n",
       "      <td>0</td>\n",
       "    </tr>\n",
       "    <tr>\n",
       "      <th>16</th>\n",
       "      <td>6234126</td>\n",
       "      <td>0</td>\n",
       "      <td>0</td>\n",
       "    </tr>\n",
       "    <tr>\n",
       "      <th>17</th>\n",
       "      <td>6093659</td>\n",
       "      <td>0</td>\n",
       "      <td>1</td>\n",
       "    </tr>\n",
       "    <tr>\n",
       "      <th>18</th>\n",
       "      <td>3232076</td>\n",
       "      <td>0</td>\n",
       "      <td>0</td>\n",
       "    </tr>\n",
       "    <tr>\n",
       "      <th>19</th>\n",
       "      <td>6061458</td>\n",
       "      <td>1</td>\n",
       "      <td>1</td>\n",
       "    </tr>\n",
       "    <tr>\n",
       "      <th>20</th>\n",
       "      <td>9835665</td>\n",
       "      <td>0</td>\n",
       "      <td>1</td>\n",
       "    </tr>\n",
       "    <tr>\n",
       "      <th>21</th>\n",
       "      <td>2548242</td>\n",
       "      <td>0</td>\n",
       "      <td>0</td>\n",
       "    </tr>\n",
       "    <tr>\n",
       "      <th>22</th>\n",
       "      <td>5255804</td>\n",
       "      <td>0</td>\n",
       "      <td>1</td>\n",
       "    </tr>\n",
       "    <tr>\n",
       "      <th>23</th>\n",
       "      <td>6144551</td>\n",
       "      <td>1</td>\n",
       "      <td>1</td>\n",
       "    </tr>\n",
       "    <tr>\n",
       "      <th>24</th>\n",
       "      <td>1566038</td>\n",
       "      <td>1</td>\n",
       "      <td>1</td>\n",
       "    </tr>\n",
       "    <tr>\n",
       "      <th>25</th>\n",
       "      <td>7243487</td>\n",
       "      <td>1</td>\n",
       "      <td>1</td>\n",
       "    </tr>\n",
       "    <tr>\n",
       "      <th>26</th>\n",
       "      <td>7570629</td>\n",
       "      <td>0</td>\n",
       "      <td>1</td>\n",
       "    </tr>\n",
       "    <tr>\n",
       "      <th>27</th>\n",
       "      <td>2477388</td>\n",
       "      <td>1</td>\n",
       "      <td>0</td>\n",
       "    </tr>\n",
       "    <tr>\n",
       "      <th>28</th>\n",
       "      <td>8647139</td>\n",
       "      <td>0</td>\n",
       "      <td>0</td>\n",
       "    </tr>\n",
       "    <tr>\n",
       "      <th>29</th>\n",
       "      <td>4527917</td>\n",
       "      <td>1</td>\n",
       "      <td>0</td>\n",
       "    </tr>\n",
       "    <tr>\n",
       "      <th>30</th>\n",
       "      <td>9367088</td>\n",
       "      <td>1</td>\n",
       "      <td>0</td>\n",
       "    </tr>\n",
       "    <tr>\n",
       "      <th>31</th>\n",
       "      <td>9406399</td>\n",
       "      <td>1</td>\n",
       "      <td>1</td>\n",
       "    </tr>\n",
       "    <tr>\n",
       "      <th>32</th>\n",
       "      <td>9283293</td>\n",
       "      <td>0</td>\n",
       "      <td>1</td>\n",
       "    </tr>\n",
       "    <tr>\n",
       "      <th>33</th>\n",
       "      <td>2966552</td>\n",
       "      <td>0</td>\n",
       "      <td>0</td>\n",
       "    </tr>\n",
       "    <tr>\n",
       "      <th>34</th>\n",
       "      <td>5683458</td>\n",
       "      <td>1</td>\n",
       "      <td>1</td>\n",
       "    </tr>\n",
       "    <tr>\n",
       "      <th>35</th>\n",
       "      <td>8131694</td>\n",
       "      <td>1</td>\n",
       "      <td>1</td>\n",
       "    </tr>\n",
       "    <tr>\n",
       "      <th>36</th>\n",
       "      <td>1774647</td>\n",
       "      <td>0</td>\n",
       "      <td>0</td>\n",
       "    </tr>\n",
       "    <tr>\n",
       "      <th>37</th>\n",
       "      <td>8256117</td>\n",
       "      <td>0</td>\n",
       "      <td>1</td>\n",
       "    </tr>\n",
       "    <tr>\n",
       "      <th>38</th>\n",
       "      <td>9523242</td>\n",
       "      <td>1</td>\n",
       "      <td>1</td>\n",
       "    </tr>\n",
       "    <tr>\n",
       "      <th>39</th>\n",
       "      <td>1322198</td>\n",
       "      <td>0</td>\n",
       "      <td>0</td>\n",
       "    </tr>\n",
       "  </tbody>\n",
       "</table>\n",
       "</div>"
      ],
      "text/plain": [
       "    entry_id  e_signed  predicted_results\n",
       "0    6495937         0                  1\n",
       "1    2299475         1                  1\n",
       "2    4822403         0                  1\n",
       "3    7060498         1                  1\n",
       "4    2699789         0                  1\n",
       "5    4311351         1                  1\n",
       "6    3054334         0                  0\n",
       "7    5634938         1                  1\n",
       "8    7573188         1                  0\n",
       "9    7047275         1                  0\n",
       "10   6612010         1                  1\n",
       "11   7617208         1                  1\n",
       "12   7604504         1                  0\n",
       "13   7945852         1                  0\n",
       "14   3327080         0                  0\n",
       "15   3383119         0                  0\n",
       "16   6234126         0                  0\n",
       "17   6093659         0                  1\n",
       "18   3232076         0                  0\n",
       "19   6061458         1                  1\n",
       "20   9835665         0                  1\n",
       "21   2548242         0                  0\n",
       "22   5255804         0                  1\n",
       "23   6144551         1                  1\n",
       "24   1566038         1                  1\n",
       "25   7243487         1                  1\n",
       "26   7570629         0                  1\n",
       "27   2477388         1                  0\n",
       "28   8647139         0                  0\n",
       "29   4527917         1                  0\n",
       "30   9367088         1                  0\n",
       "31   9406399         1                  1\n",
       "32   9283293         0                  1\n",
       "33   2966552         0                  0\n",
       "34   5683458         1                  1\n",
       "35   8131694         1                  1\n",
       "36   1774647         0                  0\n",
       "37   8256117         0                  1\n",
       "38   9523242         1                  1\n",
       "39   1322198         0                  0"
      ]
     },
     "execution_count": 59,
     "metadata": {},
     "output_type": "execute_result"
    }
   ],
   "source": [
    "# Concatenate test labels to the user they came from\n",
    "final_results_df = pd.concat([y_test, test_identifier], axis=1).dropna()\n",
    "\n",
    "# Add predicted results from the model\n",
    "final_results_df['predicted_results'] = y_predict\n",
    "final_results_df = final_results_df[['entry_id', 'e_signed', 'predicted_results']].reset_index(drop=True)\n",
    " \n",
    "final_results_df.head(40)"
   ]
  },
  {
   "cell_type": "markdown",
   "id": "c53ed4cb",
   "metadata": {},
   "source": [
    "### Save Data 💾\n",
    "\n",
    "Persist final results and a list of applicants estimated to be unlikely to complete the loan onboarding process"
   ]
  },
  {
   "cell_type": "code",
   "execution_count": 60,
   "id": "9e89ab1e",
   "metadata": {},
   "outputs": [],
   "source": [
    "from datetime import datetime\n",
    "from reportlab.lib.pagesizes import letter\n",
    "from reportlab.platypus import SimpleDocTemplate, Table\n",
    "import csv\n",
    "\n",
    "# Define a directory to save results \n",
    "directory = \"../data/results\"\n",
    "if not os.path.exists(directory): os.makedirs(directory)\n",
    "\n",
    "# Process a timestamp\n",
    "datetime = datetime.now().strftime(\"%Y-%m-%d %H:%M:%S\")\n",
    "# Save final results to a .csv file \n",
    "final_results_df.to_csv(f\"../data/results/final_results_{datetime}.csv\")\n",
    "\n",
    "# Filter results for users unlikely to eSign\n",
    "final_results_df = final_results_df[final_results_df.predicted_results == 0].copy()\n",
    "unlikely_to_esign_df = final_results_df.copy().drop(columns = ['e_signed', 'predicted_results'])\n",
    "# Save the filtered DataFrame to a .csv file\n",
    "unlikely_to_esign_df.to_csv(f\"../data/results/users_unlikely_to_eSign_{datetime}.csv\")\n",
    "# Define paths for conversion\n",
    "csv_file = f\"../data/results/users_unlikely_to_eSign_{datetime}.csv\"\n",
    "pdf_file = f\"../data/results/users_unlikely_to_eSign_{datetime}.pdf\"\n",
    "\n",
    "# Convert the .csv file \n",
    "data = []\n",
    "with open(csv_file, 'r') as file:\n",
    "    reader = csv.reader(file)\n",
    "    for row in reader: data.append(row)\n",
    "\n",
    "# Create a PDF document\n",
    "doc = SimpleDocTemplate(pdf_file, pagesize=letter)\n",
    "# Create a table from the CSV data\n",
    "table = Table(data)\n",
    "# Add the table to the document\n",
    "doc.build([table])"
   ]
  }
 ],
 "metadata": {
  "interpreter": {
   "hash": "cebbbc35963bee152c0570229337147d97be067c4ba41edaf5e0e61998aebd3e"
  },
  "kernelspec": {
   "display_name": "Python 3.10.12 ('base')",
   "language": "python",
   "name": "python3"
  },
  "language_info": {
   "codemirror_mode": {
    "name": "ipython",
    "version": 3
   },
   "file_extension": ".py",
   "mimetype": "text/x-python",
   "name": "python",
   "nbconvert_exporter": "python",
   "pygments_lexer": "ipython3",
   "version": "3.10.12"
  }
 },
 "nbformat": 4,
 "nbformat_minor": 5
}
