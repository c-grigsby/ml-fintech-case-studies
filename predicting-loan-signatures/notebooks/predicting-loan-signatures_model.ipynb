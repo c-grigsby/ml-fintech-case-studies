{
 "cells": [
  {
   "cell_type": "markdown",
   "id": "7c951ac5",
   "metadata": {},
   "source": [
    "<h1 style=\"font-size:3rem;color:orange;\">Predicting Loan E-Signatures</h1>\n",
    "\n",
    "<h2 style=\"font-size:2rem;color:orange;\">Data Pre-processing and Model Building</h2>"
   ]
  },
  {
   "cell_type": "markdown",
   "id": "5cc9cf1c",
   "metadata": {},
   "source": [
    "### Import Libraries"
   ]
  },
  {
   "cell_type": "code",
   "execution_count": 1,
   "id": "25adc484",
   "metadata": {},
   "outputs": [],
   "source": [
    "import matplotlib.pyplot as plt\n",
    "import numpy as np\n",
    "import pandas as pd\n",
    "import seaborn as sn"
   ]
  },
  {
   "cell_type": "markdown",
   "id": "0bed3149",
   "metadata": {},
   "source": [
    "### Import Data"
   ]
  },
  {
   "cell_type": "code",
   "execution_count": 2,
   "id": "4b0dd51c",
   "metadata": {},
   "outputs": [],
   "source": [
    "df_users_financial = pd.read_csv(\"../data/processed/new_P39-Financial-Data.csv\")"
   ]
  },
  {
   "cell_type": "markdown",
   "id": "d7d0d5fa",
   "metadata": {},
   "source": [
    "### Data Peek"
   ]
  },
  {
   "cell_type": "code",
   "execution_count": 3,
   "id": "52aa6e12",
   "metadata": {},
   "outputs": [
    {
     "data": {
      "text/html": [
       "<div>\n",
       "<style scoped>\n",
       "    .dataframe tbody tr th:only-of-type {\n",
       "        vertical-align: middle;\n",
       "    }\n",
       "\n",
       "    .dataframe tbody tr th {\n",
       "        vertical-align: top;\n",
       "    }\n",
       "\n",
       "    .dataframe thead th {\n",
       "        text-align: right;\n",
       "    }\n",
       "</style>\n",
       "<table border=\"1\" class=\"dataframe\">\n",
       "  <thead>\n",
       "    <tr style=\"text-align: right;\">\n",
       "      <th></th>\n",
       "      <th>entry_id</th>\n",
       "      <th>age</th>\n",
       "      <th>monthly_income</th>\n",
       "      <th>years_employed</th>\n",
       "      <th>current_address_year</th>\n",
       "      <th>amount_requested</th>\n",
       "      <th>risk_score</th>\n",
       "      <th>risk_score_2</th>\n",
       "      <th>risk_score_3</th>\n",
       "      <th>risk_score_4</th>\n",
       "      <th>...</th>\n",
       "      <th>ext_quality_score_2</th>\n",
       "      <th>inquiries_last_month</th>\n",
       "      <th>home_owner</th>\n",
       "      <th>has_debt</th>\n",
       "      <th>pay_schedule_bi-weekly</th>\n",
       "      <th>pay_schedule_monthly</th>\n",
       "      <th>pay_schedule_semi-monthly</th>\n",
       "      <th>pay_schedule_weekly</th>\n",
       "      <th>personal_account_months</th>\n",
       "      <th>e_signed</th>\n",
       "    </tr>\n",
       "  </thead>\n",
       "  <tbody>\n",
       "    <tr>\n",
       "      <th>0</th>\n",
       "      <td>7629673</td>\n",
       "      <td>40</td>\n",
       "      <td>3135</td>\n",
       "      <td>3</td>\n",
       "      <td>3</td>\n",
       "      <td>550</td>\n",
       "      <td>36200</td>\n",
       "      <td>0.737398</td>\n",
       "      <td>0.903517</td>\n",
       "      <td>0.487712</td>\n",
       "      <td>...</td>\n",
       "      <td>0.380918</td>\n",
       "      <td>10</td>\n",
       "      <td>1</td>\n",
       "      <td>1</td>\n",
       "      <td>True</td>\n",
       "      <td>False</td>\n",
       "      <td>False</td>\n",
       "      <td>False</td>\n",
       "      <td>30</td>\n",
       "      <td>1</td>\n",
       "    </tr>\n",
       "    <tr>\n",
       "      <th>1</th>\n",
       "      <td>3560428</td>\n",
       "      <td>61</td>\n",
       "      <td>3180</td>\n",
       "      <td>6</td>\n",
       "      <td>3</td>\n",
       "      <td>600</td>\n",
       "      <td>30150</td>\n",
       "      <td>0.738510</td>\n",
       "      <td>0.881027</td>\n",
       "      <td>0.713423</td>\n",
       "      <td>...</td>\n",
       "      <td>0.630720</td>\n",
       "      <td>9</td>\n",
       "      <td>0</td>\n",
       "      <td>1</td>\n",
       "      <td>False</td>\n",
       "      <td>False</td>\n",
       "      <td>False</td>\n",
       "      <td>True</td>\n",
       "      <td>86</td>\n",
       "      <td>0</td>\n",
       "    </tr>\n",
       "    <tr>\n",
       "      <th>2</th>\n",
       "      <td>6934997</td>\n",
       "      <td>23</td>\n",
       "      <td>1540</td>\n",
       "      <td>0</td>\n",
       "      <td>0</td>\n",
       "      <td>450</td>\n",
       "      <td>34550</td>\n",
       "      <td>0.642993</td>\n",
       "      <td>0.766554</td>\n",
       "      <td>0.595018</td>\n",
       "      <td>...</td>\n",
       "      <td>0.531712</td>\n",
       "      <td>7</td>\n",
       "      <td>0</td>\n",
       "      <td>1</td>\n",
       "      <td>False</td>\n",
       "      <td>False</td>\n",
       "      <td>False</td>\n",
       "      <td>True</td>\n",
       "      <td>19</td>\n",
       "      <td>0</td>\n",
       "    </tr>\n",
       "    <tr>\n",
       "      <th>3</th>\n",
       "      <td>5682812</td>\n",
       "      <td>40</td>\n",
       "      <td>5230</td>\n",
       "      <td>6</td>\n",
       "      <td>1</td>\n",
       "      <td>700</td>\n",
       "      <td>42150</td>\n",
       "      <td>0.665224</td>\n",
       "      <td>0.960832</td>\n",
       "      <td>0.767828</td>\n",
       "      <td>...</td>\n",
       "      <td>0.592552</td>\n",
       "      <td>8</td>\n",
       "      <td>0</td>\n",
       "      <td>1</td>\n",
       "      <td>True</td>\n",
       "      <td>False</td>\n",
       "      <td>False</td>\n",
       "      <td>False</td>\n",
       "      <td>86</td>\n",
       "      <td>1</td>\n",
       "    </tr>\n",
       "    <tr>\n",
       "      <th>4</th>\n",
       "      <td>5335819</td>\n",
       "      <td>33</td>\n",
       "      <td>3590</td>\n",
       "      <td>5</td>\n",
       "      <td>2</td>\n",
       "      <td>1100</td>\n",
       "      <td>53850</td>\n",
       "      <td>0.617361</td>\n",
       "      <td>0.857560</td>\n",
       "      <td>0.613487</td>\n",
       "      <td>...</td>\n",
       "      <td>0.744634</td>\n",
       "      <td>12</td>\n",
       "      <td>0</td>\n",
       "      <td>1</td>\n",
       "      <td>False</td>\n",
       "      <td>False</td>\n",
       "      <td>True</td>\n",
       "      <td>False</td>\n",
       "      <td>98</td>\n",
       "      <td>0</td>\n",
       "    </tr>\n",
       "  </tbody>\n",
       "</table>\n",
       "<p>5 rows × 22 columns</p>\n",
       "</div>"
      ],
      "text/plain": [
       "   entry_id  age  monthly_income  years_employed  current_address_year   \n",
       "0   7629673   40            3135               3                     3  \\\n",
       "1   3560428   61            3180               6                     3   \n",
       "2   6934997   23            1540               0                     0   \n",
       "3   5682812   40            5230               6                     1   \n",
       "4   5335819   33            3590               5                     2   \n",
       "\n",
       "   amount_requested  risk_score  risk_score_2  risk_score_3  risk_score_4   \n",
       "0               550       36200      0.737398      0.903517      0.487712  \\\n",
       "1               600       30150      0.738510      0.881027      0.713423   \n",
       "2               450       34550      0.642993      0.766554      0.595018   \n",
       "3               700       42150      0.665224      0.960832      0.767828   \n",
       "4              1100       53850      0.617361      0.857560      0.613487   \n",
       "\n",
       "   ...  ext_quality_score_2  inquiries_last_month  home_owner  has_debt   \n",
       "0  ...             0.380918                    10           1         1  \\\n",
       "1  ...             0.630720                     9           0         1   \n",
       "2  ...             0.531712                     7           0         1   \n",
       "3  ...             0.592552                     8           0         1   \n",
       "4  ...             0.744634                    12           0         1   \n",
       "\n",
       "   pay_schedule_bi-weekly  pay_schedule_monthly  pay_schedule_semi-monthly   \n",
       "0                    True                 False                      False  \\\n",
       "1                   False                 False                      False   \n",
       "2                   False                 False                      False   \n",
       "3                    True                 False                      False   \n",
       "4                   False                 False                       True   \n",
       "\n",
       "   pay_schedule_weekly  personal_account_months  e_signed  \n",
       "0                False                       30         1  \n",
       "1                 True                       86         0  \n",
       "2                 True                       19         0  \n",
       "3                False                       86         1  \n",
       "4                False                       98         0  \n",
       "\n",
       "[5 rows x 22 columns]"
      ]
     },
     "execution_count": 3,
     "metadata": {},
     "output_type": "execute_result"
    }
   ],
   "source": [
    "df_users_financial.head()"
   ]
  },
  {
   "cell_type": "markdown",
   "id": "9cfa82d3",
   "metadata": {},
   "source": [
    "# Data Pre-processing"
   ]
  },
  {
   "cell_type": "markdown",
   "id": "d6450122",
   "metadata": {},
   "source": [
    "### Remove the label from the features"
   ]
  },
  {
   "cell_type": "code",
   "execution_count": 4,
   "id": "f779d045",
   "metadata": {},
   "outputs": [],
   "source": [
    "label = df_users_financial['e_signed']\n",
    "df_users_financial = df_users_financial.drop(columns = 'e_signed')"
   ]
  },
  {
   "cell_type": "markdown",
   "id": "740b0d59",
   "metadata": {},
   "source": [
    "### Split the dataset into training and test sets"
   ]
  },
  {
   "cell_type": "code",
   "execution_count": 5,
   "id": "331a67f3",
   "metadata": {},
   "outputs": [
    {
     "name": "stdout",
     "output_type": "stream",
     "text": [
      "(14326, 21)\n",
      "(3582, 21)\n"
     ]
    },
    {
     "data": {
      "text/html": [
       "<div>\n",
       "<style scoped>\n",
       "    .dataframe tbody tr th:only-of-type {\n",
       "        vertical-align: middle;\n",
       "    }\n",
       "\n",
       "    .dataframe tbody tr th {\n",
       "        vertical-align: top;\n",
       "    }\n",
       "\n",
       "    .dataframe thead th {\n",
       "        text-align: right;\n",
       "    }\n",
       "</style>\n",
       "<table border=\"1\" class=\"dataframe\">\n",
       "  <thead>\n",
       "    <tr style=\"text-align: right;\">\n",
       "      <th></th>\n",
       "      <th>entry_id</th>\n",
       "      <th>age</th>\n",
       "      <th>monthly_income</th>\n",
       "      <th>years_employed</th>\n",
       "      <th>current_address_year</th>\n",
       "      <th>amount_requested</th>\n",
       "      <th>risk_score</th>\n",
       "      <th>risk_score_2</th>\n",
       "      <th>risk_score_3</th>\n",
       "      <th>risk_score_4</th>\n",
       "      <th>...</th>\n",
       "      <th>ext_quality_score</th>\n",
       "      <th>ext_quality_score_2</th>\n",
       "      <th>inquiries_last_month</th>\n",
       "      <th>home_owner</th>\n",
       "      <th>has_debt</th>\n",
       "      <th>pay_schedule_bi-weekly</th>\n",
       "      <th>pay_schedule_monthly</th>\n",
       "      <th>pay_schedule_semi-monthly</th>\n",
       "      <th>pay_schedule_weekly</th>\n",
       "      <th>personal_account_months</th>\n",
       "    </tr>\n",
       "  </thead>\n",
       "  <tbody>\n",
       "    <tr>\n",
       "      <th>2698</th>\n",
       "      <td>2322503</td>\n",
       "      <td>24</td>\n",
       "      <td>7098</td>\n",
       "      <td>5</td>\n",
       "      <td>1</td>\n",
       "      <td>600</td>\n",
       "      <td>31500</td>\n",
       "      <td>0.667077</td>\n",
       "      <td>0.906873</td>\n",
       "      <td>0.442824</td>\n",
       "      <td>...</td>\n",
       "      <td>0.628218</td>\n",
       "      <td>0.428218</td>\n",
       "      <td>7</td>\n",
       "      <td>1</td>\n",
       "      <td>1</td>\n",
       "      <td>True</td>\n",
       "      <td>False</td>\n",
       "      <td>False</td>\n",
       "      <td>False</td>\n",
       "      <td>86</td>\n",
       "    </tr>\n",
       "    <tr>\n",
       "      <th>7514</th>\n",
       "      <td>9816220</td>\n",
       "      <td>49</td>\n",
       "      <td>3200</td>\n",
       "      <td>5</td>\n",
       "      <td>5</td>\n",
       "      <td>500</td>\n",
       "      <td>50650</td>\n",
       "      <td>0.631218</td>\n",
       "      <td>0.966399</td>\n",
       "      <td>0.571481</td>\n",
       "      <td>...</td>\n",
       "      <td>0.694489</td>\n",
       "      <td>0.594489</td>\n",
       "      <td>19</td>\n",
       "      <td>0</td>\n",
       "      <td>1</td>\n",
       "      <td>True</td>\n",
       "      <td>False</td>\n",
       "      <td>False</td>\n",
       "      <td>False</td>\n",
       "      <td>27</td>\n",
       "    </tr>\n",
       "    <tr>\n",
       "      <th>12650</th>\n",
       "      <td>7940682</td>\n",
       "      <td>55</td>\n",
       "      <td>2660</td>\n",
       "      <td>6</td>\n",
       "      <td>1</td>\n",
       "      <td>400</td>\n",
       "      <td>41850</td>\n",
       "      <td>0.672894</td>\n",
       "      <td>0.955221</td>\n",
       "      <td>0.705386</td>\n",
       "      <td>...</td>\n",
       "      <td>0.760892</td>\n",
       "      <td>0.560892</td>\n",
       "      <td>21</td>\n",
       "      <td>0</td>\n",
       "      <td>1</td>\n",
       "      <td>True</td>\n",
       "      <td>False</td>\n",
       "      <td>False</td>\n",
       "      <td>False</td>\n",
       "      <td>86</td>\n",
       "    </tr>\n",
       "    <tr>\n",
       "      <th>5094</th>\n",
       "      <td>3661668</td>\n",
       "      <td>39</td>\n",
       "      <td>3120</td>\n",
       "      <td>3</td>\n",
       "      <td>1</td>\n",
       "      <td>2600</td>\n",
       "      <td>76100</td>\n",
       "      <td>0.749875</td>\n",
       "      <td>0.956253</td>\n",
       "      <td>0.581586</td>\n",
       "      <td>...</td>\n",
       "      <td>0.699007</td>\n",
       "      <td>0.799007</td>\n",
       "      <td>8</td>\n",
       "      <td>0</td>\n",
       "      <td>1</td>\n",
       "      <td>True</td>\n",
       "      <td>False</td>\n",
       "      <td>False</td>\n",
       "      <td>False</td>\n",
       "      <td>92</td>\n",
       "    </tr>\n",
       "    <tr>\n",
       "      <th>5018</th>\n",
       "      <td>6964638</td>\n",
       "      <td>52</td>\n",
       "      <td>3150</td>\n",
       "      <td>3</td>\n",
       "      <td>1</td>\n",
       "      <td>1200</td>\n",
       "      <td>33200</td>\n",
       "      <td>0.615360</td>\n",
       "      <td>0.837403</td>\n",
       "      <td>0.276529</td>\n",
       "      <td>...</td>\n",
       "      <td>0.417729</td>\n",
       "      <td>0.517729</td>\n",
       "      <td>5</td>\n",
       "      <td>1</td>\n",
       "      <td>1</td>\n",
       "      <td>False</td>\n",
       "      <td>True</td>\n",
       "      <td>False</td>\n",
       "      <td>False</td>\n",
       "      <td>38</td>\n",
       "    </tr>\n",
       "  </tbody>\n",
       "</table>\n",
       "<p>5 rows × 21 columns</p>\n",
       "</div>"
      ],
      "text/plain": [
       "       entry_id  age  monthly_income  years_employed  current_address_year   \n",
       "2698    2322503   24            7098               5                     1  \\\n",
       "7514    9816220   49            3200               5                     5   \n",
       "12650   7940682   55            2660               6                     1   \n",
       "5094    3661668   39            3120               3                     1   \n",
       "5018    6964638   52            3150               3                     1   \n",
       "\n",
       "       amount_requested  risk_score  risk_score_2  risk_score_3  risk_score_4   \n",
       "2698                600       31500      0.667077      0.906873      0.442824  \\\n",
       "7514                500       50650      0.631218      0.966399      0.571481   \n",
       "12650               400       41850      0.672894      0.955221      0.705386   \n",
       "5094               2600       76100      0.749875      0.956253      0.581586   \n",
       "5018               1200       33200      0.615360      0.837403      0.276529   \n",
       "\n",
       "       ...  ext_quality_score  ext_quality_score_2  inquiries_last_month   \n",
       "2698   ...           0.628218             0.428218                     7  \\\n",
       "7514   ...           0.694489             0.594489                    19   \n",
       "12650  ...           0.760892             0.560892                    21   \n",
       "5094   ...           0.699007             0.799007                     8   \n",
       "5018   ...           0.417729             0.517729                     5   \n",
       "\n",
       "       home_owner  has_debt  pay_schedule_bi-weekly  pay_schedule_monthly   \n",
       "2698            1         1                    True                 False  \\\n",
       "7514            0         1                    True                 False   \n",
       "12650           0         1                    True                 False   \n",
       "5094            0         1                    True                 False   \n",
       "5018            1         1                   False                  True   \n",
       "\n",
       "       pay_schedule_semi-monthly  pay_schedule_weekly  personal_account_months  \n",
       "2698                       False                False                       86  \n",
       "7514                       False                False                       27  \n",
       "12650                      False                False                       86  \n",
       "5094                       False                False                       92  \n",
       "5018                       False                False                       38  \n",
       "\n",
       "[5 rows x 21 columns]"
      ]
     },
     "execution_count": 5,
     "metadata": {},
     "output_type": "execute_result"
    }
   ],
   "source": [
    "from sklearn.model_selection import train_test_split\n",
    "\n",
    "# Split the data into an 80/20 train/test ratio\n",
    "X_train, X_test, y_train, y_test = train_test_split(df_users_financial, \n",
    "                                                    label,\n",
    "                                                    test_size = 0.2,\n",
    "                                                    random_state = 42)\n",
    "print(X_train.shape)\n",
    "print(X_test.shape)\n",
    "\n",
    "X_train.head()"
   ]
  },
  {
   "cell_type": "markdown",
   "id": "37e6623a",
   "metadata": {},
   "source": [
    "### Filter model data"
   ]
  },
  {
   "cell_type": "code",
   "execution_count": 6,
   "id": "86dd41ac",
   "metadata": {},
   "outputs": [],
   "source": [
    "# Purge user identification, persist to associate the prediction to the user it came from \n",
    "user_identification = 'entry_id'\n",
    "\n",
    "train_identifier = X_train[user_identification]\n",
    "X_train = X_train.drop(columns = [user_identification])\n",
    "\n",
    "test_identifier = X_test[user_identification]\n",
    "X_test = X_test.drop(columns = [user_identification])"
   ]
  },
  {
   "cell_type": "markdown",
   "id": "0c735035",
   "metadata": {},
   "source": [
    "### Feature Scaling"
   ]
  },
  {
   "cell_type": "code",
   "execution_count": 7,
   "id": "b40db1b1",
   "metadata": {},
   "outputs": [
    {
     "data": {
      "text/html": [
       "<div>\n",
       "<style scoped>\n",
       "    .dataframe tbody tr th:only-of-type {\n",
       "        vertical-align: middle;\n",
       "    }\n",
       "\n",
       "    .dataframe tbody tr th {\n",
       "        vertical-align: top;\n",
       "    }\n",
       "\n",
       "    .dataframe thead th {\n",
       "        text-align: right;\n",
       "    }\n",
       "</style>\n",
       "<table border=\"1\" class=\"dataframe\">\n",
       "  <thead>\n",
       "    <tr style=\"text-align: right;\">\n",
       "      <th></th>\n",
       "      <th>age</th>\n",
       "      <th>monthly_income</th>\n",
       "      <th>years_employed</th>\n",
       "      <th>current_address_year</th>\n",
       "      <th>amount_requested</th>\n",
       "      <th>risk_score</th>\n",
       "      <th>risk_score_2</th>\n",
       "      <th>risk_score_3</th>\n",
       "      <th>risk_score_4</th>\n",
       "      <th>risk_score_5</th>\n",
       "      <th>ext_quality_score</th>\n",
       "      <th>ext_quality_score_2</th>\n",
       "      <th>inquiries_last_month</th>\n",
       "      <th>home_owner</th>\n",
       "      <th>has_debt</th>\n",
       "      <th>pay_schedule_bi-weekly</th>\n",
       "      <th>pay_schedule_monthly</th>\n",
       "      <th>pay_schedule_semi-monthly</th>\n",
       "      <th>pay_schedule_weekly</th>\n",
       "      <th>personal_account_months</th>\n",
       "    </tr>\n",
       "  </thead>\n",
       "  <tbody>\n",
       "    <tr>\n",
       "      <th>2698</th>\n",
       "      <td>-1.597641</td>\n",
       "      <td>2.270284</td>\n",
       "      <td>0.651523</td>\n",
       "      <td>-0.936948</td>\n",
       "      <td>-0.508332</td>\n",
       "      <td>-1.930241</td>\n",
       "      <td>-0.264107</td>\n",
       "      <td>0.521042</td>\n",
       "      <td>-1.128877</td>\n",
       "      <td>-0.639225</td>\n",
       "      <td>0.028956</td>\n",
       "      <td>-1.392286</td>\n",
       "      <td>0.149269</td>\n",
       "      <td>1.162089</td>\n",
       "      <td>0.511949</td>\n",
       "      <td>0.819540</td>\n",
       "      <td>-0.300983</td>\n",
       "      <td>-0.352831</td>\n",
       "      <td>-0.512492</td>\n",
       "      <td>1.742054</td>\n",
       "    </tr>\n",
       "    <tr>\n",
       "      <th>7514</th>\n",
       "      <td>0.510466</td>\n",
       "      <td>-0.308489</td>\n",
       "      <td>0.651523</td>\n",
       "      <td>0.512315</td>\n",
       "      <td>-0.652099</td>\n",
       "      <td>-0.682192</td>\n",
       "      <td>-0.661641</td>\n",
       "      <td>1.610914</td>\n",
       "      <td>-0.098686</td>\n",
       "      <td>0.987289</td>\n",
       "      <td>0.505084</td>\n",
       "      <td>-0.200426</td>\n",
       "      <td>3.423198</td>\n",
       "      <td>-0.860519</td>\n",
       "      <td>0.511949</td>\n",
       "      <td>0.819540</td>\n",
       "      <td>-0.300983</td>\n",
       "      <td>-0.352831</td>\n",
       "      <td>-0.512492</td>\n",
       "      <td>-0.793974</td>\n",
       "    </tr>\n",
       "    <tr>\n",
       "      <th>12650</th>\n",
       "      <td>1.016412</td>\n",
       "      <td>-0.665733</td>\n",
       "      <td>1.093334</td>\n",
       "      <td>-0.936948</td>\n",
       "      <td>-0.795866</td>\n",
       "      <td>-1.255708</td>\n",
       "      <td>-0.199622</td>\n",
       "      <td>1.406255</td>\n",
       "      <td>0.973524</td>\n",
       "      <td>0.600835</td>\n",
       "      <td>0.982160</td>\n",
       "      <td>-0.441256</td>\n",
       "      <td>3.968853</td>\n",
       "      <td>-0.860519</td>\n",
       "      <td>0.511949</td>\n",
       "      <td>0.819540</td>\n",
       "      <td>-0.300983</td>\n",
       "      <td>-0.352831</td>\n",
       "      <td>-0.512492</td>\n",
       "      <td>1.742054</td>\n",
       "    </tr>\n",
       "    <tr>\n",
       "      <th>5094</th>\n",
       "      <td>-0.332777</td>\n",
       "      <td>-0.361414</td>\n",
       "      <td>-0.232101</td>\n",
       "      <td>-0.936948</td>\n",
       "      <td>2.367001</td>\n",
       "      <td>0.976443</td>\n",
       "      <td>0.653773</td>\n",
       "      <td>1.425159</td>\n",
       "      <td>-0.017775</td>\n",
       "      <td>0.069607</td>\n",
       "      <td>0.537544</td>\n",
       "      <td>1.265594</td>\n",
       "      <td>0.422096</td>\n",
       "      <td>-0.860519</td>\n",
       "      <td>0.511949</td>\n",
       "      <td>0.819540</td>\n",
       "      <td>-0.300983</td>\n",
       "      <td>-0.352831</td>\n",
       "      <td>-0.512492</td>\n",
       "      <td>1.999955</td>\n",
       "    </tr>\n",
       "    <tr>\n",
       "      <th>5018</th>\n",
       "      <td>0.763439</td>\n",
       "      <td>-0.341567</td>\n",
       "      <td>-0.232101</td>\n",
       "      <td>-0.936948</td>\n",
       "      <td>0.354268</td>\n",
       "      <td>-1.819448</td>\n",
       "      <td>-0.837440</td>\n",
       "      <td>-0.750887</td>\n",
       "      <td>-2.460447</td>\n",
       "      <td>-2.124629</td>\n",
       "      <td>-1.483315</td>\n",
       "      <td>-0.750655</td>\n",
       "      <td>-0.396386</td>\n",
       "      <td>1.162089</td>\n",
       "      <td>0.511949</td>\n",
       "      <td>-1.220197</td>\n",
       "      <td>3.322447</td>\n",
       "      <td>-0.352831</td>\n",
       "      <td>-0.512492</td>\n",
       "      <td>-0.321155</td>\n",
       "    </tr>\n",
       "  </tbody>\n",
       "</table>\n",
       "</div>"
      ],
      "text/plain": [
       "            age  monthly_income  years_employed  current_address_year   \n",
       "2698  -1.597641        2.270284        0.651523             -0.936948  \\\n",
       "7514   0.510466       -0.308489        0.651523              0.512315   \n",
       "12650  1.016412       -0.665733        1.093334             -0.936948   \n",
       "5094  -0.332777       -0.361414       -0.232101             -0.936948   \n",
       "5018   0.763439       -0.341567       -0.232101             -0.936948   \n",
       "\n",
       "       amount_requested  risk_score  risk_score_2  risk_score_3  risk_score_4   \n",
       "2698          -0.508332   -1.930241     -0.264107      0.521042     -1.128877  \\\n",
       "7514          -0.652099   -0.682192     -0.661641      1.610914     -0.098686   \n",
       "12650         -0.795866   -1.255708     -0.199622      1.406255      0.973524   \n",
       "5094           2.367001    0.976443      0.653773      1.425159     -0.017775   \n",
       "5018           0.354268   -1.819448     -0.837440     -0.750887     -2.460447   \n",
       "\n",
       "       risk_score_5  ext_quality_score  ext_quality_score_2   \n",
       "2698      -0.639225           0.028956            -1.392286  \\\n",
       "7514       0.987289           0.505084            -0.200426   \n",
       "12650      0.600835           0.982160            -0.441256   \n",
       "5094       0.069607           0.537544             1.265594   \n",
       "5018      -2.124629          -1.483315            -0.750655   \n",
       "\n",
       "       inquiries_last_month  home_owner  has_debt  pay_schedule_bi-weekly   \n",
       "2698               0.149269    1.162089  0.511949                0.819540  \\\n",
       "7514               3.423198   -0.860519  0.511949                0.819540   \n",
       "12650              3.968853   -0.860519  0.511949                0.819540   \n",
       "5094               0.422096   -0.860519  0.511949                0.819540   \n",
       "5018              -0.396386    1.162089  0.511949               -1.220197   \n",
       "\n",
       "       pay_schedule_monthly  pay_schedule_semi-monthly  pay_schedule_weekly   \n",
       "2698              -0.300983                  -0.352831            -0.512492  \\\n",
       "7514              -0.300983                  -0.352831            -0.512492   \n",
       "12650             -0.300983                  -0.352831            -0.512492   \n",
       "5094              -0.300983                  -0.352831            -0.512492   \n",
       "5018               3.322447                  -0.352831            -0.512492   \n",
       "\n",
       "       personal_account_months  \n",
       "2698                  1.742054  \n",
       "7514                 -0.793974  \n",
       "12650                 1.742054  \n",
       "5094                  1.999955  \n",
       "5018                 -0.321155  "
      ]
     },
     "execution_count": 7,
     "metadata": {},
     "output_type": "execute_result"
    }
   ],
   "source": [
    "from sklearn.preprocessing import StandardScaler\n",
    "\n",
    "# To normalize features\n",
    "standard_scaler_X = StandardScaler()\n",
    "\n",
    "# Scale the training & test datasets, persist results to a new dataframe\n",
    "X_train2 = pd.DataFrame(standard_scaler_X.fit_transform(X_train))\n",
    "X_test2 = pd.DataFrame(standard_scaler_X.transform(X_test))\n",
    "\n",
    "# Retrieve columns for the standardized training & test sets \n",
    "X_train2.columns = X_train.columns.values\n",
    "X_test2.columns = X_test.columns.values\n",
    "\n",
    "# Recuperate indexes \n",
    "X_train2.index = X_train.index.values\n",
    "X_test2.index = X_test.index.values\n",
    "\n",
    "# Convert original training set into the new training set\n",
    "X_train = X_train2\n",
    "X_test = X_test2\n",
    "\n",
    "X_train.head()"
   ]
  },
  {
   "cell_type": "markdown",
   "id": "4b681ffb",
   "metadata": {},
   "source": [
    "# Model Building"
   ]
  },
  {
   "cell_type": "markdown",
   "id": "5f7e9db0",
   "metadata": {},
   "source": [
    "### Training Data"
   ]
  },
  {
   "cell_type": "code",
   "execution_count": 8,
   "id": "bff846d9",
   "metadata": {},
   "outputs": [],
   "source": [
    "# Split the training set into a 80/20 training/validation set\n",
    "X_train, X_validation, y_train, y_validation = train_test_split(X_train, y_train,\n",
    "                                                    test_size = 0.2,\n",
    "                                                    random_state = 42)"
   ]
  },
  {
   "cell_type": "markdown",
   "id": "f1704640",
   "metadata": {},
   "source": [
    "### Metrics Function"
   ]
  },
  {
   "cell_type": "code",
   "execution_count": 9,
   "id": "75fc916c",
   "metadata": {},
   "outputs": [],
   "source": [
    "from sklearn.metrics import accuracy_score, f1_score, precision_score, recall_score"
   ]
  },
  {
   "cell_type": "code",
   "execution_count": 10,
   "id": "90afbdfb",
   "metadata": {},
   "outputs": [],
   "source": [
    "# Evaluates model scores and concatenates results to a DataFrame\n",
    "def evaluate_scores_and_concat(y_validation, y_predict, model_name, results_dataframe): \n",
    "    \n",
    "    # Get scores\n",
    "    accuracy = accuracy_score(y_validation, y_predict)   # CorrectPredicts / TotalPredicts  \n",
    "    precision = precision_score(y_validation, y_predict) # TP / (TP+FP)\n",
    "    recall = recall_score(y_validation, y_predict)       # TP / (TP+FN)\n",
    "    f1 = f1_score(y_validation, y_predict)               # 2*(precision*recall) / (precision+recall)\n",
    "    \n",
    "    # Transfer scores to a DataFrame\n",
    "    new_results = pd.DataFrame([[model_name, accuracy, precision, recall, f1]],\n",
    "            columns = ['Model', 'Accuracy', 'Precision', 'Recall', 'F1'])\n",
    "    \n",
    "    # Concatenate results to the results_dataframe vertically\n",
    "    results_dataframe = pd.concat([results_dataframe, new_results], axis=0).reset_index(drop=True)\n",
    "    \n",
    "    return results_dataframe"
   ]
  },
  {
   "cell_type": "markdown",
   "id": "4938b14d",
   "metadata": {},
   "source": [
    "## Logistic Regression"
   ]
  },
  {
   "cell_type": "code",
   "execution_count": 11,
   "id": "5ea1b4d8",
   "metadata": {},
   "outputs": [
    {
     "data": {
      "text/html": [
       "<style>#sk-container-id-1 {color: black;background-color: white;}#sk-container-id-1 pre{padding: 0;}#sk-container-id-1 div.sk-toggleable {background-color: white;}#sk-container-id-1 label.sk-toggleable__label {cursor: pointer;display: block;width: 100%;margin-bottom: 0;padding: 0.3em;box-sizing: border-box;text-align: center;}#sk-container-id-1 label.sk-toggleable__label-arrow:before {content: \"▸\";float: left;margin-right: 0.25em;color: #696969;}#sk-container-id-1 label.sk-toggleable__label-arrow:hover:before {color: black;}#sk-container-id-1 div.sk-estimator:hover label.sk-toggleable__label-arrow:before {color: black;}#sk-container-id-1 div.sk-toggleable__content {max-height: 0;max-width: 0;overflow: hidden;text-align: left;background-color: #f0f8ff;}#sk-container-id-1 div.sk-toggleable__content pre {margin: 0.2em;color: black;border-radius: 0.25em;background-color: #f0f8ff;}#sk-container-id-1 input.sk-toggleable__control:checked~div.sk-toggleable__content {max-height: 200px;max-width: 100%;overflow: auto;}#sk-container-id-1 input.sk-toggleable__control:checked~label.sk-toggleable__label-arrow:before {content: \"▾\";}#sk-container-id-1 div.sk-estimator input.sk-toggleable__control:checked~label.sk-toggleable__label {background-color: #d4ebff;}#sk-container-id-1 div.sk-label input.sk-toggleable__control:checked~label.sk-toggleable__label {background-color: #d4ebff;}#sk-container-id-1 input.sk-hidden--visually {border: 0;clip: rect(1px 1px 1px 1px);clip: rect(1px, 1px, 1px, 1px);height: 1px;margin: -1px;overflow: hidden;padding: 0;position: absolute;width: 1px;}#sk-container-id-1 div.sk-estimator {font-family: monospace;background-color: #f0f8ff;border: 1px dotted black;border-radius: 0.25em;box-sizing: border-box;margin-bottom: 0.5em;}#sk-container-id-1 div.sk-estimator:hover {background-color: #d4ebff;}#sk-container-id-1 div.sk-parallel-item::after {content: \"\";width: 100%;border-bottom: 1px solid gray;flex-grow: 1;}#sk-container-id-1 div.sk-label:hover label.sk-toggleable__label {background-color: #d4ebff;}#sk-container-id-1 div.sk-serial::before {content: \"\";position: absolute;border-left: 1px solid gray;box-sizing: border-box;top: 0;bottom: 0;left: 50%;z-index: 0;}#sk-container-id-1 div.sk-serial {display: flex;flex-direction: column;align-items: center;background-color: white;padding-right: 0.2em;padding-left: 0.2em;position: relative;}#sk-container-id-1 div.sk-item {position: relative;z-index: 1;}#sk-container-id-1 div.sk-parallel {display: flex;align-items: stretch;justify-content: center;background-color: white;position: relative;}#sk-container-id-1 div.sk-item::before, #sk-container-id-1 div.sk-parallel-item::before {content: \"\";position: absolute;border-left: 1px solid gray;box-sizing: border-box;top: 0;bottom: 0;left: 50%;z-index: -1;}#sk-container-id-1 div.sk-parallel-item {display: flex;flex-direction: column;z-index: 1;position: relative;background-color: white;}#sk-container-id-1 div.sk-parallel-item:first-child::after {align-self: flex-end;width: 50%;}#sk-container-id-1 div.sk-parallel-item:last-child::after {align-self: flex-start;width: 50%;}#sk-container-id-1 div.sk-parallel-item:only-child::after {width: 0;}#sk-container-id-1 div.sk-dashed-wrapped {border: 1px dashed gray;margin: 0 0.4em 0.5em 0.4em;box-sizing: border-box;padding-bottom: 0.4em;background-color: white;}#sk-container-id-1 div.sk-label label {font-family: monospace;font-weight: bold;display: inline-block;line-height: 1.2em;}#sk-container-id-1 div.sk-label-container {text-align: center;}#sk-container-id-1 div.sk-container {/* jupyter's `normalize.less` sets `[hidden] { display: none; }` but bootstrap.min.css set `[hidden] { display: none !important; }` so we also need the `!important` here to be able to override the default hidden behavior on the sphinx rendered scikit-learn.org. See: https://github.com/scikit-learn/scikit-learn/issues/21755 */display: inline-block !important;position: relative;}#sk-container-id-1 div.sk-text-repr-fallback {display: none;}</style><div id=\"sk-container-id-1\" class=\"sk-top-container\"><div class=\"sk-text-repr-fallback\"><pre>LogisticRegression(penalty=&#x27;l1&#x27;, random_state=42, solver=&#x27;saga&#x27;)</pre><b>In a Jupyter environment, please rerun this cell to show the HTML representation or trust the notebook. <br />On GitHub, the HTML representation is unable to render, please try loading this page with nbviewer.org.</b></div><div class=\"sk-container\" hidden><div class=\"sk-item\"><div class=\"sk-estimator sk-toggleable\"><input class=\"sk-toggleable__control sk-hidden--visually\" id=\"sk-estimator-id-1\" type=\"checkbox\" checked><label for=\"sk-estimator-id-1\" class=\"sk-toggleable__label sk-toggleable__label-arrow\">LogisticRegression</label><div class=\"sk-toggleable__content\"><pre>LogisticRegression(penalty=&#x27;l1&#x27;, random_state=42, solver=&#x27;saga&#x27;)</pre></div></div></div></div></div>"
      ],
      "text/plain": [
       "LogisticRegression(penalty='l1', random_state=42, solver='saga')"
      ]
     },
     "execution_count": 11,
     "metadata": {},
     "output_type": "execute_result"
    }
   ],
   "source": [
    "from sklearn.linear_model import LogisticRegression\n",
    "\n",
    "# Add 'l1' penalty (lasso regularization)\n",
    "model = LogisticRegression(penalty='l1', solver='saga', random_state=42)\n",
    "\n",
    "# Train model on the training set\n",
    "model.fit(X_train, y_train)"
   ]
  },
  {
   "cell_type": "markdown",
   "id": "13f1c0aa",
   "metadata": {},
   "source": [
    "### Evaluation"
   ]
  },
  {
   "cell_type": "code",
   "execution_count": 12,
   "id": "c9f63e7d",
   "metadata": {},
   "outputs": [
    {
     "data": {
      "text/html": [
       "<div>\n",
       "<style scoped>\n",
       "    .dataframe tbody tr th:only-of-type {\n",
       "        vertical-align: middle;\n",
       "    }\n",
       "\n",
       "    .dataframe tbody tr th {\n",
       "        vertical-align: top;\n",
       "    }\n",
       "\n",
       "    .dataframe thead th {\n",
       "        text-align: right;\n",
       "    }\n",
       "</style>\n",
       "<table border=\"1\" class=\"dataframe\">\n",
       "  <thead>\n",
       "    <tr style=\"text-align: right;\">\n",
       "      <th></th>\n",
       "      <th>Model</th>\n",
       "      <th>Accuracy</th>\n",
       "      <th>Precision</th>\n",
       "      <th>Recall</th>\n",
       "      <th>F1</th>\n",
       "    </tr>\n",
       "  </thead>\n",
       "  <tbody>\n",
       "    <tr>\n",
       "      <th>0</th>\n",
       "      <td>Linear Regression (Lasso)</td>\n",
       "      <td>0.585136</td>\n",
       "      <td>0.594782</td>\n",
       "      <td>0.722977</td>\n",
       "      <td>0.652644</td>\n",
       "    </tr>\n",
       "  </tbody>\n",
       "</table>\n",
       "</div>"
      ],
      "text/plain": [
       "                       Model  Accuracy  Precision    Recall        F1\n",
       "0  Linear Regression (Lasso)  0.585136   0.594782  0.722977  0.652644"
      ]
     },
     "execution_count": 12,
     "metadata": {},
     "output_type": "execute_result"
    }
   ],
   "source": [
    "# Make model predictions from the validation set\n",
    "y_predict = model.predict(X_validation)\n",
    "\n",
    "# Initialize a results DataFrame\n",
    "df_results = pd.DataFrame()\n",
    "\n",
    "# Get model scores\n",
    "df_results = evaluate_scores_and_concat(y_validation, y_predict, 'Linear Regression (Lasso)', df_results)\n",
    "\n",
    "# Display\n",
    "df_results.head()"
   ]
  },
  {
   "cell_type": "markdown",
   "id": "12a17f89",
   "metadata": {},
   "source": [
    "## Support Vector Classification: Linear "
   ]
  },
  {
   "cell_type": "code",
   "execution_count": 13,
   "id": "2e65da8f",
   "metadata": {},
   "outputs": [
    {
     "data": {
      "text/html": [
       "<style>#sk-container-id-2 {color: black;background-color: white;}#sk-container-id-2 pre{padding: 0;}#sk-container-id-2 div.sk-toggleable {background-color: white;}#sk-container-id-2 label.sk-toggleable__label {cursor: pointer;display: block;width: 100%;margin-bottom: 0;padding: 0.3em;box-sizing: border-box;text-align: center;}#sk-container-id-2 label.sk-toggleable__label-arrow:before {content: \"▸\";float: left;margin-right: 0.25em;color: #696969;}#sk-container-id-2 label.sk-toggleable__label-arrow:hover:before {color: black;}#sk-container-id-2 div.sk-estimator:hover label.sk-toggleable__label-arrow:before {color: black;}#sk-container-id-2 div.sk-toggleable__content {max-height: 0;max-width: 0;overflow: hidden;text-align: left;background-color: #f0f8ff;}#sk-container-id-2 div.sk-toggleable__content pre {margin: 0.2em;color: black;border-radius: 0.25em;background-color: #f0f8ff;}#sk-container-id-2 input.sk-toggleable__control:checked~div.sk-toggleable__content {max-height: 200px;max-width: 100%;overflow: auto;}#sk-container-id-2 input.sk-toggleable__control:checked~label.sk-toggleable__label-arrow:before {content: \"▾\";}#sk-container-id-2 div.sk-estimator input.sk-toggleable__control:checked~label.sk-toggleable__label {background-color: #d4ebff;}#sk-container-id-2 div.sk-label input.sk-toggleable__control:checked~label.sk-toggleable__label {background-color: #d4ebff;}#sk-container-id-2 input.sk-hidden--visually {border: 0;clip: rect(1px 1px 1px 1px);clip: rect(1px, 1px, 1px, 1px);height: 1px;margin: -1px;overflow: hidden;padding: 0;position: absolute;width: 1px;}#sk-container-id-2 div.sk-estimator {font-family: monospace;background-color: #f0f8ff;border: 1px dotted black;border-radius: 0.25em;box-sizing: border-box;margin-bottom: 0.5em;}#sk-container-id-2 div.sk-estimator:hover {background-color: #d4ebff;}#sk-container-id-2 div.sk-parallel-item::after {content: \"\";width: 100%;border-bottom: 1px solid gray;flex-grow: 1;}#sk-container-id-2 div.sk-label:hover label.sk-toggleable__label {background-color: #d4ebff;}#sk-container-id-2 div.sk-serial::before {content: \"\";position: absolute;border-left: 1px solid gray;box-sizing: border-box;top: 0;bottom: 0;left: 50%;z-index: 0;}#sk-container-id-2 div.sk-serial {display: flex;flex-direction: column;align-items: center;background-color: white;padding-right: 0.2em;padding-left: 0.2em;position: relative;}#sk-container-id-2 div.sk-item {position: relative;z-index: 1;}#sk-container-id-2 div.sk-parallel {display: flex;align-items: stretch;justify-content: center;background-color: white;position: relative;}#sk-container-id-2 div.sk-item::before, #sk-container-id-2 div.sk-parallel-item::before {content: \"\";position: absolute;border-left: 1px solid gray;box-sizing: border-box;top: 0;bottom: 0;left: 50%;z-index: -1;}#sk-container-id-2 div.sk-parallel-item {display: flex;flex-direction: column;z-index: 1;position: relative;background-color: white;}#sk-container-id-2 div.sk-parallel-item:first-child::after {align-self: flex-end;width: 50%;}#sk-container-id-2 div.sk-parallel-item:last-child::after {align-self: flex-start;width: 50%;}#sk-container-id-2 div.sk-parallel-item:only-child::after {width: 0;}#sk-container-id-2 div.sk-dashed-wrapped {border: 1px dashed gray;margin: 0 0.4em 0.5em 0.4em;box-sizing: border-box;padding-bottom: 0.4em;background-color: white;}#sk-container-id-2 div.sk-label label {font-family: monospace;font-weight: bold;display: inline-block;line-height: 1.2em;}#sk-container-id-2 div.sk-label-container {text-align: center;}#sk-container-id-2 div.sk-container {/* jupyter's `normalize.less` sets `[hidden] { display: none; }` but bootstrap.min.css set `[hidden] { display: none !important; }` so we also need the `!important` here to be able to override the default hidden behavior on the sphinx rendered scikit-learn.org. See: https://github.com/scikit-learn/scikit-learn/issues/21755 */display: inline-block !important;position: relative;}#sk-container-id-2 div.sk-text-repr-fallback {display: none;}</style><div id=\"sk-container-id-2\" class=\"sk-top-container\"><div class=\"sk-text-repr-fallback\"><pre>SVC(kernel=&#x27;linear&#x27;, random_state=42)</pre><b>In a Jupyter environment, please rerun this cell to show the HTML representation or trust the notebook. <br />On GitHub, the HTML representation is unable to render, please try loading this page with nbviewer.org.</b></div><div class=\"sk-container\" hidden><div class=\"sk-item\"><div class=\"sk-estimator sk-toggleable\"><input class=\"sk-toggleable__control sk-hidden--visually\" id=\"sk-estimator-id-2\" type=\"checkbox\" checked><label for=\"sk-estimator-id-2\" class=\"sk-toggleable__label sk-toggleable__label-arrow\">SVC</label><div class=\"sk-toggleable__content\"><pre>SVC(kernel=&#x27;linear&#x27;, random_state=42)</pre></div></div></div></div></div>"
      ],
      "text/plain": [
       "SVC(kernel='linear', random_state=42)"
      ]
     },
     "execution_count": 13,
     "metadata": {},
     "output_type": "execute_result"
    }
   ],
   "source": [
    "from sklearn.svm import SVC\n",
    "\n",
    "# Add linear kernel\n",
    "model = SVC(kernel='linear', random_state=42)\n",
    "\n",
    "# Train model on the training set\n",
    "model.fit(X_train, y_train)"
   ]
  },
  {
   "cell_type": "markdown",
   "id": "867dfe70",
   "metadata": {},
   "source": [
    "### Evaluation"
   ]
  },
  {
   "cell_type": "code",
   "execution_count": 14,
   "id": "0dc6e291",
   "metadata": {},
   "outputs": [
    {
     "data": {
      "text/html": [
       "<div>\n",
       "<style scoped>\n",
       "    .dataframe tbody tr th:only-of-type {\n",
       "        vertical-align: middle;\n",
       "    }\n",
       "\n",
       "    .dataframe tbody tr th {\n",
       "        vertical-align: top;\n",
       "    }\n",
       "\n",
       "    .dataframe thead th {\n",
       "        text-align: right;\n",
       "    }\n",
       "</style>\n",
       "<table border=\"1\" class=\"dataframe\">\n",
       "  <thead>\n",
       "    <tr style=\"text-align: right;\">\n",
       "      <th></th>\n",
       "      <th>Model</th>\n",
       "      <th>Accuracy</th>\n",
       "      <th>Precision</th>\n",
       "      <th>Recall</th>\n",
       "      <th>F1</th>\n",
       "    </tr>\n",
       "  </thead>\n",
       "  <tbody>\n",
       "    <tr>\n",
       "      <th>0</th>\n",
       "      <td>Linear Regression (Lasso)</td>\n",
       "      <td>0.585136</td>\n",
       "      <td>0.594782</td>\n",
       "      <td>0.722977</td>\n",
       "      <td>0.652644</td>\n",
       "    </tr>\n",
       "    <tr>\n",
       "      <th>1</th>\n",
       "      <td>SVC (Linear)</td>\n",
       "      <td>0.585136</td>\n",
       "      <td>0.592516</td>\n",
       "      <td>0.737864</td>\n",
       "      <td>0.657250</td>\n",
       "    </tr>\n",
       "  </tbody>\n",
       "</table>\n",
       "</div>"
      ],
      "text/plain": [
       "                       Model  Accuracy  Precision    Recall        F1\n",
       "0  Linear Regression (Lasso)  0.585136   0.594782  0.722977  0.652644\n",
       "1               SVC (Linear)  0.585136   0.592516  0.737864  0.657250"
      ]
     },
     "execution_count": 14,
     "metadata": {},
     "output_type": "execute_result"
    }
   ],
   "source": [
    "# Make model predictions from the validation set\n",
    "y_predict = model.predict(X_validation)\n",
    "\n",
    "# Get model scores\n",
    "df_results = evaluate_scores_and_concat(y_validation, y_predict, 'SVC (Linear)', df_results)\n",
    "\n",
    "# Display\n",
    "df_results"
   ]
  },
  {
   "cell_type": "markdown",
   "id": "48b7d7d3",
   "metadata": {},
   "source": [
    "## Support Vector Classification: RBF (Radial Basis Function)"
   ]
  },
  {
   "cell_type": "code",
   "execution_count": 15,
   "id": "4ac12ee8",
   "metadata": {},
   "outputs": [
    {
     "data": {
      "text/html": [
       "<style>#sk-container-id-3 {color: black;background-color: white;}#sk-container-id-3 pre{padding: 0;}#sk-container-id-3 div.sk-toggleable {background-color: white;}#sk-container-id-3 label.sk-toggleable__label {cursor: pointer;display: block;width: 100%;margin-bottom: 0;padding: 0.3em;box-sizing: border-box;text-align: center;}#sk-container-id-3 label.sk-toggleable__label-arrow:before {content: \"▸\";float: left;margin-right: 0.25em;color: #696969;}#sk-container-id-3 label.sk-toggleable__label-arrow:hover:before {color: black;}#sk-container-id-3 div.sk-estimator:hover label.sk-toggleable__label-arrow:before {color: black;}#sk-container-id-3 div.sk-toggleable__content {max-height: 0;max-width: 0;overflow: hidden;text-align: left;background-color: #f0f8ff;}#sk-container-id-3 div.sk-toggleable__content pre {margin: 0.2em;color: black;border-radius: 0.25em;background-color: #f0f8ff;}#sk-container-id-3 input.sk-toggleable__control:checked~div.sk-toggleable__content {max-height: 200px;max-width: 100%;overflow: auto;}#sk-container-id-3 input.sk-toggleable__control:checked~label.sk-toggleable__label-arrow:before {content: \"▾\";}#sk-container-id-3 div.sk-estimator input.sk-toggleable__control:checked~label.sk-toggleable__label {background-color: #d4ebff;}#sk-container-id-3 div.sk-label input.sk-toggleable__control:checked~label.sk-toggleable__label {background-color: #d4ebff;}#sk-container-id-3 input.sk-hidden--visually {border: 0;clip: rect(1px 1px 1px 1px);clip: rect(1px, 1px, 1px, 1px);height: 1px;margin: -1px;overflow: hidden;padding: 0;position: absolute;width: 1px;}#sk-container-id-3 div.sk-estimator {font-family: monospace;background-color: #f0f8ff;border: 1px dotted black;border-radius: 0.25em;box-sizing: border-box;margin-bottom: 0.5em;}#sk-container-id-3 div.sk-estimator:hover {background-color: #d4ebff;}#sk-container-id-3 div.sk-parallel-item::after {content: \"\";width: 100%;border-bottom: 1px solid gray;flex-grow: 1;}#sk-container-id-3 div.sk-label:hover label.sk-toggleable__label {background-color: #d4ebff;}#sk-container-id-3 div.sk-serial::before {content: \"\";position: absolute;border-left: 1px solid gray;box-sizing: border-box;top: 0;bottom: 0;left: 50%;z-index: 0;}#sk-container-id-3 div.sk-serial {display: flex;flex-direction: column;align-items: center;background-color: white;padding-right: 0.2em;padding-left: 0.2em;position: relative;}#sk-container-id-3 div.sk-item {position: relative;z-index: 1;}#sk-container-id-3 div.sk-parallel {display: flex;align-items: stretch;justify-content: center;background-color: white;position: relative;}#sk-container-id-3 div.sk-item::before, #sk-container-id-3 div.sk-parallel-item::before {content: \"\";position: absolute;border-left: 1px solid gray;box-sizing: border-box;top: 0;bottom: 0;left: 50%;z-index: -1;}#sk-container-id-3 div.sk-parallel-item {display: flex;flex-direction: column;z-index: 1;position: relative;background-color: white;}#sk-container-id-3 div.sk-parallel-item:first-child::after {align-self: flex-end;width: 50%;}#sk-container-id-3 div.sk-parallel-item:last-child::after {align-self: flex-start;width: 50%;}#sk-container-id-3 div.sk-parallel-item:only-child::after {width: 0;}#sk-container-id-3 div.sk-dashed-wrapped {border: 1px dashed gray;margin: 0 0.4em 0.5em 0.4em;box-sizing: border-box;padding-bottom: 0.4em;background-color: white;}#sk-container-id-3 div.sk-label label {font-family: monospace;font-weight: bold;display: inline-block;line-height: 1.2em;}#sk-container-id-3 div.sk-label-container {text-align: center;}#sk-container-id-3 div.sk-container {/* jupyter's `normalize.less` sets `[hidden] { display: none; }` but bootstrap.min.css set `[hidden] { display: none !important; }` so we also need the `!important` here to be able to override the default hidden behavior on the sphinx rendered scikit-learn.org. See: https://github.com/scikit-learn/scikit-learn/issues/21755 */display: inline-block !important;position: relative;}#sk-container-id-3 div.sk-text-repr-fallback {display: none;}</style><div id=\"sk-container-id-3\" class=\"sk-top-container\"><div class=\"sk-text-repr-fallback\"><pre>SVC(random_state=42)</pre><b>In a Jupyter environment, please rerun this cell to show the HTML representation or trust the notebook. <br />On GitHub, the HTML representation is unable to render, please try loading this page with nbviewer.org.</b></div><div class=\"sk-container\" hidden><div class=\"sk-item\"><div class=\"sk-estimator sk-toggleable\"><input class=\"sk-toggleable__control sk-hidden--visually\" id=\"sk-estimator-id-3\" type=\"checkbox\" checked><label for=\"sk-estimator-id-3\" class=\"sk-toggleable__label sk-toggleable__label-arrow\">SVC</label><div class=\"sk-toggleable__content\"><pre>SVC(random_state=42)</pre></div></div></div></div></div>"
      ],
      "text/plain": [
       "SVC(random_state=42)"
      ]
     },
     "execution_count": 15,
     "metadata": {},
     "output_type": "execute_result"
    }
   ],
   "source": [
    "from sklearn.svm import SVC\n",
    "\n",
    "# RBF kernel (default)\n",
    "model = SVC(kernel='rbf', random_state=42)\n",
    "\n",
    "# Train model on the training set\n",
    "model.fit(X_train, y_train)"
   ]
  },
  {
   "cell_type": "markdown",
   "id": "a1801ede",
   "metadata": {},
   "source": [
    "### Evaluation"
   ]
  },
  {
   "cell_type": "code",
   "execution_count": 16,
   "id": "e9f3fede",
   "metadata": {},
   "outputs": [
    {
     "data": {
      "text/html": [
       "<div>\n",
       "<style scoped>\n",
       "    .dataframe tbody tr th:only-of-type {\n",
       "        vertical-align: middle;\n",
       "    }\n",
       "\n",
       "    .dataframe tbody tr th {\n",
       "        vertical-align: top;\n",
       "    }\n",
       "\n",
       "    .dataframe thead th {\n",
       "        text-align: right;\n",
       "    }\n",
       "</style>\n",
       "<table border=\"1\" class=\"dataframe\">\n",
       "  <thead>\n",
       "    <tr style=\"text-align: right;\">\n",
       "      <th></th>\n",
       "      <th>Model</th>\n",
       "      <th>Accuracy</th>\n",
       "      <th>Precision</th>\n",
       "      <th>Recall</th>\n",
       "      <th>F1</th>\n",
       "    </tr>\n",
       "  </thead>\n",
       "  <tbody>\n",
       "    <tr>\n",
       "      <th>0</th>\n",
       "      <td>Linear Regression (Lasso)</td>\n",
       "      <td>0.585136</td>\n",
       "      <td>0.594782</td>\n",
       "      <td>0.722977</td>\n",
       "      <td>0.652644</td>\n",
       "    </tr>\n",
       "    <tr>\n",
       "      <th>1</th>\n",
       "      <td>SVC (Linear)</td>\n",
       "      <td>0.585136</td>\n",
       "      <td>0.592516</td>\n",
       "      <td>0.737864</td>\n",
       "      <td>0.657250</td>\n",
       "    </tr>\n",
       "    <tr>\n",
       "      <th>2</th>\n",
       "      <td>SVC (RBF)</td>\n",
       "      <td>0.599442</td>\n",
       "      <td>0.615340</td>\n",
       "      <td>0.685437</td>\n",
       "      <td>0.648500</td>\n",
       "    </tr>\n",
       "  </tbody>\n",
       "</table>\n",
       "</div>"
      ],
      "text/plain": [
       "                       Model  Accuracy  Precision    Recall        F1\n",
       "0  Linear Regression (Lasso)  0.585136   0.594782  0.722977  0.652644\n",
       "1               SVC (Linear)  0.585136   0.592516  0.737864  0.657250\n",
       "2                  SVC (RBF)  0.599442   0.615340  0.685437  0.648500"
      ]
     },
     "execution_count": 16,
     "metadata": {},
     "output_type": "execute_result"
    }
   ],
   "source": [
    "# Make model predictions from the validation set\n",
    "y_predict = model.predict(X_validation)\n",
    "\n",
    "# Get model scores\n",
    "df_results = evaluate_scores_and_concat(y_validation, y_predict, 'SVC (RBF)', df_results)\n",
    "\n",
    "# Display\n",
    "df_results"
   ]
  },
  {
   "cell_type": "markdown",
   "id": "54b30b13",
   "metadata": {},
   "source": [
    "## Random Forest Classifier"
   ]
  },
  {
   "cell_type": "code",
   "execution_count": 17,
   "id": "8621e641",
   "metadata": {},
   "outputs": [
    {
     "data": {
      "text/html": [
       "<style>#sk-container-id-4 {color: black;background-color: white;}#sk-container-id-4 pre{padding: 0;}#sk-container-id-4 div.sk-toggleable {background-color: white;}#sk-container-id-4 label.sk-toggleable__label {cursor: pointer;display: block;width: 100%;margin-bottom: 0;padding: 0.3em;box-sizing: border-box;text-align: center;}#sk-container-id-4 label.sk-toggleable__label-arrow:before {content: \"▸\";float: left;margin-right: 0.25em;color: #696969;}#sk-container-id-4 label.sk-toggleable__label-arrow:hover:before {color: black;}#sk-container-id-4 div.sk-estimator:hover label.sk-toggleable__label-arrow:before {color: black;}#sk-container-id-4 div.sk-toggleable__content {max-height: 0;max-width: 0;overflow: hidden;text-align: left;background-color: #f0f8ff;}#sk-container-id-4 div.sk-toggleable__content pre {margin: 0.2em;color: black;border-radius: 0.25em;background-color: #f0f8ff;}#sk-container-id-4 input.sk-toggleable__control:checked~div.sk-toggleable__content {max-height: 200px;max-width: 100%;overflow: auto;}#sk-container-id-4 input.sk-toggleable__control:checked~label.sk-toggleable__label-arrow:before {content: \"▾\";}#sk-container-id-4 div.sk-estimator input.sk-toggleable__control:checked~label.sk-toggleable__label {background-color: #d4ebff;}#sk-container-id-4 div.sk-label input.sk-toggleable__control:checked~label.sk-toggleable__label {background-color: #d4ebff;}#sk-container-id-4 input.sk-hidden--visually {border: 0;clip: rect(1px 1px 1px 1px);clip: rect(1px, 1px, 1px, 1px);height: 1px;margin: -1px;overflow: hidden;padding: 0;position: absolute;width: 1px;}#sk-container-id-4 div.sk-estimator {font-family: monospace;background-color: #f0f8ff;border: 1px dotted black;border-radius: 0.25em;box-sizing: border-box;margin-bottom: 0.5em;}#sk-container-id-4 div.sk-estimator:hover {background-color: #d4ebff;}#sk-container-id-4 div.sk-parallel-item::after {content: \"\";width: 100%;border-bottom: 1px solid gray;flex-grow: 1;}#sk-container-id-4 div.sk-label:hover label.sk-toggleable__label {background-color: #d4ebff;}#sk-container-id-4 div.sk-serial::before {content: \"\";position: absolute;border-left: 1px solid gray;box-sizing: border-box;top: 0;bottom: 0;left: 50%;z-index: 0;}#sk-container-id-4 div.sk-serial {display: flex;flex-direction: column;align-items: center;background-color: white;padding-right: 0.2em;padding-left: 0.2em;position: relative;}#sk-container-id-4 div.sk-item {position: relative;z-index: 1;}#sk-container-id-4 div.sk-parallel {display: flex;align-items: stretch;justify-content: center;background-color: white;position: relative;}#sk-container-id-4 div.sk-item::before, #sk-container-id-4 div.sk-parallel-item::before {content: \"\";position: absolute;border-left: 1px solid gray;box-sizing: border-box;top: 0;bottom: 0;left: 50%;z-index: -1;}#sk-container-id-4 div.sk-parallel-item {display: flex;flex-direction: column;z-index: 1;position: relative;background-color: white;}#sk-container-id-4 div.sk-parallel-item:first-child::after {align-self: flex-end;width: 50%;}#sk-container-id-4 div.sk-parallel-item:last-child::after {align-self: flex-start;width: 50%;}#sk-container-id-4 div.sk-parallel-item:only-child::after {width: 0;}#sk-container-id-4 div.sk-dashed-wrapped {border: 1px dashed gray;margin: 0 0.4em 0.5em 0.4em;box-sizing: border-box;padding-bottom: 0.4em;background-color: white;}#sk-container-id-4 div.sk-label label {font-family: monospace;font-weight: bold;display: inline-block;line-height: 1.2em;}#sk-container-id-4 div.sk-label-container {text-align: center;}#sk-container-id-4 div.sk-container {/* jupyter's `normalize.less` sets `[hidden] { display: none; }` but bootstrap.min.css set `[hidden] { display: none !important; }` so we also need the `!important` here to be able to override the default hidden behavior on the sphinx rendered scikit-learn.org. See: https://github.com/scikit-learn/scikit-learn/issues/21755 */display: inline-block !important;position: relative;}#sk-container-id-4 div.sk-text-repr-fallback {display: none;}</style><div id=\"sk-container-id-4\" class=\"sk-top-container\"><div class=\"sk-text-repr-fallback\"><pre>RandomForestClassifier(criterion=&#x27;entropy&#x27;, random_state=42)</pre><b>In a Jupyter environment, please rerun this cell to show the HTML representation or trust the notebook. <br />On GitHub, the HTML representation is unable to render, please try loading this page with nbviewer.org.</b></div><div class=\"sk-container\" hidden><div class=\"sk-item\"><div class=\"sk-estimator sk-toggleable\"><input class=\"sk-toggleable__control sk-hidden--visually\" id=\"sk-estimator-id-4\" type=\"checkbox\" checked><label for=\"sk-estimator-id-4\" class=\"sk-toggleable__label sk-toggleable__label-arrow\">RandomForestClassifier</label><div class=\"sk-toggleable__content\"><pre>RandomForestClassifier(criterion=&#x27;entropy&#x27;, random_state=42)</pre></div></div></div></div></div>"
      ],
      "text/plain": [
       "RandomForestClassifier(criterion='entropy', random_state=42)"
      ]
     },
     "execution_count": 17,
     "metadata": {},
     "output_type": "execute_result"
    }
   ],
   "source": [
    "from sklearn.ensemble import RandomForestClassifier\n",
    "\n",
    "# 100 trees\n",
    "model = RandomForestClassifier(n_estimators = 100, criterion = 'entropy', random_state=42)\n",
    "\n",
    "# Train model on the training set\n",
    "model.fit(X_train, y_train)"
   ]
  },
  {
   "cell_type": "markdown",
   "id": "b779ae36",
   "metadata": {},
   "source": [
    "### Evaluation"
   ]
  },
  {
   "cell_type": "code",
   "execution_count": 18,
   "id": "1c69791d",
   "metadata": {},
   "outputs": [
    {
     "data": {
      "text/html": [
       "<div>\n",
       "<style scoped>\n",
       "    .dataframe tbody tr th:only-of-type {\n",
       "        vertical-align: middle;\n",
       "    }\n",
       "\n",
       "    .dataframe tbody tr th {\n",
       "        vertical-align: top;\n",
       "    }\n",
       "\n",
       "    .dataframe thead th {\n",
       "        text-align: right;\n",
       "    }\n",
       "</style>\n",
       "<table border=\"1\" class=\"dataframe\">\n",
       "  <thead>\n",
       "    <tr style=\"text-align: right;\">\n",
       "      <th></th>\n",
       "      <th>Model</th>\n",
       "      <th>Accuracy</th>\n",
       "      <th>Precision</th>\n",
       "      <th>Recall</th>\n",
       "      <th>F1</th>\n",
       "    </tr>\n",
       "  </thead>\n",
       "  <tbody>\n",
       "    <tr>\n",
       "      <th>0</th>\n",
       "      <td>Linear Regression (Lasso)</td>\n",
       "      <td>0.585136</td>\n",
       "      <td>0.594782</td>\n",
       "      <td>0.722977</td>\n",
       "      <td>0.652644</td>\n",
       "    </tr>\n",
       "    <tr>\n",
       "      <th>1</th>\n",
       "      <td>SVC (Linear)</td>\n",
       "      <td>0.585136</td>\n",
       "      <td>0.592516</td>\n",
       "      <td>0.737864</td>\n",
       "      <td>0.657250</td>\n",
       "    </tr>\n",
       "    <tr>\n",
       "      <th>2</th>\n",
       "      <td>SVC (RBF)</td>\n",
       "      <td>0.599442</td>\n",
       "      <td>0.615340</td>\n",
       "      <td>0.685437</td>\n",
       "      <td>0.648500</td>\n",
       "    </tr>\n",
       "    <tr>\n",
       "      <th>3</th>\n",
       "      <td>Random Forest Classifier (n=100)</td>\n",
       "      <td>0.625960</td>\n",
       "      <td>0.648462</td>\n",
       "      <td>0.668608</td>\n",
       "      <td>0.658381</td>\n",
       "    </tr>\n",
       "  </tbody>\n",
       "</table>\n",
       "</div>"
      ],
      "text/plain": [
       "                              Model  Accuracy  Precision    Recall        F1\n",
       "0         Linear Regression (Lasso)  0.585136   0.594782  0.722977  0.652644\n",
       "1                      SVC (Linear)  0.585136   0.592516  0.737864  0.657250\n",
       "2                         SVC (RBF)  0.599442   0.615340  0.685437  0.648500\n",
       "3  Random Forest Classifier (n=100)  0.625960   0.648462  0.668608  0.658381"
      ]
     },
     "execution_count": 18,
     "metadata": {},
     "output_type": "execute_result"
    }
   ],
   "source": [
    "# Make model predictions from the validation set\n",
    "y_predict = model.predict(X_validation)\n",
    "\n",
    "# Get model scores\n",
    "df_results = evaluate_scores_and_concat(y_validation, y_predict, 'Random Forest Classifier (n=100)', df_results)\n",
    "\n",
    "# Display\n",
    "df_results"
   ]
  },
  {
   "cell_type": "markdown",
   "id": "c5e6636e",
   "metadata": {},
   "source": [
    "### K-Folds Cross Validation"
   ]
  },
  {
   "cell_type": "markdown",
   "id": "298a8b4d",
   "metadata": {},
   "source": [
    "Estimate how well the model is likely to generalize to unseen data"
   ]
  },
  {
   "cell_type": "code",
   "execution_count": 19,
   "id": "30b1de16",
   "metadata": {},
   "outputs": [
    {
     "name": "stdout",
     "output_type": "stream",
     "text": [
      "Cross Validated Scores Mean: 0.62478 Std: (+/- 0.02322)\n"
     ]
    }
   ],
   "source": [
    "from sklearn.model_selection import cross_val_score\n",
    "\n",
    "# Perform k-fold cross-validation, here with 10 folds\n",
    "accuracies = cross_val_score(estimator = model, X = X_train, y = y_train, cv = 10)\n",
    "\n",
    "print(\"Cross Validated Scores Mean: %0.5f Std: (+/- %0.5f)\" % (accuracies.mean(), accuracies.std() * 2))"
   ]
  },
  {
   "cell_type": "code",
   "execution_count": null,
   "id": "0573c155",
   "metadata": {},
   "outputs": [],
   "source": []
  }
 ],
 "metadata": {
  "kernelspec": {
   "display_name": "Python 3 (ipykernel)",
   "language": "python",
   "name": "python3"
  },
  "language_info": {
   "codemirror_mode": {
    "name": "ipython",
    "version": 3
   },
   "file_extension": ".py",
   "mimetype": "text/x-python",
   "name": "python",
   "nbconvert_exporter": "python",
   "pygments_lexer": "ipython3",
   "version": "3.10.9"
  }
 },
 "nbformat": 4,
 "nbformat_minor": 5
}
